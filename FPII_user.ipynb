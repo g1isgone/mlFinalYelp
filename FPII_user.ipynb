{
 "cells": [
  {
   "cell_type": "code",
   "execution_count": 1,
   "metadata": {},
   "outputs": [],
   "source": [
    "import json \n",
    "from pprint import pprint\n",
    "import pandas as pd\n",
    "import numpy as np"
   ]
  },
  {
   "cell_type": "code",
   "execution_count": 9,
   "metadata": {},
   "outputs": [
    {
     "name": "stderr",
     "output_type": "stream",
     "text": [
      "/Library/Frameworks/Python.framework/Versions/3.6/lib/python3.6/site-packages/numpy/lib/arraysetops.py:463: FutureWarning: elementwise comparison failed; returning scalar instead, but in the future will perform elementwise comparison\n",
      "  mask |= (ar1 == a)\n"
     ]
    }
   ],
   "source": [
    "#Load the data frame file\n",
    "userDf = pd.read_csv('userDfFile.csv',index_col=0)"
   ]
  },
  {
   "cell_type": "code",
   "execution_count": 10,
   "metadata": {},
   "outputs": [
    {
     "data": {
      "text/html": [
       "<div>\n",
       "<style scoped>\n",
       "    .dataframe tbody tr th:only-of-type {\n",
       "        vertical-align: middle;\n",
       "    }\n",
       "\n",
       "    .dataframe tbody tr th {\n",
       "        vertical-align: top;\n",
       "    }\n",
       "\n",
       "    .dataframe thead th {\n",
       "        text-align: right;\n",
       "    }\n",
       "</style>\n",
       "<table border=\"1\" class=\"dataframe\">\n",
       "  <thead>\n",
       "    <tr style=\"text-align: right;\">\n",
       "      <th></th>\n",
       "      <th>average_stars</th>\n",
       "      <th>review_count</th>\n",
       "    </tr>\n",
       "  </thead>\n",
       "  <tbody>\n",
       "    <tr>\n",
       "      <th>count</th>\n",
       "      <td>1.183362e+06</td>\n",
       "      <td>1.183362e+06</td>\n",
       "    </tr>\n",
       "    <tr>\n",
       "      <th>mean</th>\n",
       "      <td>3.711835e+00</td>\n",
       "      <td>2.372686e+01</td>\n",
       "    </tr>\n",
       "    <tr>\n",
       "      <th>std</th>\n",
       "      <td>1.105231e+00</td>\n",
       "      <td>8.050645e+01</td>\n",
       "    </tr>\n",
       "    <tr>\n",
       "      <th>min</th>\n",
       "      <td>1.000000e+00</td>\n",
       "      <td>0.000000e+00</td>\n",
       "    </tr>\n",
       "    <tr>\n",
       "      <th>25%</th>\n",
       "      <td>3.130000e+00</td>\n",
       "      <td>2.000000e+00</td>\n",
       "    </tr>\n",
       "    <tr>\n",
       "      <th>50%</th>\n",
       "      <td>3.890000e+00</td>\n",
       "      <td>5.000000e+00</td>\n",
       "    </tr>\n",
       "    <tr>\n",
       "      <th>75%</th>\n",
       "      <td>4.570000e+00</td>\n",
       "      <td>1.600000e+01</td>\n",
       "    </tr>\n",
       "    <tr>\n",
       "      <th>max</th>\n",
       "      <td>5.000000e+00</td>\n",
       "      <td>1.165600e+04</td>\n",
       "    </tr>\n",
       "  </tbody>\n",
       "</table>\n",
       "</div>"
      ],
      "text/plain": [
       "       average_stars  review_count\n",
       "count   1.183362e+06  1.183362e+06\n",
       "mean    3.711835e+00  2.372686e+01\n",
       "std     1.105231e+00  8.050645e+01\n",
       "min     1.000000e+00  0.000000e+00\n",
       "25%     3.130000e+00  2.000000e+00\n",
       "50%     3.890000e+00  5.000000e+00\n",
       "75%     4.570000e+00  1.600000e+01\n",
       "max     5.000000e+00  1.165600e+04"
      ]
     },
     "execution_count": 10,
     "metadata": {},
     "output_type": "execute_result"
    }
   ],
   "source": [
    "userDf.describe()"
   ]
  },
  {
   "cell_type": "code",
   "execution_count": 11,
   "metadata": {},
   "outputs": [
    {
     "data": {
      "text/plain": [
       "average_stars    float64\n",
       "review_count       int64\n",
       "user_id           object\n",
       "yelping_since     object\n",
       "dtype: object"
      ]
     },
     "execution_count": 11,
     "metadata": {},
     "output_type": "execute_result"
    }
   ],
   "source": [
    "userDf.dtypes"
   ]
  },
  {
   "cell_type": "code",
   "execution_count": 15,
   "metadata": {},
   "outputs": [
    {
     "data": {
      "text/html": [
       "<div>\n",
       "<style scoped>\n",
       "    .dataframe tbody tr th:only-of-type {\n",
       "        vertical-align: middle;\n",
       "    }\n",
       "\n",
       "    .dataframe tbody tr th {\n",
       "        vertical-align: top;\n",
       "    }\n",
       "\n",
       "    .dataframe thead th {\n",
       "        text-align: right;\n",
       "    }\n",
       "</style>\n",
       "<table border=\"1\" class=\"dataframe\">\n",
       "  <thead>\n",
       "    <tr style=\"text-align: right;\">\n",
       "      <th></th>\n",
       "      <th>average_stars</th>\n",
       "      <th>review_count</th>\n",
       "      <th>user_id</th>\n",
       "      <th>yelping_since</th>\n",
       "    </tr>\n",
       "  </thead>\n",
       "  <tbody>\n",
       "    <tr>\n",
       "      <th>0</th>\n",
       "      <td>3.80</td>\n",
       "      <td>272</td>\n",
       "      <td>lsSiIjAKVl-QRxKjRErBeg</td>\n",
       "      <td>2010-07-13</td>\n",
       "    </tr>\n",
       "    <tr>\n",
       "      <th>1</th>\n",
       "      <td>3.94</td>\n",
       "      <td>2559</td>\n",
       "      <td>om5ZiponkpRqUNa3pVPiRg</td>\n",
       "      <td>2006-01-18</td>\n",
       "    </tr>\n",
       "    <tr>\n",
       "      <th>2</th>\n",
       "      <td>4.72</td>\n",
       "      <td>277</td>\n",
       "      <td>-lGwMGHMC_XihFJNKCJNRg</td>\n",
       "      <td>2014-10-31</td>\n",
       "    </tr>\n",
       "    <tr>\n",
       "      <th>3</th>\n",
       "      <td>3.76</td>\n",
       "      <td>436</td>\n",
       "      <td>D-ydMTPGWXTVm4_jjp0k9g</td>\n",
       "      <td>2013-04-01</td>\n",
       "    </tr>\n",
       "    <tr>\n",
       "      <th>4</th>\n",
       "      <td>4.23</td>\n",
       "      <td>921</td>\n",
       "      <td>PcvbBOCOcs6_suRDH7TSTg</td>\n",
       "      <td>2012-08-16</td>\n",
       "    </tr>\n",
       "  </tbody>\n",
       "</table>\n",
       "</div>"
      ],
      "text/plain": [
       "   average_stars  review_count                 user_id yelping_since\n",
       "0           3.80           272  lsSiIjAKVl-QRxKjRErBeg    2010-07-13\n",
       "1           3.94          2559  om5ZiponkpRqUNa3pVPiRg    2006-01-18\n",
       "2           4.72           277  -lGwMGHMC_XihFJNKCJNRg    2014-10-31\n",
       "3           3.76           436  D-ydMTPGWXTVm4_jjp0k9g    2013-04-01\n",
       "4           4.23           921  PcvbBOCOcs6_suRDH7TSTg    2012-08-16"
      ]
     },
     "execution_count": 15,
     "metadata": {},
     "output_type": "execute_result"
    }
   ],
   "source": [
    "userDf.head()"
   ]
  },
  {
   "cell_type": "code",
   "execution_count": 16,
   "metadata": {},
   "outputs": [
    {
     "data": {
      "text/html": [
       "<div>\n",
       "<style scoped>\n",
       "    .dataframe tbody tr th:only-of-type {\n",
       "        vertical-align: middle;\n",
       "    }\n",
       "\n",
       "    .dataframe tbody tr th {\n",
       "        vertical-align: top;\n",
       "    }\n",
       "\n",
       "    .dataframe thead th {\n",
       "        text-align: right;\n",
       "    }\n",
       "</style>\n",
       "<table border=\"1\" class=\"dataframe\">\n",
       "  <thead>\n",
       "    <tr style=\"text-align: right;\">\n",
       "      <th></th>\n",
       "      <th>average_stars</th>\n",
       "      <th>review_count</th>\n",
       "      <th>user_id</th>\n",
       "      <th>yelping_since</th>\n",
       "    </tr>\n",
       "  </thead>\n",
       "  <tbody>\n",
       "    <tr>\n",
       "      <th>1183357</th>\n",
       "      <td>1.00</td>\n",
       "      <td>1</td>\n",
       "      <td>OME6i0Xwqbx_xWMKgKqAjw</td>\n",
       "      <td>2009-05-09</td>\n",
       "    </tr>\n",
       "    <tr>\n",
       "      <th>1183358</th>\n",
       "      <td>2.00</td>\n",
       "      <td>1</td>\n",
       "      <td>3-y8vkrcLwEAXLPxPbr49Q</td>\n",
       "      <td>2016-10-21</td>\n",
       "    </tr>\n",
       "    <tr>\n",
       "      <th>1183359</th>\n",
       "      <td>3.42</td>\n",
       "      <td>22</td>\n",
       "      <td>ZjAfWpPFq9edGphegQXUfQ</td>\n",
       "      <td>2012-01-13</td>\n",
       "    </tr>\n",
       "    <tr>\n",
       "      <th>1183360</th>\n",
       "      <td>1.00</td>\n",
       "      <td>1</td>\n",
       "      <td>yC7UhCwzzteD_mpfA8mryw</td>\n",
       "      <td>2014-05-30</td>\n",
       "    </tr>\n",
       "    <tr>\n",
       "      <th>1183361</th>\n",
       "      <td>3.57</td>\n",
       "      <td>6</td>\n",
       "      <td>9iUkIqYh84eAOXBh-NPheA</td>\n",
       "      <td>2010-06-18</td>\n",
       "    </tr>\n",
       "  </tbody>\n",
       "</table>\n",
       "</div>"
      ],
      "text/plain": [
       "         average_stars  review_count                 user_id yelping_since\n",
       "1183357           1.00             1  OME6i0Xwqbx_xWMKgKqAjw    2009-05-09\n",
       "1183358           2.00             1  3-y8vkrcLwEAXLPxPbr49Q    2016-10-21\n",
       "1183359           3.42            22  ZjAfWpPFq9edGphegQXUfQ    2012-01-13\n",
       "1183360           1.00             1  yC7UhCwzzteD_mpfA8mryw    2014-05-30\n",
       "1183361           3.57             6  9iUkIqYh84eAOXBh-NPheA    2010-06-18"
      ]
     },
     "execution_count": 16,
     "metadata": {},
     "output_type": "execute_result"
    }
   ],
   "source": [
    "userDf.tail()"
   ]
  },
  {
   "cell_type": "markdown",
   "metadata": {},
   "source": [
    "Define a new column \"activity\" to measure how active a user is. \n",
    "\n",
    "We find the most recent date among all \"yelping_since\", call it *most_recent*.\n",
    "\n",
    "Then *activity=review_count/(most_recent+1-yelping_since)*"
   ]
  },
  {
   "cell_type": "markdown",
   "metadata": {},
   "source": [
    "First covert string in 'yelping_since' column all to datetime format."
   ]
  },
  {
   "cell_type": "code",
   "execution_count": 51,
   "metadata": {},
   "outputs": [
    {
     "data": {
      "text/plain": [
       "average_stars           float64\n",
       "review_count              int64\n",
       "user_id                  object\n",
       "yelping_since    datetime64[ns]\n",
       "dtype: object"
      ]
     },
     "execution_count": 51,
     "metadata": {},
     "output_type": "execute_result"
    }
   ],
   "source": [
    "userDf['yelping_since']=pd.to_datetime(userDf['yelping_since'])\n",
    "userDf.dtypes"
   ]
  },
  {
   "cell_type": "markdown",
   "metadata": {},
   "source": [
    "Find the most_recent yelping_since datetime:"
   ]
  },
  {
   "cell_type": "code",
   "execution_count": 41,
   "metadata": {},
   "outputs": [
    {
     "name": "stdout",
     "output_type": "stream",
     "text": [
      "2017-07-26 00:00:00\n"
     ]
    }
   ],
   "source": [
    "most_recent=userDf['yelping_since'].max()\n",
    "print(most_recent)"
   ]
  },
  {
   "cell_type": "markdown",
   "metadata": {},
   "source": [
    "Now calculate *activity* and store all values in a new column *activity*.\n",
    "\n",
    "Since the value is usually very small, we multiply it by 1000.\n",
    "\n",
    "Thus, *activity* means the number of reviews the user writes per 1000 days."
   ]
  },
  {
   "cell_type": "code",
   "execution_count": 71,
   "metadata": {},
   "outputs": [],
   "source": [
    "userDf['activity']=userDf.apply(lambda row: round(row.review_count*1000/((most_recent-row.yelping_since).days+1)),axis=1)"
   ]
  },
  {
   "cell_type": "code",
   "execution_count": 73,
   "metadata": {},
   "outputs": [
    {
     "data": {
      "text/html": [
       "<div>\n",
       "<style scoped>\n",
       "    .dataframe tbody tr th:only-of-type {\n",
       "        vertical-align: middle;\n",
       "    }\n",
       "\n",
       "    .dataframe tbody tr th {\n",
       "        vertical-align: top;\n",
       "    }\n",
       "\n",
       "    .dataframe thead th {\n",
       "        text-align: right;\n",
       "    }\n",
       "</style>\n",
       "<table border=\"1\" class=\"dataframe\">\n",
       "  <thead>\n",
       "    <tr style=\"text-align: right;\">\n",
       "      <th></th>\n",
       "      <th>average_stars</th>\n",
       "      <th>review_count</th>\n",
       "      <th>user_id</th>\n",
       "      <th>yelping_since</th>\n",
       "      <th>activity</th>\n",
       "    </tr>\n",
       "  </thead>\n",
       "  <tbody>\n",
       "    <tr>\n",
       "      <th>0</th>\n",
       "      <td>3.80</td>\n",
       "      <td>272</td>\n",
       "      <td>lsSiIjAKVl-QRxKjRErBeg</td>\n",
       "      <td>2010-07-13</td>\n",
       "      <td>106</td>\n",
       "    </tr>\n",
       "    <tr>\n",
       "      <th>1</th>\n",
       "      <td>3.94</td>\n",
       "      <td>2559</td>\n",
       "      <td>om5ZiponkpRqUNa3pVPiRg</td>\n",
       "      <td>2006-01-18</td>\n",
       "      <td>608</td>\n",
       "    </tr>\n",
       "    <tr>\n",
       "      <th>2</th>\n",
       "      <td>4.72</td>\n",
       "      <td>277</td>\n",
       "      <td>-lGwMGHMC_XihFJNKCJNRg</td>\n",
       "      <td>2014-10-31</td>\n",
       "      <td>277</td>\n",
       "    </tr>\n",
       "    <tr>\n",
       "      <th>3</th>\n",
       "      <td>3.76</td>\n",
       "      <td>436</td>\n",
       "      <td>D-ydMTPGWXTVm4_jjp0k9g</td>\n",
       "      <td>2013-04-01</td>\n",
       "      <td>276</td>\n",
       "    </tr>\n",
       "    <tr>\n",
       "      <th>4</th>\n",
       "      <td>4.23</td>\n",
       "      <td>921</td>\n",
       "      <td>PcvbBOCOcs6_suRDH7TSTg</td>\n",
       "      <td>2012-08-16</td>\n",
       "      <td>510</td>\n",
       "    </tr>\n",
       "  </tbody>\n",
       "</table>\n",
       "</div>"
      ],
      "text/plain": [
       "   average_stars  review_count                 user_id yelping_since  activity\n",
       "0           3.80           272  lsSiIjAKVl-QRxKjRErBeg    2010-07-13       106\n",
       "1           3.94          2559  om5ZiponkpRqUNa3pVPiRg    2006-01-18       608\n",
       "2           4.72           277  -lGwMGHMC_XihFJNKCJNRg    2014-10-31       277\n",
       "3           3.76           436  D-ydMTPGWXTVm4_jjp0k9g    2013-04-01       276\n",
       "4           4.23           921  PcvbBOCOcs6_suRDH7TSTg    2012-08-16       510"
      ]
     },
     "execution_count": 73,
     "metadata": {},
     "output_type": "execute_result"
    }
   ],
   "source": [
    "userDf.head()"
   ]
  },
  {
   "cell_type": "code",
   "execution_count": 74,
   "metadata": {},
   "outputs": [
    {
     "data": {
      "text/plain": [
       "0"
      ]
     },
     "execution_count": 74,
     "metadata": {},
     "output_type": "execute_result"
    }
   ],
   "source": [
    "userDf['activity'].min()"
   ]
  },
  {
   "cell_type": "code",
   "execution_count": 75,
   "metadata": {},
   "outputs": [
    {
     "data": {
      "text/plain": [
       "13500"
      ]
     },
     "execution_count": 75,
     "metadata": {},
     "output_type": "execute_result"
    }
   ],
   "source": [
    "userDf['activity'].max()"
   ]
  },
  {
   "cell_type": "code",
   "execution_count": 76,
   "metadata": {},
   "outputs": [
    {
     "data": {
      "text/plain": [
       "1068980"
      ]
     },
     "execution_count": 76,
     "metadata": {},
     "output_type": "execute_result"
    }
   ],
   "source": [
    "userDf['activity'].idxmax()"
   ]
  },
  {
   "cell_type": "code",
   "execution_count": 77,
   "metadata": {},
   "outputs": [
    {
     "data": {
      "text/plain": [
       "average_stars                      3.65\n",
       "review_count                         54\n",
       "user_id          duDYbWuTmgxzAh5gK0f6Tw\n",
       "yelping_since       2017-07-23 00:00:00\n",
       "activity                          13500\n",
       "Name: 1068980, dtype: object"
      ]
     },
     "execution_count": 77,
     "metadata": {},
     "output_type": "execute_result"
    }
   ],
   "source": [
    "userDf.loc[1068980]"
   ]
  },
  {
   "cell_type": "code",
   "execution_count": 78,
   "metadata": {},
   "outputs": [
    {
     "data": {
      "text/html": [
       "<div>\n",
       "<style scoped>\n",
       "    .dataframe tbody tr th:only-of-type {\n",
       "        vertical-align: middle;\n",
       "    }\n",
       "\n",
       "    .dataframe tbody tr th {\n",
       "        vertical-align: top;\n",
       "    }\n",
       "\n",
       "    .dataframe thead th {\n",
       "        text-align: right;\n",
       "    }\n",
       "</style>\n",
       "<table border=\"1\" class=\"dataframe\">\n",
       "  <thead>\n",
       "    <tr style=\"text-align: right;\">\n",
       "      <th></th>\n",
       "      <th>average_stars</th>\n",
       "      <th>review_count</th>\n",
       "      <th>activity</th>\n",
       "    </tr>\n",
       "  </thead>\n",
       "  <tbody>\n",
       "    <tr>\n",
       "      <th>count</th>\n",
       "      <td>1.183362e+06</td>\n",
       "      <td>1.183362e+06</td>\n",
       "      <td>1.183362e+06</td>\n",
       "    </tr>\n",
       "    <tr>\n",
       "      <th>mean</th>\n",
       "      <td>3.711835e+00</td>\n",
       "      <td>2.372686e+01</td>\n",
       "      <td>1.484975e+01</td>\n",
       "    </tr>\n",
       "    <tr>\n",
       "      <th>std</th>\n",
       "      <td>1.105231e+00</td>\n",
       "      <td>8.050645e+01</td>\n",
       "      <td>5.064215e+01</td>\n",
       "    </tr>\n",
       "    <tr>\n",
       "      <th>min</th>\n",
       "      <td>1.000000e+00</td>\n",
       "      <td>0.000000e+00</td>\n",
       "      <td>0.000000e+00</td>\n",
       "    </tr>\n",
       "    <tr>\n",
       "      <th>25%</th>\n",
       "      <td>3.130000e+00</td>\n",
       "      <td>2.000000e+00</td>\n",
       "      <td>2.000000e+00</td>\n",
       "    </tr>\n",
       "    <tr>\n",
       "      <th>50%</th>\n",
       "      <td>3.890000e+00</td>\n",
       "      <td>5.000000e+00</td>\n",
       "      <td>5.000000e+00</td>\n",
       "    </tr>\n",
       "    <tr>\n",
       "      <th>75%</th>\n",
       "      <td>4.570000e+00</td>\n",
       "      <td>1.600000e+01</td>\n",
       "      <td>1.200000e+01</td>\n",
       "    </tr>\n",
       "    <tr>\n",
       "      <th>max</th>\n",
       "      <td>5.000000e+00</td>\n",
       "      <td>1.165600e+04</td>\n",
       "      <td>1.350000e+04</td>\n",
       "    </tr>\n",
       "  </tbody>\n",
       "</table>\n",
       "</div>"
      ],
      "text/plain": [
       "       average_stars  review_count      activity\n",
       "count   1.183362e+06  1.183362e+06  1.183362e+06\n",
       "mean    3.711835e+00  2.372686e+01  1.484975e+01\n",
       "std     1.105231e+00  8.050645e+01  5.064215e+01\n",
       "min     1.000000e+00  0.000000e+00  0.000000e+00\n",
       "25%     3.130000e+00  2.000000e+00  2.000000e+00\n",
       "50%     3.890000e+00  5.000000e+00  5.000000e+00\n",
       "75%     4.570000e+00  1.600000e+01  1.200000e+01\n",
       "max     5.000000e+00  1.165600e+04  1.350000e+04"
      ]
     },
     "execution_count": 78,
     "metadata": {},
     "output_type": "execute_result"
    }
   ],
   "source": [
    "userDf.describe()"
   ]
  },
  {
   "cell_type": "code",
   "execution_count": 79,
   "metadata": {},
   "outputs": [
    {
     "data": {
      "text/html": [
       "<div>\n",
       "<style scoped>\n",
       "    .dataframe tbody tr th:only-of-type {\n",
       "        vertical-align: middle;\n",
       "    }\n",
       "\n",
       "    .dataframe tbody tr th {\n",
       "        vertical-align: top;\n",
       "    }\n",
       "\n",
       "    .dataframe thead th {\n",
       "        text-align: right;\n",
       "    }\n",
       "</style>\n",
       "<table border=\"1\" class=\"dataframe\">\n",
       "  <thead>\n",
       "    <tr style=\"text-align: right;\">\n",
       "      <th></th>\n",
       "      <th>average_stars</th>\n",
       "      <th>review_count</th>\n",
       "      <th>user_id</th>\n",
       "      <th>yelping_since</th>\n",
       "      <th>activity</th>\n",
       "    </tr>\n",
       "  </thead>\n",
       "  <tbody>\n",
       "    <tr>\n",
       "      <th>1183357</th>\n",
       "      <td>1.00</td>\n",
       "      <td>1</td>\n",
       "      <td>OME6i0Xwqbx_xWMKgKqAjw</td>\n",
       "      <td>2009-05-09</td>\n",
       "      <td>0</td>\n",
       "    </tr>\n",
       "    <tr>\n",
       "      <th>1183358</th>\n",
       "      <td>2.00</td>\n",
       "      <td>1</td>\n",
       "      <td>3-y8vkrcLwEAXLPxPbr49Q</td>\n",
       "      <td>2016-10-21</td>\n",
       "      <td>4</td>\n",
       "    </tr>\n",
       "    <tr>\n",
       "      <th>1183359</th>\n",
       "      <td>3.42</td>\n",
       "      <td>22</td>\n",
       "      <td>ZjAfWpPFq9edGphegQXUfQ</td>\n",
       "      <td>2012-01-13</td>\n",
       "      <td>11</td>\n",
       "    </tr>\n",
       "    <tr>\n",
       "      <th>1183360</th>\n",
       "      <td>1.00</td>\n",
       "      <td>1</td>\n",
       "      <td>yC7UhCwzzteD_mpfA8mryw</td>\n",
       "      <td>2014-05-30</td>\n",
       "      <td>1</td>\n",
       "    </tr>\n",
       "    <tr>\n",
       "      <th>1183361</th>\n",
       "      <td>3.57</td>\n",
       "      <td>6</td>\n",
       "      <td>9iUkIqYh84eAOXBh-NPheA</td>\n",
       "      <td>2010-06-18</td>\n",
       "      <td>2</td>\n",
       "    </tr>\n",
       "  </tbody>\n",
       "</table>\n",
       "</div>"
      ],
      "text/plain": [
       "         average_stars  review_count                 user_id yelping_since  \\\n",
       "1183357           1.00             1  OME6i0Xwqbx_xWMKgKqAjw    2009-05-09   \n",
       "1183358           2.00             1  3-y8vkrcLwEAXLPxPbr49Q    2016-10-21   \n",
       "1183359           3.42            22  ZjAfWpPFq9edGphegQXUfQ    2012-01-13   \n",
       "1183360           1.00             1  yC7UhCwzzteD_mpfA8mryw    2014-05-30   \n",
       "1183361           3.57             6  9iUkIqYh84eAOXBh-NPheA    2010-06-18   \n",
       "\n",
       "         activity  \n",
       "1183357         0  \n",
       "1183358         4  \n",
       "1183359        11  \n",
       "1183360         1  \n",
       "1183361         2  "
      ]
     },
     "execution_count": 79,
     "metadata": {},
     "output_type": "execute_result"
    }
   ],
   "source": [
    "userDf.tail()"
   ]
  },
  {
   "cell_type": "markdown",
   "metadata": {},
   "source": [
    "We define users with activity equal to greater than the 75% benchmark as active users, and users with acitivity equal to or smaller than the 25% benchmark as inactive users.\n",
    "\n",
    "Therefore *active users have activity>=12* and *inactive uers have activity<=2*."
   ]
  },
  {
   "cell_type": "code",
   "execution_count": 101,
   "metadata": {},
   "outputs": [],
   "source": [
    "activeUserDf=userDf[userDf['activity']>=12]"
   ]
  },
  {
   "cell_type": "code",
   "execution_count": 102,
   "metadata": {},
   "outputs": [],
   "source": [
    "inactiveUserDf=userDf[userDf['activity']<=2]"
   ]
  },
  {
   "cell_type": "code",
   "execution_count": 103,
   "metadata": {},
   "outputs": [
    {
     "data": {
      "text/plain": [
       "(299882, 5)"
      ]
     },
     "execution_count": 103,
     "metadata": {},
     "output_type": "execute_result"
    }
   ],
   "source": [
    "activeUserDf.shape"
   ]
  },
  {
   "cell_type": "code",
   "execution_count": 104,
   "metadata": {},
   "outputs": [
    {
     "data": {
      "text/plain": [
       "(376641, 5)"
      ]
     },
     "execution_count": 104,
     "metadata": {},
     "output_type": "execute_result"
    }
   ],
   "source": [
    "inactiveUserDf.shape"
   ]
  },
  {
   "cell_type": "code",
   "execution_count": 105,
   "metadata": {},
   "outputs": [
    {
     "data": {
      "text/html": [
       "<div>\n",
       "<style scoped>\n",
       "    .dataframe tbody tr th:only-of-type {\n",
       "        vertical-align: middle;\n",
       "    }\n",
       "\n",
       "    .dataframe tbody tr th {\n",
       "        vertical-align: top;\n",
       "    }\n",
       "\n",
       "    .dataframe thead th {\n",
       "        text-align: right;\n",
       "    }\n",
       "</style>\n",
       "<table border=\"1\" class=\"dataframe\">\n",
       "  <thead>\n",
       "    <tr style=\"text-align: right;\">\n",
       "      <th></th>\n",
       "      <th>average_stars</th>\n",
       "      <th>review_count</th>\n",
       "      <th>activity</th>\n",
       "    </tr>\n",
       "  </thead>\n",
       "  <tbody>\n",
       "    <tr>\n",
       "      <th>count</th>\n",
       "      <td>299882.000000</td>\n",
       "      <td>299882.000000</td>\n",
       "      <td>299882.000000</td>\n",
       "    </tr>\n",
       "    <tr>\n",
       "      <th>mean</th>\n",
       "      <td>3.766665</td>\n",
       "      <td>76.951718</td>\n",
       "      <td>47.239978</td>\n",
       "    </tr>\n",
       "    <tr>\n",
       "      <th>std</th>\n",
       "      <td>0.678757</td>\n",
       "      <td>147.226163</td>\n",
       "      <td>93.224085</td>\n",
       "    </tr>\n",
       "    <tr>\n",
       "      <th>min</th>\n",
       "      <td>1.000000</td>\n",
       "      <td>1.000000</td>\n",
       "      <td>12.000000</td>\n",
       "    </tr>\n",
       "    <tr>\n",
       "      <th>25%</th>\n",
       "      <td>3.450000</td>\n",
       "      <td>17.000000</td>\n",
       "      <td>16.000000</td>\n",
       "    </tr>\n",
       "    <tr>\n",
       "      <th>50%</th>\n",
       "      <td>3.820000</td>\n",
       "      <td>36.000000</td>\n",
       "      <td>24.000000</td>\n",
       "    </tr>\n",
       "    <tr>\n",
       "      <th>75%</th>\n",
       "      <td>4.170000</td>\n",
       "      <td>77.000000</td>\n",
       "      <td>46.000000</td>\n",
       "    </tr>\n",
       "    <tr>\n",
       "      <th>max</th>\n",
       "      <td>5.000000</td>\n",
       "      <td>11656.000000</td>\n",
       "      <td>13500.000000</td>\n",
       "    </tr>\n",
       "  </tbody>\n",
       "</table>\n",
       "</div>"
      ],
      "text/plain": [
       "       average_stars   review_count       activity\n",
       "count  299882.000000  299882.000000  299882.000000\n",
       "mean        3.766665      76.951718      47.239978\n",
       "std         0.678757     147.226163      93.224085\n",
       "min         1.000000       1.000000      12.000000\n",
       "25%         3.450000      17.000000      16.000000\n",
       "50%         3.820000      36.000000      24.000000\n",
       "75%         4.170000      77.000000      46.000000\n",
       "max         5.000000   11656.000000   13500.000000"
      ]
     },
     "execution_count": 105,
     "metadata": {},
     "output_type": "execute_result"
    }
   ],
   "source": [
    "activeUserDf.describe()"
   ]
  },
  {
   "cell_type": "code",
   "execution_count": 106,
   "metadata": {},
   "outputs": [
    {
     "data": {
      "text/html": [
       "<div>\n",
       "<style scoped>\n",
       "    .dataframe tbody tr th:only-of-type {\n",
       "        vertical-align: middle;\n",
       "    }\n",
       "\n",
       "    .dataframe tbody tr th {\n",
       "        vertical-align: top;\n",
       "    }\n",
       "\n",
       "    .dataframe thead th {\n",
       "        text-align: right;\n",
       "    }\n",
       "</style>\n",
       "<table border=\"1\" class=\"dataframe\">\n",
       "  <thead>\n",
       "    <tr style=\"text-align: right;\">\n",
       "      <th></th>\n",
       "      <th>average_stars</th>\n",
       "      <th>review_count</th>\n",
       "      <th>activity</th>\n",
       "    </tr>\n",
       "  </thead>\n",
       "  <tbody>\n",
       "    <tr>\n",
       "      <th>count</th>\n",
       "      <td>376641.000000</td>\n",
       "      <td>376641.000000</td>\n",
       "      <td>376641.000000</td>\n",
       "    </tr>\n",
       "    <tr>\n",
       "      <th>mean</th>\n",
       "      <td>3.649186</td>\n",
       "      <td>2.067000</td>\n",
       "      <td>1.344246</td>\n",
       "    </tr>\n",
       "    <tr>\n",
       "      <th>std</th>\n",
       "      <td>1.456919</td>\n",
       "      <td>1.334665</td>\n",
       "      <td>0.607845</td>\n",
       "    </tr>\n",
       "    <tr>\n",
       "      <th>min</th>\n",
       "      <td>1.000000</td>\n",
       "      <td>0.000000</td>\n",
       "      <td>0.000000</td>\n",
       "    </tr>\n",
       "    <tr>\n",
       "      <th>25%</th>\n",
       "      <td>2.670000</td>\n",
       "      <td>1.000000</td>\n",
       "      <td>1.000000</td>\n",
       "    </tr>\n",
       "    <tr>\n",
       "      <th>50%</th>\n",
       "      <td>4.000000</td>\n",
       "      <td>2.000000</td>\n",
       "      <td>1.000000</td>\n",
       "    </tr>\n",
       "    <tr>\n",
       "      <th>75%</th>\n",
       "      <td>5.000000</td>\n",
       "      <td>3.000000</td>\n",
       "      <td>2.000000</td>\n",
       "    </tr>\n",
       "    <tr>\n",
       "      <th>max</th>\n",
       "      <td>5.000000</td>\n",
       "      <td>11.000000</td>\n",
       "      <td>2.000000</td>\n",
       "    </tr>\n",
       "  </tbody>\n",
       "</table>\n",
       "</div>"
      ],
      "text/plain": [
       "       average_stars   review_count       activity\n",
       "count  376641.000000  376641.000000  376641.000000\n",
       "mean        3.649186       2.067000       1.344246\n",
       "std         1.456919       1.334665       0.607845\n",
       "min         1.000000       0.000000       0.000000\n",
       "25%         2.670000       1.000000       1.000000\n",
       "50%         4.000000       2.000000       1.000000\n",
       "75%         5.000000       3.000000       2.000000\n",
       "max         5.000000      11.000000       2.000000"
      ]
     },
     "execution_count": 106,
     "metadata": {},
     "output_type": "execute_result"
    }
   ],
   "source": [
    "inactiveUserDf.describe()"
   ]
  },
  {
   "cell_type": "markdown",
   "metadata": {},
   "source": [
    "### Is there a correlation between user activity and average_stars?"
   ]
  },
  {
   "cell_type": "code",
   "execution_count": 107,
   "metadata": {},
   "outputs": [
    {
     "name": "stderr",
     "output_type": "stream",
     "text": [
      "/Library/Frameworks/Python.framework/Versions/3.6/lib/python3.6/site-packages/statsmodels/compat/pandas.py:56: FutureWarning: The pandas.core.datetools module is deprecated and will be removed in a future version. Please use the pandas.tseries module instead.\n",
      "  from pandas.core import datetools\n"
     ]
    }
   ],
   "source": [
    "import statsmodels.api as sm"
   ]
  },
  {
   "cell_type": "code",
   "execution_count": 109,
   "metadata": {},
   "outputs": [],
   "source": [
    "lm=sm.OLS.from_formula('activity~average_stars',userDf)\n",
    "result=lm.fit()"
   ]
  },
  {
   "cell_type": "code",
   "execution_count": 111,
   "metadata": {},
   "outputs": [
    {
     "name": "stdout",
     "output_type": "stream",
     "text": [
      "                            OLS Regression Results                            \n",
      "==============================================================================\n",
      "Dep. Variable:               activity   R-squared:                       0.000\n",
      "Model:                            OLS   Adj. R-squared:                  0.000\n",
      "Method:                 Least Squares   F-statistic:                     251.1\n",
      "Date:                Sun, 26 Nov 2017   Prob (F-statistic):           1.54e-56\n",
      "Time:                        21:55:10   Log-Likelihood:            -6.3234e+06\n",
      "No. Observations:             1183362   AIC:                         1.265e+07\n",
      "Df Residuals:                 1183360   BIC:                         1.265e+07\n",
      "Df Model:                           1                                         \n",
      "Covariance Type:            nonrobust                                         \n",
      "=================================================================================\n",
      "                    coef    std err          t      P>|t|      [0.025      0.975]\n",
      "---------------------------------------------------------------------------------\n",
      "Intercept        12.3727      0.163     75.853      0.000      12.053      12.692\n",
      "average_stars     0.6673      0.042     15.845      0.000       0.585       0.750\n",
      "==============================================================================\n",
      "Omnibus:                  3821584.597   Durbin-Watson:                   1.888\n",
      "Prob(Omnibus):                  0.000   Jarque-Bera (JB):    3979123702046.129\n",
      "Skew:                          53.012   Prob(JB):                         0.00\n",
      "Kurtosis:                    8985.770   Cond. No.                         14.4\n",
      "==============================================================================\n",
      "\n",
      "Warnings:\n",
      "[1] Standard Errors assume that the covariance matrix of the errors is correctly specified.\n"
     ]
    }
   ],
   "source": [
    "print(result.summary())"
   ]
  },
  {
   "cell_type": "code",
   "execution_count": 2,
   "metadata": {},
   "outputs": [],
   "source": [
    "# Tells matplotlib to display images inline instead of a new window\n",
    "%matplotlib inline\n",
    "import seaborn as sns\n",
    "import matplotlib.pyplot as plt"
   ]
  },
  {
   "cell_type": "code",
   "execution_count": 125,
   "metadata": {},
   "outputs": [
    {
     "data": {
      "text/plain": [
       "<matplotlib.axes._subplots.AxesSubplot at 0x11b260080>"
      ]
     },
     "execution_count": 125,
     "metadata": {},
     "output_type": "execute_result"
    },
    {
     "data": {
      "image/png": "[encoded data removed]",
      "text/plain": [
       "<matplotlib.figure.Figure at 0x1170ea748>"
      ]
     },
     "metadata": {},
     "output_type": "display_data"
    }
   ],
   "source": [
    "sns.regplot('activity', 'average_stars', userDf, line_kws = {\"color\":\"r\"}, ci=None)"
   ]
  },
  {
   "cell_type": "markdown",
   "metadata": {},
   "source": [
    "The two data points on the right most are certainly outliers, so we try discarding them and rerun the model."
   ]
  },
  {
   "cell_type": "code",
   "execution_count": 127,
   "metadata": {},
   "outputs": [],
   "source": [
    "newUserDf=userDf.drop(userDf['activity'].idxmax())"
   ]
  },
  {
   "cell_type": "code",
   "execution_count": 128,
   "metadata": {},
   "outputs": [
    {
     "data": {
      "text/plain": [
       "12000"
      ]
     },
     "execution_count": 128,
     "metadata": {},
     "output_type": "execute_result"
    }
   ],
   "source": [
    "newUserDf['activity'].max()"
   ]
  },
  {
   "cell_type": "code",
   "execution_count": 129,
   "metadata": {},
   "outputs": [],
   "source": [
    "newUserDf=newUserDf.drop(newUserDf['activity'].idxmax())"
   ]
  },
  {
   "cell_type": "code",
   "execution_count": 130,
   "metadata": {},
   "outputs": [
    {
     "data": {
      "text/plain": [
       "8000"
      ]
     },
     "execution_count": 130,
     "metadata": {},
     "output_type": "execute_result"
    }
   ],
   "source": [
    "newUserDf['activity'].max()"
   ]
  },
  {
   "cell_type": "code",
   "execution_count": 131,
   "metadata": {},
   "outputs": [],
   "source": [
    "lm=sm.OLS.from_formula('activity~average_stars',newUserDf)\n",
    "result=lm.fit()"
   ]
  },
  {
   "cell_type": "code",
   "execution_count": 132,
   "metadata": {},
   "outputs": [
    {
     "data": {
      "text/plain": [
       "<matplotlib.axes._subplots.AxesSubplot at 0x11b2e1fd0>"
      ]
     },
     "execution_count": 132,
     "metadata": {},
     "output_type": "execute_result"
    },
    {
     "data": {
      "image/png": "[encoded data removed]",
      "text/plain": [
       "<matplotlib.figure.Figure at 0x11b1fcf60>"
      ]
     },
     "metadata": {},
     "output_type": "display_data"
    }
   ],
   "source": [
    "sns.regplot('activity', 'average_stars', newUserDf, line_kws = {\"color\":\"r\"}, ci=None)"
   ]
  },
  {
   "cell_type": "code",
   "execution_count": 133,
   "metadata": {},
   "outputs": [
    {
     "data": {
      "text/html": [
       "<div>\n",
       "<style scoped>\n",
       "    .dataframe tbody tr th:only-of-type {\n",
       "        vertical-align: middle;\n",
       "    }\n",
       "\n",
       "    .dataframe tbody tr th {\n",
       "        vertical-align: top;\n",
       "    }\n",
       "\n",
       "    .dataframe thead th {\n",
       "        text-align: right;\n",
       "    }\n",
       "</style>\n",
       "<table border=\"1\" class=\"dataframe\">\n",
       "  <thead>\n",
       "    <tr style=\"text-align: right;\">\n",
       "      <th></th>\n",
       "      <th>average_stars</th>\n",
       "      <th>review_count</th>\n",
       "      <th>user_id</th>\n",
       "      <th>yelping_since</th>\n",
       "      <th>activity</th>\n",
       "    </tr>\n",
       "  </thead>\n",
       "  <tbody>\n",
       "    <tr>\n",
       "      <th>84804</th>\n",
       "      <td>3.88</td>\n",
       "      <td>8</td>\n",
       "      <td>ucTsDuaXmzplLM8LaD9EfQ</td>\n",
       "      <td>2017-07-26</td>\n",
       "      <td>8000</td>\n",
       "    </tr>\n",
       "  </tbody>\n",
       "</table>\n",
       "</div>"
      ],
      "text/plain": [
       "       average_stars  review_count                 user_id yelping_since  \\\n",
       "84804           3.88             8  ucTsDuaXmzplLM8LaD9EfQ    2017-07-26   \n",
       "\n",
       "       activity  \n",
       "84804      8000  "
      ]
     },
     "execution_count": 133,
     "metadata": {},
     "output_type": "execute_result"
    }
   ],
   "source": [
    "userDf.loc[userDf['activity']==8000]"
   ]
  },
  {
   "cell_type": "code",
   "execution_count": 134,
   "metadata": {},
   "outputs": [
    {
     "data": {
      "text/plain": [
       "8000"
      ]
     },
     "execution_count": 134,
     "metadata": {},
     "output_type": "execute_result"
    }
   ],
   "source": [
    "newUserDf['activity'].max()"
   ]
  },
  {
   "cell_type": "code",
   "execution_count": 135,
   "metadata": {},
   "outputs": [
    {
     "data": {
      "text/html": [
       "<div>\n",
       "<style scoped>\n",
       "    .dataframe tbody tr th:only-of-type {\n",
       "        vertical-align: middle;\n",
       "    }\n",
       "\n",
       "    .dataframe tbody tr th {\n",
       "        vertical-align: top;\n",
       "    }\n",
       "\n",
       "    .dataframe thead th {\n",
       "        text-align: right;\n",
       "    }\n",
       "</style>\n",
       "<table border=\"1\" class=\"dataframe\">\n",
       "  <thead>\n",
       "    <tr style=\"text-align: right;\">\n",
       "      <th></th>\n",
       "      <th>average_stars</th>\n",
       "      <th>review_count</th>\n",
       "      <th>user_id</th>\n",
       "      <th>yelping_since</th>\n",
       "      <th>activity</th>\n",
       "    </tr>\n",
       "  </thead>\n",
       "  <tbody>\n",
       "    <tr>\n",
       "      <th>102408</th>\n",
       "      <td>4.0</td>\n",
       "      <td>12</td>\n",
       "      <td>WqlMM_aK-YZIbZ8uqu7gTg</td>\n",
       "      <td>2017-07-26</td>\n",
       "      <td>12000</td>\n",
       "    </tr>\n",
       "  </tbody>\n",
       "</table>\n",
       "</div>"
      ],
      "text/plain": [
       "        average_stars  review_count                 user_id yelping_since  \\\n",
       "102408            4.0            12  WqlMM_aK-YZIbZ8uqu7gTg    2017-07-26   \n",
       "\n",
       "        activity  \n",
       "102408     12000  "
      ]
     },
     "execution_count": 135,
     "metadata": {},
     "output_type": "execute_result"
    }
   ],
   "source": [
    "userDf.loc[userDf['activity']==12000]"
   ]
  },
  {
   "cell_type": "code",
   "execution_count": 137,
   "metadata": {},
   "outputs": [
    {
     "data": {
      "text/html": [
       "<div>\n",
       "<style scoped>\n",
       "    .dataframe tbody tr th:only-of-type {\n",
       "        vertical-align: middle;\n",
       "    }\n",
       "\n",
       "    .dataframe tbody tr th {\n",
       "        vertical-align: top;\n",
       "    }\n",
       "\n",
       "    .dataframe thead th {\n",
       "        text-align: right;\n",
       "    }\n",
       "</style>\n",
       "<table border=\"1\" class=\"dataframe\">\n",
       "  <thead>\n",
       "    <tr style=\"text-align: right;\">\n",
       "      <th></th>\n",
       "      <th>average_stars</th>\n",
       "      <th>review_count</th>\n",
       "      <th>user_id</th>\n",
       "      <th>yelping_since</th>\n",
       "      <th>activity</th>\n",
       "    </tr>\n",
       "  </thead>\n",
       "  <tbody>\n",
       "    <tr>\n",
       "      <th>3107</th>\n",
       "      <td>1.00</td>\n",
       "      <td>2</td>\n",
       "      <td>2PQq3hSlLGT1ysBXTf6aDg</td>\n",
       "      <td>2017-07-26</td>\n",
       "      <td>2000</td>\n",
       "    </tr>\n",
       "    <tr>\n",
       "      <th>33564</th>\n",
       "      <td>5.00</td>\n",
       "      <td>1</td>\n",
       "      <td>NP70UyuODLULhSC9CrDKnw</td>\n",
       "      <td>2017-07-26</td>\n",
       "      <td>1000</td>\n",
       "    </tr>\n",
       "    <tr>\n",
       "      <th>38212</th>\n",
       "      <td>1.00</td>\n",
       "      <td>1</td>\n",
       "      <td>5rL5_6MeAUPhCkRbtTPZSQ</td>\n",
       "      <td>2017-07-26</td>\n",
       "      <td>1000</td>\n",
       "    </tr>\n",
       "    <tr>\n",
       "      <th>49124</th>\n",
       "      <td>1.00</td>\n",
       "      <td>1</td>\n",
       "      <td>9hj8HvSoa0uxLY7Al6EoBA</td>\n",
       "      <td>2017-07-26</td>\n",
       "      <td>1000</td>\n",
       "    </tr>\n",
       "    <tr>\n",
       "      <th>84804</th>\n",
       "      <td>3.88</td>\n",
       "      <td>8</td>\n",
       "      <td>ucTsDuaXmzplLM8LaD9EfQ</td>\n",
       "      <td>2017-07-26</td>\n",
       "      <td>8000</td>\n",
       "    </tr>\n",
       "    <tr>\n",
       "      <th>102408</th>\n",
       "      <td>4.00</td>\n",
       "      <td>12</td>\n",
       "      <td>WqlMM_aK-YZIbZ8uqu7gTg</td>\n",
       "      <td>2017-07-26</td>\n",
       "      <td>12000</td>\n",
       "    </tr>\n",
       "    <tr>\n",
       "      <th>135931</th>\n",
       "      <td>5.00</td>\n",
       "      <td>1</td>\n",
       "      <td>IhI0RF9_PEF9RyQhzElhCQ</td>\n",
       "      <td>2017-07-26</td>\n",
       "      <td>1000</td>\n",
       "    </tr>\n",
       "    <tr>\n",
       "      <th>156109</th>\n",
       "      <td>5.00</td>\n",
       "      <td>1</td>\n",
       "      <td>0Qq7TvEe40l8H0MU6F9_PA</td>\n",
       "      <td>2017-07-26</td>\n",
       "      <td>1000</td>\n",
       "    </tr>\n",
       "    <tr>\n",
       "      <th>179607</th>\n",
       "      <td>2.00</td>\n",
       "      <td>1</td>\n",
       "      <td>C2mKJ7tJFunXZHHcujbafA</td>\n",
       "      <td>2017-07-26</td>\n",
       "      <td>1000</td>\n",
       "    </tr>\n",
       "    <tr>\n",
       "      <th>185438</th>\n",
       "      <td>5.00</td>\n",
       "      <td>1</td>\n",
       "      <td>JCTlqAKBDVrf9ySd6VeCRQ</td>\n",
       "      <td>2017-07-26</td>\n",
       "      <td>1000</td>\n",
       "    </tr>\n",
       "    <tr>\n",
       "      <th>198141</th>\n",
       "      <td>5.00</td>\n",
       "      <td>1</td>\n",
       "      <td>q8tDxQW3hmxhwFdY_ydn_Q</td>\n",
       "      <td>2017-07-26</td>\n",
       "      <td>1000</td>\n",
       "    </tr>\n",
       "    <tr>\n",
       "      <th>214514</th>\n",
       "      <td>3.33</td>\n",
       "      <td>3</td>\n",
       "      <td>1k0uJ5NLvREoJo3Qz15ouA</td>\n",
       "      <td>2017-07-26</td>\n",
       "      <td>3000</td>\n",
       "    </tr>\n",
       "    <tr>\n",
       "      <th>216746</th>\n",
       "      <td>5.00</td>\n",
       "      <td>1</td>\n",
       "      <td>Aoo7KRDUSWdZCMqFZJTBew</td>\n",
       "      <td>2017-07-26</td>\n",
       "      <td>1000</td>\n",
       "    </tr>\n",
       "    <tr>\n",
       "      <th>219215</th>\n",
       "      <td>5.00</td>\n",
       "      <td>1</td>\n",
       "      <td>pGMlDfstUyXADh0BHt6YyQ</td>\n",
       "      <td>2017-07-26</td>\n",
       "      <td>1000</td>\n",
       "    </tr>\n",
       "    <tr>\n",
       "      <th>236279</th>\n",
       "      <td>5.00</td>\n",
       "      <td>1</td>\n",
       "      <td>fXgUtoKguzGUqEDdKyG5rg</td>\n",
       "      <td>2017-07-26</td>\n",
       "      <td>1000</td>\n",
       "    </tr>\n",
       "    <tr>\n",
       "      <th>266115</th>\n",
       "      <td>1.00</td>\n",
       "      <td>1</td>\n",
       "      <td>x41uBPVa2jGpC7Jo4Xz4pw</td>\n",
       "      <td>2017-07-26</td>\n",
       "      <td>1000</td>\n",
       "    </tr>\n",
       "    <tr>\n",
       "      <th>295020</th>\n",
       "      <td>5.00</td>\n",
       "      <td>1</td>\n",
       "      <td>FhK4Sq-kciFApRZI3EkVMQ</td>\n",
       "      <td>2017-07-26</td>\n",
       "      <td>1000</td>\n",
       "    </tr>\n",
       "    <tr>\n",
       "      <th>303523</th>\n",
       "      <td>5.00</td>\n",
       "      <td>3</td>\n",
       "      <td>1T1zKMXN9SBoyezhcIZMjg</td>\n",
       "      <td>2017-07-26</td>\n",
       "      <td>3000</td>\n",
       "    </tr>\n",
       "    <tr>\n",
       "      <th>308371</th>\n",
       "      <td>4.00</td>\n",
       "      <td>3</td>\n",
       "      <td>96ueMWf7Exsij7fI3Cxmhg</td>\n",
       "      <td>2017-07-26</td>\n",
       "      <td>3000</td>\n",
       "    </tr>\n",
       "    <tr>\n",
       "      <th>310920</th>\n",
       "      <td>5.00</td>\n",
       "      <td>1</td>\n",
       "      <td>3MuktxyapUjSAj6ZGhNcJg</td>\n",
       "      <td>2017-07-26</td>\n",
       "      <td>1000</td>\n",
       "    </tr>\n",
       "    <tr>\n",
       "      <th>317633</th>\n",
       "      <td>5.00</td>\n",
       "      <td>1</td>\n",
       "      <td>-jZeQl6u5cpwTNQXpLXkqg</td>\n",
       "      <td>2017-07-26</td>\n",
       "      <td>1000</td>\n",
       "    </tr>\n",
       "    <tr>\n",
       "      <th>344102</th>\n",
       "      <td>5.00</td>\n",
       "      <td>1</td>\n",
       "      <td>c8iqzC6vcY69NyDxoOMTMQ</td>\n",
       "      <td>2017-07-26</td>\n",
       "      <td>1000</td>\n",
       "    </tr>\n",
       "    <tr>\n",
       "      <th>383936</th>\n",
       "      <td>1.00</td>\n",
       "      <td>1</td>\n",
       "      <td>wPsC-ykuxSRXGtvMkQPHsg</td>\n",
       "      <td>2017-07-26</td>\n",
       "      <td>1000</td>\n",
       "    </tr>\n",
       "    <tr>\n",
       "      <th>391050</th>\n",
       "      <td>3.67</td>\n",
       "      <td>3</td>\n",
       "      <td>cMFir5k4KTsTylQFgOAq6Q</td>\n",
       "      <td>2017-07-26</td>\n",
       "      <td>3000</td>\n",
       "    </tr>\n",
       "    <tr>\n",
       "      <th>393884</th>\n",
       "      <td>5.00</td>\n",
       "      <td>1</td>\n",
       "      <td>JMGkmFHsufOvIEu3g6MGXA</td>\n",
       "      <td>2017-07-26</td>\n",
       "      <td>1000</td>\n",
       "    </tr>\n",
       "    <tr>\n",
       "      <th>410961</th>\n",
       "      <td>5.00</td>\n",
       "      <td>3</td>\n",
       "      <td>uscRPgdyYR2uN7NnHEEMyQ</td>\n",
       "      <td>2017-07-26</td>\n",
       "      <td>3000</td>\n",
       "    </tr>\n",
       "    <tr>\n",
       "      <th>419005</th>\n",
       "      <td>5.00</td>\n",
       "      <td>1</td>\n",
       "      <td>Aw5ZrZWe9xLvts9odG5N6w</td>\n",
       "      <td>2017-07-26</td>\n",
       "      <td>1000</td>\n",
       "    </tr>\n",
       "    <tr>\n",
       "      <th>421664</th>\n",
       "      <td>1.00</td>\n",
       "      <td>1</td>\n",
       "      <td>f_m-q9L3SHZBda9R_35Meg</td>\n",
       "      <td>2017-07-26</td>\n",
       "      <td>1000</td>\n",
       "    </tr>\n",
       "    <tr>\n",
       "      <th>425840</th>\n",
       "      <td>5.00</td>\n",
       "      <td>1</td>\n",
       "      <td>ExgcJuogc3tCJF7vIPq90Q</td>\n",
       "      <td>2017-07-26</td>\n",
       "      <td>1000</td>\n",
       "    </tr>\n",
       "    <tr>\n",
       "      <th>430788</th>\n",
       "      <td>5.00</td>\n",
       "      <td>1</td>\n",
       "      <td>pPyNd5TFvc3M3XRqsDR4_w</td>\n",
       "      <td>2017-07-26</td>\n",
       "      <td>1000</td>\n",
       "    </tr>\n",
       "    <tr>\n",
       "      <th>...</th>\n",
       "      <td>...</td>\n",
       "      <td>...</td>\n",
       "      <td>...</td>\n",
       "      <td>...</td>\n",
       "      <td>...</td>\n",
       "    </tr>\n",
       "    <tr>\n",
       "      <th>1103088</th>\n",
       "      <td>1.00</td>\n",
       "      <td>1</td>\n",
       "      <td>rVKVkz_OLVDlD6KszhvvMA</td>\n",
       "      <td>2017-07-26</td>\n",
       "      <td>1000</td>\n",
       "    </tr>\n",
       "    <tr>\n",
       "      <th>1104937</th>\n",
       "      <td>1.00</td>\n",
       "      <td>1</td>\n",
       "      <td>1AP2ZB8WcbFoW7jo0dy7AQ</td>\n",
       "      <td>2017-07-26</td>\n",
       "      <td>1000</td>\n",
       "    </tr>\n",
       "    <tr>\n",
       "      <th>1104943</th>\n",
       "      <td>5.00</td>\n",
       "      <td>1</td>\n",
       "      <td>es21pOb2B6BuqCcpEw8KVg</td>\n",
       "      <td>2017-07-26</td>\n",
       "      <td>1000</td>\n",
       "    </tr>\n",
       "    <tr>\n",
       "      <th>1106500</th>\n",
       "      <td>1.00</td>\n",
       "      <td>1</td>\n",
       "      <td>lgd6zk43gPK1UIXeaIv55g</td>\n",
       "      <td>2017-07-26</td>\n",
       "      <td>1000</td>\n",
       "    </tr>\n",
       "    <tr>\n",
       "      <th>1115254</th>\n",
       "      <td>5.00</td>\n",
       "      <td>1</td>\n",
       "      <td>569hWIYc_Si05TZmNoB83g</td>\n",
       "      <td>2017-07-26</td>\n",
       "      <td>1000</td>\n",
       "    </tr>\n",
       "    <tr>\n",
       "      <th>1127305</th>\n",
       "      <td>5.00</td>\n",
       "      <td>1</td>\n",
       "      <td>AsVOlAN9FtTZUFHR1XNYrw</td>\n",
       "      <td>2017-07-26</td>\n",
       "      <td>1000</td>\n",
       "    </tr>\n",
       "    <tr>\n",
       "      <th>1128471</th>\n",
       "      <td>5.00</td>\n",
       "      <td>1</td>\n",
       "      <td>fd6JIac7Qw-djQzK3RdEhA</td>\n",
       "      <td>2017-07-26</td>\n",
       "      <td>1000</td>\n",
       "    </tr>\n",
       "    <tr>\n",
       "      <th>1128645</th>\n",
       "      <td>1.00</td>\n",
       "      <td>1</td>\n",
       "      <td>WAHgeCkv8Gew0ducBI96wQ</td>\n",
       "      <td>2017-07-26</td>\n",
       "      <td>1000</td>\n",
       "    </tr>\n",
       "    <tr>\n",
       "      <th>1128822</th>\n",
       "      <td>3.00</td>\n",
       "      <td>2</td>\n",
       "      <td>IawHNXWc1ciu7axnLCzpMg</td>\n",
       "      <td>2017-07-26</td>\n",
       "      <td>2000</td>\n",
       "    </tr>\n",
       "    <tr>\n",
       "      <th>1129987</th>\n",
       "      <td>5.00</td>\n",
       "      <td>1</td>\n",
       "      <td>r85HVCE5lwUveXIwi3rxIg</td>\n",
       "      <td>2017-07-26</td>\n",
       "      <td>1000</td>\n",
       "    </tr>\n",
       "    <tr>\n",
       "      <th>1130753</th>\n",
       "      <td>5.00</td>\n",
       "      <td>1</td>\n",
       "      <td>AsU1Ky4ifqf603NMaEOdpw</td>\n",
       "      <td>2017-07-26</td>\n",
       "      <td>1000</td>\n",
       "    </tr>\n",
       "    <tr>\n",
       "      <th>1137875</th>\n",
       "      <td>1.00</td>\n",
       "      <td>1</td>\n",
       "      <td>4cbNL5Rz73rL6hUJQlBVUA</td>\n",
       "      <td>2017-07-26</td>\n",
       "      <td>1000</td>\n",
       "    </tr>\n",
       "    <tr>\n",
       "      <th>1138344</th>\n",
       "      <td>5.00</td>\n",
       "      <td>1</td>\n",
       "      <td>oQJkWLQz6-vIx63ZLXxn1A</td>\n",
       "      <td>2017-07-26</td>\n",
       "      <td>1000</td>\n",
       "    </tr>\n",
       "    <tr>\n",
       "      <th>1138525</th>\n",
       "      <td>5.00</td>\n",
       "      <td>1</td>\n",
       "      <td>5D_ytw4QMM4YmVh0aBmM2A</td>\n",
       "      <td>2017-07-26</td>\n",
       "      <td>1000</td>\n",
       "    </tr>\n",
       "    <tr>\n",
       "      <th>1139109</th>\n",
       "      <td>5.00</td>\n",
       "      <td>1</td>\n",
       "      <td>78ivsqghc9-F8t5hmvZvZQ</td>\n",
       "      <td>2017-07-26</td>\n",
       "      <td>1000</td>\n",
       "    </tr>\n",
       "    <tr>\n",
       "      <th>1140024</th>\n",
       "      <td>5.00</td>\n",
       "      <td>1</td>\n",
       "      <td>bBMuRWEa3UjOgD5fTshRjA</td>\n",
       "      <td>2017-07-26</td>\n",
       "      <td>1000</td>\n",
       "    </tr>\n",
       "    <tr>\n",
       "      <th>1142620</th>\n",
       "      <td>5.00</td>\n",
       "      <td>1</td>\n",
       "      <td>I0nnD3l34OuInqKZNC_Rsw</td>\n",
       "      <td>2017-07-26</td>\n",
       "      <td>1000</td>\n",
       "    </tr>\n",
       "    <tr>\n",
       "      <th>1143072</th>\n",
       "      <td>5.00</td>\n",
       "      <td>1</td>\n",
       "      <td>xogcA23GYpM8Ukhmoz7Tgg</td>\n",
       "      <td>2017-07-26</td>\n",
       "      <td>1000</td>\n",
       "    </tr>\n",
       "    <tr>\n",
       "      <th>1149152</th>\n",
       "      <td>1.00</td>\n",
       "      <td>1</td>\n",
       "      <td>GZ32_5YLJxgcoyzxQEVTyA</td>\n",
       "      <td>2017-07-26</td>\n",
       "      <td>1000</td>\n",
       "    </tr>\n",
       "    <tr>\n",
       "      <th>1156072</th>\n",
       "      <td>5.00</td>\n",
       "      <td>1</td>\n",
       "      <td>PXaFzh8MvjcelY1wTNeAmg</td>\n",
       "      <td>2017-07-26</td>\n",
       "      <td>1000</td>\n",
       "    </tr>\n",
       "    <tr>\n",
       "      <th>1157947</th>\n",
       "      <td>5.00</td>\n",
       "      <td>1</td>\n",
       "      <td>mnqcL3y3cVRcFcNqwJ_eCg</td>\n",
       "      <td>2017-07-26</td>\n",
       "      <td>1000</td>\n",
       "    </tr>\n",
       "    <tr>\n",
       "      <th>1159845</th>\n",
       "      <td>1.00</td>\n",
       "      <td>1</td>\n",
       "      <td>GI-6PMNsNgNS71GGZfCssQ</td>\n",
       "      <td>2017-07-26</td>\n",
       "      <td>1000</td>\n",
       "    </tr>\n",
       "    <tr>\n",
       "      <th>1167270</th>\n",
       "      <td>5.00</td>\n",
       "      <td>1</td>\n",
       "      <td>C7EdUMSC2nsy51M7Ep7zDQ</td>\n",
       "      <td>2017-07-26</td>\n",
       "      <td>1000</td>\n",
       "    </tr>\n",
       "    <tr>\n",
       "      <th>1168484</th>\n",
       "      <td>1.00</td>\n",
       "      <td>1</td>\n",
       "      <td>BNhcQaY5evS6fZ-6ppB4IQ</td>\n",
       "      <td>2017-07-26</td>\n",
       "      <td>1000</td>\n",
       "    </tr>\n",
       "    <tr>\n",
       "      <th>1171635</th>\n",
       "      <td>5.00</td>\n",
       "      <td>1</td>\n",
       "      <td>9R_cuq3CBhnayBRgLjPUNA</td>\n",
       "      <td>2017-07-26</td>\n",
       "      <td>1000</td>\n",
       "    </tr>\n",
       "    <tr>\n",
       "      <th>1172591</th>\n",
       "      <td>2.00</td>\n",
       "      <td>1</td>\n",
       "      <td>TViwuoPKysuih5Xvh0cKaA</td>\n",
       "      <td>2017-07-26</td>\n",
       "      <td>1000</td>\n",
       "    </tr>\n",
       "    <tr>\n",
       "      <th>1173136</th>\n",
       "      <td>5.00</td>\n",
       "      <td>1</td>\n",
       "      <td>FcyL6q4aNI1h4m5qW46CgA</td>\n",
       "      <td>2017-07-26</td>\n",
       "      <td>1000</td>\n",
       "    </tr>\n",
       "    <tr>\n",
       "      <th>1179675</th>\n",
       "      <td>2.00</td>\n",
       "      <td>1</td>\n",
       "      <td>ZTjQ0ZBzwvDce3rY3X2s9A</td>\n",
       "      <td>2017-07-26</td>\n",
       "      <td>1000</td>\n",
       "    </tr>\n",
       "    <tr>\n",
       "      <th>1179849</th>\n",
       "      <td>5.00</td>\n",
       "      <td>1</td>\n",
       "      <td>EPuG9oUEmeVa_pn40EeDSw</td>\n",
       "      <td>2017-07-26</td>\n",
       "      <td>1000</td>\n",
       "    </tr>\n",
       "    <tr>\n",
       "      <th>1181601</th>\n",
       "      <td>2.00</td>\n",
       "      <td>1</td>\n",
       "      <td>oFvFilGBYgyetsz4S5kZhw</td>\n",
       "      <td>2017-07-26</td>\n",
       "      <td>1000</td>\n",
       "    </tr>\n",
       "  </tbody>\n",
       "</table>\n",
       "<p>168 rows × 5 columns</p>\n",
       "</div>"
      ],
      "text/plain": [
       "         average_stars  review_count                 user_id yelping_since  \\\n",
       "3107              1.00             2  2PQq3hSlLGT1ysBXTf6aDg    2017-07-26   \n",
       "33564             5.00             1  NP70UyuODLULhSC9CrDKnw    2017-07-26   \n",
       "38212             1.00             1  5rL5_6MeAUPhCkRbtTPZSQ    2017-07-26   \n",
       "49124             1.00             1  9hj8HvSoa0uxLY7Al6EoBA    2017-07-26   \n",
       "84804             3.88             8  ucTsDuaXmzplLM8LaD9EfQ    2017-07-26   \n",
       "102408            4.00            12  WqlMM_aK-YZIbZ8uqu7gTg    2017-07-26   \n",
       "135931            5.00             1  IhI0RF9_PEF9RyQhzElhCQ    2017-07-26   \n",
       "156109            5.00             1  0Qq7TvEe40l8H0MU6F9_PA    2017-07-26   \n",
       "179607            2.00             1  C2mKJ7tJFunXZHHcujbafA    2017-07-26   \n",
       "185438            5.00             1  JCTlqAKBDVrf9ySd6VeCRQ    2017-07-26   \n",
       "198141            5.00             1  q8tDxQW3hmxhwFdY_ydn_Q    2017-07-26   \n",
       "214514            3.33             3  1k0uJ5NLvREoJo3Qz15ouA    2017-07-26   \n",
       "216746            5.00             1  Aoo7KRDUSWdZCMqFZJTBew    2017-07-26   \n",
       "219215            5.00             1  pGMlDfstUyXADh0BHt6YyQ    2017-07-26   \n",
       "236279            5.00             1  fXgUtoKguzGUqEDdKyG5rg    2017-07-26   \n",
       "266115            1.00             1  x41uBPVa2jGpC7Jo4Xz4pw    2017-07-26   \n",
       "295020            5.00             1  FhK4Sq-kciFApRZI3EkVMQ    2017-07-26   \n",
       "303523            5.00             3  1T1zKMXN9SBoyezhcIZMjg    2017-07-26   \n",
       "308371            4.00             3  96ueMWf7Exsij7fI3Cxmhg    2017-07-26   \n",
       "310920            5.00             1  3MuktxyapUjSAj6ZGhNcJg    2017-07-26   \n",
       "317633            5.00             1  -jZeQl6u5cpwTNQXpLXkqg    2017-07-26   \n",
       "344102            5.00             1  c8iqzC6vcY69NyDxoOMTMQ    2017-07-26   \n",
       "383936            1.00             1  wPsC-ykuxSRXGtvMkQPHsg    2017-07-26   \n",
       "391050            3.67             3  cMFir5k4KTsTylQFgOAq6Q    2017-07-26   \n",
       "393884            5.00             1  JMGkmFHsufOvIEu3g6MGXA    2017-07-26   \n",
       "410961            5.00             3  uscRPgdyYR2uN7NnHEEMyQ    2017-07-26   \n",
       "419005            5.00             1  Aw5ZrZWe9xLvts9odG5N6w    2017-07-26   \n",
       "421664            1.00             1  f_m-q9L3SHZBda9R_35Meg    2017-07-26   \n",
       "425840            5.00             1  ExgcJuogc3tCJF7vIPq90Q    2017-07-26   \n",
       "430788            5.00             1  pPyNd5TFvc3M3XRqsDR4_w    2017-07-26   \n",
       "...                ...           ...                     ...           ...   \n",
       "1103088           1.00             1  rVKVkz_OLVDlD6KszhvvMA    2017-07-26   \n",
       "1104937           1.00             1  1AP2ZB8WcbFoW7jo0dy7AQ    2017-07-26   \n",
       "1104943           5.00             1  es21pOb2B6BuqCcpEw8KVg    2017-07-26   \n",
       "1106500           1.00             1  lgd6zk43gPK1UIXeaIv55g    2017-07-26   \n",
       "1115254           5.00             1  569hWIYc_Si05TZmNoB83g    2017-07-26   \n",
       "1127305           5.00             1  AsVOlAN9FtTZUFHR1XNYrw    2017-07-26   \n",
       "1128471           5.00             1  fd6JIac7Qw-djQzK3RdEhA    2017-07-26   \n",
       "1128645           1.00             1  WAHgeCkv8Gew0ducBI96wQ    2017-07-26   \n",
       "1128822           3.00             2  IawHNXWc1ciu7axnLCzpMg    2017-07-26   \n",
       "1129987           5.00             1  r85HVCE5lwUveXIwi3rxIg    2017-07-26   \n",
       "1130753           5.00             1  AsU1Ky4ifqf603NMaEOdpw    2017-07-26   \n",
       "1137875           1.00             1  4cbNL5Rz73rL6hUJQlBVUA    2017-07-26   \n",
       "1138344           5.00             1  oQJkWLQz6-vIx63ZLXxn1A    2017-07-26   \n",
       "1138525           5.00             1  5D_ytw4QMM4YmVh0aBmM2A    2017-07-26   \n",
       "1139109           5.00             1  78ivsqghc9-F8t5hmvZvZQ    2017-07-26   \n",
       "1140024           5.00             1  bBMuRWEa3UjOgD5fTshRjA    2017-07-26   \n",
       "1142620           5.00             1  I0nnD3l34OuInqKZNC_Rsw    2017-07-26   \n",
       "1143072           5.00             1  xogcA23GYpM8Ukhmoz7Tgg    2017-07-26   \n",
       "1149152           1.00             1  GZ32_5YLJxgcoyzxQEVTyA    2017-07-26   \n",
       "1156072           5.00             1  PXaFzh8MvjcelY1wTNeAmg    2017-07-26   \n",
       "1157947           5.00             1  mnqcL3y3cVRcFcNqwJ_eCg    2017-07-26   \n",
       "1159845           1.00             1  GI-6PMNsNgNS71GGZfCssQ    2017-07-26   \n",
       "1167270           5.00             1  C7EdUMSC2nsy51M7Ep7zDQ    2017-07-26   \n",
       "1168484           1.00             1  BNhcQaY5evS6fZ-6ppB4IQ    2017-07-26   \n",
       "1171635           5.00             1  9R_cuq3CBhnayBRgLjPUNA    2017-07-26   \n",
       "1172591           2.00             1  TViwuoPKysuih5Xvh0cKaA    2017-07-26   \n",
       "1173136           5.00             1  FcyL6q4aNI1h4m5qW46CgA    2017-07-26   \n",
       "1179675           2.00             1  ZTjQ0ZBzwvDce3rY3X2s9A    2017-07-26   \n",
       "1179849           5.00             1  EPuG9oUEmeVa_pn40EeDSw    2017-07-26   \n",
       "1181601           2.00             1  oFvFilGBYgyetsz4S5kZhw    2017-07-26   \n",
       "\n",
       "         activity  \n",
       "3107         2000  \n",
       "33564        1000  \n",
       "38212        1000  \n",
       "49124        1000  \n",
       "84804        8000  \n",
       "102408      12000  \n",
       "135931       1000  \n",
       "156109       1000  \n",
       "179607       1000  \n",
       "185438       1000  \n",
       "198141       1000  \n",
       "214514       3000  \n",
       "216746       1000  \n",
       "219215       1000  \n",
       "236279       1000  \n",
       "266115       1000  \n",
       "295020       1000  \n",
       "303523       3000  \n",
       "308371       3000  \n",
       "310920       1000  \n",
       "317633       1000  \n",
       "344102       1000  \n",
       "383936       1000  \n",
       "391050       3000  \n",
       "393884       1000  \n",
       "410961       3000  \n",
       "419005       1000  \n",
       "421664       1000  \n",
       "425840       1000  \n",
       "430788       1000  \n",
       "...           ...  \n",
       "1103088      1000  \n",
       "1104937      1000  \n",
       "1104943      1000  \n",
       "1106500      1000  \n",
       "1115254      1000  \n",
       "1127305      1000  \n",
       "1128471      1000  \n",
       "1128645      1000  \n",
       "1128822      2000  \n",
       "1129987      1000  \n",
       "1130753      1000  \n",
       "1137875      1000  \n",
       "1138344      1000  \n",
       "1138525      1000  \n",
       "1139109      1000  \n",
       "1140024      1000  \n",
       "1142620      1000  \n",
       "1143072      1000  \n",
       "1149152      1000  \n",
       "1156072      1000  \n",
       "1157947      1000  \n",
       "1159845      1000  \n",
       "1167270      1000  \n",
       "1168484      1000  \n",
       "1171635      1000  \n",
       "1172591      1000  \n",
       "1173136      1000  \n",
       "1179675      1000  \n",
       "1179849      1000  \n",
       "1181601      1000  \n",
       "\n",
       "[168 rows x 5 columns]"
      ]
     },
     "execution_count": 137,
     "metadata": {},
     "output_type": "execute_result"
    }
   ],
   "source": [
    "userDf.loc[userDf['yelping_since']=='2017-07-26']"
   ]
  },
  {
   "cell_type": "markdown",
   "metadata": {},
   "source": [
    "We are very curious about those outliers. \n",
    "\n",
    "#### Why did they write so many reviews once they sign up as a yelp user?"
   ]
  },
  {
   "cell_type": "code",
   "execution_count": 146,
   "metadata": {},
   "outputs": [
    {
     "name": "stderr",
     "output_type": "stream",
     "text": [
      "/Library/Frameworks/Python.framework/Versions/3.6/lib/python3.6/site-packages/IPython/core/interactiveshell.py:2728: DtypeWarning: Columns (0) have mixed types. Specify dtype option on import or set low_memory=False.\n",
      "  interactivity=interactivity, compiler=compiler, result=result)\n"
     ]
    }
   ],
   "source": [
    "#Load the data frame file\n",
    "reviewDf = pd.read_csv('reviewDfFile4.csv',index_col=0)"
   ]
  },
  {
   "cell_type": "code",
   "execution_count": 147,
   "metadata": {},
   "outputs": [
    {
     "data": {
      "text/html": [
       "<div>\n",
       "<style scoped>\n",
       "    .dataframe tbody tr th:only-of-type {\n",
       "        vertical-align: middle;\n",
       "    }\n",
       "\n",
       "    .dataframe tbody tr th {\n",
       "        vertical-align: top;\n",
       "    }\n",
       "\n",
       "    .dataframe thead th {\n",
       "        text-align: right;\n",
       "    }\n",
       "</style>\n",
       "<table border=\"1\" class=\"dataframe\">\n",
       "  <thead>\n",
       "    <tr style=\"text-align: right;\">\n",
       "      <th></th>\n",
       "      <th>business_id</th>\n",
       "      <th>date</th>\n",
       "      <th>review_id</th>\n",
       "      <th>stars</th>\n",
       "      <th>text</th>\n",
       "      <th>user_id</th>\n",
       "    </tr>\n",
       "  </thead>\n",
       "  <tbody>\n",
       "    <tr>\n",
       "      <th>676447</th>\n",
       "      <td>rBko32y5vK13SD_sW3AG_g</td>\n",
       "      <td>2017-07-25</td>\n",
       "      <td>M5a64uFULsiubm0y4DoW0g</td>\n",
       "      <td>4.0</td>\n",
       "      <td>One of the cutest cafes in Pittsburgh! The caf...</td>\n",
       "      <td>duDYbWuTmgxzAh5gK0f6Tw</td>\n",
       "    </tr>\n",
       "  </tbody>\n",
       "</table>\n",
       "</div>"
      ],
      "text/plain": [
       "                   business_id        date               review_id  stars  \\\n",
       "676447  rBko32y5vK13SD_sW3AG_g  2017-07-25  M5a64uFULsiubm0y4DoW0g    4.0   \n",
       "\n",
       "                                                     text  \\\n",
       "676447  One of the cutest cafes in Pittsburgh! The caf...   \n",
       "\n",
       "                       user_id  \n",
       "676447  duDYbWuTmgxzAh5gK0f6Tw  "
      ]
     },
     "execution_count": 147,
     "metadata": {},
     "output_type": "execute_result"
    }
   ],
   "source": [
    "reviewDf.loc[reviewDf['user_id']=='duDYbWuTmgxzAh5gK0f6Tw']"
   ]
  },
  {
   "cell_type": "code",
   "execution_count": 9,
   "metadata": {},
   "outputs": [
    {
     "name": "stderr",
     "output_type": "stream",
     "text": [
      "/Library/Frameworks/Python.framework/Versions/3.6/lib/python3.6/site-packages/IPython/core/interactiveshell.py:2728: DtypeWarning: Columns (0) have mixed types. Specify dtype option on import or set low_memory=False.\n",
      "  interactivity=interactivity, compiler=compiler, result=result)\n"
     ]
    }
   ],
   "source": [
    "reviewDf = pd.read_csv('reviewDfFile8.csv',index_col=0)"
   ]
  },
  {
   "cell_type": "code",
   "execution_count": 10,
   "metadata": {},
   "outputs": [
    {
     "data": {
      "text/html": [
       "<div>\n",
       "<style scoped>\n",
       "    .dataframe tbody tr th:only-of-type {\n",
       "        vertical-align: middle;\n",
       "    }\n",
       "\n",
       "    .dataframe tbody tr th {\n",
       "        vertical-align: top;\n",
       "    }\n",
       "\n",
       "    .dataframe thead th {\n",
       "        text-align: right;\n",
       "    }\n",
       "</style>\n",
       "<table border=\"1\" class=\"dataframe\">\n",
       "  <thead>\n",
       "    <tr style=\"text-align: right;\">\n",
       "      <th></th>\n",
       "      <th>business_id</th>\n",
       "      <th>date</th>\n",
       "      <th>review_id</th>\n",
       "      <th>stars</th>\n",
       "      <th>text</th>\n",
       "      <th>user_id</th>\n",
       "    </tr>\n",
       "  </thead>\n",
       "  <tbody>\n",
       "    <tr>\n",
       "      <th>467464</th>\n",
       "      <td>rBko32y5vK13SD_sW3AG_g</td>\n",
       "      <td>2017-07-25</td>\n",
       "      <td>M5a64uFULsiubm0y4DoW0g</td>\n",
       "      <td>4.0</td>\n",
       "      <td>One of the cutest cafes in Pittsburgh! The caf...</td>\n",
       "      <td>duDYbWuTmgxzAh5gK0f6Tw</td>\n",
       "    </tr>\n",
       "  </tbody>\n",
       "</table>\n",
       "</div>"
      ],
      "text/plain": [
       "                   business_id        date               review_id  stars  \\\n",
       "467464  rBko32y5vK13SD_sW3AG_g  2017-07-25  M5a64uFULsiubm0y4DoW0g    4.0   \n",
       "\n",
       "                                                     text  \\\n",
       "467464  One of the cutest cafes in Pittsburgh! The caf...   \n",
       "\n",
       "                       user_id  \n",
       "467464  duDYbWuTmgxzAh5gK0f6Tw  "
      ]
     },
     "execution_count": 10,
     "metadata": {},
     "output_type": "execute_result"
    }
   ],
   "source": [
    "reviewDf.loc[reviewDf['user_id']=='duDYbWuTmgxzAh5gK0f6Tw']"
   ]
  },
  {
   "cell_type": "markdown",
   "metadata": {},
   "source": [
    "### On which day does the most people sign up to become a yelp user?"
   ]
  },
  {
   "cell_type": "code",
   "execution_count": null,
   "metadata": {},
   "outputs": [],
   "source": []
  }
 ],
 "metadata": {
  "kernelspec": {
   "display_name": "Python 3",
   "language": "python",
   "name": "python3"
  },
  "language_info": {
   "codemirror_mode": {
    "name": "ipython",
    "version": 3
   },
   "file_extension": ".py",
   "mimetype": "text/x-python",
   "name": "python",
   "nbconvert_exporter": "python",
   "pygments_lexer": "ipython3",
   "version": "3.6.2"
  }
 },
 "nbformat": 4,
 "nbformat_minor": 2
}
