{
 "cells": [
  {
   "cell_type": "code",
   "execution_count": 2,
   "metadata": {},
   "outputs": [],
   "source": [
    "import json \n",
    "from pprint import pprint\n",
    "import pandas as pd\n",
    "import numpy as np"
   ]
  },
  {
   "cell_type": "code",
   "execution_count": 23,
   "metadata": {},
   "outputs": [],
   "source": [
    "def extractReviewInfo(filename):\n",
    "    data=[]\n",
    "    returnValues=[]\n",
    "    with open(filename) as file:\n",
    "        for line in file:\n",
    "            newDataLine={}\n",
    "            dataLine=json.loads(line)\n",
    "            for key in dataLine.keys():\n",
    "                if key=='review_id' or key=='user_id' or key=='business_id' or key=='stars' or key=='date' or key=='text':\n",
    "                    newDataLine[key]=dataLine[key]\n",
    "            data.append(newDataLine)\n",
    "        returnValues.append(data)\n",
    "        return returnValues"
   ]
  },
  {
   "cell_type": "code",
   "execution_count": 30,
   "metadata": {},
   "outputs": [],
   "source": [
    "def formReviewDf(fileseq):\n",
    "    totaldata=[]\n",
    "    fileaddress='../dataset/xa'\n",
    "    for filenumber in fileseq:\n",
    "        filename=fileaddress+filenumber\n",
    "        totaldata.append(extractReviewInfo(filename)[0])\n",
    "    reviewInfo=sum(totaldata,[])\n",
    "    return pd.DataFrame.from_dict(reviewInfo)"
   ]
  },
  {
   "cell_type": "code",
   "execution_count": null,
   "metadata": {},
   "outputs": [],
   "source": [
    "reviewDf1=formReviewDf('abcd')"
   ]
  },
  {
   "cell_type": "code",
   "execution_count": null,
   "metadata": {},
   "outputs": [],
   "source": [
    "reviewDf1.to_csv('reviewDfFile1.csv')"
   ]
  },
  {
   "cell_type": "code",
   "execution_count": 31,
   "metadata": {},
   "outputs": [],
   "source": [
    "reviewDf2=formReviewDf('efgh')"
   ]
  },
  {
   "cell_type": "code",
   "execution_count": 32,
   "metadata": {},
   "outputs": [],
   "source": [
    "reviewDf2.to_csv('reviewDfFile2.csv')"
   ]
  },
  {
   "cell_type": "code",
   "execution_count": 33,
   "metadata": {},
   "outputs": [],
   "source": [
    "reviewDf3=formReviewDf('ijkl')"
   ]
  },
  {
   "cell_type": "code",
   "execution_count": 34,
   "metadata": {},
   "outputs": [],
   "source": [
    "reviewDf3.to_csv('reviewDfFile3.csv')"
   ]
  },
  {
   "cell_type": "code",
   "execution_count": 35,
   "metadata": {},
   "outputs": [],
   "source": [
    "reviewDf4=formReviewDf('mnopq')"
   ]
  },
  {
   "cell_type": "code",
   "execution_count": 36,
   "metadata": {},
   "outputs": [],
   "source": [
    "reviewDf4.to_csv('reviewDfFile4.csv')"
   ]
  }
 ],
 "metadata": {
  "kernelspec": {
   "display_name": "Python 3",
   "language": "python",
   "name": "python3"
  },
  "language_info": {
   "codemirror_mode": {
    "name": "ipython",
    "version": 3
   },
   "file_extension": ".py",
   "mimetype": "text/x-python",
   "name": "python",
   "nbconvert_exporter": "python",
   "pygments_lexer": "ipython3",
   "version": "3.6.2"
  }
 },
 "nbformat": 4,
 "nbformat_minor": 2
}
