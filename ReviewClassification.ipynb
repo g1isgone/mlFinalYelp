{
 "cells": [
  {
   "cell_type": "code",
   "execution_count": 1,
   "metadata": {},
   "outputs": [],
   "source": [
    "import pandas as pd\n",
    "import numpy as np"
   ]
  },
  {
   "cell_type": "markdown",
   "metadata": {},
   "source": [
    "# Part I: Train classifiers"
   ]
  },
  {
   "cell_type": "code",
   "execution_count": 2,
   "metadata": {},
   "outputs": [],
   "source": [
    "trainDf=pd.read_pickle('train.pkl')"
   ]
  },
  {
   "cell_type": "code",
   "execution_count": 4,
   "metadata": {},
   "outputs": [
    {
     "data": {
      "text/html": [
       "<div>\n",
       "<style scoped>\n",
       "    .dataframe tbody tr th:only-of-type {\n",
       "        vertical-align: middle;\n",
       "    }\n",
       "\n",
       "    .dataframe tbody tr th {\n",
       "        vertical-align: top;\n",
       "    }\n",
       "\n",
       "    .dataframe thead th {\n",
       "        text-align: right;\n",
       "    }\n",
       "</style>\n",
       "<table border=\"1\" class=\"dataframe\">\n",
       "  <thead>\n",
       "    <tr style=\"text-align: right;\">\n",
       "      <th></th>\n",
       "      <th>business_id</th>\n",
       "      <th>date</th>\n",
       "      <th>review_id</th>\n",
       "      <th>stars</th>\n",
       "      <th>text</th>\n",
       "      <th>user_id</th>\n",
       "      <th>active</th>\n",
       "    </tr>\n",
       "  </thead>\n",
       "  <tbody>\n",
       "    <tr>\n",
       "      <th>467878</th>\n",
       "      <td>IZI9BdElfGB-WcHpd7Wg7Q</td>\n",
       "      <td>2014-02-20</td>\n",
       "      <td>CPj_ZWalJpnebGrFxV8ujg</td>\n",
       "      <td>5</td>\n",
       "      <td>Came here for a late lunch after being slightl...</td>\n",
       "      <td>PTcKYk_qU-WzbQjraE3TgQ</td>\n",
       "      <td>1</td>\n",
       "    </tr>\n",
       "    <tr>\n",
       "      <th>450196</th>\n",
       "      <td>Ja4stXdNYr39u5CZHMNtjw</td>\n",
       "      <td>2012-05-14</td>\n",
       "      <td>S1EKSngF9LVvFQ08Pye59Q</td>\n",
       "      <td>4</td>\n",
       "      <td>What a cute little place in Old Town!  We went...</td>\n",
       "      <td>l5x4wzz9VOcQ22XMthU6uw</td>\n",
       "      <td>1</td>\n",
       "    </tr>\n",
       "    <tr>\n",
       "      <th>1295251</th>\n",
       "      <td>bjllusUsLq9zE4yZnLpOzg</td>\n",
       "      <td>2015-09-19</td>\n",
       "      <td>9ndOEDaRsYjETx0kl83h7w</td>\n",
       "      <td>3</td>\n",
       "      <td>Food was better than average. We got three dif...</td>\n",
       "      <td>76crp1vXF1A3LOoNP6zcUQ</td>\n",
       "      <td>1</td>\n",
       "    </tr>\n",
       "    <tr>\n",
       "      <th>379392</th>\n",
       "      <td>QdbwZGnBWdkdN2XAG7rwLA</td>\n",
       "      <td>2014-08-15</td>\n",
       "      <td>raKjAf09z4FtAqmqfb5lUw</td>\n",
       "      <td>5</td>\n",
       "      <td>Korean Style Fried Chicken has become the only...</td>\n",
       "      <td>4KbUaerUBoiUwZGMHKVFxQ</td>\n",
       "      <td>1</td>\n",
       "    </tr>\n",
       "    <tr>\n",
       "      <th>564809</th>\n",
       "      <td>WKOUTdVJS58E178JjhwidQ</td>\n",
       "      <td>2016-01-10</td>\n",
       "      <td>DQGL9V4vhF7wNBdVRcZ1VQ</td>\n",
       "      <td>4</td>\n",
       "      <td>Cute little cafe, the crepe was so good. I tri...</td>\n",
       "      <td>XrYTMhY9YJvzX2pMepIz7A</td>\n",
       "      <td>1</td>\n",
       "    </tr>\n",
       "  </tbody>\n",
       "</table>\n",
       "</div>"
      ],
      "text/plain": [
       "                    business_id        date               review_id  stars  \\\n",
       "467878   IZI9BdElfGB-WcHpd7Wg7Q  2014-02-20  CPj_ZWalJpnebGrFxV8ujg      5   \n",
       "450196   Ja4stXdNYr39u5CZHMNtjw  2012-05-14  S1EKSngF9LVvFQ08Pye59Q      4   \n",
       "1295251  bjllusUsLq9zE4yZnLpOzg  2015-09-19  9ndOEDaRsYjETx0kl83h7w      3   \n",
       "379392   QdbwZGnBWdkdN2XAG7rwLA  2014-08-15  raKjAf09z4FtAqmqfb5lUw      5   \n",
       "564809   WKOUTdVJS58E178JjhwidQ  2016-01-10  DQGL9V4vhF7wNBdVRcZ1VQ      4   \n",
       "\n",
       "                                                      text  \\\n",
       "467878   Came here for a late lunch after being slightl...   \n",
       "450196   What a cute little place in Old Town!  We went...   \n",
       "1295251  Food was better than average. We got three dif...   \n",
       "379392   Korean Style Fried Chicken has become the only...   \n",
       "564809   Cute little cafe, the crepe was so good. I tri...   \n",
       "\n",
       "                        user_id  active  \n",
       "467878   PTcKYk_qU-WzbQjraE3TgQ       1  \n",
       "450196   l5x4wzz9VOcQ22XMthU6uw       1  \n",
       "1295251  76crp1vXF1A3LOoNP6zcUQ       1  \n",
       "379392   4KbUaerUBoiUwZGMHKVFxQ       1  \n",
       "564809   XrYTMhY9YJvzX2pMepIz7A       1  "
      ]
     },
     "execution_count": 4,
     "metadata": {},
     "output_type": "execute_result"
    }
   ],
   "source": [
    "trainDf.head()"
   ]
  },
  {
   "cell_type": "code",
   "execution_count": 6,
   "metadata": {},
   "outputs": [],
   "source": [
    "X_train=trainDf['text'].values"
   ]
  },
  {
   "cell_type": "code",
   "execution_count": 10,
   "metadata": {},
   "outputs": [],
   "source": [
    "Y_train=trainDf['active'].values"
   ]
  },
  {
   "cell_type": "markdown",
   "metadata": {},
   "source": [
    "### Tokenize traning texts"
   ]
  },
  {
   "cell_type": "code",
   "execution_count": 8,
   "metadata": {},
   "outputs": [
    {
     "data": {
      "text/plain": [
       "(339700, 180431)"
      ]
     },
     "execution_count": 8,
     "metadata": {},
     "output_type": "execute_result"
    }
   ],
   "source": [
    "from sklearn.feature_extraction.text import CountVectorizer\n",
    "count_vect = CountVectorizer()\n",
    "X_train_counts = count_vect.fit_transform(X_train)\n",
    "X_train_counts.shape"
   ]
  },
  {
   "cell_type": "code",
   "execution_count": 43,
   "metadata": {},
   "outputs": [
    {
     "data": {
      "text/plain": [
       "scipy.sparse.csr.csr_matrix"
      ]
     },
     "execution_count": 43,
     "metadata": {},
     "output_type": "execute_result"
    }
   ],
   "source": [
    "type(X_train_counts)"
   ]
  },
  {
   "cell_type": "markdown",
   "metadata": {},
   "source": [
    "### Count word frequency using tf-idf\n",
    "*Occurrence count is a good start but there is an issue: longer documents will have higher average count values than shorter documents, even though they might talk about the same topics.\n",
    "To avoid these potential discrepancies it suffices to divide the number of occurrences of each word in a document by the total number of words in the document: these new features are called tf for Term Frequencies.\n",
    "Another refinement on top of tf is to downscale weights for words that occur in many documents in the corpus and are therefore less informative than those that occur only in a smaller portion of the corpus.\n",
    "This downscaling is called tf–idf for “Term Frequency times Inverse Document Frequency”.*\n",
    "————http://scikit-learn.org/stable/tutorial/text_analytics/working_with_text_data.html"
   ]
  },
  {
   "cell_type": "code",
   "execution_count": 9,
   "metadata": {},
   "outputs": [
    {
     "data": {
      "text/plain": [
       "(339700, 180431)"
      ]
     },
     "execution_count": 9,
     "metadata": {},
     "output_type": "execute_result"
    }
   ],
   "source": [
    "from sklearn.feature_extraction.text import TfidfTransformer\n",
    "tfidf_transformer = TfidfTransformer()\n",
    "X_train_tfidf = tfidf_transformer.fit_transform(X_train_counts)\n",
    "X_train_tfidf.shape"
   ]
  },
  {
   "cell_type": "markdown",
   "metadata": {},
   "source": [
    "### Train a naive Bayes classifier"
   ]
  },
  {
   "cell_type": "code",
   "execution_count": 11,
   "metadata": {},
   "outputs": [],
   "source": [
    "from sklearn.naive_bayes import MultinomialNB\n",
    "clf = MultinomialNB().fit(X_train_tfidf, Y_train)"
   ]
  },
  {
   "cell_type": "markdown",
   "metadata": {},
   "source": [
    "#### Evaluate the performance on the test set"
   ]
  },
  {
   "cell_type": "code",
   "execution_count": 13,
   "metadata": {},
   "outputs": [],
   "source": [
    "testDf=pd.read_pickle('test.pkl')"
   ]
  },
  {
   "cell_type": "code",
   "execution_count": 14,
   "metadata": {},
   "outputs": [
    {
     "data": {
      "text/html": [
       "<div>\n",
       "<style scoped>\n",
       "    .dataframe tbody tr th:only-of-type {\n",
       "        vertical-align: middle;\n",
       "    }\n",
       "\n",
       "    .dataframe tbody tr th {\n",
       "        vertical-align: top;\n",
       "    }\n",
       "\n",
       "    .dataframe thead th {\n",
       "        text-align: right;\n",
       "    }\n",
       "</style>\n",
       "<table border=\"1\" class=\"dataframe\">\n",
       "  <thead>\n",
       "    <tr style=\"text-align: right;\">\n",
       "      <th></th>\n",
       "      <th>business_id</th>\n",
       "      <th>date</th>\n",
       "      <th>review_id</th>\n",
       "      <th>stars</th>\n",
       "      <th>text</th>\n",
       "      <th>user_id</th>\n",
       "      <th>active</th>\n",
       "    </tr>\n",
       "  </thead>\n",
       "  <tbody>\n",
       "    <tr>\n",
       "      <th>840771</th>\n",
       "      <td>LbyCngxEveE7G6w2mqeueg</td>\n",
       "      <td>2015-10-12</td>\n",
       "      <td>PhBoxX0S_htKMGweVmA7iA</td>\n",
       "      <td>4</td>\n",
       "      <td>Delicious old school pizza, only deliver in a ...</td>\n",
       "      <td>UGlJYHK0I7TM6yLB3Rkp2w</td>\n",
       "      <td>1</td>\n",
       "    </tr>\n",
       "    <tr>\n",
       "      <th>524329</th>\n",
       "      <td>5N8R7ALESZ30EoAzVJtabw</td>\n",
       "      <td>2015-11-26</td>\n",
       "      <td>2ZLg2o_yh3pvXnQhdnBCFg</td>\n",
       "      <td>4</td>\n",
       "      <td>Probably like a lot of you that reviewed your ...</td>\n",
       "      <td>HgCv2lm-GuACRanD7bSqyA</td>\n",
       "      <td>1</td>\n",
       "    </tr>\n",
       "    <tr>\n",
       "      <th>1022586</th>\n",
       "      <td>hPO2di89hgfsD9inbKl7BQ</td>\n",
       "      <td>2014-12-03</td>\n",
       "      <td>z48GmttobtQ28hmKChpSRQ</td>\n",
       "      <td>4</td>\n",
       "      <td>This Ulta has greatly improved! The customer s...</td>\n",
       "      <td>HV5HZf7DOQHiwCtNdor2Zg</td>\n",
       "      <td>1</td>\n",
       "    </tr>\n",
       "    <tr>\n",
       "      <th>795885</th>\n",
       "      <td>5B-V6vr6TbtMjrRaBAtHqQ</td>\n",
       "      <td>2012-09-27</td>\n",
       "      <td>Y8jWjRX69baonQSXKLtPHg</td>\n",
       "      <td>2</td>\n",
       "      <td>Not my favorite place to go, but I've only bee...</td>\n",
       "      <td>CPodThzsqATG_Bc8a4an_w</td>\n",
       "      <td>1</td>\n",
       "    </tr>\n",
       "    <tr>\n",
       "      <th>769454</th>\n",
       "      <td>u-SJ5QUwrNquL9VnXwl8cg</td>\n",
       "      <td>2013-08-08</td>\n",
       "      <td>UnZirwkho6bJkffEhSWlug</td>\n",
       "      <td>1</td>\n",
       "      <td>I try to like you Postinos, I really do but yo...</td>\n",
       "      <td>k6vOe0_qglL2PZlBldoKeQ</td>\n",
       "      <td>1</td>\n",
       "    </tr>\n",
       "  </tbody>\n",
       "</table>\n",
       "</div>"
      ],
      "text/plain": [
       "                    business_id        date               review_id  stars  \\\n",
       "840771   LbyCngxEveE7G6w2mqeueg  2015-10-12  PhBoxX0S_htKMGweVmA7iA      4   \n",
       "524329   5N8R7ALESZ30EoAzVJtabw  2015-11-26  2ZLg2o_yh3pvXnQhdnBCFg      4   \n",
       "1022586  hPO2di89hgfsD9inbKl7BQ  2014-12-03  z48GmttobtQ28hmKChpSRQ      4   \n",
       "795885   5B-V6vr6TbtMjrRaBAtHqQ  2012-09-27  Y8jWjRX69baonQSXKLtPHg      2   \n",
       "769454   u-SJ5QUwrNquL9VnXwl8cg  2013-08-08  UnZirwkho6bJkffEhSWlug      1   \n",
       "\n",
       "                                                      text  \\\n",
       "840771   Delicious old school pizza, only deliver in a ...   \n",
       "524329   Probably like a lot of you that reviewed your ...   \n",
       "1022586  This Ulta has greatly improved! The customer s...   \n",
       "795885   Not my favorite place to go, but I've only bee...   \n",
       "769454   I try to like you Postinos, I really do but yo...   \n",
       "\n",
       "                        user_id  active  \n",
       "840771   UGlJYHK0I7TM6yLB3Rkp2w       1  \n",
       "524329   HgCv2lm-GuACRanD7bSqyA       1  \n",
       "1022586  HV5HZf7DOQHiwCtNdor2Zg       1  \n",
       "795885   CPodThzsqATG_Bc8a4an_w       1  \n",
       "769454   k6vOe0_qglL2PZlBldoKeQ       1  "
      ]
     },
     "execution_count": 14,
     "metadata": {},
     "output_type": "execute_result"
    }
   ],
   "source": [
    "testDf.head()"
   ]
  },
  {
   "cell_type": "code",
   "execution_count": 16,
   "metadata": {},
   "outputs": [],
   "source": [
    "X_test=testDf['text'].values"
   ]
  },
  {
   "cell_type": "code",
   "execution_count": 17,
   "metadata": {},
   "outputs": [],
   "source": [
    "Y_test=testDf['active'].values"
   ]
  },
  {
   "cell_type": "code",
   "execution_count": 18,
   "metadata": {},
   "outputs": [],
   "source": [
    "X_test_counts = count_vect.transform(X_test)\n",
    "X_test_tfidf = tfidf_transformer.transform(X_test_counts)"
   ]
  },
  {
   "cell_type": "code",
   "execution_count": 19,
   "metadata": {},
   "outputs": [],
   "source": [
    "predicted = clf.predict(X_test_tfidf)"
   ]
  },
  {
   "cell_type": "code",
   "execution_count": 20,
   "metadata": {},
   "outputs": [
    {
     "data": {
      "text/plain": [
       "0.77375597579068833"
      ]
     },
     "execution_count": 20,
     "metadata": {},
     "output_type": "execute_result"
    }
   ],
   "source": [
    "np.mean(predicted == Y_test)"
   ]
  },
  {
   "cell_type": "markdown",
   "metadata": {},
   "source": [
    "We achieved 77.4% accuracy.\n",
    "\n",
    "### Train a linear support vector machine (SVM) model"
   ]
  },
  {
   "cell_type": "code",
   "execution_count": 24,
   "metadata": {},
   "outputs": [],
   "source": [
    "from sklearn.linear_model import SGDClassifier\n",
    "svm_clf = SGDClassifier(loss='hinge', penalty='l2',alpha=1e-3, random_state=42,max_iter=5, tol=None).fit(X_train_tfidf, Y_train)"
   ]
  },
  {
   "cell_type": "code",
   "execution_count": 49,
   "metadata": {},
   "outputs": [
    {
     "data": {
      "text/plain": [
       "array([[-0.10710299, -0.03974785, -0.00047589, ...,  0.        ,\n",
       "        -0.00014326,  0.        ]])"
      ]
     },
     "execution_count": 49,
     "metadata": {},
     "output_type": "execute_result"
    }
   ],
   "source": [
    "svm_clf.coef_"
   ]
  },
  {
   "cell_type": "markdown",
   "metadata": {},
   "source": [
    "#### Evaluate the performance on the test set"
   ]
  },
  {
   "cell_type": "code",
   "execution_count": 25,
   "metadata": {},
   "outputs": [],
   "source": [
    "svm_predicted = svm_clf.predict(X_test_tfidf)"
   ]
  },
  {
   "cell_type": "code",
   "execution_count": 26,
   "metadata": {},
   "outputs": [
    {
     "data": {
      "text/plain": [
       "0.79949603183948381"
      ]
     },
     "execution_count": 26,
     "metadata": {},
     "output_type": "execute_result"
    }
   ],
   "source": [
    "np.mean(svm_predicted == Y_test)"
   ]
  },
  {
   "cell_type": "code",
   "execution_count": 31,
   "metadata": {},
   "outputs": [
    {
     "name": "stdout",
     "output_type": "stream",
     "text": [
      "             precision    recall  f1-score   support\n",
      "\n",
      "   inactive       0.79      0.82      0.80     42811\n",
      "     active       0.81      0.78      0.79     42115\n",
      "\n",
      "avg / total       0.80      0.80      0.80     84926\n",
      "\n"
     ]
    }
   ],
   "source": [
    "from sklearn import metrics\n",
    "print(metrics.classification_report(Y_test, svm_predicted,target_names=['inactive','active']))"
   ]
  },
  {
   "cell_type": "markdown",
   "metadata": {},
   "source": [
    "### Parameter tuning using grid search"
   ]
  },
  {
   "cell_type": "code",
   "execution_count": 40,
   "metadata": {},
   "outputs": [],
   "source": [
    "from sklearn.model_selection import GridSearchCV\n",
    "parameters = {'alpha': (1e-2, 1e-3)}\n",
    "gs_clf = GridSearchCV(svm_clf, parameters)"
   ]
  },
  {
   "cell_type": "code",
   "execution_count": 44,
   "metadata": {},
   "outputs": [
    {
     "data": {
      "text/plain": [
       "GridSearchCV(cv=None, error_score='raise',\n",
       "       estimator=SGDClassifier(alpha=0.001, average=False, class_weight=None, epsilon=0.1,\n",
       "       eta0=0.0, fit_intercept=True, l1_ratio=0.15,\n",
       "       learning_rate='optimal', loss='hinge', max_iter=5, n_iter=None,\n",
       "       n_jobs=1, penalty='l2', power_t=0.5, random_state=42, shuffle=True,\n",
       "       tol=None, verbose=0, warm_start=False),\n",
       "       fit_params=None, iid=True, n_jobs=1,\n",
       "       param_grid={'alpha': (0.01, 0.001)}, pre_dispatch='2*n_jobs',\n",
       "       refit=True, return_train_score='warn', scoring=None, verbose=0)"
      ]
     },
     "execution_count": 44,
     "metadata": {},
     "output_type": "execute_result"
    }
   ],
   "source": [
    "gs_clf.fit(X_train_counts, Y_train)"
   ]
  },
  {
   "cell_type": "code",
   "execution_count": 45,
   "metadata": {},
   "outputs": [
    {
     "data": {
      "text/plain": [
       "{'alpha': 0.01}"
      ]
     },
     "execution_count": 45,
     "metadata": {},
     "output_type": "execute_result"
    }
   ],
   "source": [
    "gs_clf.best_params_"
   ]
  },
  {
   "cell_type": "code",
   "execution_count": 46,
   "metadata": {},
   "outputs": [
    {
     "data": {
      "text/plain": [
       "0.826264350897851"
      ]
     },
     "execution_count": 46,
     "metadata": {},
     "output_type": "execute_result"
    }
   ],
   "source": [
    "gs_clf.best_score_"
   ]
  },
  {
   "cell_type": "code",
   "execution_count": 50,
   "metadata": {},
   "outputs": [],
   "source": [
    "svm_clf_tuned = SGDClassifier(loss='hinge', penalty='l2',alpha=0.01, random_state=42,max_iter=5, tol=None).fit(X_train_tfidf, Y_train)"
   ]
  },
  {
   "cell_type": "code",
   "execution_count": 53,
   "metadata": {},
   "outputs": [],
   "source": [
    "svm_predicted_tuned = svm_clf_tuned.predict(X_test_tfidf)"
   ]
  },
  {
   "cell_type": "code",
   "execution_count": 54,
   "metadata": {},
   "outputs": [
    {
     "data": {
      "text/plain": [
       "0.73732425876645546"
      ]
     },
     "execution_count": 54,
     "metadata": {},
     "output_type": "execute_result"
    }
   ],
   "source": [
    "np.mean(svm_predicted_tuned == Y_test)"
   ]
  },
  {
   "cell_type": "code",
   "execution_count": null,
   "metadata": {},
   "outputs": [],
   "source": []
  }
 ],
 "metadata": {
  "kernelspec": {
   "display_name": "Python 3",
   "language": "python",
   "name": "python3"
  },
  "language_info": {
   "codemirror_mode": {
    "name": "ipython",
    "version": 3
   },
   "file_extension": ".py",
   "mimetype": "text/x-python",
   "name": "python",
   "nbconvert_exporter": "python",
   "pygments_lexer": "ipython3",
   "version": "3.6.2"
  }
 },
 "nbformat": 4,
 "nbformat_minor": 2
}
