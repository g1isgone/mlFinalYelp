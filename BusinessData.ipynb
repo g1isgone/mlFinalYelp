{
 "cells": [
  {
   "cell_type": "markdown",
   "metadata": {},
   "source": [
    "# Importing Any Necessary Packages "
   ]
  },
  {
   "cell_type": "code",
   "execution_count": 1,
   "metadata": {},
   "outputs": [],
   "source": [
    "import json \n",
    "from pprint import pprint\n",
    "\n",
    "import pandas as pd\n",
    "import matplotlib.pyplot as plt\n",
    "import graphviz\n",
    "\n",
    "import numpy as np\n",
    "from pandas.io.json import json_normalize\n",
    "\n",
    "import math"
   ]
  },
  {
   "cell_type": "code",
   "execution_count": 2,
   "metadata": {},
   "outputs": [],
   "source": [
    "pd.set_option('display.max_columns', None)"
   ]
  },
  {
   "cell_type": "markdown",
   "metadata": {},
   "source": [
    "# Extraction of Data "
   ]
  },
  {
   "cell_type": "code",
   "execution_count": 3,
   "metadata": {},
   "outputs": [],
   "source": [
    "def extractDataInfo(filename):\n",
    "    data = []\n",
    "    attributes = []\n",
    "    returnValues = []\n",
    "    with open(filename) as f:\n",
    "        for line in f:\n",
    "            dataLine = json.loads(line)\n",
    "            data.append(dataLine)\n",
    "            for key in dataLine.keys():\n",
    "                attributes.append(key)\n",
    "        uniqueAttributes = set(attributes)\n",
    "        returnValues.append(data)\n",
    "        returnValues.append(uniqueAttributes)\n",
    "        return returnValues"
   ]
  },
  {
   "cell_type": "code",
   "execution_count": 4,
   "metadata": {},
   "outputs": [],
   "source": [
    "businessInfo = extractDataInfo('../dataset/business.json') #businessInfo is a list"
   ]
  },
  {
   "cell_type": "code",
   "execution_count": 5,
   "metadata": {},
   "outputs": [],
   "source": [
    "businessDf = pd.DataFrame.from_dict(businessInfo[0])"
   ]
  },
  {
   "cell_type": "code",
   "execution_count": 6,
   "metadata": {},
   "outputs": [],
   "source": [
    "originalDf = pd.DataFrame.from_dict(businessInfo[0]) #the original dataset "
   ]
  },
  {
   "cell_type": "markdown",
   "metadata": {},
   "source": [
    "# Basic Summary of Raw Business Data"
   ]
  },
  {
   "cell_type": "code",
   "execution_count": 7,
   "metadata": {},
   "outputs": [
    {
     "name": "stdout",
     "output_type": "stream",
     "text": [
      "{'business_id': 'YDf95gJZaq05wvo7hTQbbQ', 'name': 'Richmond Town Square', 'neighborhood': '', 'address': '691 Richmond Rd', 'city': 'Richmond Heights', 'state': 'OH', 'postal_code': '44143', 'latitude': 41.5417162, 'longitude': -81.4931165, 'stars': 2.0, 'review_count': 17, 'is_open': 1, 'attributes': {'RestaurantsPriceRange2': 2, 'BusinessParking': {'garage': False, 'street': False, 'validated': False, 'lot': True, 'valet': False}, 'BikeParking': True, 'WheelchairAccessible': True}, 'categories': ['Shopping', 'Shopping Centers'], 'hours': {'Monday': '10:00-21:00', 'Tuesday': '10:00-21:00', 'Friday': '10:00-21:00', 'Wednesday': '10:00-21:00', 'Thursday': '10:00-21:00', 'Sunday': '11:00-18:00', 'Saturday': '10:00-21:00'}}\n"
     ]
    }
   ],
   "source": [
    "print(businessInfo[0][0])"
   ]
  },
  {
   "cell_type": "code",
   "execution_count": 8,
   "metadata": {},
   "outputs": [
    {
     "data": {
      "text/plain": [
       "(156639, 15)"
      ]
     },
     "execution_count": 8,
     "metadata": {},
     "output_type": "execute_result"
    }
   ],
   "source": [
    "businessDf.shape"
   ]
  },
  {
   "cell_type": "code",
   "execution_count": 9,
   "metadata": {},
   "outputs": [
    {
     "data": {
      "text/plain": [
       "address          object\n",
       "attributes       object\n",
       "business_id      object\n",
       "categories       object\n",
       "city             object\n",
       "hours            object\n",
       "is_open           int64\n",
       "latitude        float64\n",
       "longitude       float64\n",
       "name             object\n",
       "neighborhood     object\n",
       "postal_code      object\n",
       "review_count      int64\n",
       "stars           float64\n",
       "state            object\n",
       "dtype: object"
      ]
     },
     "execution_count": 9,
     "metadata": {},
     "output_type": "execute_result"
    }
   ],
   "source": [
    "businessDf.dtypes"
   ]
  },
  {
   "cell_type": "markdown",
   "metadata": {},
   "source": [
    "A brief description of what the variable contains (i.e. \"The Tuition column contains information on the annual cost of tuition in $USD\"): \n",
    "* \"business_id\":string, 22 character unique string business id\n",
    "* \"name\":string, the business's name\n",
    "* \"neighborhood\": string, the neighborhood's name\n",
    "* \"address\": string, the full address of the business\n",
    "* \"city\": string, the city\n",
    "* \"State\": string, 2 character state code, if applicable\n",
    "* \"postal code\": string, the postal code\n",
    "* \"latitude\": float, latitude\n",
    "* \"longitude\": float, longitude\n",
    "* \"stars\": float, star rating, rounded to half-stars\n",
    "* \"review_count\": interger, number of reviews\n",
    "* \"is_open\": integer, 0 or 1 for closed or open, respectively\n",
    "* \"attributes\": object, business attributes to values. note: some attribute values might be objects\n",
    "* \"categories\": an array of strings of business categories\n",
    "* \"hours\":an object of key day to value hours, hours are using a 24hr clock\n",
    "* More description at https://www.yelp.com/dataset/documentation/json"
   ]
  },
  {
   "cell_type": "code",
   "execution_count": 10,
   "metadata": {},
   "outputs": [
    {
     "data": {
      "text/html": [
       "<div>\n",
       "<style>\n",
       "    .dataframe thead tr:only-child th {\n",
       "        text-align: right;\n",
       "    }\n",
       "\n",
       "    .dataframe thead th {\n",
       "        text-align: left;\n",
       "    }\n",
       "\n",
       "    .dataframe tbody tr th {\n",
       "        vertical-align: top;\n",
       "    }\n",
       "</style>\n",
       "<table border=\"1\" class=\"dataframe\">\n",
       "  <thead>\n",
       "    <tr style=\"text-align: right;\">\n",
       "      <th></th>\n",
       "      <th>is_open</th>\n",
       "      <th>latitude</th>\n",
       "      <th>longitude</th>\n",
       "      <th>review_count</th>\n",
       "      <th>stars</th>\n",
       "    </tr>\n",
       "  </thead>\n",
       "  <tbody>\n",
       "    <tr>\n",
       "      <th>count</th>\n",
       "      <td>156639.000000</td>\n",
       "      <td>156638.000000</td>\n",
       "      <td>156638.000000</td>\n",
       "      <td>156639.000000</td>\n",
       "      <td>156639.000000</td>\n",
       "    </tr>\n",
       "    <tr>\n",
       "      <th>mean</th>\n",
       "      <td>0.844375</td>\n",
       "      <td>38.585033</td>\n",
       "      <td>-92.856485</td>\n",
       "      <td>30.238159</td>\n",
       "      <td>3.647154</td>\n",
       "    </tr>\n",
       "    <tr>\n",
       "      <th>std</th>\n",
       "      <td>0.362501</td>\n",
       "      <td>5.399871</td>\n",
       "      <td>26.557741</td>\n",
       "      <td>96.486631</td>\n",
       "      <td>0.977640</td>\n",
       "    </tr>\n",
       "    <tr>\n",
       "      <th>min</th>\n",
       "      <td>0.000000</td>\n",
       "      <td>-36.086009</td>\n",
       "      <td>-142.466650</td>\n",
       "      <td>3.000000</td>\n",
       "      <td>1.000000</td>\n",
       "    </tr>\n",
       "    <tr>\n",
       "      <th>25%</th>\n",
       "      <td>1.000000</td>\n",
       "      <td>33.627161</td>\n",
       "      <td>-112.138207</td>\n",
       "      <td>4.000000</td>\n",
       "      <td>3.000000</td>\n",
       "    </tr>\n",
       "    <tr>\n",
       "      <th>50%</th>\n",
       "      <td>1.000000</td>\n",
       "      <td>36.142381</td>\n",
       "      <td>-89.523198</td>\n",
       "      <td>9.000000</td>\n",
       "      <td>3.500000</td>\n",
       "    </tr>\n",
       "    <tr>\n",
       "      <th>75%</th>\n",
       "      <td>1.000000</td>\n",
       "      <td>43.596845</td>\n",
       "      <td>-79.668760</td>\n",
       "      <td>23.000000</td>\n",
       "      <td>4.500000</td>\n",
       "    </tr>\n",
       "    <tr>\n",
       "      <th>max</th>\n",
       "      <td>1.000000</td>\n",
       "      <td>89.999314</td>\n",
       "      <td>115.086769</td>\n",
       "      <td>6979.000000</td>\n",
       "      <td>5.000000</td>\n",
       "    </tr>\n",
       "  </tbody>\n",
       "</table>\n",
       "</div>"
      ],
      "text/plain": [
       "             is_open       latitude      longitude   review_count  \\\n",
       "count  156639.000000  156638.000000  156638.000000  156639.000000   \n",
       "mean        0.844375      38.585033     -92.856485      30.238159   \n",
       "std         0.362501       5.399871      26.557741      96.486631   \n",
       "min         0.000000     -36.086009    -142.466650       3.000000   \n",
       "25%         1.000000      33.627161    -112.138207       4.000000   \n",
       "50%         1.000000      36.142381     -89.523198       9.000000   \n",
       "75%         1.000000      43.596845     -79.668760      23.000000   \n",
       "max         1.000000      89.999314     115.086769    6979.000000   \n",
       "\n",
       "               stars  \n",
       "count  156639.000000  \n",
       "mean        3.647154  \n",
       "std         0.977640  \n",
       "min         1.000000  \n",
       "25%         3.000000  \n",
       "50%         3.500000  \n",
       "75%         4.500000  \n",
       "max         5.000000  "
      ]
     },
     "execution_count": 10,
     "metadata": {},
     "output_type": "execute_result"
    }
   ],
   "source": [
    "businessDf.describe()"
   ]
  },
  {
   "cell_type": "markdown",
   "metadata": {},
   "source": [
    "# Expanding DataFrame: Unnesting \n",
    "A lot of our data is nested within each dataframe, particularly, the 'attributes', 'hours', and 'categories' columns"
   ]
  },
  {
   "cell_type": "markdown",
   "metadata": {},
   "source": [
    "## Part I: Unnesting JSON \n",
    "   We decided to unnest the jsons of the attributes and hours info because those could be significant factors  "
   ]
  },
  {
   "cell_type": "code",
   "execution_count": 11,
   "metadata": {},
   "outputs": [],
   "source": [
    "def unnestJson(dataframe):\n",
    "    data = list(dataframe)\n",
    "    return json_normalize(data)"
   ]
  },
  {
   "cell_type": "code",
   "execution_count": 32,
   "metadata": {},
   "outputs": [],
   "source": [
    "openHoursDf = unnestJson(businessDf['hours']) #The dataframe with unnested open hours info \n",
    "attributesDf = unnestJson(businessDf['attributes']) #The dataframe with unnested attributes info "
   ]
  },
  {
   "cell_type": "code",
   "execution_count": 19,
   "metadata": {},
   "outputs": [],
   "source": [
    "#merge two dataframes sidebyside by columns \n",
    "businessDf = pd.concat([businessDf, openHoursDf, attributesDf], axis=1) "
   ]
  },
  {
   "cell_type": "code",
   "execution_count": 44,
   "metadata": {},
   "outputs": [
    {
     "data": {
      "text/plain": [
       "156639"
      ]
     },
     "execution_count": 44,
     "metadata": {},
     "output_type": "execute_result"
    }
   ],
   "source": [
    "len(businessDf)"
   ]
  },
  {
   "cell_type": "markdown",
   "metadata": {},
   "source": [
    "## Part II: Unnesting Categories  \n",
    "Since the # unique Categories is significantly lower than allCategories, it could be significant to group the categories"
   ]
  },
  {
   "cell_type": "code",
   "execution_count": 7,
   "metadata": {},
   "outputs": [],
   "source": [
    "def findAllCategories():\n",
    "    allCategories =[]\n",
    "    for categoryList in businessDf['categories']:\n",
    "        if(type(categoryList) != str):  \n",
    "            for category in categoryList:\n",
    "                allCategories.append(category)\n",
    "        else:\n",
    "            allCategories.append(categoryList)\n",
    "    return allCategories"
   ]
  },
  {
   "cell_type": "code",
   "execution_count": 8,
   "metadata": {},
   "outputs": [],
   "source": [
    "def findUniqueCategories(allCategoriesList):\n",
    "    return set(allCategoriesList)"
   ]
  },
  {
   "cell_type": "code",
   "execution_count": 65,
   "metadata": {},
   "outputs": [],
   "source": [
    "def categoriesStats(allCategoriesList):\n",
    "    print('Length of all categories is:')\n",
    "    print(len(allCategoriesList))\n",
    "    print('Length of all unique categories is:')\n",
    "    print(len(findUniqueCategories(allCategoriesList)))\n",
    "    allCategoriesList.remove('Restaurants')\n",
    "    allCategoriesSeries = pd.Series(allCategoriesList)\n",
    "    print(allCategoriesSeries.value_counts())\n",
    "    \n",
    "    return allCategoriesSeries.value_counts()"
   ]
  },
  {
   "cell_type": "code",
   "execution_count": 66,
   "metadata": {},
   "outputs": [
    {
     "data": {
      "text/plain": [
       "330283"
      ]
     },
     "execution_count": 66,
     "metadata": {},
     "output_type": "execute_result"
    }
   ],
   "source": [
    "originalAllCategories = findAllCategories()\n",
    "len(originalAllCategories)"
   ]
  },
  {
   "cell_type": "code",
   "execution_count": 67,
   "metadata": {},
   "outputs": [
    {
     "name": "stdout",
     "output_type": "stream",
     "text": [
      "Length of all categories is:\n",
      "330283\n",
      "Length of all unique categories is:\n",
      "827\n",
      "Restaurants                  51612\n",
      "Shopping                     24261\n",
      "Beauty & Spas                13139\n",
      "Food                         11538\n",
      "Home Services                11072\n",
      "Health & Medical             10850\n",
      "Automotive                    8457\n",
      "Local Services                6667\n",
      "Active Life                   6389\n",
      "Event Planning & Services     4866\n",
      "Hair Salons                   4817\n",
      "Hotels & Travel               4723\n",
      "Auto Repair                   4379\n",
      "Doctors                       3859\n",
      "Nightlife                     3830\n",
      "Nail Salons                   3750\n",
      "Real Estate                   3631\n",
      "Fitness & Instruction         3420\n",
      "Arts & Entertainment          3257\n",
      "Professional Services         3235\n",
      "Pets                          3039\n",
      "Bars                          2753\n",
      "Dentists                      2674\n",
      "Hair Removal                  2530\n",
      "Hotels                        2271\n",
      "Skin Care                     2134\n",
      "Pet Services                  2067\n",
      "General Dentistry             2051\n",
      "Massage                       1983\n",
      "Financial Services            1982\n",
      "                             ...  \n",
      "Fuel Docks                       1\n",
      "Private Schools                  1\n",
      "DIY Auto Shop                    1\n",
      "Piano Stores                     1\n",
      "Structural Engineers             1\n",
      "Taxidermy                        1\n",
      "Unofficial Yelp Events           1\n",
      "Interlock Systems                1\n",
      "Tasting Classes                  1\n",
      "Osteopaths                       1\n",
      "Flyboarding                      1\n",
      "Habilitative Services            1\n",
      "Beer Tours                       1\n",
      "Hybrid Car Repair                1\n",
      "Choirs                           1\n",
      "Street Art                       1\n",
      "Surf Schools                     1\n",
      "Pensions                         1\n",
      "Cannabis Tours                   1\n",
      "Restaurant Supplies              1\n",
      "Town Hall                        1\n",
      "Wine Tasting Classes             1\n",
      "Art Tours                        1\n",
      "Fun Fair                         1\n",
      "Registry Office                  1\n",
      "Veterans Organizations           1\n",
      "Kitchen Incubators               1\n",
      "Beach Volleyball                 1\n",
      "Free Diving                      1\n",
      "Toxicologists                    1\n",
      "Length: 827, dtype: int64\n"
     ]
    }
   ],
   "source": [
    "statsInfo = categoriesStats(originalAllCategories)"
   ]
  },
  {
   "cell_type": "code",
   "execution_count": 114,
   "metadata": {},
   "outputs": [],
   "source": [
    "def getTopCategories(topNum, frequencyTable):\n",
    "    statsInfoDict = frequencyTable.to_dict()\n",
    "    statsInfoList = sorted(statsInfoDict.items(), key=lambda x: x[1], reverse=True)\n",
    "    \n",
    "    topCategories =[]\n",
    "    for i in range(topNum):\n",
    "        topCategories.append(statsInfoList[i][0])\n",
    "    \n",
    "    return topCategories"
   ]
  },
  {
   "cell_type": "code",
   "execution_count": 37,
   "metadata": {},
   "outputs": [],
   "source": [
    "def reGroup(df, categoryName):\n",
    "    existList = []\n",
    "    for categoryArr in df:\n",
    "        exist = False\n",
    "        if(type(categoryArr) != str):  \n",
    "            for category in categoryArr:\n",
    "                if (category == categoryName):\n",
    "                    exist = True\n",
    "        existList.append(exist)\n",
    "    \n",
    "    return existList "
   ]
  },
  {
   "cell_type": "code",
   "execution_count": 38,
   "metadata": {},
   "outputs": [],
   "source": [
    "def replaceCategory(df, columnName, replacement):\n",
    "    categoriesDf = df[columnName]\n",
    "    restaurantsExistList = reGroup(categoriesDf, replacement)\n",
    "    restaurantsExistSeries = pd.Series(restaurantsExistList)\n",
    "    categoriesDf.loc[restaurantsExistSeries] = replacement\n",
    "    print('# of ' + replacement + \" made:\")\n",
    "    print(len(categoriesDf.loc[categoriesDf == replacement]))"
   ]
  },
  {
   "cell_type": "code",
   "execution_count": 116,
   "metadata": {},
   "outputs": [
    {
     "data": {
      "text/plain": [
       "['Restaurants',\n",
       " 'Shopping',\n",
       " 'Beauty & Spas',\n",
       " 'Food',\n",
       " 'Home Services',\n",
       " 'Health & Medical',\n",
       " 'Automotive',\n",
       " 'Local Services',\n",
       " 'Active Life',\n",
       " 'Event Planning & Services',\n",
       " 'Hair Salons',\n",
       " 'Hotels & Travel',\n",
       " 'Auto Repair',\n",
       " 'Doctors',\n",
       " 'Nightlife',\n",
       " 'Nail Salons',\n",
       " 'Real Estate',\n",
       " 'Fitness & Instruction',\n",
       " 'Arts & Entertainment',\n",
       " 'Professional Services']"
      ]
     },
     "execution_count": 116,
     "metadata": {},
     "output_type": "execute_result"
    }
   ],
   "source": [
    "topCategoriesList = getTopCategories(20, statsInfo)\n",
    "topCategoriesList"
   ]
  },
  {
   "cell_type": "code",
   "execution_count": 63,
   "metadata": {
    "scrolled": true
   },
   "outputs": [],
   "source": [
    "def convertedCategories(df, columnName, dataType):\n",
    "    isStringList =[]\n",
    "    dataFrame = df[columnName]\n",
    "    for observation in dataFrame:\n",
    "        isString = False\n",
    "        if(type(observation) == dataType):  \n",
    "            isString = True\n",
    "        isStringList.append(isString)\n",
    "    \n",
    "    isStringSeries = pd.Series(isStringList)\n",
    "    print(\"# converted...\")\n",
    "    converted =len(dataFrame.loc[isStringSeries])\n",
    "    print(converted)\n",
    "    print(\"# unconverted..\")\n",
    "    print(len(df) - converted)"
   ]
  },
  {
   "cell_type": "code",
   "execution_count": 117,
   "metadata": {},
   "outputs": [
    {
     "name": "stderr",
     "output_type": "stream",
     "text": [
      "/Library/Frameworks/Python.framework/Versions/3.6/lib/python3.6/site-packages/pandas/core/indexing.py:179: SettingWithCopyWarning: \n",
      "A value is trying to be set on a copy of a slice from a DataFrame\n",
      "\n",
      "See the caveats in the documentation: http://pandas.pydata.org/pandas-docs/stable/indexing.html#indexing-view-versus-copy\n",
      "  self._setitem_with_indexer(indexer, value)\n"
     ]
    },
    {
     "name": "stdout",
     "output_type": "stream",
     "text": [
      "# of Restaurants made:\n",
      "51613\n",
      "# converted...\n",
      "120385\n",
      "# unconverted..\n",
      "36254\n",
      "# of Shopping made:\n",
      "24261\n",
      "# converted...\n",
      "120385\n",
      "# unconverted..\n",
      "36254\n",
      "# of Beauty & Spas made:\n",
      "13139\n",
      "# converted...\n",
      "120385\n",
      "# unconverted..\n",
      "36254\n",
      "# of Food made:\n",
      "11538\n",
      "# converted...\n",
      "120385\n",
      "# unconverted..\n",
      "36254\n",
      "# of Home Services made:\n",
      "11053\n",
      "# converted...\n",
      "120385\n",
      "# unconverted..\n",
      "36254\n",
      "# of Health & Medical made:\n",
      "8781\n",
      "# converted...\n",
      "120385\n",
      "# unconverted..\n",
      "36254\n",
      "# of Automotive made:\n",
      "8040\n",
      "# converted...\n",
      "128425\n",
      "# unconverted..\n",
      "28214\n",
      "# of Local Services made:\n",
      "4648\n",
      "# converted...\n",
      "133073\n",
      "# unconverted..\n",
      "23566\n",
      "# of Active Life made:\n",
      "5396\n",
      "# converted...\n",
      "138469\n",
      "# unconverted..\n",
      "18170\n",
      "# of Event Planning & Services made:\n",
      "4002\n",
      "# converted...\n",
      "142471\n",
      "# unconverted..\n",
      "14168\n",
      "# of Hair Salons made:\n",
      "0\n",
      "# converted...\n",
      "142471\n",
      "# unconverted..\n",
      "14168\n",
      "# of Hotels & Travel made:\n",
      "1700\n",
      "# converted...\n",
      "144171\n",
      "# unconverted..\n",
      "12468\n",
      "# of Auto Repair made:\n",
      "0\n",
      "# converted...\n",
      "144171\n",
      "# unconverted..\n",
      "12468\n",
      "# of Doctors made:\n",
      "0\n",
      "# converted...\n",
      "144171\n",
      "# unconverted..\n",
      "12468\n",
      "# of Nightlife made:\n",
      "3301\n",
      "# converted...\n",
      "147472\n",
      "# unconverted..\n",
      "9167\n",
      "# of Nail Salons made:\n",
      "0\n",
      "# converted...\n",
      "147472\n",
      "# unconverted..\n",
      "9167\n",
      "# of Real Estate made:\n",
      "0\n",
      "# converted...\n",
      "147472\n",
      "# unconverted..\n",
      "9167\n",
      "# of Fitness & Instruction made:\n",
      "0\n",
      "# converted...\n",
      "147472\n",
      "# unconverted..\n",
      "9167\n",
      "# of Arts & Entertainment made:\n",
      "1550\n",
      "# converted...\n",
      "149022\n",
      "# unconverted..\n",
      "7617\n",
      "# of Professional Services made:\n",
      "1300\n",
      "# converted...\n",
      "150322\n",
      "# unconverted..\n",
      "6317\n"
     ]
    }
   ],
   "source": [
    "for topCategory in topCategoriesList:\n",
    "    replaceCategory(businessDf, 'categories', topCategory)\n",
    "    convertedCategories(businessDf, 'categories', str)\n",
    "    print(\"--------------- conversion ended -----------------\")"
   ]
  },
  {
   "cell_type": "code",
   "execution_count": null,
   "metadata": {},
   "outputs": [],
   "source": []
  },
  {
   "cell_type": "code",
   "execution_count": null,
   "metadata": {},
   "outputs": [],
   "source": []
  },
  {
   "cell_type": "code",
   "execution_count": null,
   "metadata": {},
   "outputs": [],
   "source": []
  }
 ],
 "metadata": {
  "kernelspec": {
   "display_name": "Python 3",
   "language": "python",
   "name": "python3"
  },
  "language_info": {
   "codemirror_mode": {
    "name": "ipython",
    "version": 3
   },
   "file_extension": ".py",
   "mimetype": "text/x-python",
   "name": "python",
   "nbconvert_exporter": "python",
   "pygments_lexer": "ipython3",
   "version": "3.6.3"
  }
 },
 "nbformat": 4,
 "nbformat_minor": 2
}
