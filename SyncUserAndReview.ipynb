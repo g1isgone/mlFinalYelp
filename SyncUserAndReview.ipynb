{
 "cells": [
  {
   "cell_type": "code",
   "execution_count": 1,
   "metadata": {},
   "outputs": [],
   "source": [
    "import pandas as pd\n",
    "import numpy as np"
   ]
  },
  {
   "cell_type": "markdown",
   "metadata": {},
   "source": [
    "# Part I: Sync parsed userDf and parsed reviewDf\n",
    "Sync userDfFile.csv with all reviewDfFile parsed from ParseUserJson and ParseReviewJson by counting the number of available reviews for each user, and collecting all available review_id for each user. "
   ]
  },
  {
   "cell_type": "code",
   "execution_count": 48,
   "metadata": {},
   "outputs": [
    {
     "name": "stderr",
     "output_type": "stream",
     "text": [
      "/Library/Frameworks/Python.framework/Versions/3.6/lib/python3.6/site-packages/numpy/lib/arraysetops.py:463: FutureWarning: elementwise comparison failed; returning scalar instead, but in the future will perform elementwise comparison\n",
      "  mask |= (ar1 == a)\n"
     ]
    }
   ],
   "source": [
    "#Load the user data frame file\n",
    "userDf = pd.read_csv('userDfFile.csv',index_col=0)"
   ]
  },
  {
   "cell_type": "markdown",
   "metadata": {},
   "source": [
    "This is our first attempt. It is very slow due to the size of userDf."
   ]
  },
  {
   "cell_type": "code",
   "execution_count": null,
   "metadata": {},
   "outputs": [],
   "source": [
    "# '''Count the number of available reviews in reviewDf for each user in userDf and add that to the existing newUserDf which contains the available_review_count so far'''\n",
    "# def countAvailableReview(userDf,reviewDf,newUserDf):\n",
    "#     #loop through each user in userDf and count the number of reviews available in reviewDf\n",
    "#     for i in range(len(userDf)):\n",
    "#         user=userDf.loc[i,'user_id']\n",
    "#         available_review_count=len(reviewDf.loc[reviewDf['user_id']==user])\n",
    "#         newUserDf.at[i,'available_review_count']=available_review_count\n",
    "#     return newUserDf"
   ]
  },
  {
   "cell_type": "markdown",
   "metadata": {},
   "source": [
    "countAvailableReview() above will take O(N^2). Time complexity should decrease if we sort both userDf and reviewDf first and then sync. Sorting would take O(Nlogn) and syncing/counting would take O(N), the overall runtime should be O(N)."
   ]
  },
  {
   "cell_type": "code",
   "execution_count": 49,
   "metadata": {},
   "outputs": [],
   "source": [
    "sortedUserDf=userDf.sort_values('user_id')"
   ]
  },
  {
   "cell_type": "markdown",
   "metadata": {},
   "source": [
    "Create the function that will return two lists. The index (position-based) of each list matches that of sortedUserDf."
   ]
  },
  {
   "cell_type": "code",
   "execution_count": null,
   "metadata": {},
   "outputs": [],
   "source": [
    "def fastCountAvailReview(sortedUserDf,sortedReviewDf):\n",
    "    '''For each user in sortedUserDf, count the number of reviews available in sortedReviewDf and put the review_id in a set. Return a list of available review counts, and another list of review_id s for each user_id.'''\n",
    "    j=0 #iterator in sortedReviewDf\n",
    "    jmax=len(sortedReviewDf)\n",
    "    availReviewCol=[]\n",
    "    reviewIdCol=[]\n",
    "    for i in range(len(sortedUserDf)): #i <-- iterator in sortedUserDf\n",
    "        #user_id we are currently syncing\n",
    "        user=sortedUserDf.iloc[i]['user_id']\n",
    "        #loop until we find a user_id >= user\n",
    "        while (j<jmax and sortedReviewDf.iloc[j]['user_id']<user):\n",
    "            j+=1\n",
    "        reviewIdSet=set()\n",
    "        #Count the number of available reviews in sortedReviewDf\n",
    "        while (j<jmax and sortedReviewDf.iloc[j]['user_id']==user):\n",
    "            reviewIdSet.add(sortedReviewDf.iloc[j]['review_id'])\n",
    "            j+=1\n",
    "        availReviewCol.append(len(reviewIdSet))\n",
    "        reviewIdCol.append(reviewIdSet)\n",
    "    return availReviewCol,reviewIdCol"
   ]
  },
  {
   "cell_type": "markdown",
   "metadata": {},
   "source": [
    "## Call fastCountAvailReview to sync all 4 reviewDfFile*.csv\n",
    "There are 4 reviewDfFile because the original review dataset is too large to put in one data frame.\n",
    "### Sync reviewDf1.csv"
   ]
  },
  {
   "cell_type": "code",
   "execution_count": null,
   "metadata": {},
   "outputs": [],
   "source": [
    "#Load the review data frame file\n",
    "reviewDf=pd.read_csv('reviewDfFile1.csv',index_col=0)"
   ]
  },
  {
   "cell_type": "code",
   "execution_count": null,
   "metadata": {},
   "outputs": [],
   "source": [
    "sortedReviewDf=reviewDf.sort_values('user_id')"
   ]
  },
  {
   "cell_type": "code",
   "execution_count": null,
   "metadata": {},
   "outputs": [],
   "source": [
    "sortedReviewDf.tail()"
   ]
  },
  {
   "cell_type": "markdown",
   "metadata": {},
   "source": [
    "There are rows that contain NaN at the last two rows, so we should drop them."
   ]
  },
  {
   "cell_type": "code",
   "execution_count": null,
   "metadata": {},
   "outputs": [],
   "source": [
    "#Drop rows that contain NaN\n",
    "sortedReviewDf=sortedReviewDf.drop(sortedReviewDf.index[-2:])"
   ]
  },
  {
   "cell_type": "code",
   "execution_count": null,
   "metadata": {},
   "outputs": [],
   "source": [
    "availReviewCol,reviewIdCol=fastCountAvailReview(sortedUserDf,sortedReviewDf)"
   ]
  },
  {
   "cell_type": "code",
   "execution_count": null,
   "metadata": {},
   "outputs": [],
   "source": [
    "#Put the result in a data frame\n",
    "availReviewDf1=pd.DataFrame(data={\"AvailReviewCount\":availReviewCol,\"Reviews\":reviewIdCol},index=sortedUserDf['user_id'])"
   ]
  },
  {
   "cell_type": "markdown",
   "metadata": {},
   "source": [
    "### Sync ReviewDfFile2.csv"
   ]
  },
  {
   "cell_type": "code",
   "execution_count": null,
   "metadata": {},
   "outputs": [],
   "source": [
    "#Load the review data frame file\n",
    "reviewDf=pd.read_csv('reviewDfFile2.csv',index_col=0)"
   ]
  },
  {
   "cell_type": "code",
   "execution_count": null,
   "metadata": {},
   "outputs": [],
   "source": [
    "sortedReviewDf=reviewDf.sort_values('user_id')"
   ]
  },
  {
   "cell_type": "code",
   "execution_count": null,
   "metadata": {},
   "outputs": [],
   "source": [
    "sortedReviewDf.tail()"
   ]
  },
  {
   "cell_type": "code",
   "execution_count": null,
   "metadata": {},
   "outputs": [],
   "source": [
    "#sortedReviewDf does not contain rows with NaN values, so proceed\n",
    "availReviewCol,reviewIdCol=fastCountAvailReview(sortedUserDf,sortedReviewDf)"
   ]
  },
  {
   "cell_type": "code",
   "execution_count": null,
   "metadata": {},
   "outputs": [],
   "source": [
    "#Put the results lists in a data frame and export it into a csv file\n",
    "availReviewDf2=pd.DataFrame(data={\"AvailReviewCount\":availReviewCol,\"Reviews\":reviewIdCol},index=sortedUserDf['user_id'])"
   ]
  },
  {
   "cell_type": "markdown",
   "metadata": {},
   "source": [
    "### Sync ReviewDfFile3.csv"
   ]
  },
  {
   "cell_type": "code",
   "execution_count": null,
   "metadata": {},
   "outputs": [],
   "source": [
    "#Load the review data frame file\n",
    "reviewDf=pd.read_csv('reviewDfFile3.csv',index_col=0)"
   ]
  },
  {
   "cell_type": "code",
   "execution_count": null,
   "metadata": {},
   "outputs": [],
   "source": [
    "sortedReviewDf=reviewDf.sort_values('user_id')"
   ]
  },
  {
   "cell_type": "code",
   "execution_count": null,
   "metadata": {},
   "outputs": [],
   "source": [
    "#sortedReviewDf does not contain rows with NaN values, so proceed\n",
    "availReviewCol,reviewIdCol=fastCountAvailReview(sortedUserDf,sortedReviewDf)"
   ]
  },
  {
   "cell_type": "code",
   "execution_count": null,
   "metadata": {},
   "outputs": [],
   "source": [
    "#Put the results lists in a data frame and export it into a csv file\n",
    "availReviewDf3=pd.DataFrame(data={\"AvailReviewCount\":availReviewCol,\"Reviews\":reviewIdCol},index=sortedUserDf['user_id'])"
   ]
  },
  {
   "cell_type": "markdown",
   "metadata": {},
   "source": [
    "### Sync ReviewDfFile4.csv"
   ]
  },
  {
   "cell_type": "code",
   "execution_count": null,
   "metadata": {},
   "outputs": [],
   "source": [
    "#Load the review data frame file\n",
    "reviewDf=pd.read_csv('reviewDfFile4.csv',index_col=0)"
   ]
  },
  {
   "cell_type": "code",
   "execution_count": null,
   "metadata": {},
   "outputs": [],
   "source": [
    "sortedReviewDf=reviewDf.sort_values('user_id')"
   ]
  },
  {
   "cell_type": "code",
   "execution_count": null,
   "metadata": {},
   "outputs": [],
   "source": [
    "sortedReviewDf.tail()"
   ]
  },
  {
   "cell_type": "code",
   "execution_count": null,
   "metadata": {},
   "outputs": [],
   "source": [
    "#Drop rows that contain NaN\n",
    "sortedReviewDf=sortedReviewDf.drop(sortedReviewDf.index[-2:])"
   ]
  },
  {
   "cell_type": "code",
   "execution_count": null,
   "metadata": {},
   "outputs": [],
   "source": [
    "availReviewCol,reviewIdCol=fastCountAvailReview(sortedUserDf,sortedReviewDf)"
   ]
  },
  {
   "cell_type": "code",
   "execution_count": null,
   "metadata": {},
   "outputs": [],
   "source": [
    "#Put the results lists in a data frame\n",
    "availReviewDf4=pd.DataFrame(data={\"AvailReviewCount\":availReviewCol,\"Reviews\":reviewIdCol},index=sortedUserDf['user_id'])"
   ]
  },
  {
   "cell_type": "markdown",
   "metadata": {},
   "source": [
    "# Now merge all availReveiewDf\n",
    "The function belows take in a list of all availReviewDf, and the length of userDf as input. Length of each availReviewDf should equal len_user."
   ]
  },
  {
   "cell_type": "code",
   "execution_count": 57,
   "metadata": {},
   "outputs": [],
   "source": [
    "def mergeAvailReviewDf(Ldf,len_user):\n",
    "    '''Merge data frames that contain available review count and available review_id. '''\n",
    "    availReviewCountCol=[]\n",
    "    reviewsCol=[]\n",
    "    for i in range(len_user): #row number of the user (position-based)\n",
    "        reviewset=Ldf[0].iloc[i]['Reviews']\n",
    "        for j in range(1,len(Ldf)): #Ldf[j] <- dataframe syncing right now\n",
    "            reviewset=reviewset.union(Ldf[j].iloc[i]['Reviews'])\n",
    "        availReviewCountCol.append(len(reviewset))\n",
    "        reviewsCol.append(reviewset)\n",
    "    return availReviewCountCol, reviewsCol"
   ]
  },
  {
   "cell_type": "code",
   "execution_count": null,
   "metadata": {},
   "outputs": [],
   "source": [
    "availReviewCountCol, reviewsCol=uniqueReviewCount([availReviewDf1,availReviewDf2,availReveiwDf3,availReviewDf4],1183362)"
   ]
  },
  {
   "cell_type": "code",
   "execution_count": 59,
   "metadata": {},
   "outputs": [],
   "source": [
    "availReviewTotalDf=pd.DataFrame(data={\"AvailReviewCount\":availReviewCountCol,\"Reviews\":reviewsCol},index=sortedUserDf['user_id'])"
   ]
  },
  {
   "cell_type": "code",
   "execution_count": 60,
   "metadata": {},
   "outputs": [
    {
     "data": {
      "text/html": [
       "<div>\n",
       "<style scoped>\n",
       "    .dataframe tbody tr th:only-of-type {\n",
       "        vertical-align: middle;\n",
       "    }\n",
       "\n",
       "    .dataframe tbody tr th {\n",
       "        vertical-align: top;\n",
       "    }\n",
       "\n",
       "    .dataframe thead th {\n",
       "        text-align: right;\n",
       "    }\n",
       "</style>\n",
       "<table border=\"1\" class=\"dataframe\">\n",
       "  <thead>\n",
       "    <tr style=\"text-align: right;\">\n",
       "      <th></th>\n",
       "      <th>AvailReviewCount</th>\n",
       "      <th>Reviews</th>\n",
       "    </tr>\n",
       "    <tr>\n",
       "      <th>user_id</th>\n",
       "      <th></th>\n",
       "      <th></th>\n",
       "    </tr>\n",
       "  </thead>\n",
       "  <tbody>\n",
       "    <tr>\n",
       "      <th>---1lKK3aKOuomHnwAkAow</th>\n",
       "      <td>117</td>\n",
       "      <td>{_aSUxNefC6eiakBZlmfrkQ, X7-Kqkzg2J4rpKJGXvXfU...</td>\n",
       "    </tr>\n",
       "    <tr>\n",
       "      <th>---94vtJ_5o_nikEs6hUjg</th>\n",
       "      <td>1</td>\n",
       "      <td>{bImuLGmVMhUTjFinMjM46Q}</td>\n",
       "    </tr>\n",
       "    <tr>\n",
       "      <th>---PLwSf5gKdIoVnyRHgBA</th>\n",
       "      <td>2</td>\n",
       "      <td>{5Y_hKqpo4wb1pPtFgtCqrA, QXzgdKOdmrccxZ60Er7gig}</td>\n",
       "    </tr>\n",
       "    <tr>\n",
       "      <th>---cu1hq55BP9DWVXXKHZg</th>\n",
       "      <td>3</td>\n",
       "      <td>{C64IMmOZmJWiNdFe3ELklQ, VaekJKjFRtjozEcf9WTvC...</td>\n",
       "    </tr>\n",
       "    <tr>\n",
       "      <th>---fhiwiwBYrvqhpXgcWDQ</th>\n",
       "      <td>1</td>\n",
       "      <td>{ek_TJCDJ3vjKqfcnKEgtHg}</td>\n",
       "    </tr>\n",
       "  </tbody>\n",
       "</table>\n",
       "</div>"
      ],
      "text/plain": [
       "                        AvailReviewCount  \\\n",
       "user_id                                    \n",
       "---1lKK3aKOuomHnwAkAow               117   \n",
       "---94vtJ_5o_nikEs6hUjg                 1   \n",
       "---PLwSf5gKdIoVnyRHgBA                 2   \n",
       "---cu1hq55BP9DWVXXKHZg                 3   \n",
       "---fhiwiwBYrvqhpXgcWDQ                 1   \n",
       "\n",
       "                                                                  Reviews  \n",
       "user_id                                                                    \n",
       "---1lKK3aKOuomHnwAkAow  {_aSUxNefC6eiakBZlmfrkQ, X7-Kqkzg2J4rpKJGXvXfU...  \n",
       "---94vtJ_5o_nikEs6hUjg                           {bImuLGmVMhUTjFinMjM46Q}  \n",
       "---PLwSf5gKdIoVnyRHgBA   {5Y_hKqpo4wb1pPtFgtCqrA, QXzgdKOdmrccxZ60Er7gig}  \n",
       "---cu1hq55BP9DWVXXKHZg  {C64IMmOZmJWiNdFe3ELklQ, VaekJKjFRtjozEcf9WTvC...  \n",
       "---fhiwiwBYrvqhpXgcWDQ                           {ek_TJCDJ3vjKqfcnKEgtHg}  "
      ]
     },
     "execution_count": 60,
     "metadata": {},
     "output_type": "execute_result"
    }
   ],
   "source": [
    "availReviewTotalDf.head(reviewset=reviewset.union(eval(Ldf[j].iloc[i]['Reviews'])))"
   ]
  },
  {
   "cell_type": "code",
   "execution_count": 61,
   "metadata": {},
   "outputs": [],
   "source": [
    "availReviewTotalDf.to_csv('availReviewDf.csv')"
   ]
  },
  {
   "cell_type": "markdown",
   "metadata": {},
   "source": [
    "Check the percentage of available reviews for all users in the user dataset, drop rows with <= 80% of reviews available"
   ]
  },
  {
   "cell_type": "code",
   "execution_count": 66,
   "metadata": {},
   "outputs": [],
   "source": [
    "import copy\n",
    "newSortedUserDf=copy.deepcopy(sortedUserDf)"
   ]
  },
  {
   "cell_type": "code",
   "execution_count": null,
   "metadata": {},
   "outputs": [],
   "source": [
    "availPct=[] #stores percentage of available reviews for each user\n",
    "dropidx=[]\n",
    "for i in range(len(newSortedUserDf)):\n",
    "    actual=newSortedUserDf.iloc[i]['review_count']\n",
    "    if actual==0:\n",
    "        pct=0\n",
    "    else:\n",
    "        pct=availReviewTotalDf.iloc[i]['AvailReviewCount']/actual\n",
    "    availPct.append(pct)\n",
    "    if (pct<=0.8):\n",
    "        dropidx.append(i)"
   ]
  },
  {
   "cell_type": "code",
   "execution_count": 93,
   "metadata": {},
   "outputs": [],
   "source": [
    "newSortedUserDf['AvailPct']=availPct"
   ]
  },
  {
   "cell_type": "code",
   "execution_count": 94,
   "metadata": {},
   "outputs": [],
   "source": [
    "newSortedUserDf=newSortedUserDf.drop(newSortedUserDf.index[dropidx])"
   ]
  },
  {
   "cell_type": "code",
   "execution_count": 95,
   "metadata": {},
   "outputs": [],
   "source": [
    "availReviewTotalDf=availReviewTotalDf.drop(availReviewTotalDf.index[dropidx])"
   ]
  },
  {
   "cell_type": "markdown",
   "metadata": {},
   "source": [
    "Attach the column that contains the percentage of available reviews, and the colomn of all available review_id to the sorted user data frame."
   ]
  },
  {
   "cell_type": "code",
   "execution_count": 120,
   "metadata": {},
   "outputs": [],
   "source": [
    "newSortedUserDf['AvailReviewCount']=availReviewTotalDf['AvailReviewCount'].values"
   ]
  },
  {
   "cell_type": "code",
   "execution_count": 123,
   "metadata": {},
   "outputs": [],
   "source": [
    "newSortedUserDf['Reviews']=availReviewTotalDf['Reviews'].values"
   ]
  },
  {
   "cell_type": "code",
   "execution_count": 124,
   "metadata": {},
   "outputs": [
    {
     "data": {
      "text/html": [
       "<div>\n",
       "<style scoped>\n",
       "    .dataframe tbody tr th:only-of-type {\n",
       "        vertical-align: middle;\n",
       "    }\n",
       "\n",
       "    .dataframe tbody tr th {\n",
       "        vertical-align: top;\n",
       "    }\n",
       "\n",
       "    .dataframe thead th {\n",
       "        text-align: right;\n",
       "    }\n",
       "</style>\n",
       "<table border=\"1\" class=\"dataframe\">\n",
       "  <thead>\n",
       "    <tr style=\"text-align: right;\">\n",
       "      <th></th>\n",
       "      <th>average_stars</th>\n",
       "      <th>review_count</th>\n",
       "      <th>user_id</th>\n",
       "      <th>yelping_since</th>\n",
       "      <th>AvailPct</th>\n",
       "      <th>AvailReviewCount</th>\n",
       "      <th>Reviews</th>\n",
       "    </tr>\n",
       "  </thead>\n",
       "  <tbody>\n",
       "    <tr>\n",
       "      <th>1093646</th>\n",
       "      <td>4.25</td>\n",
       "      <td>1</td>\n",
       "      <td>zzvm_VD3HjU6RMx8zq7g1g</td>\n",
       "      <td>2015-06-12</td>\n",
       "      <td>1.0</td>\n",
       "      <td>1</td>\n",
       "      <td>{nd8ZaTy3wcrfLvuKTN1jYw}</td>\n",
       "    </tr>\n",
       "    <tr>\n",
       "      <th>396025</th>\n",
       "      <td>5.00</td>\n",
       "      <td>1</td>\n",
       "      <td>zzvqVZTYs5VKxPc-IkRQ4A</td>\n",
       "      <td>2017-03-15</td>\n",
       "      <td>1.0</td>\n",
       "      <td>1</td>\n",
       "      <td>{simX0wWLHTOpj_IyQBKeAQ}</td>\n",
       "    </tr>\n",
       "    <tr>\n",
       "      <th>571955</th>\n",
       "      <td>2.67</td>\n",
       "      <td>3</td>\n",
       "      <td>zzwTJAgONYCTeJia4te47g</td>\n",
       "      <td>2016-04-24</td>\n",
       "      <td>1.0</td>\n",
       "      <td>3</td>\n",
       "      <td>{Zw1hLwD6gYQ4Z15Fo8n6Tg, J6sDT53hNjtvUZvk34Jrh...</td>\n",
       "    </tr>\n",
       "    <tr>\n",
       "      <th>1178718</th>\n",
       "      <td>5.00</td>\n",
       "      <td>1</td>\n",
       "      <td>zzy9H_45XLydmYZ2P_Ve_g</td>\n",
       "      <td>2014-08-27</td>\n",
       "      <td>1.0</td>\n",
       "      <td>1</td>\n",
       "      <td>{dVC4-hUXF4qbXAi9sG3lsg}</td>\n",
       "    </tr>\n",
       "    <tr>\n",
       "      <th>810511</th>\n",
       "      <td>3.00</td>\n",
       "      <td>2</td>\n",
       "      <td>zzyMMeUZzKAy7KQhM7lU2w</td>\n",
       "      <td>2013-12-06</td>\n",
       "      <td>1.0</td>\n",
       "      <td>2</td>\n",
       "      <td>{KIwAs2hgBdmSrUM5M7o_OA, Qh0nbp8yyRLFkqlBiVIxqw}</td>\n",
       "    </tr>\n",
       "  </tbody>\n",
       "</table>\n",
       "</div>"
      ],
      "text/plain": [
       "         average_stars  review_count                 user_id yelping_since  \\\n",
       "1093646           4.25             1  zzvm_VD3HjU6RMx8zq7g1g    2015-06-12   \n",
       "396025            5.00             1  zzvqVZTYs5VKxPc-IkRQ4A    2017-03-15   \n",
       "571955            2.67             3  zzwTJAgONYCTeJia4te47g    2016-04-24   \n",
       "1178718           5.00             1  zzy9H_45XLydmYZ2P_Ve_g    2014-08-27   \n",
       "810511            3.00             2  zzyMMeUZzKAy7KQhM7lU2w    2013-12-06   \n",
       "\n",
       "         AvailPct  AvailReviewCount  \\\n",
       "1093646       1.0                 1   \n",
       "396025        1.0                 1   \n",
       "571955        1.0                 3   \n",
       "1178718       1.0                 1   \n",
       "810511        1.0                 2   \n",
       "\n",
       "                                                   Reviews  \n",
       "1093646                           {nd8ZaTy3wcrfLvuKTN1jYw}  \n",
       "396025                            {simX0wWLHTOpj_IyQBKeAQ}  \n",
       "571955   {Zw1hLwD6gYQ4Z15Fo8n6Tg, J6sDT53hNjtvUZvk34Jrh...  \n",
       "1178718                           {dVC4-hUXF4qbXAi9sG3lsg}  \n",
       "810511    {KIwAs2hgBdmSrUM5M7o_OA, Qh0nbp8yyRLFkqlBiVIxqw}  "
      ]
     },
     "execution_count": 124,
     "metadata": {},
     "output_type": "execute_result"
    }
   ],
   "source": [
    "newSortedUserDf.tail()"
   ]
  },
  {
   "cell_type": "code",
   "execution_count": 130,
   "metadata": {},
   "outputs": [
    {
     "data": {
      "text/html": [
       "<div>\n",
       "<style scoped>\n",
       "    .dataframe tbody tr th:only-of-type {\n",
       "        vertical-align: middle;\n",
       "    }\n",
       "\n",
       "    .dataframe tbody tr th {\n",
       "        vertical-align: top;\n",
       "    }\n",
       "\n",
       "    .dataframe thead th {\n",
       "        text-align: right;\n",
       "    }\n",
       "</style>\n",
       "<table border=\"1\" class=\"dataframe\">\n",
       "  <thead>\n",
       "    <tr style=\"text-align: right;\">\n",
       "      <th></th>\n",
       "      <th>average_stars</th>\n",
       "      <th>review_count</th>\n",
       "      <th>AvailPct</th>\n",
       "      <th>AvailReviewCount</th>\n",
       "    </tr>\n",
       "  </thead>\n",
       "  <tbody>\n",
       "    <tr>\n",
       "      <th>count</th>\n",
       "      <td>388904.000000</td>\n",
       "      <td>388904.000000</td>\n",
       "      <td>388904.000000</td>\n",
       "      <td>388904.000000</td>\n",
       "    </tr>\n",
       "    <tr>\n",
       "      <th>mean</th>\n",
       "      <td>3.623829</td>\n",
       "      <td>4.380855</td>\n",
       "      <td>0.985101</td>\n",
       "      <td>4.066556</td>\n",
       "    </tr>\n",
       "    <tr>\n",
       "      <th>std</th>\n",
       "      <td>1.477098</td>\n",
       "      <td>13.790242</td>\n",
       "      <td>0.045614</td>\n",
       "      <td>12.017385</td>\n",
       "    </tr>\n",
       "    <tr>\n",
       "      <th>min</th>\n",
       "      <td>1.000000</td>\n",
       "      <td>1.000000</td>\n",
       "      <td>0.800866</td>\n",
       "      <td>1.000000</td>\n",
       "    </tr>\n",
       "    <tr>\n",
       "      <th>25%</th>\n",
       "      <td>2.630000</td>\n",
       "      <td>1.000000</td>\n",
       "      <td>1.000000</td>\n",
       "      <td>1.000000</td>\n",
       "    </tr>\n",
       "    <tr>\n",
       "      <th>50%</th>\n",
       "      <td>4.000000</td>\n",
       "      <td>1.000000</td>\n",
       "      <td>1.000000</td>\n",
       "      <td>1.000000</td>\n",
       "    </tr>\n",
       "    <tr>\n",
       "      <th>75%</th>\n",
       "      <td>5.000000</td>\n",
       "      <td>3.000000</td>\n",
       "      <td>1.000000</td>\n",
       "      <td>3.000000</td>\n",
       "    </tr>\n",
       "    <tr>\n",
       "      <th>max</th>\n",
       "      <td>5.000000</td>\n",
       "      <td>1178.000000</td>\n",
       "      <td>8.000000</td>\n",
       "      <td>948.000000</td>\n",
       "    </tr>\n",
       "  </tbody>\n",
       "</table>\n",
       "</div>"
      ],
      "text/plain": [
       "       average_stars   review_count       AvailPct  AvailReviewCount\n",
       "count  388904.000000  388904.000000  388904.000000     388904.000000\n",
       "mean        3.623829       4.380855       0.985101          4.066556\n",
       "std         1.477098      13.790242       0.045614         12.017385\n",
       "min         1.000000       1.000000       0.800866          1.000000\n",
       "25%         2.630000       1.000000       1.000000          1.000000\n",
       "50%         4.000000       1.000000       1.000000          1.000000\n",
       "75%         5.000000       3.000000       1.000000          3.000000\n",
       "max         5.000000    1178.000000       8.000000        948.000000"
      ]
     },
     "execution_count": 130,
     "metadata": {},
     "output_type": "execute_result"
    }
   ],
   "source": [
    "newSortedUserDf.describe()"
   ]
  },
  {
   "cell_type": "code",
   "execution_count": 131,
   "metadata": {},
   "outputs": [
    {
     "data": {
      "text/plain": [
       "average_stars       float64\n",
       "review_count          int64\n",
       "user_id              object\n",
       "yelping_since        object\n",
       "AvailPct            float64\n",
       "AvailReviewCount      int64\n",
       "Reviews              object\n",
       "dtype: object"
      ]
     },
     "execution_count": 131,
     "metadata": {},
     "output_type": "execute_result"
    }
   ],
   "source": [
    "newSortedUserDf.dtypes"
   ]
  },
  {
   "cell_type": "code",
   "execution_count": 125,
   "metadata": {},
   "outputs": [
    {
     "data": {
      "text/plain": [
       "388904"
      ]
     },
     "execution_count": 125,
     "metadata": {},
     "output_type": "execute_result"
    }
   ],
   "source": [
    "len(newSortedUserDf)"
   ]
  },
  {
   "cell_type": "markdown",
   "metadata": {},
   "source": [
    "Export the data frame."
   ]
  },
  {
   "cell_type": "code",
   "execution_count": 126,
   "metadata": {},
   "outputs": [],
   "source": [
    "newSortedUserDf.to_pickle('UserWithReviewDf.pkl')"
   ]
  },
  {
   "cell_type": "markdown",
   "metadata": {},
   "source": [
    "Somehow some users have AvailReviewCount greater than review_count. This doesn't make sense, so we drop these users."
   ]
  },
  {
   "cell_type": "code",
   "execution_count": 2,
   "metadata": {},
   "outputs": [],
   "source": [
    "userDf=pd.read_pickle('UserWithReviewDf.pkl')"
   ]
  },
  {
   "cell_type": "code",
   "execution_count": 3,
   "metadata": {},
   "outputs": [],
   "source": [
    "wrongreview=userDf.loc[userDf['review_count']<userDf['AvailReviewCount']]"
   ]
  },
  {
   "cell_type": "code",
   "execution_count": 4,
   "metadata": {},
   "outputs": [
    {
     "data": {
      "text/html": [
       "<div>\n",
       "<style scoped>\n",
       "    .dataframe tbody tr th:only-of-type {\n",
       "        vertical-align: middle;\n",
       "    }\n",
       "\n",
       "    .dataframe tbody tr th {\n",
       "        vertical-align: top;\n",
       "    }\n",
       "\n",
       "    .dataframe thead th {\n",
       "        text-align: right;\n",
       "    }\n",
       "</style>\n",
       "<table border=\"1\" class=\"dataframe\">\n",
       "  <thead>\n",
       "    <tr style=\"text-align: right;\">\n",
       "      <th></th>\n",
       "      <th>average_stars</th>\n",
       "      <th>review_count</th>\n",
       "      <th>user_id</th>\n",
       "      <th>yelping_since</th>\n",
       "      <th>AvailPct</th>\n",
       "      <th>AvailReviewCount</th>\n",
       "      <th>Reviews</th>\n",
       "    </tr>\n",
       "  </thead>\n",
       "  <tbody>\n",
       "    <tr>\n",
       "      <th>651597</th>\n",
       "      <td>2.50</td>\n",
       "      <td>2</td>\n",
       "      <td>-CgbL7Rygee52C3ylCV3iQ</td>\n",
       "      <td>2017-01-06</td>\n",
       "      <td>1.500000</td>\n",
       "      <td>3</td>\n",
       "      <td>{4CreNchsizUo0Z_6FbaKMA, xqrB6SH-oZAAnwQbZB5G6...</td>\n",
       "    </tr>\n",
       "    <tr>\n",
       "      <th>672767</th>\n",
       "      <td>3.80</td>\n",
       "      <td>1</td>\n",
       "      <td>09z9No52Jiyf1y4sO31GQw</td>\n",
       "      <td>2012-05-02</td>\n",
       "      <td>2.000000</td>\n",
       "      <td>2</td>\n",
       "      <td>{a0_68YgcbxwYLnthWnEHqQ, K5akza6plIQV3lYPL7RILw}</td>\n",
       "    </tr>\n",
       "    <tr>\n",
       "      <th>360584</th>\n",
       "      <td>2.06</td>\n",
       "      <td>19</td>\n",
       "      <td>0LQZIzeAsJgLdrRp4wd3zA</td>\n",
       "      <td>2014-07-02</td>\n",
       "      <td>1.052632</td>\n",
       "      <td>20</td>\n",
       "      <td>{gxiBdEGEE_AzzTfwg0XIdw, I4BMvyKZ1Wk6LYzkYDAvM...</td>\n",
       "    </tr>\n",
       "    <tr>\n",
       "      <th>338210</th>\n",
       "      <td>4.25</td>\n",
       "      <td>6</td>\n",
       "      <td>0imvl3fmbRdpF_CD36D1JA</td>\n",
       "      <td>2013-01-01</td>\n",
       "      <td>1.166667</td>\n",
       "      <td>7</td>\n",
       "      <td>{f-hOdzO85npFfUWMnTnL_Q, RtScw80vx6-TvC5bGj_m4...</td>\n",
       "    </tr>\n",
       "    <tr>\n",
       "      <th>162375</th>\n",
       "      <td>2.40</td>\n",
       "      <td>6</td>\n",
       "      <td>2y9cPgLYd4Okx6Zk1EBvsA</td>\n",
       "      <td>2012-07-31</td>\n",
       "      <td>1.166667</td>\n",
       "      <td>7</td>\n",
       "      <td>{QW_d1Pb1v5YxQQ-WWryWxQ, YWMTN9pqfP3yeMr3yh9QF...</td>\n",
       "    </tr>\n",
       "    <tr>\n",
       "      <th>617439</th>\n",
       "      <td>3.00</td>\n",
       "      <td>1</td>\n",
       "      <td>3Hv7dnRcwC4IBEvUyIj6UQ</td>\n",
       "      <td>2012-04-17</td>\n",
       "      <td>2.000000</td>\n",
       "      <td>2</td>\n",
       "      <td>{NGuDMSFH-tmspJ62yz-NqQ, A6emVdQVe7X5UvEcLwZgoA}</td>\n",
       "    </tr>\n",
       "    <tr>\n",
       "      <th>526622</th>\n",
       "      <td>3.00</td>\n",
       "      <td>1</td>\n",
       "      <td>4guECw0hnVUijdv8RnSzUg</td>\n",
       "      <td>2014-11-16</td>\n",
       "      <td>2.000000</td>\n",
       "      <td>2</td>\n",
       "      <td>{gLJxik3YPpjvF-FIMO1ArA, eqnQDTJUbthbuu-WE1ypuA}</td>\n",
       "    </tr>\n",
       "    <tr>\n",
       "      <th>664959</th>\n",
       "      <td>1.75</td>\n",
       "      <td>6</td>\n",
       "      <td>4uOzvmj_TQcWwCZfdTrimA</td>\n",
       "      <td>2012-02-08</td>\n",
       "      <td>1.333333</td>\n",
       "      <td>8</td>\n",
       "      <td>{YtO1iFX-xr20ekLg_gMGcw, hwFhMtyDWCM-jBewuekFk...</td>\n",
       "    </tr>\n",
       "    <tr>\n",
       "      <th>296721</th>\n",
       "      <td>3.60</td>\n",
       "      <td>3</td>\n",
       "      <td>6cba0fI0-Hog52YFLAYN3A</td>\n",
       "      <td>2015-09-08</td>\n",
       "      <td>1.333333</td>\n",
       "      <td>4</td>\n",
       "      <td>{Evpx_ciiJJjY-EaBo5oIJg, fOfyPzwAPfx4BLdhMrIia...</td>\n",
       "    </tr>\n",
       "    <tr>\n",
       "      <th>267796</th>\n",
       "      <td>2.00</td>\n",
       "      <td>3</td>\n",
       "      <td>7RL3qW5IqoD4Mu3X1bkjjA</td>\n",
       "      <td>2016-08-17</td>\n",
       "      <td>1.333333</td>\n",
       "      <td>4</td>\n",
       "      <td>{Qp3X4K524EiRjVshqQcROw, e9z95pNzM5qKQc60yBSGG...</td>\n",
       "    </tr>\n",
       "    <tr>\n",
       "      <th>191026</th>\n",
       "      <td>5.00</td>\n",
       "      <td>3</td>\n",
       "      <td>87v53p49Kh_m7caV8KhAbQ</td>\n",
       "      <td>2014-08-08</td>\n",
       "      <td>1.333333</td>\n",
       "      <td>4</td>\n",
       "      <td>{oBqMMIq6uDjrDVKniTNvJw, WDYb4mUWvK9nYfJgY92lk...</td>\n",
       "    </tr>\n",
       "    <tr>\n",
       "      <th>199891</th>\n",
       "      <td>3.00</td>\n",
       "      <td>5</td>\n",
       "      <td>C_LxqoDy2nwwTZX7XT5LHg</td>\n",
       "      <td>2014-05-09</td>\n",
       "      <td>1.200000</td>\n",
       "      <td>6</td>\n",
       "      <td>{Xa0xRUwzxtvXechhfJfksg, vpn-W_hkjFYwYiExSLsDP...</td>\n",
       "    </tr>\n",
       "    <tr>\n",
       "      <th>459704</th>\n",
       "      <td>2.82</td>\n",
       "      <td>3</td>\n",
       "      <td>CqO8EBO8K7wV6cyAvDKN6A</td>\n",
       "      <td>2016-09-26</td>\n",
       "      <td>2.000000</td>\n",
       "      <td>6</td>\n",
       "      <td>{PB4nzJmdFM1z4vIdmsFmpA, 9t24rcePt3p8-FmVWHMO7...</td>\n",
       "    </tr>\n",
       "    <tr>\n",
       "      <th>644384</th>\n",
       "      <td>2.33</td>\n",
       "      <td>1</td>\n",
       "      <td>E019O2XqmdwEma5pPZY4wQ</td>\n",
       "      <td>2016-03-21</td>\n",
       "      <td>2.000000</td>\n",
       "      <td>2</td>\n",
       "      <td>{HdICUAF6W-T_OZw2OgIVdQ, mcZIqp7a6EfD9RIPiXqv0A}</td>\n",
       "    </tr>\n",
       "    <tr>\n",
       "      <th>265598</th>\n",
       "      <td>1.58</td>\n",
       "      <td>12</td>\n",
       "      <td>ERolBvFzLKfqq8DouenfOA</td>\n",
       "      <td>2013-06-01</td>\n",
       "      <td>1.083333</td>\n",
       "      <td>13</td>\n",
       "      <td>{L2Ztd-CUKz9DLNwHQHAyNw, CXfzvLJIXkj_WyYGEauz8...</td>\n",
       "    </tr>\n",
       "    <tr>\n",
       "      <th>33209</th>\n",
       "      <td>3.79</td>\n",
       "      <td>73</td>\n",
       "      <td>EdDmKiz6V89g6Dws9I4AKA</td>\n",
       "      <td>2016-01-27</td>\n",
       "      <td>1.013699</td>\n",
       "      <td>74</td>\n",
       "      <td>{ADLFAWS-HskfIqeYHiCaZQ, VsargYZKU3xv6pX8TY3pq...</td>\n",
       "    </tr>\n",
       "    <tr>\n",
       "      <th>300370</th>\n",
       "      <td>3.17</td>\n",
       "      <td>5</td>\n",
       "      <td>F1keniVFFw88gOiEuuSN9A</td>\n",
       "      <td>2015-04-15</td>\n",
       "      <td>1.200000</td>\n",
       "      <td>6</td>\n",
       "      <td>{pVQmZlh0BHmUjQLn5Krvdg, zD7YQjV6TomT1mMBNs-1T...</td>\n",
       "    </tr>\n",
       "    <tr>\n",
       "      <th>5366</th>\n",
       "      <td>3.84</td>\n",
       "      <td>1</td>\n",
       "      <td>GXnPGaeM334u_e_JCoB1kA</td>\n",
       "      <td>2009-07-26</td>\n",
       "      <td>8.000000</td>\n",
       "      <td>8</td>\n",
       "      <td>{oiqpnap-LgDsGCC9WmoH2w, Q2nqeJT-fDcaimYf-OL0-...</td>\n",
       "    </tr>\n",
       "    <tr>\n",
       "      <th>56290</th>\n",
       "      <td>3.38</td>\n",
       "      <td>14</td>\n",
       "      <td>I6eqcO4AA6jiCoak1iX-Mg</td>\n",
       "      <td>2012-11-15</td>\n",
       "      <td>1.071429</td>\n",
       "      <td>15</td>\n",
       "      <td>{ROnRXmjaxxqeajDQ7XTskg, 6TeSKY2tfdijulsebjvsq...</td>\n",
       "    </tr>\n",
       "    <tr>\n",
       "      <th>55476</th>\n",
       "      <td>2.17</td>\n",
       "      <td>27</td>\n",
       "      <td>IPor3JMA74Ig1LivOt0d3Q</td>\n",
       "      <td>2008-11-12</td>\n",
       "      <td>1.111111</td>\n",
       "      <td>30</td>\n",
       "      <td>{BQ4VqEjKf1YY1fe1KYPJNg, R4L9SMkanZ_-AzNYBLhum...</td>\n",
       "    </tr>\n",
       "    <tr>\n",
       "      <th>17689</th>\n",
       "      <td>5.00</td>\n",
       "      <td>3</td>\n",
       "      <td>M47skZU1iimnrpz5Fb2HuA</td>\n",
       "      <td>2014-10-11</td>\n",
       "      <td>1.333333</td>\n",
       "      <td>4</td>\n",
       "      <td>{R-7TonNoea1gW9mODImGwg, ga0_M9P9b2Z69SLOjYQMt...</td>\n",
       "    </tr>\n",
       "    <tr>\n",
       "      <th>266726</th>\n",
       "      <td>2.63</td>\n",
       "      <td>5</td>\n",
       "      <td>MbChyRFmIjDw6N09HCJORw</td>\n",
       "      <td>2016-11-23</td>\n",
       "      <td>1.200000</td>\n",
       "      <td>6</td>\n",
       "      <td>{MvxnRz5l2OcRDf-F2j3zaw, SHP7MWOB6DVgURRKPPLk4...</td>\n",
       "    </tr>\n",
       "    <tr>\n",
       "      <th>693101</th>\n",
       "      <td>5.00</td>\n",
       "      <td>2</td>\n",
       "      <td>MqjTaPHdrotau9Pfmv1Tcg</td>\n",
       "      <td>2013-05-16</td>\n",
       "      <td>1.500000</td>\n",
       "      <td>3</td>\n",
       "      <td>{obZKoEQUEsrE0vo1dD-RWQ, 5HMeVXTUnecBEQRxsKk7X...</td>\n",
       "    </tr>\n",
       "    <tr>\n",
       "      <th>617568</th>\n",
       "      <td>3.00</td>\n",
       "      <td>1</td>\n",
       "      <td>N3_acAlXyiaOl8MSu2Knww</td>\n",
       "      <td>2017-02-05</td>\n",
       "      <td>2.000000</td>\n",
       "      <td>2</td>\n",
       "      <td>{xS2MZicGH1t_QD0s4jzc8w, DQYSOIwL8Z7pdQVxWZm8jA}</td>\n",
       "    </tr>\n",
       "    <tr>\n",
       "      <th>368515</th>\n",
       "      <td>4.86</td>\n",
       "      <td>1</td>\n",
       "      <td>Pfkoyhdup4UeFOslJDLS1Q</td>\n",
       "      <td>2015-02-21</td>\n",
       "      <td>4.000000</td>\n",
       "      <td>4</td>\n",
       "      <td>{YZzkcvU6X42eGHaGl1L7DQ, 3pSiQvqHqDZVyftpqthj7...</td>\n",
       "    </tr>\n",
       "    <tr>\n",
       "      <th>538607</th>\n",
       "      <td>5.00</td>\n",
       "      <td>2</td>\n",
       "      <td>QPFyfh2vkdWs2aNrFqb9mA</td>\n",
       "      <td>2017-01-17</td>\n",
       "      <td>1.500000</td>\n",
       "      <td>3</td>\n",
       "      <td>{nL45bEM90qRKg5D-pQBtHg, ZUaG3LaDQmVqE4Pta0dfk...</td>\n",
       "    </tr>\n",
       "    <tr>\n",
       "      <th>131668</th>\n",
       "      <td>4.17</td>\n",
       "      <td>3</td>\n",
       "      <td>Qg42D4N2l-tUBJ1eXKYHaw</td>\n",
       "      <td>2014-06-22</td>\n",
       "      <td>2.000000</td>\n",
       "      <td>6</td>\n",
       "      <td>{QMm0MBPk0FnRH6bBKLly6Q, bIzOxLU8o_Q-b-X4k3gGs...</td>\n",
       "    </tr>\n",
       "    <tr>\n",
       "      <th>142661</th>\n",
       "      <td>4.14</td>\n",
       "      <td>9</td>\n",
       "      <td>RGKIVa5bGSqX5vMnpBa9Fw</td>\n",
       "      <td>2014-09-01</td>\n",
       "      <td>2.222222</td>\n",
       "      <td>20</td>\n",
       "      <td>{IG9LjVk1wdTUOtnC_o_q5Q, dJzc8l2LtrGgTAzVNOX0d...</td>\n",
       "    </tr>\n",
       "    <tr>\n",
       "      <th>490818</th>\n",
       "      <td>4.25</td>\n",
       "      <td>2</td>\n",
       "      <td>S0hQ2Xbfz1R9c6a69arYWQ</td>\n",
       "      <td>2016-10-23</td>\n",
       "      <td>1.500000</td>\n",
       "      <td>3</td>\n",
       "      <td>{XD8t-CvGLVFUrxhPTa5WXQ, BMDhWn1-pCU2i_vZCU3Qn...</td>\n",
       "    </tr>\n",
       "    <tr>\n",
       "      <th>1009629</th>\n",
       "      <td>4.00</td>\n",
       "      <td>2</td>\n",
       "      <td>UnP006Mbi-AqSTn23SzyWw</td>\n",
       "      <td>2013-07-18</td>\n",
       "      <td>1.500000</td>\n",
       "      <td>3</td>\n",
       "      <td>{n-FHj1fWBfVSn6BJGUNVSQ, rb2Ega95s4ErI4bDMM_4E...</td>\n",
       "    </tr>\n",
       "    <tr>\n",
       "      <th>...</th>\n",
       "      <td>...</td>\n",
       "      <td>...</td>\n",
       "      <td>...</td>\n",
       "      <td>...</td>\n",
       "      <td>...</td>\n",
       "      <td>...</td>\n",
       "      <td>...</td>\n",
       "    </tr>\n",
       "    <tr>\n",
       "      <th>632106</th>\n",
       "      <td>4.67</td>\n",
       "      <td>1</td>\n",
       "      <td>Y5iBlmisRqCGgVhDMXFobg</td>\n",
       "      <td>2016-10-26</td>\n",
       "      <td>2.000000</td>\n",
       "      <td>2</td>\n",
       "      <td>{Q8T5B44yT5-_fqBpuvjj8w, N2ovjdIASuHTRMSh3vcSTA}</td>\n",
       "    </tr>\n",
       "    <tr>\n",
       "      <th>622056</th>\n",
       "      <td>3.67</td>\n",
       "      <td>2</td>\n",
       "      <td>ZegUGw7AUB0fjJDEyI82kg</td>\n",
       "      <td>2016-07-16</td>\n",
       "      <td>1.500000</td>\n",
       "      <td>3</td>\n",
       "      <td>{dJf0C_ABcEZ86lwBQxr2ew, fpAFHrRszxcPTzk9-nWzU...</td>\n",
       "    </tr>\n",
       "    <tr>\n",
       "      <th>247760</th>\n",
       "      <td>1.00</td>\n",
       "      <td>1</td>\n",
       "      <td>_apv24N3nLwIdPrHxmjNmQ</td>\n",
       "      <td>2017-01-22</td>\n",
       "      <td>2.000000</td>\n",
       "      <td>2</td>\n",
       "      <td>{dfblO0KtUy1Hy-_Y7IdbIw, Kfue7AWAbGowO3BMsuLhjg}</td>\n",
       "    </tr>\n",
       "    <tr>\n",
       "      <th>383555</th>\n",
       "      <td>3.00</td>\n",
       "      <td>5</td>\n",
       "      <td>_wYJcDJ8YWCqFdU3C8wHXQ</td>\n",
       "      <td>2014-11-17</td>\n",
       "      <td>1.200000</td>\n",
       "      <td>6</td>\n",
       "      <td>{yWTMNtxHFeYGVd0jnB_DkA, KQ_QFyNTf74Mj9t0KqdrH...</td>\n",
       "    </tr>\n",
       "    <tr>\n",
       "      <th>121759</th>\n",
       "      <td>3.00</td>\n",
       "      <td>2</td>\n",
       "      <td>bgmffI7VNYbia4yOZ4urqg</td>\n",
       "      <td>2012-10-25</td>\n",
       "      <td>2.000000</td>\n",
       "      <td>4</td>\n",
       "      <td>{fKwM6R6QeNTm4AMUp02T6w, Iiys3gs7OtM_9Vxorf9Os...</td>\n",
       "    </tr>\n",
       "    <tr>\n",
       "      <th>22103</th>\n",
       "      <td>3.24</td>\n",
       "      <td>11</td>\n",
       "      <td>ddPFBOsvFjaOVRj8sTZQmA</td>\n",
       "      <td>2014-06-26</td>\n",
       "      <td>1.090909</td>\n",
       "      <td>12</td>\n",
       "      <td>{-p2HFNHsjL4iMRoje3XePg, hgKuMFOcATh4MV13RmneB...</td>\n",
       "    </tr>\n",
       "    <tr>\n",
       "      <th>177654</th>\n",
       "      <td>3.67</td>\n",
       "      <td>6</td>\n",
       "      <td>elf4PucDzGfsKk4psaf2Qw</td>\n",
       "      <td>2016-07-18</td>\n",
       "      <td>1.166667</td>\n",
       "      <td>7</td>\n",
       "      <td>{awtuelhLAIQKfDjOdMyOUA, JCL8HC-WZTBKBuE4gZZxx...</td>\n",
       "    </tr>\n",
       "    <tr>\n",
       "      <th>235694</th>\n",
       "      <td>3.44</td>\n",
       "      <td>10</td>\n",
       "      <td>fL5CQ4s4ANUvwsU0h1y5Ag</td>\n",
       "      <td>2016-05-26</td>\n",
       "      <td>1.100000</td>\n",
       "      <td>11</td>\n",
       "      <td>{vNT762sO6-9UjAKkWEcvtA, rBs5oEkdAgcAB9t2eSP0P...</td>\n",
       "    </tr>\n",
       "    <tr>\n",
       "      <th>58404</th>\n",
       "      <td>3.25</td>\n",
       "      <td>15</td>\n",
       "      <td>hOPE0YPENSZhsC-nlpxIRQ</td>\n",
       "      <td>2015-07-23</td>\n",
       "      <td>1.066667</td>\n",
       "      <td>16</td>\n",
       "      <td>{IaIvB-zg3qb-C46bFLhhvg, VCm6_wNs_W_smJaQBglpK...</td>\n",
       "    </tr>\n",
       "    <tr>\n",
       "      <th>539190</th>\n",
       "      <td>3.67</td>\n",
       "      <td>8</td>\n",
       "      <td>hbQobvcC07W0zQA_93sxKA</td>\n",
       "      <td>2013-03-01</td>\n",
       "      <td>1.125000</td>\n",
       "      <td>9</td>\n",
       "      <td>{slzao0kfHho9pjw4SZQR2g, wh_S5fy6f9RaYANBJF69G...</td>\n",
       "    </tr>\n",
       "    <tr>\n",
       "      <th>598738</th>\n",
       "      <td>4.00</td>\n",
       "      <td>5</td>\n",
       "      <td>jDoR1VKY9mnWur0YVdF2HQ</td>\n",
       "      <td>2013-10-21</td>\n",
       "      <td>1.200000</td>\n",
       "      <td>6</td>\n",
       "      <td>{HQAHZSGOKILQZoa48zvR1A, lT-iq0RCJRChLeSKJypIZ...</td>\n",
       "    </tr>\n",
       "    <tr>\n",
       "      <th>724756</th>\n",
       "      <td>3.67</td>\n",
       "      <td>2</td>\n",
       "      <td>kQG_KRMfDX5GLCMAzu5MLQ</td>\n",
       "      <td>2013-08-23</td>\n",
       "      <td>1.500000</td>\n",
       "      <td>3</td>\n",
       "      <td>{GSzY96SgM_hOxYRLPzFDKQ, YWx28uZZhL_ByntuIVy73...</td>\n",
       "    </tr>\n",
       "    <tr>\n",
       "      <th>717658</th>\n",
       "      <td>2.56</td>\n",
       "      <td>1</td>\n",
       "      <td>limKeYzmVfivoDpZNs2qzA</td>\n",
       "      <td>2014-03-20</td>\n",
       "      <td>2.000000</td>\n",
       "      <td>2</td>\n",
       "      <td>{pPFjixpvgWLlJ6TIukXjJw, TqcdYFSP7tn59ybGpKfv2Q}</td>\n",
       "    </tr>\n",
       "    <tr>\n",
       "      <th>550143</th>\n",
       "      <td>3.67</td>\n",
       "      <td>2</td>\n",
       "      <td>oP_guLe__P5BKsTMcV_DDA</td>\n",
       "      <td>2016-11-10</td>\n",
       "      <td>1.500000</td>\n",
       "      <td>3</td>\n",
       "      <td>{h8hrjqYUMy-3_FZm2G3A9g, WOEg55UI9ZHCtHIM0FAZE...</td>\n",
       "    </tr>\n",
       "    <tr>\n",
       "      <th>276321</th>\n",
       "      <td>3.33</td>\n",
       "      <td>1</td>\n",
       "      <td>oS87-mKITgMupgV12hmQxw</td>\n",
       "      <td>2015-02-14</td>\n",
       "      <td>2.000000</td>\n",
       "      <td>2</td>\n",
       "      <td>{40oAi-2PyGmm0n7ghOVkhA, oSzZ_B5VR14CknIRsvveJQ}</td>\n",
       "    </tr>\n",
       "    <tr>\n",
       "      <th>350345</th>\n",
       "      <td>2.80</td>\n",
       "      <td>3</td>\n",
       "      <td>pQSpJukPH5QmvebFHgJc7A</td>\n",
       "      <td>2016-09-22</td>\n",
       "      <td>1.333333</td>\n",
       "      <td>4</td>\n",
       "      <td>{xFFZb_KbaTjPAremrGahFw, 5A88eUwQRCv7xMJ4FTFLI...</td>\n",
       "    </tr>\n",
       "    <tr>\n",
       "      <th>90758</th>\n",
       "      <td>3.86</td>\n",
       "      <td>6</td>\n",
       "      <td>qNeb0IsEKPR6K9IgtOcVcg</td>\n",
       "      <td>2014-08-27</td>\n",
       "      <td>1.166667</td>\n",
       "      <td>7</td>\n",
       "      <td>{DI9DPke0l-l6FMelSy552g, N9Tsr2n9aIKnrrnc07Rhy...</td>\n",
       "    </tr>\n",
       "    <tr>\n",
       "      <th>539814</th>\n",
       "      <td>2.60</td>\n",
       "      <td>2</td>\n",
       "      <td>qvyN8O2-U-hitMZypmKF1w</td>\n",
       "      <td>2014-11-04</td>\n",
       "      <td>2.000000</td>\n",
       "      <td>4</td>\n",
       "      <td>{YHdHXiAiASApTLVNq2Nyew, -PUoe84jq4MDPCdJAY4Ih...</td>\n",
       "    </tr>\n",
       "    <tr>\n",
       "      <th>246059</th>\n",
       "      <td>3.00</td>\n",
       "      <td>2</td>\n",
       "      <td>sLbjJ2OTQOLSnMJLABFGPA</td>\n",
       "      <td>2016-11-14</td>\n",
       "      <td>1.500000</td>\n",
       "      <td>3</td>\n",
       "      <td>{dLsbH42hJoFaC6STIaqrog, 4aslWZA5ydKnmMSE-xtde...</td>\n",
       "    </tr>\n",
       "    <tr>\n",
       "      <th>133710</th>\n",
       "      <td>3.92</td>\n",
       "      <td>9</td>\n",
       "      <td>sO0EQAiJVB5FUOvCOMIBKw</td>\n",
       "      <td>2013-11-24</td>\n",
       "      <td>1.111111</td>\n",
       "      <td>10</td>\n",
       "      <td>{XrC7sKylFy7RaiBPlyD8Cw, wAObGhMqaUm-_6cGvwFOV...</td>\n",
       "    </tr>\n",
       "    <tr>\n",
       "      <th>610018</th>\n",
       "      <td>4.20</td>\n",
       "      <td>4</td>\n",
       "      <td>sOL4vqXDrGGm0fPyVGC95A</td>\n",
       "      <td>2014-05-02</td>\n",
       "      <td>1.250000</td>\n",
       "      <td>5</td>\n",
       "      <td>{mn41bxXUjX7bQDUnkXHpHg, ZV0Yr_1d-KuQwaEqH7qi9...</td>\n",
       "    </tr>\n",
       "    <tr>\n",
       "      <th>519379</th>\n",
       "      <td>3.00</td>\n",
       "      <td>3</td>\n",
       "      <td>smLJbNzjlVx2wsH6gbYlWg</td>\n",
       "      <td>2014-10-21</td>\n",
       "      <td>1.333333</td>\n",
       "      <td>4</td>\n",
       "      <td>{PS7ZHFEkRTUdExUvSioo3A, W4kLobhzhdG3wn6-6Bqzu...</td>\n",
       "    </tr>\n",
       "    <tr>\n",
       "      <th>774112</th>\n",
       "      <td>3.20</td>\n",
       "      <td>2</td>\n",
       "      <td>upRAv2okAqxzUfnjEoO2rg</td>\n",
       "      <td>2017-05-02</td>\n",
       "      <td>1.500000</td>\n",
       "      <td>3</td>\n",
       "      <td>{VuXPh1XVtH-WDMKu_5Lt1w, _hZAAjSyXhRNCzJYxBD8z...</td>\n",
       "    </tr>\n",
       "    <tr>\n",
       "      <th>95851</th>\n",
       "      <td>3.67</td>\n",
       "      <td>31</td>\n",
       "      <td>v8DTz8SQRMlFdWrpCMp4Hg</td>\n",
       "      <td>2007-04-14</td>\n",
       "      <td>1.129032</td>\n",
       "      <td>35</td>\n",
       "      <td>{eV6mlyt1abLH37GSM2lS6g, H7DrVzi913XvdmYn-F2tF...</td>\n",
       "    </tr>\n",
       "    <tr>\n",
       "      <th>523167</th>\n",
       "      <td>4.20</td>\n",
       "      <td>4</td>\n",
       "      <td>vf3u305Cp4wwreUx8nzjSg</td>\n",
       "      <td>2014-10-25</td>\n",
       "      <td>1.250000</td>\n",
       "      <td>5</td>\n",
       "      <td>{SmMx6VBKeq3jPWEYg9GXiQ, KybPyWSlLgmbMvCjDNRmU...</td>\n",
       "    </tr>\n",
       "    <tr>\n",
       "      <th>14596</th>\n",
       "      <td>2.67</td>\n",
       "      <td>5</td>\n",
       "      <td>wD7YtQHc-UvrGjQks4q_-Q</td>\n",
       "      <td>2015-08-30</td>\n",
       "      <td>1.200000</td>\n",
       "      <td>6</td>\n",
       "      <td>{v0wW-GLhUZx2IjelDanzFw, uNUDdcDWG83CFI6YXcbKe...</td>\n",
       "    </tr>\n",
       "    <tr>\n",
       "      <th>99233</th>\n",
       "      <td>3.58</td>\n",
       "      <td>6</td>\n",
       "      <td>wKMIkvrOT8mIofL3_rOEhg</td>\n",
       "      <td>2014-07-16</td>\n",
       "      <td>1.500000</td>\n",
       "      <td>9</td>\n",
       "      <td>{4CKEMZChhn6sbYtXlrKOLA, 1Hl5ck4r1iRBgqYvNQ48M...</td>\n",
       "    </tr>\n",
       "    <tr>\n",
       "      <th>617511</th>\n",
       "      <td>4.50</td>\n",
       "      <td>5</td>\n",
       "      <td>xCMMiUeEunMpXnh8bOgjDQ</td>\n",
       "      <td>2015-03-20</td>\n",
       "      <td>1.200000</td>\n",
       "      <td>6</td>\n",
       "      <td>{5Cgc_BuJ9v_2fTYOrBISUw, xggntbxgZJ-2ieJFhjQWa...</td>\n",
       "    </tr>\n",
       "    <tr>\n",
       "      <th>210698</th>\n",
       "      <td>5.00</td>\n",
       "      <td>1</td>\n",
       "      <td>ybYYFABspCw4iygg062ONw</td>\n",
       "      <td>2013-07-08</td>\n",
       "      <td>2.000000</td>\n",
       "      <td>2</td>\n",
       "      <td>{UAtrmn-UY6xQfXG1-Ke0aQ, 73n0e_QIpx6NbHas_mi1bg}</td>\n",
       "    </tr>\n",
       "    <tr>\n",
       "      <th>249654</th>\n",
       "      <td>4.00</td>\n",
       "      <td>4</td>\n",
       "      <td>z0MLuGcYk8olNQ7TC5LUDA</td>\n",
       "      <td>2012-12-17</td>\n",
       "      <td>1.250000</td>\n",
       "      <td>5</td>\n",
       "      <td>{r8qJVCvbeIFUkYwFRLFI5g, wdPBlGLM--CsHc5Ar3kVK...</td>\n",
       "    </tr>\n",
       "  </tbody>\n",
       "</table>\n",
       "<p>63 rows × 7 columns</p>\n",
       "</div>"
      ],
      "text/plain": [
       "         average_stars  review_count                 user_id yelping_since  \\\n",
       "651597            2.50             2  -CgbL7Rygee52C3ylCV3iQ    2017-01-06   \n",
       "672767            3.80             1  09z9No52Jiyf1y4sO31GQw    2012-05-02   \n",
       "360584            2.06            19  0LQZIzeAsJgLdrRp4wd3zA    2014-07-02   \n",
       "338210            4.25             6  0imvl3fmbRdpF_CD36D1JA    2013-01-01   \n",
       "162375            2.40             6  2y9cPgLYd4Okx6Zk1EBvsA    2012-07-31   \n",
       "617439            3.00             1  3Hv7dnRcwC4IBEvUyIj6UQ    2012-04-17   \n",
       "526622            3.00             1  4guECw0hnVUijdv8RnSzUg    2014-11-16   \n",
       "664959            1.75             6  4uOzvmj_TQcWwCZfdTrimA    2012-02-08   \n",
       "296721            3.60             3  6cba0fI0-Hog52YFLAYN3A    2015-09-08   \n",
       "267796            2.00             3  7RL3qW5IqoD4Mu3X1bkjjA    2016-08-17   \n",
       "191026            5.00             3  87v53p49Kh_m7caV8KhAbQ    2014-08-08   \n",
       "199891            3.00             5  C_LxqoDy2nwwTZX7XT5LHg    2014-05-09   \n",
       "459704            2.82             3  CqO8EBO8K7wV6cyAvDKN6A    2016-09-26   \n",
       "644384            2.33             1  E019O2XqmdwEma5pPZY4wQ    2016-03-21   \n",
       "265598            1.58            12  ERolBvFzLKfqq8DouenfOA    2013-06-01   \n",
       "33209             3.79            73  EdDmKiz6V89g6Dws9I4AKA    2016-01-27   \n",
       "300370            3.17             5  F1keniVFFw88gOiEuuSN9A    2015-04-15   \n",
       "5366              3.84             1  GXnPGaeM334u_e_JCoB1kA    2009-07-26   \n",
       "56290             3.38            14  I6eqcO4AA6jiCoak1iX-Mg    2012-11-15   \n",
       "55476             2.17            27  IPor3JMA74Ig1LivOt0d3Q    2008-11-12   \n",
       "17689             5.00             3  M47skZU1iimnrpz5Fb2HuA    2014-10-11   \n",
       "266726            2.63             5  MbChyRFmIjDw6N09HCJORw    2016-11-23   \n",
       "693101            5.00             2  MqjTaPHdrotau9Pfmv1Tcg    2013-05-16   \n",
       "617568            3.00             1  N3_acAlXyiaOl8MSu2Knww    2017-02-05   \n",
       "368515            4.86             1  Pfkoyhdup4UeFOslJDLS1Q    2015-02-21   \n",
       "538607            5.00             2  QPFyfh2vkdWs2aNrFqb9mA    2017-01-17   \n",
       "131668            4.17             3  Qg42D4N2l-tUBJ1eXKYHaw    2014-06-22   \n",
       "142661            4.14             9  RGKIVa5bGSqX5vMnpBa9Fw    2014-09-01   \n",
       "490818            4.25             2  S0hQ2Xbfz1R9c6a69arYWQ    2016-10-23   \n",
       "1009629           4.00             2  UnP006Mbi-AqSTn23SzyWw    2013-07-18   \n",
       "...                ...           ...                     ...           ...   \n",
       "632106            4.67             1  Y5iBlmisRqCGgVhDMXFobg    2016-10-26   \n",
       "622056            3.67             2  ZegUGw7AUB0fjJDEyI82kg    2016-07-16   \n",
       "247760            1.00             1  _apv24N3nLwIdPrHxmjNmQ    2017-01-22   \n",
       "383555            3.00             5  _wYJcDJ8YWCqFdU3C8wHXQ    2014-11-17   \n",
       "121759            3.00             2  bgmffI7VNYbia4yOZ4urqg    2012-10-25   \n",
       "22103             3.24            11  ddPFBOsvFjaOVRj8sTZQmA    2014-06-26   \n",
       "177654            3.67             6  elf4PucDzGfsKk4psaf2Qw    2016-07-18   \n",
       "235694            3.44            10  fL5CQ4s4ANUvwsU0h1y5Ag    2016-05-26   \n",
       "58404             3.25            15  hOPE0YPENSZhsC-nlpxIRQ    2015-07-23   \n",
       "539190            3.67             8  hbQobvcC07W0zQA_93sxKA    2013-03-01   \n",
       "598738            4.00             5  jDoR1VKY9mnWur0YVdF2HQ    2013-10-21   \n",
       "724756            3.67             2  kQG_KRMfDX5GLCMAzu5MLQ    2013-08-23   \n",
       "717658            2.56             1  limKeYzmVfivoDpZNs2qzA    2014-03-20   \n",
       "550143            3.67             2  oP_guLe__P5BKsTMcV_DDA    2016-11-10   \n",
       "276321            3.33             1  oS87-mKITgMupgV12hmQxw    2015-02-14   \n",
       "350345            2.80             3  pQSpJukPH5QmvebFHgJc7A    2016-09-22   \n",
       "90758             3.86             6  qNeb0IsEKPR6K9IgtOcVcg    2014-08-27   \n",
       "539814            2.60             2  qvyN8O2-U-hitMZypmKF1w    2014-11-04   \n",
       "246059            3.00             2  sLbjJ2OTQOLSnMJLABFGPA    2016-11-14   \n",
       "133710            3.92             9  sO0EQAiJVB5FUOvCOMIBKw    2013-11-24   \n",
       "610018            4.20             4  sOL4vqXDrGGm0fPyVGC95A    2014-05-02   \n",
       "519379            3.00             3  smLJbNzjlVx2wsH6gbYlWg    2014-10-21   \n",
       "774112            3.20             2  upRAv2okAqxzUfnjEoO2rg    2017-05-02   \n",
       "95851             3.67            31  v8DTz8SQRMlFdWrpCMp4Hg    2007-04-14   \n",
       "523167            4.20             4  vf3u305Cp4wwreUx8nzjSg    2014-10-25   \n",
       "14596             2.67             5  wD7YtQHc-UvrGjQks4q_-Q    2015-08-30   \n",
       "99233             3.58             6  wKMIkvrOT8mIofL3_rOEhg    2014-07-16   \n",
       "617511            4.50             5  xCMMiUeEunMpXnh8bOgjDQ    2015-03-20   \n",
       "210698            5.00             1  ybYYFABspCw4iygg062ONw    2013-07-08   \n",
       "249654            4.00             4  z0MLuGcYk8olNQ7TC5LUDA    2012-12-17   \n",
       "\n",
       "         AvailPct  AvailReviewCount  \\\n",
       "651597   1.500000                 3   \n",
       "672767   2.000000                 2   \n",
       "360584   1.052632                20   \n",
       "338210   1.166667                 7   \n",
       "162375   1.166667                 7   \n",
       "617439   2.000000                 2   \n",
       "526622   2.000000                 2   \n",
       "664959   1.333333                 8   \n",
       "296721   1.333333                 4   \n",
       "267796   1.333333                 4   \n",
       "191026   1.333333                 4   \n",
       "199891   1.200000                 6   \n",
       "459704   2.000000                 6   \n",
       "644384   2.000000                 2   \n",
       "265598   1.083333                13   \n",
       "33209    1.013699                74   \n",
       "300370   1.200000                 6   \n",
       "5366     8.000000                 8   \n",
       "56290    1.071429                15   \n",
       "55476    1.111111                30   \n",
       "17689    1.333333                 4   \n",
       "266726   1.200000                 6   \n",
       "693101   1.500000                 3   \n",
       "617568   2.000000                 2   \n",
       "368515   4.000000                 4   \n",
       "538607   1.500000                 3   \n",
       "131668   2.000000                 6   \n",
       "142661   2.222222                20   \n",
       "490818   1.500000                 3   \n",
       "1009629  1.500000                 3   \n",
       "...           ...               ...   \n",
       "632106   2.000000                 2   \n",
       "622056   1.500000                 3   \n",
       "247760   2.000000                 2   \n",
       "383555   1.200000                 6   \n",
       "121759   2.000000                 4   \n",
       "22103    1.090909                12   \n",
       "177654   1.166667                 7   \n",
       "235694   1.100000                11   \n",
       "58404    1.066667                16   \n",
       "539190   1.125000                 9   \n",
       "598738   1.200000                 6   \n",
       "724756   1.500000                 3   \n",
       "717658   2.000000                 2   \n",
       "550143   1.500000                 3   \n",
       "276321   2.000000                 2   \n",
       "350345   1.333333                 4   \n",
       "90758    1.166667                 7   \n",
       "539814   2.000000                 4   \n",
       "246059   1.500000                 3   \n",
       "133710   1.111111                10   \n",
       "610018   1.250000                 5   \n",
       "519379   1.333333                 4   \n",
       "774112   1.500000                 3   \n",
       "95851    1.129032                35   \n",
       "523167   1.250000                 5   \n",
       "14596    1.200000                 6   \n",
       "99233    1.500000                 9   \n",
       "617511   1.200000                 6   \n",
       "210698   2.000000                 2   \n",
       "249654   1.250000                 5   \n",
       "\n",
       "                                                   Reviews  \n",
       "651597   {4CreNchsizUo0Z_6FbaKMA, xqrB6SH-oZAAnwQbZB5G6...  \n",
       "672767    {a0_68YgcbxwYLnthWnEHqQ, K5akza6plIQV3lYPL7RILw}  \n",
       "360584   {gxiBdEGEE_AzzTfwg0XIdw, I4BMvyKZ1Wk6LYzkYDAvM...  \n",
       "338210   {f-hOdzO85npFfUWMnTnL_Q, RtScw80vx6-TvC5bGj_m4...  \n",
       "162375   {QW_d1Pb1v5YxQQ-WWryWxQ, YWMTN9pqfP3yeMr3yh9QF...  \n",
       "617439    {NGuDMSFH-tmspJ62yz-NqQ, A6emVdQVe7X5UvEcLwZgoA}  \n",
       "526622    {gLJxik3YPpjvF-FIMO1ArA, eqnQDTJUbthbuu-WE1ypuA}  \n",
       "664959   {YtO1iFX-xr20ekLg_gMGcw, hwFhMtyDWCM-jBewuekFk...  \n",
       "296721   {Evpx_ciiJJjY-EaBo5oIJg, fOfyPzwAPfx4BLdhMrIia...  \n",
       "267796   {Qp3X4K524EiRjVshqQcROw, e9z95pNzM5qKQc60yBSGG...  \n",
       "191026   {oBqMMIq6uDjrDVKniTNvJw, WDYb4mUWvK9nYfJgY92lk...  \n",
       "199891   {Xa0xRUwzxtvXechhfJfksg, vpn-W_hkjFYwYiExSLsDP...  \n",
       "459704   {PB4nzJmdFM1z4vIdmsFmpA, 9t24rcePt3p8-FmVWHMO7...  \n",
       "644384    {HdICUAF6W-T_OZw2OgIVdQ, mcZIqp7a6EfD9RIPiXqv0A}  \n",
       "265598   {L2Ztd-CUKz9DLNwHQHAyNw, CXfzvLJIXkj_WyYGEauz8...  \n",
       "33209    {ADLFAWS-HskfIqeYHiCaZQ, VsargYZKU3xv6pX8TY3pq...  \n",
       "300370   {pVQmZlh0BHmUjQLn5Krvdg, zD7YQjV6TomT1mMBNs-1T...  \n",
       "5366     {oiqpnap-LgDsGCC9WmoH2w, Q2nqeJT-fDcaimYf-OL0-...  \n",
       "56290    {ROnRXmjaxxqeajDQ7XTskg, 6TeSKY2tfdijulsebjvsq...  \n",
       "55476    {BQ4VqEjKf1YY1fe1KYPJNg, R4L9SMkanZ_-AzNYBLhum...  \n",
       "17689    {R-7TonNoea1gW9mODImGwg, ga0_M9P9b2Z69SLOjYQMt...  \n",
       "266726   {MvxnRz5l2OcRDf-F2j3zaw, SHP7MWOB6DVgURRKPPLk4...  \n",
       "693101   {obZKoEQUEsrE0vo1dD-RWQ, 5HMeVXTUnecBEQRxsKk7X...  \n",
       "617568    {xS2MZicGH1t_QD0s4jzc8w, DQYSOIwL8Z7pdQVxWZm8jA}  \n",
       "368515   {YZzkcvU6X42eGHaGl1L7DQ, 3pSiQvqHqDZVyftpqthj7...  \n",
       "538607   {nL45bEM90qRKg5D-pQBtHg, ZUaG3LaDQmVqE4Pta0dfk...  \n",
       "131668   {QMm0MBPk0FnRH6bBKLly6Q, bIzOxLU8o_Q-b-X4k3gGs...  \n",
       "142661   {IG9LjVk1wdTUOtnC_o_q5Q, dJzc8l2LtrGgTAzVNOX0d...  \n",
       "490818   {XD8t-CvGLVFUrxhPTa5WXQ, BMDhWn1-pCU2i_vZCU3Qn...  \n",
       "1009629  {n-FHj1fWBfVSn6BJGUNVSQ, rb2Ega95s4ErI4bDMM_4E...  \n",
       "...                                                    ...  \n",
       "632106    {Q8T5B44yT5-_fqBpuvjj8w, N2ovjdIASuHTRMSh3vcSTA}  \n",
       "622056   {dJf0C_ABcEZ86lwBQxr2ew, fpAFHrRszxcPTzk9-nWzU...  \n",
       "247760    {dfblO0KtUy1Hy-_Y7IdbIw, Kfue7AWAbGowO3BMsuLhjg}  \n",
       "383555   {yWTMNtxHFeYGVd0jnB_DkA, KQ_QFyNTf74Mj9t0KqdrH...  \n",
       "121759   {fKwM6R6QeNTm4AMUp02T6w, Iiys3gs7OtM_9Vxorf9Os...  \n",
       "22103    {-p2HFNHsjL4iMRoje3XePg, hgKuMFOcATh4MV13RmneB...  \n",
       "177654   {awtuelhLAIQKfDjOdMyOUA, JCL8HC-WZTBKBuE4gZZxx...  \n",
       "235694   {vNT762sO6-9UjAKkWEcvtA, rBs5oEkdAgcAB9t2eSP0P...  \n",
       "58404    {IaIvB-zg3qb-C46bFLhhvg, VCm6_wNs_W_smJaQBglpK...  \n",
       "539190   {slzao0kfHho9pjw4SZQR2g, wh_S5fy6f9RaYANBJF69G...  \n",
       "598738   {HQAHZSGOKILQZoa48zvR1A, lT-iq0RCJRChLeSKJypIZ...  \n",
       "724756   {GSzY96SgM_hOxYRLPzFDKQ, YWx28uZZhL_ByntuIVy73...  \n",
       "717658    {pPFjixpvgWLlJ6TIukXjJw, TqcdYFSP7tn59ybGpKfv2Q}  \n",
       "550143   {h8hrjqYUMy-3_FZm2G3A9g, WOEg55UI9ZHCtHIM0FAZE...  \n",
       "276321    {40oAi-2PyGmm0n7ghOVkhA, oSzZ_B5VR14CknIRsvveJQ}  \n",
       "350345   {xFFZb_KbaTjPAremrGahFw, 5A88eUwQRCv7xMJ4FTFLI...  \n",
       "90758    {DI9DPke0l-l6FMelSy552g, N9Tsr2n9aIKnrrnc07Rhy...  \n",
       "539814   {YHdHXiAiASApTLVNq2Nyew, -PUoe84jq4MDPCdJAY4Ih...  \n",
       "246059   {dLsbH42hJoFaC6STIaqrog, 4aslWZA5ydKnmMSE-xtde...  \n",
       "133710   {XrC7sKylFy7RaiBPlyD8Cw, wAObGhMqaUm-_6cGvwFOV...  \n",
       "610018   {mn41bxXUjX7bQDUnkXHpHg, ZV0Yr_1d-KuQwaEqH7qi9...  \n",
       "519379   {PS7ZHFEkRTUdExUvSioo3A, W4kLobhzhdG3wn6-6Bqzu...  \n",
       "774112   {VuXPh1XVtH-WDMKu_5Lt1w, _hZAAjSyXhRNCzJYxBD8z...  \n",
       "95851    {eV6mlyt1abLH37GSM2lS6g, H7DrVzi913XvdmYn-F2tF...  \n",
       "523167   {SmMx6VBKeq3jPWEYg9GXiQ, KybPyWSlLgmbMvCjDNRmU...  \n",
       "14596    {v0wW-GLhUZx2IjelDanzFw, uNUDdcDWG83CFI6YXcbKe...  \n",
       "99233    {4CKEMZChhn6sbYtXlrKOLA, 1Hl5ck4r1iRBgqYvNQ48M...  \n",
       "617511   {5Cgc_BuJ9v_2fTYOrBISUw, xggntbxgZJ-2ieJFhjQWa...  \n",
       "210698    {UAtrmn-UY6xQfXG1-Ke0aQ, 73n0e_QIpx6NbHas_mi1bg}  \n",
       "249654   {r8qJVCvbeIFUkYwFRLFI5g, wdPBlGLM--CsHc5Ar3kVK...  \n",
       "\n",
       "[63 rows x 7 columns]"
      ]
     },
     "execution_count": 4,
     "metadata": {},
     "output_type": "execute_result"
    }
   ],
   "source": [
    "wrongreview"
   ]
  },
  {
   "cell_type": "code",
   "execution_count": 5,
   "metadata": {},
   "outputs": [],
   "source": [
    "userDf=userDf.drop(wrongreview.index)"
   ]
  },
  {
   "cell_type": "code",
   "execution_count": 6,
   "metadata": {},
   "outputs": [
    {
     "data": {
      "text/html": [
       "<div>\n",
       "<style scoped>\n",
       "    .dataframe tbody tr th:only-of-type {\n",
       "        vertical-align: middle;\n",
       "    }\n",
       "\n",
       "    .dataframe tbody tr th {\n",
       "        vertical-align: top;\n",
       "    }\n",
       "\n",
       "    .dataframe thead th {\n",
       "        text-align: right;\n",
       "    }\n",
       "</style>\n",
       "<table border=\"1\" class=\"dataframe\">\n",
       "  <thead>\n",
       "    <tr style=\"text-align: right;\">\n",
       "      <th></th>\n",
       "      <th>average_stars</th>\n",
       "      <th>review_count</th>\n",
       "      <th>AvailPct</th>\n",
       "      <th>AvailReviewCount</th>\n",
       "    </tr>\n",
       "  </thead>\n",
       "  <tbody>\n",
       "    <tr>\n",
       "      <th>count</th>\n",
       "      <td>388841.000000</td>\n",
       "      <td>388841.000000</td>\n",
       "      <td>388841.000000</td>\n",
       "      <td>388841.000000</td>\n",
       "    </tr>\n",
       "    <tr>\n",
       "      <th>mean</th>\n",
       "      <td>3.623855</td>\n",
       "      <td>4.380572</td>\n",
       "      <td>0.984999</td>\n",
       "      <td>4.065978</td>\n",
       "    </tr>\n",
       "    <tr>\n",
       "      <th>std</th>\n",
       "      <td>1.477172</td>\n",
       "      <td>13.790725</td>\n",
       "      <td>0.043293</td>\n",
       "      <td>12.017532</td>\n",
       "    </tr>\n",
       "    <tr>\n",
       "      <th>min</th>\n",
       "      <td>1.000000</td>\n",
       "      <td>1.000000</td>\n",
       "      <td>0.800866</td>\n",
       "      <td>1.000000</td>\n",
       "    </tr>\n",
       "    <tr>\n",
       "      <th>25%</th>\n",
       "      <td>2.630000</td>\n",
       "      <td>1.000000</td>\n",
       "      <td>1.000000</td>\n",
       "      <td>1.000000</td>\n",
       "    </tr>\n",
       "    <tr>\n",
       "      <th>50%</th>\n",
       "      <td>4.000000</td>\n",
       "      <td>1.000000</td>\n",
       "      <td>1.000000</td>\n",
       "      <td>1.000000</td>\n",
       "    </tr>\n",
       "    <tr>\n",
       "      <th>75%</th>\n",
       "      <td>5.000000</td>\n",
       "      <td>3.000000</td>\n",
       "      <td>1.000000</td>\n",
       "      <td>3.000000</td>\n",
       "    </tr>\n",
       "    <tr>\n",
       "      <th>max</th>\n",
       "      <td>5.000000</td>\n",
       "      <td>1178.000000</td>\n",
       "      <td>1.000000</td>\n",
       "      <td>948.000000</td>\n",
       "    </tr>\n",
       "  </tbody>\n",
       "</table>\n",
       "</div>"
      ],
      "text/plain": [
       "       average_stars   review_count       AvailPct  AvailReviewCount\n",
       "count  388841.000000  388841.000000  388841.000000     388841.000000\n",
       "mean        3.623855       4.380572       0.984999          4.065978\n",
       "std         1.477172      13.790725       0.043293         12.017532\n",
       "min         1.000000       1.000000       0.800866          1.000000\n",
       "25%         2.630000       1.000000       1.000000          1.000000\n",
       "50%         4.000000       1.000000       1.000000          1.000000\n",
       "75%         5.000000       3.000000       1.000000          3.000000\n",
       "max         5.000000    1178.000000       1.000000        948.000000"
      ]
     },
     "execution_count": 6,
     "metadata": {},
     "output_type": "execute_result"
    }
   ],
   "source": [
    "userDf.describe()"
   ]
  },
  {
   "cell_type": "markdown",
   "metadata": {},
   "source": [
    "# Part II: Pick a subset of all active users and inactive users\n",
    "It's impossible to analyze all users (because there are so many), so we are more interested in only analyzing active users and inactive users. We pick active users as those with *review_count>=90*, and inactive users as those with *review_count<=1*."
   ]
  },
  {
   "cell_type": "code",
   "execution_count": 7,
   "metadata": {},
   "outputs": [
    {
     "data": {
      "text/html": [
       "<div>\n",
       "<style scoped>\n",
       "    .dataframe tbody tr th:only-of-type {\n",
       "        vertical-align: middle;\n",
       "    }\n",
       "\n",
       "    .dataframe tbody tr th {\n",
       "        vertical-align: top;\n",
       "    }\n",
       "\n",
       "    .dataframe thead th {\n",
       "        text-align: right;\n",
       "    }\n",
       "</style>\n",
       "<table border=\"1\" class=\"dataframe\">\n",
       "  <thead>\n",
       "    <tr style=\"text-align: right;\">\n",
       "      <th></th>\n",
       "      <th>average_stars</th>\n",
       "      <th>review_count</th>\n",
       "      <th>AvailPct</th>\n",
       "      <th>AvailReviewCount</th>\n",
       "    </tr>\n",
       "  </thead>\n",
       "  <tbody>\n",
       "    <tr>\n",
       "      <th>count</th>\n",
       "      <td>1478.000000</td>\n",
       "      <td>1478.000000</td>\n",
       "      <td>1478.000000</td>\n",
       "      <td>1478.000000</td>\n",
       "    </tr>\n",
       "    <tr>\n",
       "      <th>mean</th>\n",
       "      <td>3.718018</td>\n",
       "      <td>163.820704</td>\n",
       "      <td>0.873158</td>\n",
       "      <td>142.470907</td>\n",
       "    </tr>\n",
       "    <tr>\n",
       "      <th>std</th>\n",
       "      <td>0.380821</td>\n",
       "      <td>103.633382</td>\n",
       "      <td>0.048381</td>\n",
       "      <td>88.343739</td>\n",
       "    </tr>\n",
       "    <tr>\n",
       "      <th>min</th>\n",
       "      <td>1.870000</td>\n",
       "      <td>90.000000</td>\n",
       "      <td>0.800866</td>\n",
       "      <td>73.000000</td>\n",
       "    </tr>\n",
       "    <tr>\n",
       "      <th>25%</th>\n",
       "      <td>3.490000</td>\n",
       "      <td>104.000000</td>\n",
       "      <td>0.833333</td>\n",
       "      <td>92.000000</td>\n",
       "    </tr>\n",
       "    <tr>\n",
       "      <th>50%</th>\n",
       "      <td>3.730000</td>\n",
       "      <td>129.000000</td>\n",
       "      <td>0.866050</td>\n",
       "      <td>113.000000</td>\n",
       "    </tr>\n",
       "    <tr>\n",
       "      <th>75%</th>\n",
       "      <td>3.960000</td>\n",
       "      <td>180.000000</td>\n",
       "      <td>0.908182</td>\n",
       "      <td>156.000000</td>\n",
       "    </tr>\n",
       "    <tr>\n",
       "      <th>max</th>\n",
       "      <td>4.810000</td>\n",
       "      <td>1178.000000</td>\n",
       "      <td>1.000000</td>\n",
       "      <td>948.000000</td>\n",
       "    </tr>\n",
       "  </tbody>\n",
       "</table>\n",
       "</div>"
      ],
      "text/plain": [
       "       average_stars  review_count     AvailPct  AvailReviewCount\n",
       "count    1478.000000   1478.000000  1478.000000       1478.000000\n",
       "mean        3.718018    163.820704     0.873158        142.470907\n",
       "std         0.380821    103.633382     0.048381         88.343739\n",
       "min         1.870000     90.000000     0.800866         73.000000\n",
       "25%         3.490000    104.000000     0.833333         92.000000\n",
       "50%         3.730000    129.000000     0.866050        113.000000\n",
       "75%         3.960000    180.000000     0.908182        156.000000\n",
       "max         4.810000   1178.000000     1.000000        948.000000"
      ]
     },
     "execution_count": 7,
     "metadata": {},
     "output_type": "execute_result"
    }
   ],
   "source": [
    "active=userDf.loc[userDf['review_count']>=90]\n",
    "active.describe()"
   ]
  },
  {
   "cell_type": "code",
   "execution_count": 8,
   "metadata": {},
   "outputs": [
    {
     "data": {
      "text/plain": [
       "210572"
      ]
     },
     "execution_count": 8,
     "metadata": {},
     "output_type": "execute_result"
    }
   ],
   "source": [
    "active['AvailReviewCount'].sum()"
   ]
  },
  {
   "cell_type": "markdown",
   "metadata": {},
   "source": [
    "Because we are interested in analyzing the correlation between user activity and review texts, 200k is already a significant number of reviews to analyze."
   ]
  },
  {
   "cell_type": "code",
   "execution_count": 9,
   "metadata": {},
   "outputs": [
    {
     "data": {
      "text/html": [
       "<div>\n",
       "<style scoped>\n",
       "    .dataframe tbody tr th:only-of-type {\n",
       "        vertical-align: middle;\n",
       "    }\n",
       "\n",
       "    .dataframe tbody tr th {\n",
       "        vertical-align: top;\n",
       "    }\n",
       "\n",
       "    .dataframe thead th {\n",
       "        text-align: right;\n",
       "    }\n",
       "</style>\n",
       "<table border=\"1\" class=\"dataframe\">\n",
       "  <thead>\n",
       "    <tr style=\"text-align: right;\">\n",
       "      <th></th>\n",
       "      <th>average_stars</th>\n",
       "      <th>review_count</th>\n",
       "      <th>AvailPct</th>\n",
       "      <th>AvailReviewCount</th>\n",
       "    </tr>\n",
       "  </thead>\n",
       "  <tbody>\n",
       "    <tr>\n",
       "      <th>count</th>\n",
       "      <td>214054.000000</td>\n",
       "      <td>214054.0</td>\n",
       "      <td>214054.0</td>\n",
       "      <td>214054.0</td>\n",
       "    </tr>\n",
       "    <tr>\n",
       "      <th>mean</th>\n",
       "      <td>3.586616</td>\n",
       "      <td>1.0</td>\n",
       "      <td>1.0</td>\n",
       "      <td>1.0</td>\n",
       "    </tr>\n",
       "    <tr>\n",
       "      <th>std</th>\n",
       "      <td>1.746058</td>\n",
       "      <td>0.0</td>\n",
       "      <td>0.0</td>\n",
       "      <td>0.0</td>\n",
       "    </tr>\n",
       "    <tr>\n",
       "      <th>min</th>\n",
       "      <td>1.000000</td>\n",
       "      <td>1.0</td>\n",
       "      <td>1.0</td>\n",
       "      <td>1.0</td>\n",
       "    </tr>\n",
       "    <tr>\n",
       "      <th>25%</th>\n",
       "      <td>1.000000</td>\n",
       "      <td>1.0</td>\n",
       "      <td>1.0</td>\n",
       "      <td>1.0</td>\n",
       "    </tr>\n",
       "    <tr>\n",
       "      <th>50%</th>\n",
       "      <td>5.000000</td>\n",
       "      <td>1.0</td>\n",
       "      <td>1.0</td>\n",
       "      <td>1.0</td>\n",
       "    </tr>\n",
       "    <tr>\n",
       "      <th>75%</th>\n",
       "      <td>5.000000</td>\n",
       "      <td>1.0</td>\n",
       "      <td>1.0</td>\n",
       "      <td>1.0</td>\n",
       "    </tr>\n",
       "    <tr>\n",
       "      <th>max</th>\n",
       "      <td>5.000000</td>\n",
       "      <td>1.0</td>\n",
       "      <td>1.0</td>\n",
       "      <td>1.0</td>\n",
       "    </tr>\n",
       "  </tbody>\n",
       "</table>\n",
       "</div>"
      ],
      "text/plain": [
       "       average_stars  review_count  AvailPct  AvailReviewCount\n",
       "count  214054.000000      214054.0  214054.0          214054.0\n",
       "mean        3.586616           1.0       1.0               1.0\n",
       "std         1.746058           0.0       0.0               0.0\n",
       "min         1.000000           1.0       1.0               1.0\n",
       "25%         1.000000           1.0       1.0               1.0\n",
       "50%         5.000000           1.0       1.0               1.0\n",
       "75%         5.000000           1.0       1.0               1.0\n",
       "max         5.000000           1.0       1.0               1.0"
      ]
     },
     "execution_count": 9,
     "metadata": {},
     "output_type": "execute_result"
    }
   ],
   "source": [
    "inactive=userDf.loc[userDf['review_count']<=1]\n",
    "inactive.describe()"
   ]
  },
  {
   "cell_type": "code",
   "execution_count": 10,
   "metadata": {},
   "outputs": [
    {
     "data": {
      "text/plain": [
       "214054"
      ]
     },
     "execution_count": 10,
     "metadata": {},
     "output_type": "execute_result"
    }
   ],
   "source": [
    "inactive['AvailReviewCount'].sum()"
   ]
  },
  {
   "cell_type": "markdown",
   "metadata": {},
   "source": [
    "Export the data frames of active users and inactive users"
   ]
  },
  {
   "cell_type": "code",
   "execution_count": null,
   "metadata": {},
   "outputs": [],
   "source": [
    "inactive.to_pickle('inactiveUserDf.pkl')\n",
    "active.to_pickle('activeUserDf.pkl')"
   ]
  },
  {
   "cell_type": "markdown",
   "metadata": {},
   "source": [
    "### Get all reviews for active users and inactive users\n",
    "Create a function to get all review_id for active users and inactive users, so that we can fetch the corresponding review texts later."
   ]
  },
  {
   "cell_type": "code",
   "execution_count": null,
   "metadata": {},
   "outputs": [],
   "source": [
    "def getReviews(df):\n",
    "    '''Return all review_id for df in a list, assuming there are no duplicates in the review_id'''\n",
    "    reviews=[]\n",
    "    for reviewset in df['Reviews']:\n",
    "        for review in reviewset:\n",
    "            reviews.append(review)\n",
    "    return reviews"
   ]
  },
  {
   "cell_type": "code",
   "execution_count": null,
   "metadata": {},
   "outputs": [],
   "source": [
    "inactiveReviews=getReviews(inactive)"
   ]
  },
  {
   "cell_type": "code",
   "execution_count": null,
   "metadata": {},
   "outputs": [],
   "source": [
    "activeReviews=getReviews(active)"
   ]
  },
  {
   "cell_type": "code",
   "execution_count": null,
   "metadata": {},
   "outputs": [],
   "source": [
    "def groupByActivity(csvfile,inactiveReviews,activeReviews):\n",
    "    '''Read in a csv file and return a data frame that contains all reviews that belong to inactive users, and another data frame that contains all reviews that belong to active users'''\n",
    "    reviewDf=pd.read_csv(csvfile,index_col=0)\n",
    "    inactiveDf=reviewDf.loc[reviewDf['review_id'].isin(inactiveReviews)]\n",
    "    activeDf=reviewDf.loc[reviewDf['review_id'].isin(activeReviews)]\n",
    "    return inactiveDf,activeDf"
   ]
  },
  {
   "cell_type": "markdown",
   "metadata": {},
   "source": [
    "Go through all parsed review data frames and fetch review data for inactive users and active users."
   ]
  },
  {
   "cell_type": "code",
   "execution_count": null,
   "metadata": {},
   "outputs": [],
   "source": [
    "inactiveDf1,activeDf1=groupByActivity('reviewDfFile1.csv',inactiveReviews,activeReviews)"
   ]
  },
  {
   "cell_type": "code",
   "execution_count": null,
   "metadata": {},
   "outputs": [],
   "source": [
    "inactiveDf2,activeDf2=groupByActivity('reviewDfFile2.csv',inactiveReviews,activeReviews)"
   ]
  },
  {
   "cell_type": "code",
   "execution_count": null,
   "metadata": {},
   "outputs": [],
   "source": [
    "inactiveDf3,activeDf3=groupByActivity('reviewDfFile3.csv',inactiveReviews,activeReviews)"
   ]
  },
  {
   "cell_type": "code",
   "execution_count": null,
   "metadata": {},
   "outputs": [],
   "source": [
    "inactiveDf4,activeDf4=groupByActivity('reviewDfFile4.csv',inactiveReviews,activeReviews)"
   ]
  },
  {
   "cell_type": "markdown",
   "metadata": {},
   "source": [
    "Merge all 4 data frames into 1 data frame for active users and inactive users respectively."
   ]
  },
  {
   "cell_type": "code",
   "execution_count": null,
   "metadata": {},
   "outputs": [],
   "source": [
    "inactiveDf=pd.concat([inactiveDf1,inactiveDf2,inactiveDf3,inactiveDf4])"
   ]
  },
  {
   "cell_type": "code",
   "execution_count": null,
   "metadata": {},
   "outputs": [],
   "source": [
    "activeDf=pd.concat([activeDf1,activeDf2,activeDf3,activeDf4])"
   ]
  },
  {
   "cell_type": "markdown",
   "metadata": {},
   "source": [
    "Convert stars from float to int and export inactiveDf and activeDf."
   ]
  },
  {
   "cell_type": "code",
   "execution_count": null,
   "metadata": {},
   "outputs": [],
   "source": [
    "inactiveDf['stars']=inactiveDf['stars'].astype(int)\n",
    "activeDf['stars']=activeDf['stars'].astype(int)"
   ]
  },
  {
   "cell_type": "code",
   "execution_count": null,
   "metadata": {},
   "outputs": [],
   "source": [
    "activeDf.to_pickle('activeReviewDf.pkl')"
   ]
  },
  {
   "cell_type": "code",
   "execution_count": null,
   "metadata": {},
   "outputs": [],
   "source": [
    "inactiveDf.to_pickle('inactiveReivewDf.pkl')"
   ]
  },
  {
   "cell_type": "markdown",
   "metadata": {},
   "source": [
    "# Part III: split the data into a train set and a test set"
   ]
  },
  {
   "cell_type": "code",
   "execution_count": null,
   "metadata": {},
   "outputs": [],
   "source": [
    "from sklearn.model_selection import train_test_split\n",
    "train1, test1 = train_test_split(activeDf, test_size=0.2)"
   ]
  },
  {
   "cell_type": "code",
   "execution_count": null,
   "metadata": {},
   "outputs": [],
   "source": [
    "train2, test2 = train_test_split(inactiveDf, test_size=0.2)"
   ]
  },
  {
   "cell_type": "code",
   "execution_count": null,
   "metadata": {},
   "outputs": [],
   "source": [
    "train=pd.concat([train1,train2])\n",
    "test=pd.concat([test1,test2])"
   ]
  },
  {
   "cell_type": "code",
   "execution_count": null,
   "metadata": {},
   "outputs": [],
   "source": [
    "train.to_pickle('train.pkl')"
   ]
  },
  {
   "cell_type": "code",
   "execution_count": null,
   "metadata": {},
   "outputs": [],
   "source": [
    "test.to_pickle('test.pkl')"
   ]
  }
 ],
 "metadata": {
  "kernelspec": {
   "display_name": "Python 3",
   "language": "python",
   "name": "python3"
  },
  "language_info": {
   "codemirror_mode": {
    "name": "ipython",
    "version": 3
   },
   "file_extension": ".py",
   "mimetype": "text/x-python",
   "name": "python",
   "nbconvert_exporter": "python",
   "pygments_lexer": "ipython3",
   "version": "3.6.2"
  }
 },
 "nbformat": 4,
 "nbformat_minor": 2
}
