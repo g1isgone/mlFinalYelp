{
 "cells": [
  {
   "cell_type": "code",
   "execution_count": 2,
   "metadata": {},
   "outputs": [],
   "source": [
    "import pandas as pd\n",
    "import numpy as np"
   ]
  },
  {
   "cell_type": "code",
   "execution_count": 13,
   "metadata": {},
   "outputs": [
    {
     "name": "stderr",
     "output_type": "stream",
     "text": [
      "/Library/Frameworks/Python.framework/Versions/3.6/lib/python3.6/site-packages/numpy/lib/arraysetops.py:463: FutureWarning: elementwise comparison failed; returning scalar instead, but in the future will perform elementwise comparison\n",
      "  mask |= (ar1 == a)\n"
     ]
    }
   ],
   "source": [
    "#Load the user data frame file\n",
    "userDf = pd.read_csv('userDfFile.csv',index_col=0)"
   ]
  },
  {
   "cell_type": "code",
   "execution_count": null,
   "metadata": {},
   "outputs": [],
   "source": [
    "#Load the review data frame file\n",
    "reviewDf1=pd.read_csv('reviewDfFile1.csv',index_col=0)"
   ]
  },
  {
   "cell_type": "code",
   "execution_count": 14,
   "metadata": {},
   "outputs": [],
   "source": [
    "#Make a deep copy of userDf for adding a new column 'available_review_count'\n",
    "newUserDf=userDf.copy()"
   ]
  },
  {
   "cell_type": "code",
   "execution_count": null,
   "metadata": {},
   "outputs": [],
   "source": [
    "print(len(userDf))\n",
    "print(len(reviewDf1))"
   ]
  },
  {
   "cell_type": "markdown",
   "metadata": {},
   "source": [
    "This is my first attempt. After I wrote it, I figured it might be very slow so I did not bother running it through."
   ]
  },
  {
   "cell_type": "code",
   "execution_count": null,
   "metadata": {},
   "outputs": [],
   "source": [
    "# '''Count the number of available reviews in reviewDf for each user in userDf and add that to the existing newUserDf which contains the available_review_count so far'''\n",
    "# def countAvailableReview(userDf,reviewDf,newUserDf):\n",
    "#     #loop through each user in userDf and count the number of reviews available in reviewDf\n",
    "#     for i in range(len(userDf)):\n",
    "#         user=userDf.loc[i,'user_id']\n",
    "#         available_review_count=len(reviewDf.loc[reviewDf['user_id']==user])\n",
    "#         newUserDf.at[i,'available_review_count']=available_review_count\n",
    "#     return newUserDf"
   ]
  },
  {
   "cell_type": "code",
   "execution_count": null,
   "metadata": {},
   "outputs": [],
   "source": [
    "# newUserDf=countAvailableReview(userDf,reviewDf1,newUserDf)"
   ]
  },
  {
   "cell_type": "code",
   "execution_count": 15,
   "metadata": {},
   "outputs": [],
   "source": [
    "newUserDf.sort_values('user_id',inplace=True)"
   ]
  },
  {
   "cell_type": "code",
   "execution_count": null,
   "metadata": {},
   "outputs": [],
   "source": [
    "'---94vtJ_5o_nikEs6hUjg'<'---PLwSf5gKdIoVnyRHgBA'"
   ]
  },
  {
   "cell_type": "code",
   "execution_count": null,
   "metadata": {},
   "outputs": [],
   "source": [
    "# newUserDf.iloc[0, newUserDf.columns.get_loc('review_count')] = 246\n",
    "# df.iloc[0, df.columns.get_loc('COL_NAME')] = x\n",
    "# The following codes are just for testing\n",
    "# for i in range(20):\n",
    "#     print(len(reviewDf1.loc[reviewDf1['user_id']==newUserDf.iloc[i]['user_id']]))"
   ]
  },
  {
   "cell_type": "code",
   "execution_count": null,
   "metadata": {},
   "outputs": [],
   "source": [
    "reviewDf1.sort_values('user_id',inplace=True)"
   ]
  },
  {
   "cell_type": "code",
   "execution_count": null,
   "metadata": {},
   "outputs": [],
   "source": [
    "reviewDf1.head()"
   ]
  },
  {
   "cell_type": "markdown",
   "metadata": {},
   "source": [
    "### Sync the first data frame (reviewDfFile1.csv)"
   ]
  },
  {
   "cell_type": "code",
   "execution_count": null,
   "metadata": {},
   "outputs": [],
   "source": [
    "j=0 #j iterator in the sorted reviewDf1\n",
    "jmax=len(reviewDf1)\n",
    "newcolumn=[]\n",
    "for i in range(len(newUserDf)): #i is the iterator in the sorted newUserDf\n",
    "    user=newUserDf.iloc[i]['user_id'] #the current user we are syncing\n",
    "#     print(i,j,reviewDf1.iloc[j]['user_id'],user)\n",
    "    #loop till we find a user_id that is equal to or larger than user\n",
    "    while (j<jmax and reviewDf1.iloc[j]['user_id']<user):\n",
    "        j+=1\n",
    "    count=0 #initial available_review_count\n",
    "    #Now the user_id at position j in reviewDf matches the user_id at position i in newUserDf\n",
    "    while (j<jmax and reviewDf1.iloc[j]['user_id']==user):\n",
    "        count+=1\n",
    "        j+=1\n",
    "    newcolumn.append(count)"
   ]
  },
  {
   "cell_type": "code",
   "execution_count": null,
   "metadata": {},
   "outputs": [],
   "source": [
    "import copy\n",
    "# newcolumncopy=copy.deepcopy(newcolumn)"
   ]
  },
  {
   "cell_type": "markdown",
   "metadata": {},
   "source": [
    "### Now create a function to sync the rest data frames"
   ]
  },
  {
   "cell_type": "code",
   "execution_count": 3,
   "metadata": {},
   "outputs": [],
   "source": [
    "'''Update the newcolumn which contains the number of available reviews counted so far by syncing sortedUserDf and sortedReviewDf'''\n",
    "def fastCountAvaiReview(sortedUserDf,sortedReviewDf,newcolumn):\n",
    "    j=0\n",
    "    jmax=len(sortedReviewDf)\n",
    "    for i in range(len(sortedUserDf)):#i is the iterator in the sorted newUserDf\n",
    "        user=sortedUserDf.iloc[i]['user_id'] #the current user we are syncing\n",
    "        #loop till we find a user_id that is equal to or larger than user\n",
    "        while (j<jmax and sortedReviewDf.iloc[j]['user_id']<user):\n",
    "            j+=1\n",
    "        count=0 #initial available_review_count\n",
    "        #Now the user_id at position j in reviewDf matches the user_id at position i in newUserDf\n",
    "        while (j<jmax and sortedReviewDf.iloc[j]['user_id']==user):\n",
    "            count+=1\n",
    "            j+=1\n",
    "        newcolumn[i]+=count\n",
    "    return newcolumn\n",
    "    "
   ]
  },
  {
   "cell_type": "code",
   "execution_count": null,
   "metadata": {},
   "outputs": [],
   "source": [
    "#newUserDf.dropna()\n",
    "#It turns out there is actually no na values in the data frame"
   ]
  },
  {
   "cell_type": "code",
   "execution_count": 5,
   "metadata": {},
   "outputs": [],
   "source": [
    "'''Read the csv file as a data frame and sort it by user_id'''\n",
    "def loadAndSortCSV(csvfile):\n",
    "    reviewDf=pd.read_csv(csvfile,index_col=0,low)\n",
    "    reviewDf.sort_values('user_id',inplace=True)\n",
    "    return reviewDf"
   ]
  },
  {
   "cell_type": "markdown",
   "metadata": {},
   "source": [
    "##### Sync reviewDfFile2.csv"
   ]
  },
  {
   "cell_type": "code",
   "execution_count": null,
   "metadata": {},
   "outputs": [],
   "source": [
    "reviewDf=loadAndSortCSV('reviewDfFile2.csv')"
   ]
  },
  {
   "cell_type": "code",
   "execution_count": null,
   "metadata": {},
   "outputs": [],
   "source": [
    "newcolumn=fastCountAvaiReview(newUserDf,reviewDf,newcolumn)"
   ]
  },
  {
   "cell_type": "markdown",
   "metadata": {},
   "source": [
    "##### Export the result to 'AvaiReviewCountDfFile.csv'"
   ]
  },
  {
   "cell_type": "code",
   "execution_count": null,
   "metadata": {},
   "outputs": [],
   "source": [
    "AvaiReviewCountDf = pd.DataFrame(newcolumn, columns=[\"colummn\"])"
   ]
  },
  {
   "cell_type": "code",
   "execution_count": null,
   "metadata": {},
   "outputs": [],
   "source": [
    "AvaiReviewCountDf.to_csv('AvaiReviewCountDfFile.csv', index=False)"
   ]
  },
  {
   "cell_type": "code",
   "execution_count": null,
   "metadata": {},
   "outputs": [],
   "source": [
    "AvaiReviewCountDf.head()"
   ]
  },
  {
   "cell_type": "markdown",
   "metadata": {},
   "source": [
    "#### Sync reviewDfFile3.csv"
   ]
  },
  {
   "cell_type": "code",
   "execution_count": null,
   "metadata": {},
   "outputs": [],
   "source": [
    "reviewDf=loadAndSortCSV('reviewDfFile3.csv')"
   ]
  },
  {
   "cell_type": "markdown",
   "metadata": {},
   "source": [
    "Load AvaiReviewCountDfFile and convert it to list for syncing"
   ]
  },
  {
   "cell_type": "code",
   "execution_count": 4,
   "metadata": {},
   "outputs": [],
   "source": [
    "def loadCSVtoList(csvfile):\n",
    "    newcolumnDf=pd.read_csv(csvfile)\n",
    "    newcolumnarr=newcolumnDf.values\n",
    "    newcolumnlist=[]\n",
    "    for arr in newcolumnarr:\n",
    "        newcolumnlist.append(arr[0])\n",
    "    return newcolumnlist"
   ]
  },
  {
   "cell_type": "code",
   "execution_count": null,
   "metadata": {},
   "outputs": [],
   "source": [
    "newcolumnlist=loadCSVtoList('AvaiReviewCountDfFile.csv')"
   ]
  },
  {
   "cell_type": "code",
   "execution_count": null,
   "metadata": {},
   "outputs": [],
   "source": [
    "newcolumnlist=fastCountAvaiReview(newUserDf,reviewDf,newcolumnlist)"
   ]
  },
  {
   "cell_type": "markdown",
   "metadata": {},
   "source": [
    "#### Sync reviewDfFile4.csv"
   ]
  },
  {
   "cell_type": "code",
   "execution_count": null,
   "metadata": {},
   "outputs": [],
   "source": [
    "reviewDf4=pd.read_csv('reviewDfFile4.csv',index_col=0,low_memory=False)"
   ]
  },
  {
   "cell_type": "code",
   "execution_count": null,
   "metadata": {},
   "outputs": [],
   "source": [
    "reviewDf4.sort_values('user_id',inplace=True)"
   ]
  },
  {
   "cell_type": "code",
   "execution_count": null,
   "metadata": {},
   "outputs": [],
   "source": [
    "reviewDf4=reviewDf4.dropna() #reviewDf4 contains na values so need to drop those rows"
   ]
  },
  {
   "cell_type": "code",
   "execution_count": null,
   "metadata": {},
   "outputs": [],
   "source": [
    "newcolumnlist=fastCountAvaiReview(newUserDf,reviewDf4,newcolumnlist)"
   ]
  },
  {
   "cell_type": "code",
   "execution_count": null,
   "metadata": {},
   "outputs": [],
   "source": [
    "AvaiReviewCountDf = pd.DataFrame(newcolumnlist, columns=[\"colummn\"])"
   ]
  },
  {
   "cell_type": "code",
   "execution_count": null,
   "metadata": {},
   "outputs": [],
   "source": [
    "AvaiReviewCountDf.to_csv('AvaiReviewCountDfFile.csv', index=False)"
   ]
  },
  {
   "cell_type": "markdown",
   "metadata": {},
   "source": [
    "#### Sync reviewDfFile5.csv"
   ]
  },
  {
   "cell_type": "code",
   "execution_count": 6,
   "metadata": {},
   "outputs": [
    {
     "name": "stderr",
     "output_type": "stream",
     "text": [
      "/Library/Frameworks/Python.framework/Versions/3.6/lib/python3.6/site-packages/IPython/core/interactiveshell.py:2850: DtypeWarning: Columns (0) have mixed types. Specify dtype option on import or set low_memory=False.\n",
      "  if self.run_code(code, result):\n"
     ]
    }
   ],
   "source": [
    "reviewDf=loadAndSortCSV('reviewDfFile5.csv')"
   ]
  },
  {
   "cell_type": "code",
   "execution_count": 7,
   "metadata": {},
   "outputs": [
    {
     "data": {
      "text/html": [
       "<div>\n",
       "<style scoped>\n",
       "    .dataframe tbody tr th:only-of-type {\n",
       "        vertical-align: middle;\n",
       "    }\n",
       "\n",
       "    .dataframe tbody tr th {\n",
       "        vertical-align: top;\n",
       "    }\n",
       "\n",
       "    .dataframe thead th {\n",
       "        text-align: right;\n",
       "    }\n",
       "</style>\n",
       "<table border=\"1\" class=\"dataframe\">\n",
       "  <thead>\n",
       "    <tr style=\"text-align: right;\">\n",
       "      <th></th>\n",
       "      <th>business_id</th>\n",
       "      <th>date</th>\n",
       "      <th>review_id</th>\n",
       "      <th>stars</th>\n",
       "      <th>text</th>\n",
       "      <th>user_id</th>\n",
       "    </tr>\n",
       "  </thead>\n",
       "  <tbody>\n",
       "    <tr>\n",
       "      <th>1026710</th>\n",
       "      <td>zCJU73A0UTYXXFqAbgBckQ</td>\n",
       "      <td>2017-06-13</td>\n",
       "      <td>JHUQoD1ziYwBLbpM46yGdA</td>\n",
       "      <td>5.0</td>\n",
       "      <td>Had seen him on Americas Got Talent and so gla...</td>\n",
       "      <td>zzyh1-EF29x456g8wbtSqg</td>\n",
       "    </tr>\n",
       "    <tr>\n",
       "      <th>1012654</th>\n",
       "      <td>WivFagb6JtTeJskEEvYfXg</td>\n",
       "      <td>2017-01-31</td>\n",
       "      <td>QTsQHi4xjB84EOrAKHoifg</td>\n",
       "      <td>5.0</td>\n",
       "      <td>Assured Tax Service has provided an outstandin...</td>\n",
       "      <td>zzzmshdEWLFCApxETl1TGQ</td>\n",
       "    </tr>\n",
       "    <tr>\n",
       "      <th>10688</th>\n",
       "      <td>74pWjFssgqyhaVg-YCUo3A</td>\n",
       "      <td>2013-01-05</td>\n",
       "      <td>Gykf0vJowPiEyiDUlXt86g</td>\n",
       "      <td>5.0</td>\n",
       "      <td>This location is closed.  Web site needs updat...</td>\n",
       "      <td>zzzmshdEWLFCApxETl1TGQ</td>\n",
       "    </tr>\n",
       "    <tr>\n",
       "      <th>937609</th>\n",
       "      <td>eO0Dsp8MBjUT16lno8gkmA</td>\n",
       "      <td>2017-02-22</td>\n",
       "      <td>OSdqcxyXqM-XTEgajJNUmw</td>\n",
       "      <td>5.0</td>\n",
       "      <td>Working with Tina and Marcia has been such a p...</td>\n",
       "      <td>NaN</td>\n",
       "    </tr>\n",
       "    <tr>\n",
       "      <th>My husband and I had not purchased a home before and we definitely needed some hand holding. They were patient and professional. We got our dream home and the entire experience was awesome! Thank you so much ladies for a job well done!</th>\n",
       "      <td>QRn8ELZmvP8S4evnSRU9bQ</td>\n",
       "      <td>NaN</td>\n",
       "      <td>NaN</td>\n",
       "      <td>NaN</td>\n",
       "      <td>NaN</td>\n",
       "      <td>NaN</td>\n",
       "    </tr>\n",
       "  </tbody>\n",
       "</table>\n",
       "</div>"
      ],
      "text/plain": [
       "                                                               business_id  \\\n",
       "1026710                                             zCJU73A0UTYXXFqAbgBckQ   \n",
       "1012654                                             WivFagb6JtTeJskEEvYfXg   \n",
       "10688                                               74pWjFssgqyhaVg-YCUo3A   \n",
       "937609                                              eO0Dsp8MBjUT16lno8gkmA   \n",
       "My husband and I had not purchased a home befor...  QRn8ELZmvP8S4evnSRU9bQ   \n",
       "\n",
       "                                                          date  \\\n",
       "1026710                                             2017-06-13   \n",
       "1012654                                             2017-01-31   \n",
       "10688                                               2013-01-05   \n",
       "937609                                              2017-02-22   \n",
       "My husband and I had not purchased a home befor...         NaN   \n",
       "\n",
       "                                                                 review_id  \\\n",
       "1026710                                             JHUQoD1ziYwBLbpM46yGdA   \n",
       "1012654                                             QTsQHi4xjB84EOrAKHoifg   \n",
       "10688                                               Gykf0vJowPiEyiDUlXt86g   \n",
       "937609                                              OSdqcxyXqM-XTEgajJNUmw   \n",
       "My husband and I had not purchased a home befor...                     NaN   \n",
       "\n",
       "                                                    stars  \\\n",
       "1026710                                               5.0   \n",
       "1012654                                               5.0   \n",
       "10688                                                 5.0   \n",
       "937609                                                5.0   \n",
       "My husband and I had not purchased a home befor...    NaN   \n",
       "\n",
       "                                                                                                 text  \\\n",
       "1026710                                             Had seen him on Americas Got Talent and so gla...   \n",
       "1012654                                             Assured Tax Service has provided an outstandin...   \n",
       "10688                                               This location is closed.  Web site needs updat...   \n",
       "937609                                              Working with Tina and Marcia has been such a p...   \n",
       "My husband and I had not purchased a home befor...                                                NaN   \n",
       "\n",
       "                                                                   user_id  \n",
       "1026710                                             zzyh1-EF29x456g8wbtSqg  \n",
       "1012654                                             zzzmshdEWLFCApxETl1TGQ  \n",
       "10688                                               zzzmshdEWLFCApxETl1TGQ  \n",
       "937609                                                                 NaN  \n",
       "My husband and I had not purchased a home befor...                     NaN  "
      ]
     },
     "execution_count": 7,
     "metadata": {},
     "output_type": "execute_result"
    }
   ],
   "source": [
    "reviewDf.tail()"
   ]
  },
  {
   "cell_type": "code",
   "execution_count": 10,
   "metadata": {},
   "outputs": [],
   "source": [
    "reviewDf=reviewDf.drop(reviewDf.index[-2:])"
   ]
  },
  {
   "cell_type": "code",
   "execution_count": 11,
   "metadata": {},
   "outputs": [],
   "source": [
    "newcolumnlist=loadCSVtoList('AvaiReviewCountDfFile.csv')"
   ]
  },
  {
   "cell_type": "code",
   "execution_count": 16,
   "metadata": {},
   "outputs": [],
   "source": [
    "newcolumnlist=fastCountAvaiReview(newUserDf,reviewDf,newcolumnlist)"
   ]
  },
  {
   "cell_type": "markdown",
   "metadata": {},
   "source": [
    "#### Sync reviewDfFile6.csv"
   ]
  },
  {
   "cell_type": "code",
   "execution_count": 21,
   "metadata": {},
   "outputs": [
    {
     "name": "stderr",
     "output_type": "stream",
     "text": [
      "/Library/Frameworks/Python.framework/Versions/3.6/lib/python3.6/site-packages/numpy/lib/arraysetops.py:463: FutureWarning: elementwise comparison failed; returning scalar instead, but in the future will perform elementwise comparison\n",
      "  mask |= (ar1 == a)\n"
     ]
    }
   ],
   "source": [
    "reviewDf=loadAndSortCSV('reviewDfFile6.csv')"
   ]
  },
  {
   "cell_type": "code",
   "execution_count": 23,
   "metadata": {},
   "outputs": [
    {
     "data": {
      "text/html": [
       "<div>\n",
       "<style scoped>\n",
       "    .dataframe tbody tr th:only-of-type {\n",
       "        vertical-align: middle;\n",
       "    }\n",
       "\n",
       "    .dataframe tbody tr th {\n",
       "        vertical-align: top;\n",
       "    }\n",
       "\n",
       "    .dataframe thead th {\n",
       "        text-align: right;\n",
       "    }\n",
       "</style>\n",
       "<table border=\"1\" class=\"dataframe\">\n",
       "  <thead>\n",
       "    <tr style=\"text-align: right;\">\n",
       "      <th></th>\n",
       "      <th>business_id</th>\n",
       "      <th>date</th>\n",
       "      <th>review_id</th>\n",
       "      <th>stars</th>\n",
       "      <th>text</th>\n",
       "      <th>user_id</th>\n",
       "    </tr>\n",
       "  </thead>\n",
       "  <tbody>\n",
       "    <tr>\n",
       "      <th>970973</th>\n",
       "      <td>NKHvmp19c6wrm0dZXcLtmQ</td>\n",
       "      <td>2016-08-13</td>\n",
       "      <td>J6sDT53hNjtvUZvk34Jrhg</td>\n",
       "      <td>2</td>\n",
       "      <td>I ordered the fried chicken on rice and a sesa...</td>\n",
       "      <td>zzwTJAgONYCTeJia4te47g</td>\n",
       "    </tr>\n",
       "    <tr>\n",
       "      <th>243032</th>\n",
       "      <td>abO4gvGKB0aVjsrXHlgeFg</td>\n",
       "      <td>2016-08-11</td>\n",
       "      <td>Zw1hLwD6gYQ4Z15Fo8n6Tg</td>\n",
       "      <td>3</td>\n",
       "      <td>Found this place on Yelp. Rated 4.5 stars. Res...</td>\n",
       "      <td>zzwTJAgONYCTeJia4te47g</td>\n",
       "    </tr>\n",
       "    <tr>\n",
       "      <th>435231</th>\n",
       "      <td>moZAQFO776KIBe38WjiTJw</td>\n",
       "      <td>2016-08-11</td>\n",
       "      <td>xCwLHqDJHnxVZM8KYGPGfQ</td>\n",
       "      <td>3</td>\n",
       "      <td>Ordered the Mentaiko spicy udon. Taste pretty ...</td>\n",
       "      <td>zzwTJAgONYCTeJia4te47g</td>\n",
       "    </tr>\n",
       "    <tr>\n",
       "      <th>423526</th>\n",
       "      <td>UY9t1EL5PYxPiBGivkeE9Q</td>\n",
       "      <td>2015-05-14</td>\n",
       "      <td>JqYP_70wStCR8ET25hLeXg</td>\n",
       "      <td>2</td>\n",
       "      <td>Occasionally, I'll stop by here when I'm on my...</td>\n",
       "      <td>zzxZoMmjbUjXcWZzrE3PIw</td>\n",
       "    </tr>\n",
       "    <tr>\n",
       "      <th>638175</th>\n",
       "      <td>wHwHmozyqtIE5U3uTtvpuA</td>\n",
       "      <td>2016-06-20</td>\n",
       "      <td>ReG_7VgPTASn3y6g06yerA</td>\n",
       "      <td>5</td>\n",
       "      <td>Great customer service and delicious coffee/pa...</td>\n",
       "      <td>zzzhFxwfzL56CQVnw8piTw</td>\n",
       "    </tr>\n",
       "  </tbody>\n",
       "</table>\n",
       "</div>"
      ],
      "text/plain": [
       "                   business_id        date               review_id  stars  \\\n",
       "970973  NKHvmp19c6wrm0dZXcLtmQ  2016-08-13  J6sDT53hNjtvUZvk34Jrhg      2   \n",
       "243032  abO4gvGKB0aVjsrXHlgeFg  2016-08-11  Zw1hLwD6gYQ4Z15Fo8n6Tg      3   \n",
       "435231  moZAQFO776KIBe38WjiTJw  2016-08-11  xCwLHqDJHnxVZM8KYGPGfQ      3   \n",
       "423526  UY9t1EL5PYxPiBGivkeE9Q  2015-05-14  JqYP_70wStCR8ET25hLeXg      2   \n",
       "638175  wHwHmozyqtIE5U3uTtvpuA  2016-06-20  ReG_7VgPTASn3y6g06yerA      5   \n",
       "\n",
       "                                                     text  \\\n",
       "970973  I ordered the fried chicken on rice and a sesa...   \n",
       "243032  Found this place on Yelp. Rated 4.5 stars. Res...   \n",
       "435231  Ordered the Mentaiko spicy udon. Taste pretty ...   \n",
       "423526  Occasionally, I'll stop by here when I'm on my...   \n",
       "638175  Great customer service and delicious coffee/pa...   \n",
       "\n",
       "                       user_id  \n",
       "970973  zzwTJAgONYCTeJia4te47g  \n",
       "243032  zzwTJAgONYCTeJia4te47g  \n",
       "435231  zzwTJAgONYCTeJia4te47g  \n",
       "423526  zzxZoMmjbUjXcWZzrE3PIw  \n",
       "638175  zzzhFxwfzL56CQVnw8piTw  "
      ]
     },
     "execution_count": 23,
     "metadata": {},
     "output_type": "execute_result"
    }
   ],
   "source": [
    "reviewDf.tail()"
   ]
  },
  {
   "cell_type": "code",
   "execution_count": 24,
   "metadata": {},
   "outputs": [],
   "source": [
    "newcolumnlist=fastCountAvaiReview(newUserDf,reviewDf,newcolumnlist)"
   ]
  },
  {
   "cell_type": "markdown",
   "metadata": {},
   "source": [
    "#### Sync reviewDfFile7.csv"
   ]
  },
  {
   "cell_type": "code",
   "execution_count": 26,
   "metadata": {},
   "outputs": [
    {
     "name": "stderr",
     "output_type": "stream",
     "text": [
      "/Library/Frameworks/Python.framework/Versions/3.6/lib/python3.6/site-packages/numpy/lib/arraysetops.py:463: FutureWarning: elementwise comparison failed; returning scalar instead, but in the future will perform elementwise comparison\n",
      "  mask |= (ar1 == a)\n"
     ]
    }
   ],
   "source": [
    "reviewDf=loadAndSortCSV('reviewDfFile7.csv')"
   ]
  },
  {
   "cell_type": "code",
   "execution_count": 28,
   "metadata": {},
   "outputs": [
    {
     "data": {
      "text/html": [
       "<div>\n",
       "<style scoped>\n",
       "    .dataframe tbody tr th:only-of-type {\n",
       "        vertical-align: middle;\n",
       "    }\n",
       "\n",
       "    .dataframe tbody tr th {\n",
       "        vertical-align: top;\n",
       "    }\n",
       "\n",
       "    .dataframe thead th {\n",
       "        text-align: right;\n",
       "    }\n",
       "</style>\n",
       "<table border=\"1\" class=\"dataframe\">\n",
       "  <thead>\n",
       "    <tr style=\"text-align: right;\">\n",
       "      <th></th>\n",
       "      <th>business_id</th>\n",
       "      <th>date</th>\n",
       "      <th>review_id</th>\n",
       "      <th>stars</th>\n",
       "      <th>text</th>\n",
       "      <th>user_id</th>\n",
       "    </tr>\n",
       "  </thead>\n",
       "  <tbody>\n",
       "    <tr>\n",
       "      <th>715888</th>\n",
       "      <td>AV6weBrZFFBfRGCbcRGO4g</td>\n",
       "      <td>2014-03-20</td>\n",
       "      <td>pj3rWwZUEmv6TOfzYNxgSw</td>\n",
       "      <td>2</td>\n",
       "      <td>Staff was friendly but the room they put us in...</td>\n",
       "      <td>zzxbZgRaVD66oLRiF5LCxA</td>\n",
       "    </tr>\n",
       "    <tr>\n",
       "      <th>790511</th>\n",
       "      <td>KskYqH1Bi7Z_61pH6Om8pg</td>\n",
       "      <td>2014-08-13</td>\n",
       "      <td>G5-Jhp_cg7X6HJTf3B3HRQ</td>\n",
       "      <td>3</td>\n",
       "      <td>Pretty decent Thai food in Vegas! Super busy t...</td>\n",
       "      <td>zzyLd6p8pcNdkd4Hrv08bw</td>\n",
       "    </tr>\n",
       "    <tr>\n",
       "      <th>128410</th>\n",
       "      <td>WHfgo788tdCywQbgG04rDA</td>\n",
       "      <td>2017-03-12</td>\n",
       "      <td>KIwAs2hgBdmSrUM5M7o_OA</td>\n",
       "      <td>5</td>\n",
       "      <td>I'm love this place on the weekends for brunch...</td>\n",
       "      <td>zzyMMeUZzKAy7KQhM7lU2w</td>\n",
       "    </tr>\n",
       "    <tr>\n",
       "      <th>975486</th>\n",
       "      <td>2dPnfMUWdB1lORRD-I1cmA</td>\n",
       "      <td>2016-07-21</td>\n",
       "      <td>I37y78fhdU4CFZm8Q12L7w</td>\n",
       "      <td>3</td>\n",
       "      <td>Honestly this strip club is mediocre. I don't ...</td>\n",
       "      <td>zzyx5LodXOXGyh-c7ox_Mg</td>\n",
       "    </tr>\n",
       "    <tr>\n",
       "      <th>731996</th>\n",
       "      <td>LMdUoR00jPxQDWLYRq93FA</td>\n",
       "      <td>2016-09-27</td>\n",
       "      <td>CMhtNbhI8uW4Gel9ujZ_Ag</td>\n",
       "      <td>5</td>\n",
       "      <td>Incredible, fresh, creative food. Quiessence t...</td>\n",
       "      <td>zzzAgDDWe4PTnJuwhi3XQQ</td>\n",
       "    </tr>\n",
       "  </tbody>\n",
       "</table>\n",
       "</div>"
      ],
      "text/plain": [
       "                   business_id        date               review_id  stars  \\\n",
       "715888  AV6weBrZFFBfRGCbcRGO4g  2014-03-20  pj3rWwZUEmv6TOfzYNxgSw      2   \n",
       "790511  KskYqH1Bi7Z_61pH6Om8pg  2014-08-13  G5-Jhp_cg7X6HJTf3B3HRQ      3   \n",
       "128410  WHfgo788tdCywQbgG04rDA  2017-03-12  KIwAs2hgBdmSrUM5M7o_OA      5   \n",
       "975486  2dPnfMUWdB1lORRD-I1cmA  2016-07-21  I37y78fhdU4CFZm8Q12L7w      3   \n",
       "731996  LMdUoR00jPxQDWLYRq93FA  2016-09-27  CMhtNbhI8uW4Gel9ujZ_Ag      5   \n",
       "\n",
       "                                                     text  \\\n",
       "715888  Staff was friendly but the room they put us in...   \n",
       "790511  Pretty decent Thai food in Vegas! Super busy t...   \n",
       "128410  I'm love this place on the weekends for brunch...   \n",
       "975486  Honestly this strip club is mediocre. I don't ...   \n",
       "731996  Incredible, fresh, creative food. Quiessence t...   \n",
       "\n",
       "                       user_id  \n",
       "715888  zzxbZgRaVD66oLRiF5LCxA  \n",
       "790511  zzyLd6p8pcNdkd4Hrv08bw  \n",
       "128410  zzyMMeUZzKAy7KQhM7lU2w  \n",
       "975486  zzyx5LodXOXGyh-c7ox_Mg  \n",
       "731996  zzzAgDDWe4PTnJuwhi3XQQ  "
      ]
     },
     "execution_count": 28,
     "metadata": {},
     "output_type": "execute_result"
    }
   ],
   "source": [
    "reviewDf.tail()"
   ]
  },
  {
   "cell_type": "code",
   "execution_count": 29,
   "metadata": {},
   "outputs": [],
   "source": [
    "newcolumnlist=fastCountAvaiReview(newUserDf,reviewDf,newcolumnlist)"
   ]
  },
  {
   "cell_type": "markdown",
   "metadata": {},
   "source": [
    "#### Sync reviewDfFile8.csv"
   ]
  },
  {
   "cell_type": "code",
   "execution_count": 31,
   "metadata": {},
   "outputs": [
    {
     "name": "stderr",
     "output_type": "stream",
     "text": [
      "/Library/Frameworks/Python.framework/Versions/3.6/lib/python3.6/site-packages/IPython/core/interactiveshell.py:2850: DtypeWarning: Columns (0) have mixed types. Specify dtype option on import or set low_memory=False.\n",
      "  if self.run_code(code, result):\n"
     ]
    }
   ],
   "source": [
    "reviewDf=loadAndSortCSV('reviewDfFile8.csv')"
   ]
  },
  {
   "cell_type": "code",
   "execution_count": 32,
   "metadata": {},
   "outputs": [
    {
     "data": {
      "text/html": [
       "<div>\n",
       "<style scoped>\n",
       "    .dataframe tbody tr th:only-of-type {\n",
       "        vertical-align: middle;\n",
       "    }\n",
       "\n",
       "    .dataframe tbody tr th {\n",
       "        vertical-align: top;\n",
       "    }\n",
       "\n",
       "    .dataframe thead th {\n",
       "        text-align: right;\n",
       "    }\n",
       "</style>\n",
       "<table border=\"1\" class=\"dataframe\">\n",
       "  <thead>\n",
       "    <tr style=\"text-align: right;\">\n",
       "      <th></th>\n",
       "      <th>business_id</th>\n",
       "      <th>date</th>\n",
       "      <th>review_id</th>\n",
       "      <th>stars</th>\n",
       "      <th>text</th>\n",
       "      <th>user_id</th>\n",
       "    </tr>\n",
       "  </thead>\n",
       "  <tbody>\n",
       "    <tr>\n",
       "      <th>850117</th>\n",
       "      <td>GJ_bXUPv672YwNg4TneJog</td>\n",
       "      <td>2014-08-21</td>\n",
       "      <td>pDX8FkjgOLPrzc1TZzMiZw</td>\n",
       "      <td>1.0</td>\n",
       "      <td>Have you ever had to eat trash and have to pay...</td>\n",
       "      <td>zzzTkKLFo9CaeZnfO4TvzA</td>\n",
       "    </tr>\n",
       "    <tr>\n",
       "      <th>215329</th>\n",
       "      <td>WcHTXumqKMt0WdF-9RWljw</td>\n",
       "      <td>2015-01-19</td>\n",
       "      <td>Q_nL6DH9XIFtaXesjTmYyQ</td>\n",
       "      <td>5.0</td>\n",
       "      <td>Great place to get turf for your project. Pric...</td>\n",
       "      <td>zzzfcCWPDkg-kGVpqCKCEg</td>\n",
       "    </tr>\n",
       "    <tr>\n",
       "      <th>180186</th>\n",
       "      <td>EYOPM91BM039rYuAjgZbkg</td>\n",
       "      <td>2015-07-19</td>\n",
       "      <td>_xwGwKbnWzrUSh4dsRMHCQ</td>\n",
       "      <td>5.0</td>\n",
       "      <td>My family and I had a great time. Wear darker ...</td>\n",
       "      <td>zzzfcCWPDkg-kGVpqCKCEg</td>\n",
       "    </tr>\n",
       "    <tr>\n",
       "      <th>858652</th>\n",
       "      <td>uWECX6-Uq9n8v5ipk9R29A</td>\n",
       "      <td>2014-06-10</td>\n",
       "      <td>lyNSICzFzDPHXL_E6PHvWw</td>\n",
       "      <td>5.0</td>\n",
       "      <td>Best Creole/Cajun food in Nevada! Order the  B...</td>\n",
       "      <td>NaN</td>\n",
       "    </tr>\n",
       "    <tr>\n",
       "      <th>All the goodness of the deep South! Seasoned and pan bronzed. Mississippi catfish served over Gouda grits with an andouille sausage and mushroom ragout.</th>\n",
       "      <td>aZs_IrhA7rvuLBumVhJjCw</td>\n",
       "      <td>NaN</td>\n",
       "      <td>NaN</td>\n",
       "      <td>NaN</td>\n",
       "      <td>NaN</td>\n",
       "      <td>NaN</td>\n",
       "    </tr>\n",
       "  </tbody>\n",
       "</table>\n",
       "</div>"
      ],
      "text/plain": [
       "                                                               business_id  \\\n",
       "850117                                              GJ_bXUPv672YwNg4TneJog   \n",
       "215329                                              WcHTXumqKMt0WdF-9RWljw   \n",
       "180186                                              EYOPM91BM039rYuAjgZbkg   \n",
       "858652                                              uWECX6-Uq9n8v5ipk9R29A   \n",
       "All the goodness of the deep South! Seasoned an...  aZs_IrhA7rvuLBumVhJjCw   \n",
       "\n",
       "                                                          date  \\\n",
       "850117                                              2014-08-21   \n",
       "215329                                              2015-01-19   \n",
       "180186                                              2015-07-19   \n",
       "858652                                              2014-06-10   \n",
       "All the goodness of the deep South! Seasoned an...         NaN   \n",
       "\n",
       "                                                                 review_id  \\\n",
       "850117                                              pDX8FkjgOLPrzc1TZzMiZw   \n",
       "215329                                              Q_nL6DH9XIFtaXesjTmYyQ   \n",
       "180186                                              _xwGwKbnWzrUSh4dsRMHCQ   \n",
       "858652                                              lyNSICzFzDPHXL_E6PHvWw   \n",
       "All the goodness of the deep South! Seasoned an...                     NaN   \n",
       "\n",
       "                                                    stars  \\\n",
       "850117                                                1.0   \n",
       "215329                                                5.0   \n",
       "180186                                                5.0   \n",
       "858652                                                5.0   \n",
       "All the goodness of the deep South! Seasoned an...    NaN   \n",
       "\n",
       "                                                                                                 text  \\\n",
       "850117                                              Have you ever had to eat trash and have to pay...   \n",
       "215329                                              Great place to get turf for your project. Pric...   \n",
       "180186                                              My family and I had a great time. Wear darker ...   \n",
       "858652                                              Best Creole/Cajun food in Nevada! Order the  B...   \n",
       "All the goodness of the deep South! Seasoned an...                                                NaN   \n",
       "\n",
       "                                                                   user_id  \n",
       "850117                                              zzzTkKLFo9CaeZnfO4TvzA  \n",
       "215329                                              zzzfcCWPDkg-kGVpqCKCEg  \n",
       "180186                                              zzzfcCWPDkg-kGVpqCKCEg  \n",
       "858652                                                                 NaN  \n",
       "All the goodness of the deep South! Seasoned an...                     NaN  "
      ]
     },
     "execution_count": 32,
     "metadata": {},
     "output_type": "execute_result"
    }
   ],
   "source": [
    "reviewDf.tail()"
   ]
  },
  {
   "cell_type": "code",
   "execution_count": 33,
   "metadata": {},
   "outputs": [],
   "source": [
    "reviewDf=reviewDf.drop(reviewDf.index[-2:])"
   ]
  },
  {
   "cell_type": "code",
   "execution_count": 35,
   "metadata": {},
   "outputs": [],
   "source": [
    "newcolumnlist=fastCountAvaiReview(newUserDf,reviewDf,newcolumnlist)"
   ]
  },
  {
   "cell_type": "markdown",
   "metadata": {},
   "source": [
    "#### Export the result"
   ]
  },
  {
   "cell_type": "code",
   "execution_count": 37,
   "metadata": {},
   "outputs": [],
   "source": [
    "AvaiReviewCountDf = pd.DataFrame(newcolumnlist8, columns=[\"colummn\"])"
   ]
  },
  {
   "cell_type": "code",
   "execution_count": 40,
   "metadata": {},
   "outputs": [],
   "source": [
    "AvaiReviewCountDf.to_csv('AvaiReviewCountDfFile.csv', index=False)"
   ]
  },
  {
   "cell_type": "code",
   "execution_count": null,
   "metadata": {},
   "outputs": [],
   "source": []
  }
 ],
 "metadata": {
  "kernelspec": {
   "display_name": "Python 3",
   "language": "python",
   "name": "python3"
  },
  "language_info": {
   "codemirror_mode": {
    "name": "ipython",
    "version": 3
   },
   "file_extension": ".py",
   "mimetype": "text/x-python",
   "name": "python",
   "nbconvert_exporter": "python",
   "pygments_lexer": "ipython3",
   "version": "3.6.2"
  }
 },
 "nbformat": 4,
 "nbformat_minor": 2
}
