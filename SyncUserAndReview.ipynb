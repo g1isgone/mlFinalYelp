{
 "cells": [
  {
   "cell_type": "code",
   "execution_count": 1,
   "metadata": {},
   "outputs": [],
   "source": [
    "import pandas as pd\n",
    "import numpy as np"
   ]
  },
  {
   "cell_type": "code",
   "execution_count": 48,
   "metadata": {},
   "outputs": [
    {
     "name": "stderr",
     "output_type": "stream",
     "text": [
      "/Library/Frameworks/Python.framework/Versions/3.6/lib/python3.6/site-packages/numpy/lib/arraysetops.py:463: FutureWarning: elementwise comparison failed; returning scalar instead, but in the future will perform elementwise comparison\n",
      "  mask |= (ar1 == a)\n"
     ]
    }
   ],
   "source": [
    "#Load the user data frame file\n",
    "userDf = pd.read_csv('userDfFile.csv',index_col=0)"
   ]
  },
  {
   "cell_type": "code",
   "execution_count": 49,
   "metadata": {},
   "outputs": [],
   "source": [
    "sortedUserDf=userDf.sort_values('user_id')"
   ]
  },
  {
   "cell_type": "code",
   "execution_count": null,
   "metadata": {},
   "outputs": [],
   "source": [
    "sortedUserDf.tail()"
   ]
  },
  {
   "cell_type": "markdown",
   "metadata": {},
   "source": [
    "This is my first attempt. After I wrote it, I figured it might be very slow so I did not bother running it through."
   ]
  },
  {
   "cell_type": "code",
   "execution_count": null,
   "metadata": {},
   "outputs": [],
   "source": [
    "# '''Count the number of available reviews in reviewDf for each user in userDf and add that to the existing newUserDf which contains the available_review_count so far'''\n",
    "# def countAvailableReview(userDf,reviewDf,newUserDf):\n",
    "#     #loop through each user in userDf and count the number of reviews available in reviewDf\n",
    "#     for i in range(len(userDf)):\n",
    "#         user=userDf.loc[i,'user_id']\n",
    "#         available_review_count=len(reviewDf.loc[reviewDf['user_id']==user])\n",
    "#         newUserDf.at[i,'available_review_count']=available_review_count\n",
    "#     return newUserDf"
   ]
  },
  {
   "cell_type": "code",
   "execution_count": null,
   "metadata": {},
   "outputs": [],
   "source": [
    "'''Count the number of reviews and available in sortedReviewDf for each user in sortedUserDf'''\n",
    "def fastCountAvailReview(sortedUserDf,sortedReviewDf):\n",
    "    j=0 #iterator in sortedReviewDf\n",
    "    jmax=len(sortedReviewDf)\n",
    "    availReviewCol=[]\n",
    "    reviewIdCol=[]\n",
    "    for i in range(len(sortedUserDf)): #i <-- iterator in sortedUserDf\n",
    "        #user_id we are currently syncing\n",
    "        user=sortedUserDf.iloc[i]['user_id']\n",
    "        #loop until we find a user_id >= user\n",
    "        while (j<jmax and sortedReviewDf.iloc[j]['user_id']<user):\n",
    "            j+=1\n",
    "        reviewIdSet=set()\n",
    "        #Count the number of available reviews in sortedReviewDf\n",
    "        while (j<jmax and sortedReviewDf.iloc[j]['user_id']==user):\n",
    "            reviewIdSet.add(sortedReviewDf.iloc[j]['review_id'])\n",
    "            j+=1\n",
    "        availReviewCol.append(len(reviewIdSet))\n",
    "        reviewIdCol.append(reviewIdSet)\n",
    "    return availReviewCol,reviewIdCol"
   ]
  },
  {
   "cell_type": "markdown",
   "metadata": {},
   "source": [
    "### Sync reviewDf1.csv"
   ]
  },
  {
   "cell_type": "code",
   "execution_count": null,
   "metadata": {},
   "outputs": [],
   "source": [
    "#Load the review data frame file\n",
    "reviewDf=pd.read_csv('reviewDfFile1.csv',index_col=0)"
   ]
  },
  {
   "cell_type": "code",
   "execution_count": null,
   "metadata": {},
   "outputs": [],
   "source": [
    "sortedReviewDf=reviewDf.sort_values('user_id')"
   ]
  },
  {
   "cell_type": "code",
   "execution_count": null,
   "metadata": {},
   "outputs": [],
   "source": [
    "sortedReviewDf.tail()"
   ]
  },
  {
   "cell_type": "code",
   "execution_count": null,
   "metadata": {},
   "outputs": [],
   "source": [
    "#Drop rows that contain NaN\n",
    "sortedReviewDf=sortedReviewDf.drop(sortedReviewDf.index[-2:])"
   ]
  },
  {
   "cell_type": "code",
   "execution_count": null,
   "metadata": {},
   "outputs": [],
   "source": [
    "availReviewCol,reviewIdCol=fastCountAvailReview(sortedUserDf,sortedReviewDf)"
   ]
  },
  {
   "cell_type": "code",
   "execution_count": null,
   "metadata": {},
   "outputs": [],
   "source": [
    "#Put the result in a data frame\n",
    "availReviewDf1=pd.DataFrame(data={\"AvailReviewCount\":availReviewCol,\"Reviews\":reviewIdCol},index=sortedUserDf['user_id'])"
   ]
  },
  {
   "cell_type": "code",
   "execution_count": null,
   "metadata": {},
   "outputs": [],
   "source": [
    "#Export it into a csv file\n",
    "availReviewDf1.to_csv(\"availReviewDf1.csv\")"
   ]
  },
  {
   "cell_type": "code",
   "execution_count": null,
   "metadata": {},
   "outputs": [],
   "source": [
    "availReviewDf1.head()"
   ]
  },
  {
   "cell_type": "markdown",
   "metadata": {},
   "source": [
    "### Sync ReviewDfFile2.csv"
   ]
  },
  {
   "cell_type": "code",
   "execution_count": null,
   "metadata": {},
   "outputs": [],
   "source": [
    "#Load the review data frame file\n",
    "reviewDf=pd.read_csv('reviewDfFile2.csv',index_col=0)"
   ]
  },
  {
   "cell_type": "code",
   "execution_count": null,
   "metadata": {},
   "outputs": [],
   "source": [
    "sortedReviewDf=reviewDf.sort_values('user_id')"
   ]
  },
  {
   "cell_type": "code",
   "execution_count": null,
   "metadata": {},
   "outputs": [],
   "source": [
    "sortedReviewDf.tail()"
   ]
  },
  {
   "cell_type": "code",
   "execution_count": null,
   "metadata": {},
   "outputs": [],
   "source": [
    "#sortedReviewDf does not contain rows with NaN values, so proceed\n",
    "availReviewCol,reviewIdCol=fastCountAvailReview(sortedUserDf,sortedReviewDf)"
   ]
  },
  {
   "cell_type": "code",
   "execution_count": null,
   "metadata": {},
   "outputs": [],
   "source": [
    "#Put the results lists in a data frame and export it into a csv file\n",
    "availReviewDf2=pd.DataFrame(data={\"AvailReviewCount\":availReviewCol,\"Reviews\":reviewIdCol},index=sortedUserDf['user_id'])\n",
    "availReviewDf2.to_csv(\"availReviewDf2.csv\")"
   ]
  },
  {
   "cell_type": "code",
   "execution_count": null,
   "metadata": {},
   "outputs": [],
   "source": [
    "availReviewDf2.head()"
   ]
  },
  {
   "cell_type": "markdown",
   "metadata": {},
   "source": [
    "### Sync ReviewDfFile3.csv"
   ]
  },
  {
   "cell_type": "code",
   "execution_count": null,
   "metadata": {},
   "outputs": [],
   "source": [
    "#Load the review data frame file\n",
    "reviewDf=pd.read_csv('reviewDfFile3.csv',index_col=0)"
   ]
  },
  {
   "cell_type": "code",
   "execution_count": null,
   "metadata": {},
   "outputs": [],
   "source": [
    "sortedReviewDf=reviewDf.sort_values('user_id')"
   ]
  },
  {
   "cell_type": "code",
   "execution_count": null,
   "metadata": {},
   "outputs": [],
   "source": [
    "#sortedReviewDf does not contain rows with NaN values, so proceed\n",
    "availReviewCol,reviewIdCol=fastCountAvailReview(sortedUserDf,sortedReviewDf)"
   ]
  },
  {
   "cell_type": "code",
   "execution_count": null,
   "metadata": {},
   "outputs": [],
   "source": [
    "#Put the results lists in a data frame and export it into a csv file\n",
    "availReviewDf3=pd.DataFrame(data={\"AvailReviewCount\":availReviewCol,\"Reviews\":reviewIdCol},index=sortedUserDf['user_id'])\n",
    "availReviewDf3.to_csv(\"availReviewDf3.csv\")"
   ]
  },
  {
   "cell_type": "code",
   "execution_count": null,
   "metadata": {},
   "outputs": [],
   "source": [
    "availReviewDf3.head()"
   ]
  },
  {
   "cell_type": "markdown",
   "metadata": {},
   "source": [
    "### Sync ReviewDfFile4.csv"
   ]
  },
  {
   "cell_type": "code",
   "execution_count": null,
   "metadata": {},
   "outputs": [],
   "source": [
    "#Load the review data frame file\n",
    "reviewDf=pd.read_csv('reviewDfFile4.csv',index_col=0)"
   ]
  },
  {
   "cell_type": "code",
   "execution_count": null,
   "metadata": {},
   "outputs": [],
   "source": [
    "sortedReviewDf=reviewDf.sort_values('user_id')"
   ]
  },
  {
   "cell_type": "code",
   "execution_count": null,
   "metadata": {},
   "outputs": [],
   "source": [
    "sortedReviewDf.tail()"
   ]
  },
  {
   "cell_type": "code",
   "execution_count": null,
   "metadata": {},
   "outputs": [],
   "source": [
    "#Drop rows that contain NaN\n",
    "sortedReviewDf=sortedReviewDf.drop(sortedReviewDf.index[-2:])"
   ]
  },
  {
   "cell_type": "code",
   "execution_count": null,
   "metadata": {},
   "outputs": [],
   "source": [
    "availReviewCol,reviewIdCol=fastCountAvailReview(sortedUserDf,sortedReviewDf)"
   ]
  },
  {
   "cell_type": "code",
   "execution_count": null,
   "metadata": {},
   "outputs": [],
   "source": [
    "#Put the results lists in a data frame and export it into a csv file\n",
    "availReviewDf4=pd.DataFrame(data={\"AvailReviewCount\":availReviewCol,\"Reviews\":reviewIdCol},index=sortedUserDf['user_id'])\n",
    "availReviewDf4.to_csv(\"availReviewDf4.csv\")"
   ]
  },
  {
   "cell_type": "markdown",
   "metadata": {},
   "source": [
    "# Now sync all availReveiewDf"
   ]
  },
  {
   "cell_type": "code",
   "execution_count": 3,
   "metadata": {},
   "outputs": [],
   "source": [
    "availReviewDf1=pd.read_csv('availReviewDf1.csv')"
   ]
  },
  {
   "cell_type": "code",
   "execution_count": 4,
   "metadata": {},
   "outputs": [],
   "source": [
    "availReviewDf2=pd.read_csv('availReviewDf2.csv')"
   ]
  },
  {
   "cell_type": "code",
   "execution_count": 33,
   "metadata": {},
   "outputs": [],
   "source": [
    "availReviewDf3=pd.read_csv('availReviewDf3.csv')"
   ]
  },
  {
   "cell_type": "code",
   "execution_count": 34,
   "metadata": {},
   "outputs": [],
   "source": [
    "availReviewDf4=pd.read_csv('availReviewDf4.csv')"
   ]
  },
  {
   "cell_type": "code",
   "execution_count": 6,
   "metadata": {},
   "outputs": [
    {
     "data": {
      "text/html": [
       "<div>\n",
       "<style scoped>\n",
       "    .dataframe tbody tr th:only-of-type {\n",
       "        vertical-align: middle;\n",
       "    }\n",
       "\n",
       "    .dataframe tbody tr th {\n",
       "        vertical-align: top;\n",
       "    }\n",
       "\n",
       "    .dataframe thead th {\n",
       "        text-align: right;\n",
       "    }\n",
       "</style>\n",
       "<table border=\"1\" class=\"dataframe\">\n",
       "  <thead>\n",
       "    <tr style=\"text-align: right;\">\n",
       "      <th></th>\n",
       "      <th>user_id</th>\n",
       "      <th>AvailReviewCount</th>\n",
       "      <th>Reviews</th>\n",
       "    </tr>\n",
       "  </thead>\n",
       "  <tbody>\n",
       "    <tr>\n",
       "      <th>0</th>\n",
       "      <td>---1lKK3aKOuomHnwAkAow</td>\n",
       "      <td>37</td>\n",
       "      <td>{'kL23fT8JmgYoZuxHsF_wjw', 'Var3KGOJp8sA4vGcMW...</td>\n",
       "    </tr>\n",
       "    <tr>\n",
       "      <th>1</th>\n",
       "      <td>---94vtJ_5o_nikEs6hUjg</td>\n",
       "      <td>0</td>\n",
       "      <td>set()</td>\n",
       "    </tr>\n",
       "    <tr>\n",
       "      <th>2</th>\n",
       "      <td>---PLwSf5gKdIoVnyRHgBA</td>\n",
       "      <td>0</td>\n",
       "      <td>set()</td>\n",
       "    </tr>\n",
       "    <tr>\n",
       "      <th>3</th>\n",
       "      <td>---cu1hq55BP9DWVXXKHZg</td>\n",
       "      <td>1</td>\n",
       "      <td>{'O0frjb1NA2AD5VnHNWVpcg'}</td>\n",
       "    </tr>\n",
       "    <tr>\n",
       "      <th>4</th>\n",
       "      <td>---fhiwiwBYrvqhpXgcWDQ</td>\n",
       "      <td>0</td>\n",
       "      <td>set()</td>\n",
       "    </tr>\n",
       "  </tbody>\n",
       "</table>\n",
       "</div>"
      ],
      "text/plain": [
       "                  user_id  AvailReviewCount  \\\n",
       "0  ---1lKK3aKOuomHnwAkAow                37   \n",
       "1  ---94vtJ_5o_nikEs6hUjg                 0   \n",
       "2  ---PLwSf5gKdIoVnyRHgBA                 0   \n",
       "3  ---cu1hq55BP9DWVXXKHZg                 1   \n",
       "4  ---fhiwiwBYrvqhpXgcWDQ                 0   \n",
       "\n",
       "                                             Reviews  \n",
       "0  {'kL23fT8JmgYoZuxHsF_wjw', 'Var3KGOJp8sA4vGcMW...  \n",
       "1                                              set()  \n",
       "2                                              set()  \n",
       "3                         {'O0frjb1NA2AD5VnHNWVpcg'}  \n",
       "4                                              set()  "
      ]
     },
     "execution_count": 6,
     "metadata": {},
     "output_type": "execute_result"
    }
   ],
   "source": [
    "availReviewDf1.head()"
   ]
  },
  {
   "cell_type": "code",
   "execution_count": 7,
   "metadata": {},
   "outputs": [
    {
     "data": {
      "text/html": [
       "<div>\n",
       "<style scoped>\n",
       "    .dataframe tbody tr th:only-of-type {\n",
       "        vertical-align: middle;\n",
       "    }\n",
       "\n",
       "    .dataframe tbody tr th {\n",
       "        vertical-align: top;\n",
       "    }\n",
       "\n",
       "    .dataframe thead th {\n",
       "        text-align: right;\n",
       "    }\n",
       "</style>\n",
       "<table border=\"1\" class=\"dataframe\">\n",
       "  <thead>\n",
       "    <tr style=\"text-align: right;\">\n",
       "      <th></th>\n",
       "      <th>user_id</th>\n",
       "      <th>AvailReviewCount</th>\n",
       "      <th>Reviews</th>\n",
       "    </tr>\n",
       "  </thead>\n",
       "  <tbody>\n",
       "    <tr>\n",
       "      <th>0</th>\n",
       "      <td>---1lKK3aKOuomHnwAkAow</td>\n",
       "      <td>27</td>\n",
       "      <td>{'EkkxYN5dkkSwifyFCSIR-g', 'XJ5a36JrjaOOoyMLty...</td>\n",
       "    </tr>\n",
       "    <tr>\n",
       "      <th>1</th>\n",
       "      <td>---94vtJ_5o_nikEs6hUjg</td>\n",
       "      <td>1</td>\n",
       "      <td>{'bImuLGmVMhUTjFinMjM46Q'}</td>\n",
       "    </tr>\n",
       "    <tr>\n",
       "      <th>2</th>\n",
       "      <td>---PLwSf5gKdIoVnyRHgBA</td>\n",
       "      <td>2</td>\n",
       "      <td>{'5Y_hKqpo4wb1pPtFgtCqrA', 'QXzgdKOdmrccxZ60Er...</td>\n",
       "    </tr>\n",
       "    <tr>\n",
       "      <th>3</th>\n",
       "      <td>---cu1hq55BP9DWVXXKHZg</td>\n",
       "      <td>1</td>\n",
       "      <td>{'C64IMmOZmJWiNdFe3ELklQ'}</td>\n",
       "    </tr>\n",
       "    <tr>\n",
       "      <th>4</th>\n",
       "      <td>---fhiwiwBYrvqhpXgcWDQ</td>\n",
       "      <td>0</td>\n",
       "      <td>set()</td>\n",
       "    </tr>\n",
       "  </tbody>\n",
       "</table>\n",
       "</div>"
      ],
      "text/plain": [
       "                  user_id  AvailReviewCount  \\\n",
       "0  ---1lKK3aKOuomHnwAkAow                27   \n",
       "1  ---94vtJ_5o_nikEs6hUjg                 1   \n",
       "2  ---PLwSf5gKdIoVnyRHgBA                 2   \n",
       "3  ---cu1hq55BP9DWVXXKHZg                 1   \n",
       "4  ---fhiwiwBYrvqhpXgcWDQ                 0   \n",
       "\n",
       "                                             Reviews  \n",
       "0  {'EkkxYN5dkkSwifyFCSIR-g', 'XJ5a36JrjaOOoyMLty...  \n",
       "1                         {'bImuLGmVMhUTjFinMjM46Q'}  \n",
       "2  {'5Y_hKqpo4wb1pPtFgtCqrA', 'QXzgdKOdmrccxZ60Er...  \n",
       "3                         {'C64IMmOZmJWiNdFe3ELklQ'}  \n",
       "4                                              set()  "
      ]
     },
     "execution_count": 7,
     "metadata": {},
     "output_type": "execute_result"
    }
   ],
   "source": [
    "availReviewDf2.head()"
   ]
  },
  {
   "cell_type": "code",
   "execution_count": null,
   "metadata": {},
   "outputs": [],
   "source": [
    "availReviewDf3.head()"
   ]
  },
  {
   "cell_type": "code",
   "execution_count": null,
   "metadata": {},
   "outputs": [],
   "source": [
    "availReviewDf4.head()"
   ]
  },
  {
   "cell_type": "code",
   "execution_count": 62,
   "metadata": {},
   "outputs": [
    {
     "data": {
      "text/html": [
       "<div>\n",
       "<style scoped>\n",
       "    .dataframe tbody tr th:only-of-type {\n",
       "        vertical-align: middle;\n",
       "    }\n",
       "\n",
       "    .dataframe tbody tr th {\n",
       "        vertical-align: top;\n",
       "    }\n",
       "\n",
       "    .dataframe thead th {\n",
       "        text-align: right;\n",
       "    }\n",
       "</style>\n",
       "<table border=\"1\" class=\"dataframe\">\n",
       "  <thead>\n",
       "    <tr style=\"text-align: right;\">\n",
       "      <th></th>\n",
       "      <th>average_stars</th>\n",
       "      <th>review_count</th>\n",
       "      <th>user_id</th>\n",
       "      <th>yelping_since</th>\n",
       "    </tr>\n",
       "  </thead>\n",
       "  <tbody>\n",
       "    <tr>\n",
       "      <th>24722</th>\n",
       "      <td>3.97</td>\n",
       "      <td>245</td>\n",
       "      <td>---1lKK3aKOuomHnwAkAow</td>\n",
       "      <td>2007-06-04</td>\n",
       "    </tr>\n",
       "    <tr>\n",
       "      <th>625072</th>\n",
       "      <td>5.00</td>\n",
       "      <td>2</td>\n",
       "      <td>---94vtJ_5o_nikEs6hUjg</td>\n",
       "      <td>2016-05-27</td>\n",
       "    </tr>\n",
       "    <tr>\n",
       "      <th>588173</th>\n",
       "      <td>4.00</td>\n",
       "      <td>2</td>\n",
       "      <td>---PLwSf5gKdIoVnyRHgBA</td>\n",
       "      <td>2015-07-31</td>\n",
       "    </tr>\n",
       "    <tr>\n",
       "      <th>404975</th>\n",
       "      <td>3.79</td>\n",
       "      <td>57</td>\n",
       "      <td>---cu1hq55BP9DWVXXKHZg</td>\n",
       "      <td>2009-04-18</td>\n",
       "    </tr>\n",
       "    <tr>\n",
       "      <th>804200</th>\n",
       "      <td>2.78</td>\n",
       "      <td>8</td>\n",
       "      <td>---fhiwiwBYrvqhpXgcWDQ</td>\n",
       "      <td>2011-04-20</td>\n",
       "    </tr>\n",
       "  </tbody>\n",
       "</table>\n",
       "</div>"
      ],
      "text/plain": [
       "        average_stars  review_count                 user_id yelping_since\n",
       "24722            3.97           245  ---1lKK3aKOuomHnwAkAow    2007-06-04\n",
       "625072           5.00             2  ---94vtJ_5o_nikEs6hUjg    2016-05-27\n",
       "588173           4.00             2  ---PLwSf5gKdIoVnyRHgBA    2015-07-31\n",
       "404975           3.79            57  ---cu1hq55BP9DWVXXKHZg    2009-04-18\n",
       "804200           2.78             8  ---fhiwiwBYrvqhpXgcWDQ    2011-04-20"
      ]
     },
     "execution_count": 62,
     "metadata": {},
     "output_type": "execute_result"
    }
   ],
   "source": [
    "sortedUserDf.head()"
   ]
  },
  {
   "cell_type": "markdown",
   "metadata": {},
   "source": [
    "### Clean out reptetitions in reviews"
   ]
  },
  {
   "cell_type": "code",
   "execution_count": 57,
   "metadata": {},
   "outputs": [],
   "source": [
    "def uniqueReviewCount(Ldf,len_user):\n",
    "    availReviewCountCol=[]\n",
    "    reviewsCol=[]\n",
    "    for i in range(len_user): #row number of the user (position-based)\n",
    "#         reviewset=eval(Ldf[0].iloc[i]['Reviews'])\n",
    "        reviewset=Ldf[0].iloc[i]['Reviews']\n",
    "#         oldcount=Ldf[0].iloc[i]['AvailReviewCount']\n",
    "        for j in range(1,len(Ldf)): #Ldf[j] <- dataframe syncing right now\n",
    "#             reviewset=reviewset.union(eval(Ldf[j].iloc[i]['Reviews']))\n",
    "            reviewset=reviewset.union(Ldf[j].iloc[i]['Reviews'])\n",
    "#             oldcount+=Ldf[j].iloc[i]['AvailReviewCount']\n",
    "        availReviewCountCol.append(len(reviewset))\n",
    "        reviewsCol.append(reviewset)\n",
    "#         print(oldcount,'->',len(reviewset))\n",
    "    return availReviewCountCol, reviewsCol"
   ]
  },
  {
   "cell_type": "code",
   "execution_count": null,
   "metadata": {},
   "outputs": [],
   "source": [
    "availReviewCountCol, reviewsCol=uniqueReviewCount([availReviewDf1,availReviewDf2],1183362)"
   ]
  },
  {
   "cell_type": "code",
   "execution_count": null,
   "metadata": {},
   "outputs": [],
   "source": [
    "availReviewDfUnion1=pd.DataFrame(data={\"AvailReviewCount\":availReviewCountCol,\"Reviews\":reviewsCol},index=sortedUserDf['user_id'])"
   ]
  },
  {
   "cell_type": "code",
   "execution_count": null,
   "metadata": {},
   "outputs": [],
   "source": [
    "availReviewCountCol2, reviewsCol2=uniqueReviewCount([availReviewDf3,availReviewDf4],1183362)"
   ]
  },
  {
   "cell_type": "code",
   "execution_count": null,
   "metadata": {},
   "outputs": [],
   "source": [
    "availReviewDfUnion2=pd.DataFrame(data={\"AvailReviewCount\":availReviewCountCol2,\"Reviews\":reviewsCol2},index=sortedUserDf['user_id'])"
   ]
  },
  {
   "cell_type": "code",
   "execution_count": 55,
   "metadata": {},
   "outputs": [
    {
     "data": {
      "text/html": [
       "<div>\n",
       "<style scoped>\n",
       "    .dataframe tbody tr th:only-of-type {\n",
       "        vertical-align: middle;\n",
       "    }\n",
       "\n",
       "    .dataframe tbody tr th {\n",
       "        vertical-align: top;\n",
       "    }\n",
       "\n",
       "    .dataframe thead th {\n",
       "        text-align: right;\n",
       "    }\n",
       "</style>\n",
       "<table border=\"1\" class=\"dataframe\">\n",
       "  <thead>\n",
       "    <tr style=\"text-align: right;\">\n",
       "      <th></th>\n",
       "      <th>average_stars</th>\n",
       "      <th>review_count</th>\n",
       "      <th>user_id</th>\n",
       "      <th>yelping_since</th>\n",
       "    </tr>\n",
       "  </thead>\n",
       "  <tbody>\n",
       "    <tr>\n",
       "      <th>24722</th>\n",
       "      <td>3.97</td>\n",
       "      <td>245</td>\n",
       "      <td>---1lKK3aKOuomHnwAkAow</td>\n",
       "      <td>2007-06-04</td>\n",
       "    </tr>\n",
       "    <tr>\n",
       "      <th>625072</th>\n",
       "      <td>5.00</td>\n",
       "      <td>2</td>\n",
       "      <td>---94vtJ_5o_nikEs6hUjg</td>\n",
       "      <td>2016-05-27</td>\n",
       "    </tr>\n",
       "    <tr>\n",
       "      <th>588173</th>\n",
       "      <td>4.00</td>\n",
       "      <td>2</td>\n",
       "      <td>---PLwSf5gKdIoVnyRHgBA</td>\n",
       "      <td>2015-07-31</td>\n",
       "    </tr>\n",
       "    <tr>\n",
       "      <th>404975</th>\n",
       "      <td>3.79</td>\n",
       "      <td>57</td>\n",
       "      <td>---cu1hq55BP9DWVXXKHZg</td>\n",
       "      <td>2009-04-18</td>\n",
       "    </tr>\n",
       "    <tr>\n",
       "      <th>804200</th>\n",
       "      <td>2.78</td>\n",
       "      <td>8</td>\n",
       "      <td>---fhiwiwBYrvqhpXgcWDQ</td>\n",
       "      <td>2011-04-20</td>\n",
       "    </tr>\n",
       "  </tbody>\n",
       "</table>\n",
       "</div>"
      ],
      "text/plain": [
       "        average_stars  review_count                 user_id yelping_since\n",
       "24722            3.97           245  ---1lKK3aKOuomHnwAkAow    2007-06-04\n",
       "625072           5.00             2  ---94vtJ_5o_nikEs6hUjg    2016-05-27\n",
       "588173           4.00             2  ---PLwSf5gKdIoVnyRHgBA    2015-07-31\n",
       "404975           3.79            57  ---cu1hq55BP9DWVXXKHZg    2009-04-18\n",
       "804200           2.78             8  ---fhiwiwBYrvqhpXgcWDQ    2011-04-20"
      ]
     },
     "execution_count": 55,
     "metadata": {},
     "output_type": "execute_result"
    }
   ],
   "source": [
    "sortedUserDf.head()"
   ]
  },
  {
   "cell_type": "code",
   "execution_count": null,
   "metadata": {},
   "outputs": [],
   "source": [
    "availReviewCountCol, reviewsCol=uniqueReviewCount([availReviewDfUnion1,availReviewDfUnion2],1183362)"
   ]
  },
  {
   "cell_type": "code",
   "execution_count": 59,
   "metadata": {},
   "outputs": [],
   "source": [
    "availReviewTotalDf=pd.DataFrame(data={\"AvailReviewCount\":availReviewCountCol,\"Reviews\":reviewsCol},index=sortedUserDf['user_id'])"
   ]
  },
  {
   "cell_type": "code",
   "execution_count": 60,
   "metadata": {},
   "outputs": [
    {
     "data": {
      "text/html": [
       "<div>\n",
       "<style scoped>\n",
       "    .dataframe tbody tr th:only-of-type {\n",
       "        vertical-align: middle;\n",
       "    }\n",
       "\n",
       "    .dataframe tbody tr th {\n",
       "        vertical-align: top;\n",
       "    }\n",
       "\n",
       "    .dataframe thead th {\n",
       "        text-align: right;\n",
       "    }\n",
       "</style>\n",
       "<table border=\"1\" class=\"dataframe\">\n",
       "  <thead>\n",
       "    <tr style=\"text-align: right;\">\n",
       "      <th></th>\n",
       "      <th>AvailReviewCount</th>\n",
       "      <th>Reviews</th>\n",
       "    </tr>\n",
       "    <tr>\n",
       "      <th>user_id</th>\n",
       "      <th></th>\n",
       "      <th></th>\n",
       "    </tr>\n",
       "  </thead>\n",
       "  <tbody>\n",
       "    <tr>\n",
       "      <th>---1lKK3aKOuomHnwAkAow</th>\n",
       "      <td>117</td>\n",
       "      <td>{_aSUxNefC6eiakBZlmfrkQ, X7-Kqkzg2J4rpKJGXvXfU...</td>\n",
       "    </tr>\n",
       "    <tr>\n",
       "      <th>---94vtJ_5o_nikEs6hUjg</th>\n",
       "      <td>1</td>\n",
       "      <td>{bImuLGmVMhUTjFinMjM46Q}</td>\n",
       "    </tr>\n",
       "    <tr>\n",
       "      <th>---PLwSf5gKdIoVnyRHgBA</th>\n",
       "      <td>2</td>\n",
       "      <td>{5Y_hKqpo4wb1pPtFgtCqrA, QXzgdKOdmrccxZ60Er7gig}</td>\n",
       "    </tr>\n",
       "    <tr>\n",
       "      <th>---cu1hq55BP9DWVXXKHZg</th>\n",
       "      <td>3</td>\n",
       "      <td>{C64IMmOZmJWiNdFe3ELklQ, VaekJKjFRtjozEcf9WTvC...</td>\n",
       "    </tr>\n",
       "    <tr>\n",
       "      <th>---fhiwiwBYrvqhpXgcWDQ</th>\n",
       "      <td>1</td>\n",
       "      <td>{ek_TJCDJ3vjKqfcnKEgtHg}</td>\n",
       "    </tr>\n",
       "  </tbody>\n",
       "</table>\n",
       "</div>"
      ],
      "text/plain": [
       "                        AvailReviewCount  \\\n",
       "user_id                                    \n",
       "---1lKK3aKOuomHnwAkAow               117   \n",
       "---94vtJ_5o_nikEs6hUjg                 1   \n",
       "---PLwSf5gKdIoVnyRHgBA                 2   \n",
       "---cu1hq55BP9DWVXXKHZg                 3   \n",
       "---fhiwiwBYrvqhpXgcWDQ                 1   \n",
       "\n",
       "                                                                  Reviews  \n",
       "user_id                                                                    \n",
       "---1lKK3aKOuomHnwAkAow  {_aSUxNefC6eiakBZlmfrkQ, X7-Kqkzg2J4rpKJGXvXfU...  \n",
       "---94vtJ_5o_nikEs6hUjg                           {bImuLGmVMhUTjFinMjM46Q}  \n",
       "---PLwSf5gKdIoVnyRHgBA   {5Y_hKqpo4wb1pPtFgtCqrA, QXzgdKOdmrccxZ60Er7gig}  \n",
       "---cu1hq55BP9DWVXXKHZg  {C64IMmOZmJWiNdFe3ELklQ, VaekJKjFRtjozEcf9WTvC...  \n",
       "---fhiwiwBYrvqhpXgcWDQ                           {ek_TJCDJ3vjKqfcnKEgtHg}  "
      ]
     },
     "execution_count": 60,
     "metadata": {},
     "output_type": "execute_result"
    }
   ],
   "source": [
    "availReviewTotalDf.head(reviewset=reviewset.union(eval(Ldf[j].iloc[i]['Reviews'])))"
   ]
  },
  {
   "cell_type": "code",
   "execution_count": 61,
   "metadata": {},
   "outputs": [],
   "source": [
    "availReviewTotalDf.to_csv('availReviewDf.csv')"
   ]
  },
  {
   "cell_type": "markdown",
   "metadata": {},
   "source": [
    "## Check the percentage of available reviews for all users in the user dataset, drop rows with <= 80% of reviews available"
   ]
  },
  {
   "cell_type": "code",
   "execution_count": 66,
   "metadata": {},
   "outputs": [],
   "source": [
    "import copy\n",
    "newSortedUserDf=copy.deepcopy(sortedUserDf)"
   ]
  },
  {
   "cell_type": "code",
   "execution_count": null,
   "metadata": {},
   "outputs": [],
   "source": [
    "availPct=[]\n",
    "dropidx=[]\n",
    "for i in range(len(newSortedUserDf)):\n",
    "    actual=newSortedUserDf.iloc[i]['review_count']\n",
    "    if actual==0:\n",
    "        pct=0\n",
    "    else:\n",
    "        pct=availReviewTotalDf.iloc[i]['AvailReviewCount']/actual\n",
    "    availPct.append(pct)\n",
    "    if (pct<=0.8):\n",
    "        dropidx.append(i)"
   ]
  },
  {
   "cell_type": "code",
   "execution_count": 93,
   "metadata": {},
   "outputs": [],
   "source": [
    "newSortedUserDf['AvailPct']=availPct"
   ]
  },
  {
   "cell_type": "code",
   "execution_count": 94,
   "metadata": {},
   "outputs": [],
   "source": [
    "newSortedUserDf=newSortedUserDf.drop(newSortedUserDf.index[dropidx])"
   ]
  },
  {
   "cell_type": "code",
   "execution_count": 95,
   "metadata": {},
   "outputs": [],
   "source": [
    "availReviewTotalDf=availReviewTotalDf.drop(availReviewTotalDf.index[dropidx])"
   ]
  },
  {
   "cell_type": "code",
   "execution_count": 120,
   "metadata": {},
   "outputs": [],
   "source": [
    "newSortedUserDf['AvailReviewCount']=availReviewTotalDf['AvailReviewCount'].values"
   ]
  },
  {
   "cell_type": "code",
   "execution_count": 123,
   "metadata": {},
   "outputs": [],
   "source": [
    "newSortedUserDf['Reviews']=availReviewTotalDf['Reviews'].values"
   ]
  },
  {
   "cell_type": "code",
   "execution_count": 124,
   "metadata": {},
   "outputs": [
    {
     "data": {
      "text/html": [
       "<div>\n",
       "<style scoped>\n",
       "    .dataframe tbody tr th:only-of-type {\n",
       "        vertical-align: middle;\n",
       "    }\n",
       "\n",
       "    .dataframe tbody tr th {\n",
       "        vertical-align: top;\n",
       "    }\n",
       "\n",
       "    .dataframe thead th {\n",
       "        text-align: right;\n",
       "    }\n",
       "</style>\n",
       "<table border=\"1\" class=\"dataframe\">\n",
       "  <thead>\n",
       "    <tr style=\"text-align: right;\">\n",
       "      <th></th>\n",
       "      <th>average_stars</th>\n",
       "      <th>review_count</th>\n",
       "      <th>user_id</th>\n",
       "      <th>yelping_since</th>\n",
       "      <th>AvailPct</th>\n",
       "      <th>AvailReviewCount</th>\n",
       "      <th>Reviews</th>\n",
       "    </tr>\n",
       "  </thead>\n",
       "  <tbody>\n",
       "    <tr>\n",
       "      <th>1093646</th>\n",
       "      <td>4.25</td>\n",
       "      <td>1</td>\n",
       "      <td>zzvm_VD3HjU6RMx8zq7g1g</td>\n",
       "      <td>2015-06-12</td>\n",
       "      <td>1.0</td>\n",
       "      <td>1</td>\n",
       "      <td>{nd8ZaTy3wcrfLvuKTN1jYw}</td>\n",
       "    </tr>\n",
       "    <tr>\n",
       "      <th>396025</th>\n",
       "      <td>5.00</td>\n",
       "      <td>1</td>\n",
       "      <td>zzvqVZTYs5VKxPc-IkRQ4A</td>\n",
       "      <td>2017-03-15</td>\n",
       "      <td>1.0</td>\n",
       "      <td>1</td>\n",
       "      <td>{simX0wWLHTOpj_IyQBKeAQ}</td>\n",
       "    </tr>\n",
       "    <tr>\n",
       "      <th>571955</th>\n",
       "      <td>2.67</td>\n",
       "      <td>3</td>\n",
       "      <td>zzwTJAgONYCTeJia4te47g</td>\n",
       "      <td>2016-04-24</td>\n",
       "      <td>1.0</td>\n",
       "      <td>3</td>\n",
       "      <td>{Zw1hLwD6gYQ4Z15Fo8n6Tg, J6sDT53hNjtvUZvk34Jrh...</td>\n",
       "    </tr>\n",
       "    <tr>\n",
       "      <th>1178718</th>\n",
       "      <td>5.00</td>\n",
       "      <td>1</td>\n",
       "      <td>zzy9H_45XLydmYZ2P_Ve_g</td>\n",
       "      <td>2014-08-27</td>\n",
       "      <td>1.0</td>\n",
       "      <td>1</td>\n",
       "      <td>{dVC4-hUXF4qbXAi9sG3lsg}</td>\n",
       "    </tr>\n",
       "    <tr>\n",
       "      <th>810511</th>\n",
       "      <td>3.00</td>\n",
       "      <td>2</td>\n",
       "      <td>zzyMMeUZzKAy7KQhM7lU2w</td>\n",
       "      <td>2013-12-06</td>\n",
       "      <td>1.0</td>\n",
       "      <td>2</td>\n",
       "      <td>{KIwAs2hgBdmSrUM5M7o_OA, Qh0nbp8yyRLFkqlBiVIxqw}</td>\n",
       "    </tr>\n",
       "  </tbody>\n",
       "</table>\n",
       "</div>"
      ],
      "text/plain": [
       "         average_stars  review_count                 user_id yelping_since  \\\n",
       "1093646           4.25             1  zzvm_VD3HjU6RMx8zq7g1g    2015-06-12   \n",
       "396025            5.00             1  zzvqVZTYs5VKxPc-IkRQ4A    2017-03-15   \n",
       "571955            2.67             3  zzwTJAgONYCTeJia4te47g    2016-04-24   \n",
       "1178718           5.00             1  zzy9H_45XLydmYZ2P_Ve_g    2014-08-27   \n",
       "810511            3.00             2  zzyMMeUZzKAy7KQhM7lU2w    2013-12-06   \n",
       "\n",
       "         AvailPct  AvailReviewCount  \\\n",
       "1093646       1.0                 1   \n",
       "396025        1.0                 1   \n",
       "571955        1.0                 3   \n",
       "1178718       1.0                 1   \n",
       "810511        1.0                 2   \n",
       "\n",
       "                                                   Reviews  \n",
       "1093646                           {nd8ZaTy3wcrfLvuKTN1jYw}  \n",
       "396025                            {simX0wWLHTOpj_IyQBKeAQ}  \n",
       "571955   {Zw1hLwD6gYQ4Z15Fo8n6Tg, J6sDT53hNjtvUZvk34Jrh...  \n",
       "1178718                           {dVC4-hUXF4qbXAi9sG3lsg}  \n",
       "810511    {KIwAs2hgBdmSrUM5M7o_OA, Qh0nbp8yyRLFkqlBiVIxqw}  "
      ]
     },
     "execution_count": 124,
     "metadata": {},
     "output_type": "execute_result"
    }
   ],
   "source": [
    "newSortedUserDf.tail()"
   ]
  },
  {
   "cell_type": "code",
   "execution_count": 130,
   "metadata": {},
   "outputs": [
    {
     "data": {
      "text/html": [
       "<div>\n",
       "<style scoped>\n",
       "    .dataframe tbody tr th:only-of-type {\n",
       "        vertical-align: middle;\n",
       "    }\n",
       "\n",
       "    .dataframe tbody tr th {\n",
       "        vertical-align: top;\n",
       "    }\n",
       "\n",
       "    .dataframe thead th {\n",
       "        text-align: right;\n",
       "    }\n",
       "</style>\n",
       "<table border=\"1\" class=\"dataframe\">\n",
       "  <thead>\n",
       "    <tr style=\"text-align: right;\">\n",
       "      <th></th>\n",
       "      <th>average_stars</th>\n",
       "      <th>review_count</th>\n",
       "      <th>AvailPct</th>\n",
       "      <th>AvailReviewCount</th>\n",
       "    </tr>\n",
       "  </thead>\n",
       "  <tbody>\n",
       "    <tr>\n",
       "      <th>count</th>\n",
       "      <td>388904.000000</td>\n",
       "      <td>388904.000000</td>\n",
       "      <td>388904.000000</td>\n",
       "      <td>388904.000000</td>\n",
       "    </tr>\n",
       "    <tr>\n",
       "      <th>mean</th>\n",
       "      <td>3.623829</td>\n",
       "      <td>4.380855</td>\n",
       "      <td>0.985101</td>\n",
       "      <td>4.066556</td>\n",
       "    </tr>\n",
       "    <tr>\n",
       "      <th>std</th>\n",
       "      <td>1.477098</td>\n",
       "      <td>13.790242</td>\n",
       "      <td>0.045614</td>\n",
       "      <td>12.017385</td>\n",
       "    </tr>\n",
       "    <tr>\n",
       "      <th>min</th>\n",
       "      <td>1.000000</td>\n",
       "      <td>1.000000</td>\n",
       "      <td>0.800866</td>\n",
       "      <td>1.000000</td>\n",
       "    </tr>\n",
       "    <tr>\n",
       "      <th>25%</th>\n",
       "      <td>2.630000</td>\n",
       "      <td>1.000000</td>\n",
       "      <td>1.000000</td>\n",
       "      <td>1.000000</td>\n",
       "    </tr>\n",
       "    <tr>\n",
       "      <th>50%</th>\n",
       "      <td>4.000000</td>\n",
       "      <td>1.000000</td>\n",
       "      <td>1.000000</td>\n",
       "      <td>1.000000</td>\n",
       "    </tr>\n",
       "    <tr>\n",
       "      <th>75%</th>\n",
       "      <td>5.000000</td>\n",
       "      <td>3.000000</td>\n",
       "      <td>1.000000</td>\n",
       "      <td>3.000000</td>\n",
       "    </tr>\n",
       "    <tr>\n",
       "      <th>max</th>\n",
       "      <td>5.000000</td>\n",
       "      <td>1178.000000</td>\n",
       "      <td>8.000000</td>\n",
       "      <td>948.000000</td>\n",
       "    </tr>\n",
       "  </tbody>\n",
       "</table>\n",
       "</div>"
      ],
      "text/plain": [
       "       average_stars   review_count       AvailPct  AvailReviewCount\n",
       "count  388904.000000  388904.000000  388904.000000     388904.000000\n",
       "mean        3.623829       4.380855       0.985101          4.066556\n",
       "std         1.477098      13.790242       0.045614         12.017385\n",
       "min         1.000000       1.000000       0.800866          1.000000\n",
       "25%         2.630000       1.000000       1.000000          1.000000\n",
       "50%         4.000000       1.000000       1.000000          1.000000\n",
       "75%         5.000000       3.000000       1.000000          3.000000\n",
       "max         5.000000    1178.000000       8.000000        948.000000"
      ]
     },
     "execution_count": 130,
     "metadata": {},
     "output_type": "execute_result"
    }
   ],
   "source": [
    "newSortedUserDf.describe()"
   ]
  },
  {
   "cell_type": "code",
   "execution_count": 131,
   "metadata": {},
   "outputs": [
    {
     "data": {
      "text/plain": [
       "average_stars       float64\n",
       "review_count          int64\n",
       "user_id              object\n",
       "yelping_since        object\n",
       "AvailPct            float64\n",
       "AvailReviewCount      int64\n",
       "Reviews              object\n",
       "dtype: object"
      ]
     },
     "execution_count": 131,
     "metadata": {},
     "output_type": "execute_result"
    }
   ],
   "source": [
    "newSortedUserDf.dtypes"
   ]
  },
  {
   "cell_type": "code",
   "execution_count": 125,
   "metadata": {},
   "outputs": [
    {
     "data": {
      "text/plain": [
       "388904"
      ]
     },
     "execution_count": 125,
     "metadata": {},
     "output_type": "execute_result"
    }
   ],
   "source": [
    "len(newSortedUserDf)"
   ]
  },
  {
   "cell_type": "code",
   "execution_count": 126,
   "metadata": {},
   "outputs": [],
   "source": [
    "newSortedUserDf.to_pickle('UserWithReviewDf.pkl')"
   ]
  },
  {
   "cell_type": "code",
   "execution_count": 128,
   "metadata": {},
   "outputs": [],
   "source": [
    "newSortedUserDf=pd.read_pickle('UserWithReviewDf.pkl')"
   ]
  },
  {
   "cell_type": "code",
   "execution_count": null,
   "metadata": {},
   "outputs": [],
   "source": []
  }
 ],
 "metadata": {
  "kernelspec": {
   "display_name": "Python 3",
   "language": "python",
   "name": "python3"
  },
  "language_info": {
   "codemirror_mode": {
    "name": "ipython",
    "version": 3
   },
   "file_extension": ".py",
   "mimetype": "text/x-python",
   "name": "python",
   "nbconvert_exporter": "python",
   "pygments_lexer": "ipython3",
   "version": "3.6.2"
  }
 },
 "nbformat": 4,
 "nbformat_minor": 2
}
