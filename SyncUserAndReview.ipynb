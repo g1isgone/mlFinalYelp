{
 "cells": [
  {
   "cell_type": "code",
   "execution_count": 1,
   "metadata": {},
   "outputs": [],
   "source": [
    "import pandas as pd\n",
    "import numpy as np"
   ]
  },
  {
   "cell_type": "code",
   "execution_count": null,
   "metadata": {},
   "outputs": [],
   "source": [
    "#Load the user data frame file\n",
    "userDf = pd.read_csv('userDfFile.csv',index_col=0)"
   ]
  },
  {
   "cell_type": "code",
   "execution_count": null,
   "metadata": {},
   "outputs": [],
   "source": [
    "sortedUserDf=userDf.sort_values('user_id')"
   ]
  },
  {
   "cell_type": "code",
   "execution_count": null,
   "metadata": {},
   "outputs": [],
   "source": [
    "sortedUserDf.tail()"
   ]
  },
  {
   "cell_type": "markdown",
   "metadata": {},
   "source": [
    "This is my first attempt. After I wrote it, I figured it might be very slow so I did not bother running it through."
   ]
  },
  {
   "cell_type": "code",
   "execution_count": null,
   "metadata": {},
   "outputs": [],
   "source": [
    "# '''Count the number of available reviews in reviewDf for each user in userDf and add that to the existing newUserDf which contains the available_review_count so far'''\n",
    "# def countAvailableReview(userDf,reviewDf,newUserDf):\n",
    "#     #loop through each user in userDf and count the number of reviews available in reviewDf\n",
    "#     for i in range(len(userDf)):\n",
    "#         user=userDf.loc[i,'user_id']\n",
    "#         available_review_count=len(reviewDf.loc[reviewDf['user_id']==user])\n",
    "#         newUserDf.at[i,'available_review_count']=available_review_count\n",
    "#     return newUserDf"
   ]
  },
  {
   "cell_type": "code",
   "execution_count": null,
   "metadata": {},
   "outputs": [],
   "source": [
    "'''Count the number of reviews and available in sortedReviewDf for each user in sortedUserDf'''\n",
    "def fastCountAvailReview(sortedUserDf,sortedReviewDf):\n",
    "    j=0 #iterator in sortedReviewDf\n",
    "    jmax=len(sortedReviewDf)\n",
    "    availReviewCol=[]\n",
    "    reviewIdCol=[]\n",
    "    for i in range(len(sortedUserDf)): #i <-- iterator in sortedUserDf\n",
    "        #user_id we are currently syncing\n",
    "        user=sortedUserDf.iloc[i]['user_id']\n",
    "        #loop until we find a user_id >= user\n",
    "        while (j<jmax and sortedReviewDf.iloc[j]['user_id']<user):\n",
    "            j+=1\n",
    "        reviewIdSet=set()\n",
    "        #Count the number of available reviews in sortedReviewDf\n",
    "        while (j<jmax and sortedReviewDf.iloc[j]['user_id']==user):\n",
    "            reviewIdSet.add(sortedReviewDf.iloc[j]['review_id'])\n",
    "            j+=1\n",
    "        availReviewCol.append(len(reviewIdSet))\n",
    "        reviewIdCol.append(reviewIdSet)\n",
    "    return availReviewCol,reviewIdCol"
   ]
  },
  {
   "cell_type": "markdown",
   "metadata": {},
   "source": [
    "### Sync reviewDf1.csv"
   ]
  },
  {
   "cell_type": "code",
   "execution_count": null,
   "metadata": {},
   "outputs": [],
   "source": [
    "#Load the review data frame file\n",
    "reviewDf=pd.read_csv('reviewDfFile1.csv',index_col=0)"
   ]
  },
  {
   "cell_type": "code",
   "execution_count": null,
   "metadata": {},
   "outputs": [],
   "source": [
    "sortedReviewDf=reviewDf.sort_values('user_id')"
   ]
  },
  {
   "cell_type": "code",
   "execution_count": null,
   "metadata": {},
   "outputs": [],
   "source": [
    "sortedReviewDf.tail()"
   ]
  },
  {
   "cell_type": "code",
   "execution_count": null,
   "metadata": {},
   "outputs": [],
   "source": [
    "#Drop rows that contain NaN\n",
    "sortedReviewDf=sortedReviewDf.drop(sortedReviewDf.index[-2:])"
   ]
  },
  {
   "cell_type": "code",
   "execution_count": null,
   "metadata": {},
   "outputs": [],
   "source": [
    "availReviewCol,reviewIdCol=fastCountAvailReview(sortedUserDf,sortedReviewDf)"
   ]
  },
  {
   "cell_type": "code",
   "execution_count": null,
   "metadata": {},
   "outputs": [],
   "source": [
    "#Put the result in a data frame\n",
    "availReviewDf1=pd.DataFrame(data={\"AvailReviewCount\":availReviewCol,\"Reviews\":reviewIdCol},index=sortedUserDf['user_id'])"
   ]
  },
  {
   "cell_type": "code",
   "execution_count": null,
   "metadata": {},
   "outputs": [],
   "source": [
    "#Export it into a csv file\n",
    "availReviewDf1.to_csv(\"availReviewDf1.csv\")"
   ]
  },
  {
   "cell_type": "code",
   "execution_count": null,
   "metadata": {},
   "outputs": [],
   "source": [
    "availReviewDf1.head()"
   ]
  },
  {
   "cell_type": "markdown",
   "metadata": {},
   "source": [
    "### Sync ReviewDfFile2.csv"
   ]
  },
  {
   "cell_type": "code",
   "execution_count": null,
   "metadata": {},
   "outputs": [],
   "source": [
    "#Load the review data frame file\n",
    "reviewDf=pd.read_csv('reviewDfFile2.csv',index_col=0)"
   ]
  },
  {
   "cell_type": "code",
   "execution_count": null,
   "metadata": {},
   "outputs": [],
   "source": [
    "sortedReviewDf=reviewDf.sort_values('user_id')"
   ]
  },
  {
   "cell_type": "code",
   "execution_count": null,
   "metadata": {},
   "outputs": [],
   "source": [
    "sortedReviewDf.tail()"
   ]
  },
  {
   "cell_type": "code",
   "execution_count": null,
   "metadata": {},
   "outputs": [],
   "source": [
    "#sortedReviewDf does not contain rows with NaN values, so proceed\n",
    "availReviewCol,reviewIdCol=fastCountAvailReview(sortedUserDf,sortedReviewDf)"
   ]
  },
  {
   "cell_type": "code",
   "execution_count": null,
   "metadata": {},
   "outputs": [],
   "source": [
    "#Put the results lists in a data frame and export it into a csv file\n",
    "availReviewDf2=pd.DataFrame(data={\"AvailReviewCount\":availReviewCol,\"Reviews\":reviewIdCol},index=sortedUserDf['user_id'])\n",
    "availReviewDf2.to_csv(\"availReviewDf2.csv\")"
   ]
  },
  {
   "cell_type": "code",
   "execution_count": null,
   "metadata": {},
   "outputs": [],
   "source": [
    "availReviewDf2.head()"
   ]
  },
  {
   "cell_type": "markdown",
   "metadata": {},
   "source": [
    "### Sync ReviewDfFile3.csv"
   ]
  },
  {
   "cell_type": "code",
   "execution_count": null,
   "metadata": {},
   "outputs": [],
   "source": [
    "#Load the review data frame file\n",
    "reviewDf=pd.read_csv('reviewDfFile3.csv',index_col=0)"
   ]
  },
  {
   "cell_type": "code",
   "execution_count": null,
   "metadata": {},
   "outputs": [],
   "source": [
    "sortedReviewDf=reviewDf.sort_values('user_id')"
   ]
  },
  {
   "cell_type": "code",
   "execution_count": null,
   "metadata": {},
   "outputs": [],
   "source": [
    "#sortedReviewDf does not contain rows with NaN values, so proceed\n",
    "availReviewCol,reviewIdCol=fastCountAvailReview(sortedUserDf,sortedReviewDf)"
   ]
  },
  {
   "cell_type": "code",
   "execution_count": null,
   "metadata": {},
   "outputs": [],
   "source": [
    "#Put the results lists in a data frame and export it into a csv file\n",
    "availReviewDf3=pd.DataFrame(data={\"AvailReviewCount\":availReviewCol,\"Reviews\":reviewIdCol},index=sortedUserDf['user_id'])\n",
    "availReviewDf3.to_csv(\"availReviewDf3.csv\")"
   ]
  },
  {
   "cell_type": "code",
   "execution_count": null,
   "metadata": {},
   "outputs": [],
   "source": [
    "availReviewDf3.head()"
   ]
  },
  {
   "cell_type": "markdown",
   "metadata": {},
   "source": [
    "### Sync ReviewDfFile4.csv"
   ]
  },
  {
   "cell_type": "code",
   "execution_count": null,
   "metadata": {},
   "outputs": [],
   "source": [
    "#Load the review data frame file\n",
    "reviewDf=pd.read_csv('reviewDfFile4.csv',index_col=0)"
   ]
  },
  {
   "cell_type": "code",
   "execution_count": null,
   "metadata": {},
   "outputs": [],
   "source": [
    "sortedReviewDf=reviewDf.sort_values('user_id')"
   ]
  },
  {
   "cell_type": "code",
   "execution_count": null,
   "metadata": {},
   "outputs": [],
   "source": [
    "sortedReviewDf.tail()"
   ]
  },
  {
   "cell_type": "code",
   "execution_count": null,
   "metadata": {},
   "outputs": [],
   "source": [
    "#Drop rows that contain NaN\n",
    "sortedReviewDf=sortedReviewDf.drop(sortedReviewDf.index[-2:])"
   ]
  },
  {
   "cell_type": "code",
   "execution_count": null,
   "metadata": {},
   "outputs": [],
   "source": [
    "availReviewCol,reviewIdCol=fastCountAvailReview(sortedUserDf,sortedReviewDf)"
   ]
  },
  {
   "cell_type": "code",
   "execution_count": null,
   "metadata": {},
   "outputs": [],
   "source": [
    "#Put the results lists in a data frame and export it into a csv file\n",
    "availReviewDf4=pd.DataFrame(data={\"AvailReviewCount\":availReviewCol,\"Reviews\":reviewIdCol},index=sortedUserDf['user_id'])\n",
    "availReviewDf4.to_csv(\"availReviewDf4.csv\")"
   ]
  },
  {
   "cell_type": "markdown",
   "metadata": {},
   "source": [
    "# Now sync all availReveiewDf"
   ]
  },
  {
   "cell_type": "code",
   "execution_count": 3,
   "metadata": {},
   "outputs": [],
   "source": [
    "availReviewDf1=pd.read_csv('availReviewDf1.csv')"
   ]
  },
  {
   "cell_type": "code",
   "execution_count": 4,
   "metadata": {},
   "outputs": [],
   "source": [
    "availReviewDf2=pd.read_csv('availReviewDf2.csv')"
   ]
  },
  {
   "cell_type": "code",
   "execution_count": 33,
   "metadata": {},
   "outputs": [],
   "source": [
    "availReviewDf3=pd.read_csv('availReviewDf3.csv')"
   ]
  },
  {
   "cell_type": "code",
   "execution_count": 34,
   "metadata": {},
   "outputs": [],
   "source": [
    "availReviewDf4=pd.read_csv('availReviewDf4.csv')"
   ]
  },
  {
   "cell_type": "code",
   "execution_count": 6,
   "metadata": {},
   "outputs": [
    {
     "data": {
      "text/html": [
       "<div>\n",
       "<style scoped>\n",
       "    .dataframe tbody tr th:only-of-type {\n",
       "        vertical-align: middle;\n",
       "    }\n",
       "\n",
       "    .dataframe tbody tr th {\n",
       "        vertical-align: top;\n",
       "    }\n",
       "\n",
       "    .dataframe thead th {\n",
       "        text-align: right;\n",
       "    }\n",
       "</style>\n",
       "<table border=\"1\" class=\"dataframe\">\n",
       "  <thead>\n",
       "    <tr style=\"text-align: right;\">\n",
       "      <th></th>\n",
       "      <th>user_id</th>\n",
       "      <th>AvailReviewCount</th>\n",
       "      <th>Reviews</th>\n",
       "    </tr>\n",
       "  </thead>\n",
       "  <tbody>\n",
       "    <tr>\n",
       "      <th>0</th>\n",
       "      <td>---1lKK3aKOuomHnwAkAow</td>\n",
       "      <td>37</td>\n",
       "      <td>{'kL23fT8JmgYoZuxHsF_wjw', 'Var3KGOJp8sA4vGcMW...</td>\n",
       "    </tr>\n",
       "    <tr>\n",
       "      <th>1</th>\n",
       "      <td>---94vtJ_5o_nikEs6hUjg</td>\n",
       "      <td>0</td>\n",
       "      <td>set()</td>\n",
       "    </tr>\n",
       "    <tr>\n",
       "      <th>2</th>\n",
       "      <td>---PLwSf5gKdIoVnyRHgBA</td>\n",
       "      <td>0</td>\n",
       "      <td>set()</td>\n",
       "    </tr>\n",
       "    <tr>\n",
       "      <th>3</th>\n",
       "      <td>---cu1hq55BP9DWVXXKHZg</td>\n",
       "      <td>1</td>\n",
       "      <td>{'O0frjb1NA2AD5VnHNWVpcg'}</td>\n",
       "    </tr>\n",
       "    <tr>\n",
       "      <th>4</th>\n",
       "      <td>---fhiwiwBYrvqhpXgcWDQ</td>\n",
       "      <td>0</td>\n",
       "      <td>set()</td>\n",
       "    </tr>\n",
       "  </tbody>\n",
       "</table>\n",
       "</div>"
      ],
      "text/plain": [
       "                  user_id  AvailReviewCount  \\\n",
       "0  ---1lKK3aKOuomHnwAkAow                37   \n",
       "1  ---94vtJ_5o_nikEs6hUjg                 0   \n",
       "2  ---PLwSf5gKdIoVnyRHgBA                 0   \n",
       "3  ---cu1hq55BP9DWVXXKHZg                 1   \n",
       "4  ---fhiwiwBYrvqhpXgcWDQ                 0   \n",
       "\n",
       "                                             Reviews  \n",
       "0  {'kL23fT8JmgYoZuxHsF_wjw', 'Var3KGOJp8sA4vGcMW...  \n",
       "1                                              set()  \n",
       "2                                              set()  \n",
       "3                         {'O0frjb1NA2AD5VnHNWVpcg'}  \n",
       "4                                              set()  "
      ]
     },
     "execution_count": 6,
     "metadata": {},
     "output_type": "execute_result"
    }
   ],
   "source": [
    "availReviewDf1.head()"
   ]
  },
  {
   "cell_type": "code",
   "execution_count": 7,
   "metadata": {},
   "outputs": [
    {
     "data": {
      "text/html": [
       "<div>\n",
       "<style scoped>\n",
       "    .dataframe tbody tr th:only-of-type {\n",
       "        vertical-align: middle;\n",
       "    }\n",
       "\n",
       "    .dataframe tbody tr th {\n",
       "        vertical-align: top;\n",
       "    }\n",
       "\n",
       "    .dataframe thead th {\n",
       "        text-align: right;\n",
       "    }\n",
       "</style>\n",
       "<table border=\"1\" class=\"dataframe\">\n",
       "  <thead>\n",
       "    <tr style=\"text-align: right;\">\n",
       "      <th></th>\n",
       "      <th>user_id</th>\n",
       "      <th>AvailReviewCount</th>\n",
       "      <th>Reviews</th>\n",
       "    </tr>\n",
       "  </thead>\n",
       "  <tbody>\n",
       "    <tr>\n",
       "      <th>0</th>\n",
       "      <td>---1lKK3aKOuomHnwAkAow</td>\n",
       "      <td>27</td>\n",
       "      <td>{'EkkxYN5dkkSwifyFCSIR-g', 'XJ5a36JrjaOOoyMLty...</td>\n",
       "    </tr>\n",
       "    <tr>\n",
       "      <th>1</th>\n",
       "      <td>---94vtJ_5o_nikEs6hUjg</td>\n",
       "      <td>1</td>\n",
       "      <td>{'bImuLGmVMhUTjFinMjM46Q'}</td>\n",
       "    </tr>\n",
       "    <tr>\n",
       "      <th>2</th>\n",
       "      <td>---PLwSf5gKdIoVnyRHgBA</td>\n",
       "      <td>2</td>\n",
       "      <td>{'5Y_hKqpo4wb1pPtFgtCqrA', 'QXzgdKOdmrccxZ60Er...</td>\n",
       "    </tr>\n",
       "    <tr>\n",
       "      <th>3</th>\n",
       "      <td>---cu1hq55BP9DWVXXKHZg</td>\n",
       "      <td>1</td>\n",
       "      <td>{'C64IMmOZmJWiNdFe3ELklQ'}</td>\n",
       "    </tr>\n",
       "    <tr>\n",
       "      <th>4</th>\n",
       "      <td>---fhiwiwBYrvqhpXgcWDQ</td>\n",
       "      <td>0</td>\n",
       "      <td>set()</td>\n",
       "    </tr>\n",
       "  </tbody>\n",
       "</table>\n",
       "</div>"
      ],
      "text/plain": [
       "                  user_id  AvailReviewCount  \\\n",
       "0  ---1lKK3aKOuomHnwAkAow                27   \n",
       "1  ---94vtJ_5o_nikEs6hUjg                 1   \n",
       "2  ---PLwSf5gKdIoVnyRHgBA                 2   \n",
       "3  ---cu1hq55BP9DWVXXKHZg                 1   \n",
       "4  ---fhiwiwBYrvqhpXgcWDQ                 0   \n",
       "\n",
       "                                             Reviews  \n",
       "0  {'EkkxYN5dkkSwifyFCSIR-g', 'XJ5a36JrjaOOoyMLty...  \n",
       "1                         {'bImuLGmVMhUTjFinMjM46Q'}  \n",
       "2  {'5Y_hKqpo4wb1pPtFgtCqrA', 'QXzgdKOdmrccxZ60Er...  \n",
       "3                         {'C64IMmOZmJWiNdFe3ELklQ'}  \n",
       "4                                              set()  "
      ]
     },
     "execution_count": 7,
     "metadata": {},
     "output_type": "execute_result"
    }
   ],
   "source": [
    "availReviewDf2.head()"
   ]
  },
  {
   "cell_type": "code",
   "execution_count": null,
   "metadata": {},
   "outputs": [],
   "source": [
    "availReviewDf3.head()"
   ]
  },
  {
   "cell_type": "code",
   "execution_count": null,
   "metadata": {},
   "outputs": [],
   "source": [
    "availReviewDf4.head()"
   ]
  },
  {
   "cell_type": "code",
   "execution_count": null,
   "metadata": {},
   "outputs": [],
   "source": [
    "sortedUserDf.head()"
   ]
  },
  {
   "cell_type": "markdown",
   "metadata": {},
   "source": [
    "### Clean out reptetitions in reviews"
   ]
  },
  {
   "cell_type": "code",
   "execution_count": 44,
   "metadata": {},
   "outputs": [],
   "source": [
    "def uniqueReviewCount(Ldf,len_user):\n",
    "    availReviewCountCol=[]\n",
    "    reviewsCol=[]\n",
    "    for i in range(len_user): #row number of the user (position-based)\n",
    "        reviewset=eval(Ldf[0].iloc[i]['Reviews'])\n",
    "#         oldcount=Ldf[0].iloc[i]['AvailReviewCount']\n",
    "        for j in range(1,len(Ldf)): #Ldf[j] <- dataframe syncing right now\n",
    "            reviewset=reviewset.union(eval(Ldf[j].iloc[i]['Reviews']))\n",
    "#             oldcount+=Ldf[j].iloc[i]['AvailReviewCount']\n",
    "        availReviewCountCol.append(len(reviewset))\n",
    "        reviewsCol.append(reviewset)\n",
    "#         print(oldcount,'->',len(reviewset))\n",
    "    return availReviewCountCol, reviewsCol"
   ]
  },
  {
   "cell_type": "code",
   "execution_count": 45,
   "metadata": {},
   "outputs": [],
   "source": [
    "availReviewCountCol, reviewsCol=uniqueReviewCount([availReviewDf1,availReviewDf2],1183362)"
   ]
  },
  {
   "cell_type": "code",
   "execution_count": null,
   "metadata": {},
   "outputs": [],
   "source": [
    "availReviewDfUnion1=pd.DataFrame(data={\"AvailReviewCount\":availReviewCountCol,\"Reviews\":reviewsCol},index=sortedUserDf['user_id'])"
   ]
  },
  {
   "cell_type": "code",
   "execution_count": null,
   "metadata": {},
   "outputs": [],
   "source": [
    "availReviewCountCol2, reviewsCol2=uniqueReviewCount([availReviewDf3,availReviewDf4],1183362)"
   ]
  },
  {
   "cell_type": "code",
   "execution_count": null,
   "metadata": {},
   "outputs": [],
   "source": [
    "availReviewDfUnion2=pd.DataFrame(data={\"AvailReviewCount\":availReviewCountCol2,\"Reviews\":reviewsCol2},index=sortedUserDf['user_id'])"
   ]
  },
  {
   "cell_type": "code",
   "execution_count": null,
   "metadata": {},
   "outputs": [],
   "source": [
    "availReviewCountCol, reviewsCol=uniqueReviewCount([availReviewDfUnion1,availReviewDfUnion2],1183362)"
   ]
  },
  {
   "cell_type": "code",
   "execution_count": null,
   "metadata": {},
   "outputs": [],
   "source": [
    "availReviewTotalDf=pd.DataFrame(data={\"AvailReviewCount\":availReviewCountCol,\"Reviews\":reviewsCol},index=sortedUserDf['user_id'])"
   ]
  },
  {
   "cell_type": "markdown",
   "metadata": {},
   "source": [
    "## Check the percentage of available reviews for all users in the user dataset"
   ]
  },
  {
   "cell_type": "code",
   "execution_count": null,
   "metadata": {},
   "outputs": [],
   "source": [
    "newUserDf.head()"
   ]
  },
  {
   "cell_type": "code",
   "execution_count": null,
   "metadata": {},
   "outputs": [],
   "source": [
    "AvaiReviewCountDf.head()"
   ]
  },
  {
   "cell_type": "code",
   "execution_count": null,
   "metadata": {},
   "outputs": [],
   "source": [
    "newUserDf.tail()"
   ]
  },
  {
   "cell_type": "code",
   "execution_count": null,
   "metadata": {},
   "outputs": [],
   "source": [
    "AvaiReviewCountDf.tail()"
   ]
  },
  {
   "cell_type": "code",
   "execution_count": null,
   "metadata": {},
   "outputs": [],
   "source": []
  }
 ],
 "metadata": {
  "kernelspec": {
   "display_name": "Python 3",
   "language": "python",
   "name": "python3"
  },
  "language_info": {
   "codemirror_mode": {
    "name": "ipython",
    "version": 3
   },
   "file_extension": ".py",
   "mimetype": "text/x-python",
   "name": "python",
   "nbconvert_exporter": "python",
   "pygments_lexer": "ipython3",
   "version": "3.6.2"
  }
 },
 "nbformat": 4,
 "nbformat_minor": 2
}
