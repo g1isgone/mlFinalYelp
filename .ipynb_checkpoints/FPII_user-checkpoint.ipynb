{
 "cells": [
  {
   "cell_type": "code",
   "execution_count": 2,
   "metadata": {},
   "outputs": [],
   "source": [
    "import json \n",
    "from pprint import pprint\n",
    "import pandas as pd\n",
    "import numpy as np"
   ]
  },
  {
   "cell_type": "code",
   "execution_count": 9,
   "metadata": {},
   "outputs": [
    {
     "name": "stderr",
     "output_type": "stream",
     "text": [
      "/Library/Frameworks/Python.framework/Versions/3.6/lib/python3.6/site-packages/numpy/lib/arraysetops.py:463: FutureWarning: elementwise comparison failed; returning scalar instead, but in the future will perform elementwise comparison\n",
      "  mask |= (ar1 == a)\n"
     ]
    }
   ],
   "source": [
    "#Load the data frame file\n",
    "userDf = pd.read_csv('userDfFile.csv',index_col=0)"
   ]
  },
  {
   "cell_type": "code",
   "execution_count": 10,
   "metadata": {},
   "outputs": [
    {
     "data": {
      "text/html": [
       "<div>\n",
       "<style scoped>\n",
       "    .dataframe tbody tr th:only-of-type {\n",
       "        vertical-align: middle;\n",
       "    }\n",
       "\n",
       "    .dataframe tbody tr th {\n",
       "        vertical-align: top;\n",
       "    }\n",
       "\n",
       "    .dataframe thead th {\n",
       "        text-align: right;\n",
       "    }\n",
       "</style>\n",
       "<table border=\"1\" class=\"dataframe\">\n",
       "  <thead>\n",
       "    <tr style=\"text-align: right;\">\n",
       "      <th></th>\n",
       "      <th>average_stars</th>\n",
       "      <th>review_count</th>\n",
       "    </tr>\n",
       "  </thead>\n",
       "  <tbody>\n",
       "    <tr>\n",
       "      <th>count</th>\n",
       "      <td>1.183362e+06</td>\n",
       "      <td>1.183362e+06</td>\n",
       "    </tr>\n",
       "    <tr>\n",
       "      <th>mean</th>\n",
       "      <td>3.711835e+00</td>\n",
       "      <td>2.372686e+01</td>\n",
       "    </tr>\n",
       "    <tr>\n",
       "      <th>std</th>\n",
       "      <td>1.105231e+00</td>\n",
       "      <td>8.050645e+01</td>\n",
       "    </tr>\n",
       "    <tr>\n",
       "      <th>min</th>\n",
       "      <td>1.000000e+00</td>\n",
       "      <td>0.000000e+00</td>\n",
       "    </tr>\n",
       "    <tr>\n",
       "      <th>25%</th>\n",
       "      <td>3.130000e+00</td>\n",
       "      <td>2.000000e+00</td>\n",
       "    </tr>\n",
       "    <tr>\n",
       "      <th>50%</th>\n",
       "      <td>3.890000e+00</td>\n",
       "      <td>5.000000e+00</td>\n",
       "    </tr>\n",
       "    <tr>\n",
       "      <th>75%</th>\n",
       "      <td>4.570000e+00</td>\n",
       "      <td>1.600000e+01</td>\n",
       "    </tr>\n",
       "    <tr>\n",
       "      <th>max</th>\n",
       "      <td>5.000000e+00</td>\n",
       "      <td>1.165600e+04</td>\n",
       "    </tr>\n",
       "  </tbody>\n",
       "</table>\n",
       "</div>"
      ],
      "text/plain": [
       "       average_stars  review_count\n",
       "count   1.183362e+06  1.183362e+06\n",
       "mean    3.711835e+00  2.372686e+01\n",
       "std     1.105231e+00  8.050645e+01\n",
       "min     1.000000e+00  0.000000e+00\n",
       "25%     3.130000e+00  2.000000e+00\n",
       "50%     3.890000e+00  5.000000e+00\n",
       "75%     4.570000e+00  1.600000e+01\n",
       "max     5.000000e+00  1.165600e+04"
      ]
     },
     "execution_count": 10,
     "metadata": {},
     "output_type": "execute_result"
    }
   ],
   "source": [
    "userDf.describe()"
   ]
  },
  {
   "cell_type": "code",
   "execution_count": 11,
   "metadata": {},
   "outputs": [
    {
     "data": {
      "text/plain": [
       "average_stars    float64\n",
       "review_count       int64\n",
       "user_id           object\n",
       "yelping_since     object\n",
       "dtype: object"
      ]
     },
     "execution_count": 11,
     "metadata": {},
     "output_type": "execute_result"
    }
   ],
   "source": [
    "userDf.dtypes"
   ]
  },
  {
   "cell_type": "code",
   "execution_count": 15,
   "metadata": {},
   "outputs": [
    {
     "data": {
      "text/html": [
       "<div>\n",
       "<style scoped>\n",
       "    .dataframe tbody tr th:only-of-type {\n",
       "        vertical-align: middle;\n",
       "    }\n",
       "\n",
       "    .dataframe tbody tr th {\n",
       "        vertical-align: top;\n",
       "    }\n",
       "\n",
       "    .dataframe thead th {\n",
       "        text-align: right;\n",
       "    }\n",
       "</style>\n",
       "<table border=\"1\" class=\"dataframe\">\n",
       "  <thead>\n",
       "    <tr style=\"text-align: right;\">\n",
       "      <th></th>\n",
       "      <th>average_stars</th>\n",
       "      <th>review_count</th>\n",
       "      <th>user_id</th>\n",
       "      <th>yelping_since</th>\n",
       "    </tr>\n",
       "  </thead>\n",
       "  <tbody>\n",
       "    <tr>\n",
       "      <th>0</th>\n",
       "      <td>3.80</td>\n",
       "      <td>272</td>\n",
       "      <td>lsSiIjAKVl-QRxKjRErBeg</td>\n",
       "      <td>2010-07-13</td>\n",
       "    </tr>\n",
       "    <tr>\n",
       "      <th>1</th>\n",
       "      <td>3.94</td>\n",
       "      <td>2559</td>\n",
       "      <td>om5ZiponkpRqUNa3pVPiRg</td>\n",
       "      <td>2006-01-18</td>\n",
       "    </tr>\n",
       "    <tr>\n",
       "      <th>2</th>\n",
       "      <td>4.72</td>\n",
       "      <td>277</td>\n",
       "      <td>-lGwMGHMC_XihFJNKCJNRg</td>\n",
       "      <td>2014-10-31</td>\n",
       "    </tr>\n",
       "    <tr>\n",
       "      <th>3</th>\n",
       "      <td>3.76</td>\n",
       "      <td>436</td>\n",
       "      <td>D-ydMTPGWXTVm4_jjp0k9g</td>\n",
       "      <td>2013-04-01</td>\n",
       "    </tr>\n",
       "    <tr>\n",
       "      <th>4</th>\n",
       "      <td>4.23</td>\n",
       "      <td>921</td>\n",
       "      <td>PcvbBOCOcs6_suRDH7TSTg</td>\n",
       "      <td>2012-08-16</td>\n",
       "    </tr>\n",
       "  </tbody>\n",
       "</table>\n",
       "</div>"
      ],
      "text/plain": [
       "   average_stars  review_count                 user_id yelping_since\n",
       "0           3.80           272  lsSiIjAKVl-QRxKjRErBeg    2010-07-13\n",
       "1           3.94          2559  om5ZiponkpRqUNa3pVPiRg    2006-01-18\n",
       "2           4.72           277  -lGwMGHMC_XihFJNKCJNRg    2014-10-31\n",
       "3           3.76           436  D-ydMTPGWXTVm4_jjp0k9g    2013-04-01\n",
       "4           4.23           921  PcvbBOCOcs6_suRDH7TSTg    2012-08-16"
      ]
     },
     "execution_count": 15,
     "metadata": {},
     "output_type": "execute_result"
    }
   ],
   "source": [
    "userDf.head()"
   ]
  },
  {
   "cell_type": "code",
   "execution_count": 16,
   "metadata": {},
   "outputs": [
    {
     "data": {
      "text/html": [
       "<div>\n",
       "<style scoped>\n",
       "    .dataframe tbody tr th:only-of-type {\n",
       "        vertical-align: middle;\n",
       "    }\n",
       "\n",
       "    .dataframe tbody tr th {\n",
       "        vertical-align: top;\n",
       "    }\n",
       "\n",
       "    .dataframe thead th {\n",
       "        text-align: right;\n",
       "    }\n",
       "</style>\n",
       "<table border=\"1\" class=\"dataframe\">\n",
       "  <thead>\n",
       "    <tr style=\"text-align: right;\">\n",
       "      <th></th>\n",
       "      <th>average_stars</th>\n",
       "      <th>review_count</th>\n",
       "      <th>user_id</th>\n",
       "      <th>yelping_since</th>\n",
       "    </tr>\n",
       "  </thead>\n",
       "  <tbody>\n",
       "    <tr>\n",
       "      <th>1183357</th>\n",
       "      <td>1.00</td>\n",
       "      <td>1</td>\n",
       "      <td>OME6i0Xwqbx_xWMKgKqAjw</td>\n",
       "      <td>2009-05-09</td>\n",
       "    </tr>\n",
       "    <tr>\n",
       "      <th>1183358</th>\n",
       "      <td>2.00</td>\n",
       "      <td>1</td>\n",
       "      <td>3-y8vkrcLwEAXLPxPbr49Q</td>\n",
       "      <td>2016-10-21</td>\n",
       "    </tr>\n",
       "    <tr>\n",
       "      <th>1183359</th>\n",
       "      <td>3.42</td>\n",
       "      <td>22</td>\n",
       "      <td>ZjAfWpPFq9edGphegQXUfQ</td>\n",
       "      <td>2012-01-13</td>\n",
       "    </tr>\n",
       "    <tr>\n",
       "      <th>1183360</th>\n",
       "      <td>1.00</td>\n",
       "      <td>1</td>\n",
       "      <td>yC7UhCwzzteD_mpfA8mryw</td>\n",
       "      <td>2014-05-30</td>\n",
       "    </tr>\n",
       "    <tr>\n",
       "      <th>1183361</th>\n",
       "      <td>3.57</td>\n",
       "      <td>6</td>\n",
       "      <td>9iUkIqYh84eAOXBh-NPheA</td>\n",
       "      <td>2010-06-18</td>\n",
       "    </tr>\n",
       "  </tbody>\n",
       "</table>\n",
       "</div>"
      ],
      "text/plain": [
       "         average_stars  review_count                 user_id yelping_since\n",
       "1183357           1.00             1  OME6i0Xwqbx_xWMKgKqAjw    2009-05-09\n",
       "1183358           2.00             1  3-y8vkrcLwEAXLPxPbr49Q    2016-10-21\n",
       "1183359           3.42            22  ZjAfWpPFq9edGphegQXUfQ    2012-01-13\n",
       "1183360           1.00             1  yC7UhCwzzteD_mpfA8mryw    2014-05-30\n",
       "1183361           3.57             6  9iUkIqYh84eAOXBh-NPheA    2010-06-18"
      ]
     },
     "execution_count": 16,
     "metadata": {},
     "output_type": "execute_result"
    }
   ],
   "source": [
    "userDf.tail()"
   ]
  },
  {
   "cell_type": "markdown",
   "metadata": {},
   "source": [
    "Define a metric to measure how active a user is. We call this measure \"activity\". \n",
    "\n",
    "We find the most recent date among all \"yelping_since\", call it *most_recent*.\n",
    "\n",
    "Then *activity=review_count/(most_recent+1-yelping_since)*"
   ]
  },
  {
   "cell_type": "markdown",
   "metadata": {},
   "source": [
    "First covert string in 'yelping_since' column all to datetime format."
   ]
  },
  {
   "cell_type": "code",
   "execution_count": 51,
   "metadata": {},
   "outputs": [
    {
     "data": {
      "text/plain": [
       "average_stars           float64\n",
       "review_count              int64\n",
       "user_id                  object\n",
       "yelping_since    datetime64[ns]\n",
       "dtype: object"
      ]
     },
     "execution_count": 51,
     "metadata": {},
     "output_type": "execute_result"
    }
   ],
   "source": [
    "userDf['yelping_since']=pd.to_datetime(userDf['yelping_since'])\n",
    "userDf.dtypes"
   ]
  },
  {
   "cell_type": "markdown",
   "metadata": {},
   "source": [
    "Find the most_recent yelping_since datetime:"
   ]
  },
  {
   "cell_type": "code",
   "execution_count": 41,
   "metadata": {},
   "outputs": [
    {
     "name": "stdout",
     "output_type": "stream",
     "text": [
      "2017-07-26 00:00:00\n"
     ]
    }
   ],
   "source": [
    "most_recent=userDf['yelping_since'].max()\n",
    "print(most_recent)"
   ]
  },
  {
   "cell_type": "markdown",
   "metadata": {},
   "source": [
    "Now calculate *activity* and store all values in a new column *activity*.\n",
    "\n",
    "Since the value is usually very small, we multiply it by 1000.\n",
    "\n",
    "Thus, *activity* means the number of reviews the user writes per 1000 days."
   ]
  },
  {
   "cell_type": "code",
   "execution_count": 71,
   "metadata": {},
   "outputs": [],
   "source": [
    "userDf['activity']=userDf.apply(lambda row: round(row.review_count*1000/((most_recent-row.yelping_since).days+1)),axis=1)"
   ]
  },
  {
   "cell_type": "code",
   "execution_count": 73,
   "metadata": {},
   "outputs": [
    {
     "data": {
      "text/html": [
       "<div>\n",
       "<style scoped>\n",
       "    .dataframe tbody tr th:only-of-type {\n",
       "        vertical-align: middle;\n",
       "    }\n",
       "\n",
       "    .dataframe tbody tr th {\n",
       "        vertical-align: top;\n",
       "    }\n",
       "\n",
       "    .dataframe thead th {\n",
       "        text-align: right;\n",
       "    }\n",
       "</style>\n",
       "<table border=\"1\" class=\"dataframe\">\n",
       "  <thead>\n",
       "    <tr style=\"text-align: right;\">\n",
       "      <th></th>\n",
       "      <th>average_stars</th>\n",
       "      <th>review_count</th>\n",
       "      <th>user_id</th>\n",
       "      <th>yelping_since</th>\n",
       "      <th>activity</th>\n",
       "    </tr>\n",
       "  </thead>\n",
       "  <tbody>\n",
       "    <tr>\n",
       "      <th>0</th>\n",
       "      <td>3.80</td>\n",
       "      <td>272</td>\n",
       "      <td>lsSiIjAKVl-QRxKjRErBeg</td>\n",
       "      <td>2010-07-13</td>\n",
       "      <td>106</td>\n",
       "    </tr>\n",
       "    <tr>\n",
       "      <th>1</th>\n",
       "      <td>3.94</td>\n",
       "      <td>2559</td>\n",
       "      <td>om5ZiponkpRqUNa3pVPiRg</td>\n",
       "      <td>2006-01-18</td>\n",
       "      <td>608</td>\n",
       "    </tr>\n",
       "    <tr>\n",
       "      <th>2</th>\n",
       "      <td>4.72</td>\n",
       "      <td>277</td>\n",
       "      <td>-lGwMGHMC_XihFJNKCJNRg</td>\n",
       "      <td>2014-10-31</td>\n",
       "      <td>277</td>\n",
       "    </tr>\n",
       "    <tr>\n",
       "      <th>3</th>\n",
       "      <td>3.76</td>\n",
       "      <td>436</td>\n",
       "      <td>D-ydMTPGWXTVm4_jjp0k9g</td>\n",
       "      <td>2013-04-01</td>\n",
       "      <td>276</td>\n",
       "    </tr>\n",
       "    <tr>\n",
       "      <th>4</th>\n",
       "      <td>4.23</td>\n",
       "      <td>921</td>\n",
       "      <td>PcvbBOCOcs6_suRDH7TSTg</td>\n",
       "      <td>2012-08-16</td>\n",
       "      <td>510</td>\n",
       "    </tr>\n",
       "  </tbody>\n",
       "</table>\n",
       "</div>"
      ],
      "text/plain": [
       "   average_stars  review_count                 user_id yelping_since  activity\n",
       "0           3.80           272  lsSiIjAKVl-QRxKjRErBeg    2010-07-13       106\n",
       "1           3.94          2559  om5ZiponkpRqUNa3pVPiRg    2006-01-18       608\n",
       "2           4.72           277  -lGwMGHMC_XihFJNKCJNRg    2014-10-31       277\n",
       "3           3.76           436  D-ydMTPGWXTVm4_jjp0k9g    2013-04-01       276\n",
       "4           4.23           921  PcvbBOCOcs6_suRDH7TSTg    2012-08-16       510"
      ]
     },
     "execution_count": 73,
     "metadata": {},
     "output_type": "execute_result"
    }
   ],
   "source": [
    "userDf.head()"
   ]
  },
  {
   "cell_type": "code",
   "execution_count": 74,
   "metadata": {},
   "outputs": [
    {
     "data": {
      "text/plain": [
       "0"
      ]
     },
     "execution_count": 74,
     "metadata": {},
     "output_type": "execute_result"
    }
   ],
   "source": [
    "userDf['activity'].min()"
   ]
  },
  {
   "cell_type": "code",
   "execution_count": 75,
   "metadata": {},
   "outputs": [
    {
     "data": {
      "text/plain": [
       "13500"
      ]
     },
     "execution_count": 75,
     "metadata": {},
     "output_type": "execute_result"
    }
   ],
   "source": [
    "userDf['activity'].max()"
   ]
  },
  {
   "cell_type": "code",
   "execution_count": 76,
   "metadata": {},
   "outputs": [
    {
     "data": {
      "text/plain": [
       "1068980"
      ]
     },
     "execution_count": 76,
     "metadata": {},
     "output_type": "execute_result"
    }
   ],
   "source": [
    "userDf['activity'].idxmax()"
   ]
  },
  {
   "cell_type": "code",
   "execution_count": 77,
   "metadata": {},
   "outputs": [
    {
     "data": {
      "text/plain": [
       "average_stars                      3.65\n",
       "review_count                         54\n",
       "user_id          duDYbWuTmgxzAh5gK0f6Tw\n",
       "yelping_since       2017-07-23 00:00:00\n",
       "activity                          13500\n",
       "Name: 1068980, dtype: object"
      ]
     },
     "execution_count": 77,
     "metadata": {},
     "output_type": "execute_result"
    }
   ],
   "source": [
    "userDf.loc[1068980]"
   ]
  },
  {
   "cell_type": "code",
   "execution_count": 78,
   "metadata": {},
   "outputs": [
    {
     "data": {
      "text/html": [
       "<div>\n",
       "<style scoped>\n",
       "    .dataframe tbody tr th:only-of-type {\n",
       "        vertical-align: middle;\n",
       "    }\n",
       "\n",
       "    .dataframe tbody tr th {\n",
       "        vertical-align: top;\n",
       "    }\n",
       "\n",
       "    .dataframe thead th {\n",
       "        text-align: right;\n",
       "    }\n",
       "</style>\n",
       "<table border=\"1\" class=\"dataframe\">\n",
       "  <thead>\n",
       "    <tr style=\"text-align: right;\">\n",
       "      <th></th>\n",
       "      <th>average_stars</th>\n",
       "      <th>review_count</th>\n",
       "      <th>activity</th>\n",
       "    </tr>\n",
       "  </thead>\n",
       "  <tbody>\n",
       "    <tr>\n",
       "      <th>count</th>\n",
       "      <td>1.183362e+06</td>\n",
       "      <td>1.183362e+06</td>\n",
       "      <td>1.183362e+06</td>\n",
       "    </tr>\n",
       "    <tr>\n",
       "      <th>mean</th>\n",
       "      <td>3.711835e+00</td>\n",
       "      <td>2.372686e+01</td>\n",
       "      <td>1.484975e+01</td>\n",
       "    </tr>\n",
       "    <tr>\n",
       "      <th>std</th>\n",
       "      <td>1.105231e+00</td>\n",
       "      <td>8.050645e+01</td>\n",
       "      <td>5.064215e+01</td>\n",
       "    </tr>\n",
       "    <tr>\n",
       "      <th>min</th>\n",
       "      <td>1.000000e+00</td>\n",
       "      <td>0.000000e+00</td>\n",
       "      <td>0.000000e+00</td>\n",
       "    </tr>\n",
       "    <tr>\n",
       "      <th>25%</th>\n",
       "      <td>3.130000e+00</td>\n",
       "      <td>2.000000e+00</td>\n",
       "      <td>2.000000e+00</td>\n",
       "    </tr>\n",
       "    <tr>\n",
       "      <th>50%</th>\n",
       "      <td>3.890000e+00</td>\n",
       "      <td>5.000000e+00</td>\n",
       "      <td>5.000000e+00</td>\n",
       "    </tr>\n",
       "    <tr>\n",
       "      <th>75%</th>\n",
       "      <td>4.570000e+00</td>\n",
       "      <td>1.600000e+01</td>\n",
       "      <td>1.200000e+01</td>\n",
       "    </tr>\n",
       "    <tr>\n",
       "      <th>max</th>\n",
       "      <td>5.000000e+00</td>\n",
       "      <td>1.165600e+04</td>\n",
       "      <td>1.350000e+04</td>\n",
       "    </tr>\n",
       "  </tbody>\n",
       "</table>\n",
       "</div>"
      ],
      "text/plain": [
       "       average_stars  review_count      activity\n",
       "count   1.183362e+06  1.183362e+06  1.183362e+06\n",
       "mean    3.711835e+00  2.372686e+01  1.484975e+01\n",
       "std     1.105231e+00  8.050645e+01  5.064215e+01\n",
       "min     1.000000e+00  0.000000e+00  0.000000e+00\n",
       "25%     3.130000e+00  2.000000e+00  2.000000e+00\n",
       "50%     3.890000e+00  5.000000e+00  5.000000e+00\n",
       "75%     4.570000e+00  1.600000e+01  1.200000e+01\n",
       "max     5.000000e+00  1.165600e+04  1.350000e+04"
      ]
     },
     "execution_count": 78,
     "metadata": {},
     "output_type": "execute_result"
    }
   ],
   "source": [
    "userDf.describe()"
   ]
  },
  {
   "cell_type": "code",
   "execution_count": 79,
   "metadata": {},
   "outputs": [
    {
     "data": {
      "text/html": [
       "<div>\n",
       "<style scoped>\n",
       "    .dataframe tbody tr th:only-of-type {\n",
       "        vertical-align: middle;\n",
       "    }\n",
       "\n",
       "    .dataframe tbody tr th {\n",
       "        vertical-align: top;\n",
       "    }\n",
       "\n",
       "    .dataframe thead th {\n",
       "        text-align: right;\n",
       "    }\n",
       "</style>\n",
       "<table border=\"1\" class=\"dataframe\">\n",
       "  <thead>\n",
       "    <tr style=\"text-align: right;\">\n",
       "      <th></th>\n",
       "      <th>average_stars</th>\n",
       "      <th>review_count</th>\n",
       "      <th>user_id</th>\n",
       "      <th>yelping_since</th>\n",
       "      <th>activity</th>\n",
       "    </tr>\n",
       "  </thead>\n",
       "  <tbody>\n",
       "    <tr>\n",
       "      <th>1183357</th>\n",
       "      <td>1.00</td>\n",
       "      <td>1</td>\n",
       "      <td>OME6i0Xwqbx_xWMKgKqAjw</td>\n",
       "      <td>2009-05-09</td>\n",
       "      <td>0</td>\n",
       "    </tr>\n",
       "    <tr>\n",
       "      <th>1183358</th>\n",
       "      <td>2.00</td>\n",
       "      <td>1</td>\n",
       "      <td>3-y8vkrcLwEAXLPxPbr49Q</td>\n",
       "      <td>2016-10-21</td>\n",
       "      <td>4</td>\n",
       "    </tr>\n",
       "    <tr>\n",
       "      <th>1183359</th>\n",
       "      <td>3.42</td>\n",
       "      <td>22</td>\n",
       "      <td>ZjAfWpPFq9edGphegQXUfQ</td>\n",
       "      <td>2012-01-13</td>\n",
       "      <td>11</td>\n",
       "    </tr>\n",
       "    <tr>\n",
       "      <th>1183360</th>\n",
       "      <td>1.00</td>\n",
       "      <td>1</td>\n",
       "      <td>yC7UhCwzzteD_mpfA8mryw</td>\n",
       "      <td>2014-05-30</td>\n",
       "      <td>1</td>\n",
       "    </tr>\n",
       "    <tr>\n",
       "      <th>1183361</th>\n",
       "      <td>3.57</td>\n",
       "      <td>6</td>\n",
       "      <td>9iUkIqYh84eAOXBh-NPheA</td>\n",
       "      <td>2010-06-18</td>\n",
       "      <td>2</td>\n",
       "    </tr>\n",
       "  </tbody>\n",
       "</table>\n",
       "</div>"
      ],
      "text/plain": [
       "         average_stars  review_count                 user_id yelping_since  \\\n",
       "1183357           1.00             1  OME6i0Xwqbx_xWMKgKqAjw    2009-05-09   \n",
       "1183358           2.00             1  3-y8vkrcLwEAXLPxPbr49Q    2016-10-21   \n",
       "1183359           3.42            22  ZjAfWpPFq9edGphegQXUfQ    2012-01-13   \n",
       "1183360           1.00             1  yC7UhCwzzteD_mpfA8mryw    2014-05-30   \n",
       "1183361           3.57             6  9iUkIqYh84eAOXBh-NPheA    2010-06-18   \n",
       "\n",
       "         activity  \n",
       "1183357         0  \n",
       "1183358         4  \n",
       "1183359        11  \n",
       "1183360         1  \n",
       "1183361         2  "
      ]
     },
     "execution_count": 79,
     "metadata": {},
     "output_type": "execute_result"
    }
   ],
   "source": [
    "userDf.tail()"
   ]
  },
  {
   "cell_type": "code",
   "execution_count": null,
   "metadata": {},
   "outputs": [],
   "source": []
  }
 ],
 "metadata": {
  "kernelspec": {
   "display_name": "Python 3",
   "language": "python",
   "name": "python3"
  },
  "language_info": {
   "codemirror_mode": {
    "name": "ipython",
    "version": 3
   },
   "file_extension": ".py",
   "mimetype": "text/x-python",
   "name": "python",
   "nbconvert_exporter": "python",
   "pygments_lexer": "ipython3",
   "version": "3.6.2"
  }
 },
 "nbformat": 4,
 "nbformat_minor": 2
}
