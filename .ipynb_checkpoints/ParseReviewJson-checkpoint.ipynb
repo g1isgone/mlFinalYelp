{
 "cells": [
  {
   "cell_type": "code",
   "execution_count": null,
   "metadata": {},
   "outputs": [],
   "source": [
    "import json \n",
    "from pprint import pprint\n",
    "import pandas as pd\n",
    "import numpy as np"
   ]
  },
  {
   "cell_type": "code",
   "execution_count": null,
   "metadata": {},
   "outputs": [],
   "source": [
    "def extractReviewInfo(filename):\n",
    "    data=[]\n",
    "    returnValues=[]\n",
    "    with open(filename) as file:\n",
    "        for line in file:\n",
    "            newDataLine={}\n",
    "            dataLine=json.loads(line)\n",
    "            for key in dataLine.keys():\n",
    "                if key=='review_id' or key=='user_id' or key=='business_id' or key=='stars' or key=='date' or key=='text':\n",
    "                    newDataLine[key]=dataLine[key]\n",
    "            data.append(newDataLine)\n",
    "        returnValues.append(data)\n",
    "        return returnValues"
   ]
  },
  {
   "cell_type": "code",
   "execution_count": null,
   "metadata": {},
   "outputs": [],
   "source": [
    "def formReviewDf(fileseq):\n",
    "    totaldata=[]\n",
    "    fileaddress='../dataset/xa'\n",
    "    for filenumber in fileseq:\n",
    "        filename=fileaddress+filenumber\n",
    "        totaldata.append(extractReviewInfo(filename)[0])\n",
    "    reviewInfo=sum(totaldata,[])\n",
    "    return pd.DataFrame.from_dict(reviewInfo)"
   ]
  },
  {
   "cell_type": "code",
   "execution_count": null,
   "metadata": {},
   "outputs": [],
   "source": [
    "reviewDf1=formReviewDf('abcd')"
   ]
  },
  {
   "cell_type": "code",
   "execution_count": null,
   "metadata": {},
   "outputs": [],
   "source": [
    "reviewDf1.to_csv('reviewDfFile1.csv')"
   ]
  },
  {
   "cell_type": "code",
   "execution_count": null,
   "metadata": {},
   "outputs": [],
   "source": [
    "reviewDf2=formReviewDf('efgh')"
   ]
  },
  {
   "cell_type": "code",
   "execution_count": null,
   "metadata": {},
   "outputs": [],
   "source": [
    "reviewDf2.to_csv('reviewDfFile2.csv')"
   ]
  },
  {
   "cell_type": "code",
   "execution_count": null,
   "metadata": {},
   "outputs": [],
   "source": [
    "reviewDf3=formReviewDf('ijkl')"
   ]
  },
  {
   "cell_type": "code",
   "execution_count": null,
   "metadata": {},
   "outputs": [],
   "source": [
    "reviewDf3.to_csv('reviewDfFile3.csv')"
   ]
  },
  {
   "cell_type": "code",
   "execution_count": null,
   "metadata": {},
   "outputs": [],
   "source": [
    "reviewDf4=formReviewDf('mnopq')"
   ]
  },
  {
   "cell_type": "code",
   "execution_count": null,
   "metadata": {},
   "outputs": [],
   "source": [
    "reviewDf4.to_csv('reviewDfFile4.csv')"
   ]
  },
  {
   "cell_type": "markdown",
   "metadata": {},
   "source": [
    "Now parse review 2.json.\n",
    "Similarly, we split the review 2.json into 4 smaller chunks by running the Bash command `split -l 1184225 \"review 2.json\"`, and then parse each smaller json file one by one."
   ]
  },
  {
   "cell_type": "code",
   "execution_count": null,
   "metadata": {},
   "outputs": [],
   "source": [
    "reviewsDf5=formReviewDf('a')"
   ]
  },
  {
   "cell_type": "code",
   "execution_count": null,
   "metadata": {},
   "outputs": [],
   "source": [
    "reviewsDf5.to_csv('reviewDfFile5.csv')"
   ]
  },
  {
   "cell_type": "code",
   "execution_count": null,
   "metadata": {},
   "outputs": [],
   "source": [
    "reviewDf6=formReviewDf('b')"
   ]
  },
  {
   "cell_type": "code",
   "execution_count": null,
   "metadata": {},
   "outputs": [],
   "source": [
    "reviewDf6.to_csv('reviewDfFile6.csv')"
   ]
  },
  {
   "cell_type": "code",
   "execution_count": null,
   "metadata": {},
   "outputs": [],
   "source": [
    "reviewDf7=formReviewDf('c')"
   ]
  },
  {
   "cell_type": "code",
   "execution_count": null,
   "metadata": {},
   "outputs": [],
   "source": [
    "reviewDf7.to_csv('reviewDfFile7.csv')"
   ]
  },
  {
   "cell_type": "code",
   "execution_count": 4,
   "metadata": {},
   "outputs": [],
   "source": [
    "reviewDf8=formReviewDf('d')"
   ]
  },
  {
   "cell_type": "code",
   "execution_count": 5,
   "metadata": {},
   "outputs": [],
   "source": [
    "reviewDf8.to_csv('reviewDfFile8.csv')"
   ]
  },
  {
   "cell_type": "code",
   "execution_count": null,
   "metadata": {},
   "outputs": [],
   "source": []
  }
 ],
 "metadata": {
  "kernelspec": {
   "display_name": "Python 3",
   "language": "python",
   "name": "python3"
  },
  "language_info": {
   "codemirror_mode": {
    "name": "ipython",
    "version": 3
   },
   "file_extension": ".py",
   "mimetype": "text/x-python",
   "name": "python",
   "nbconvert_exporter": "python",
   "pygments_lexer": "ipython3",
   "version": "3.6.2"
  }
 },
 "nbformat": 4,
 "nbformat_minor": 2
}
