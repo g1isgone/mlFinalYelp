{
 "cells": [
  {
   "cell_type": "code",
   "execution_count": 3,
   "metadata": {},
   "outputs": [],
   "source": [
    "import json \n",
    "from pprint import pprint\n",
    "import pandas as pd\n",
    "import numpy as np"
   ]
  },
  {
   "cell_type": "markdown",
   "metadata": {},
   "source": [
    "Attempt to use ijson to parse json more efficiently. However, since the original json is actually not a valid json, but consists of multiple json objects, ijson cannot work."
   ]
  },
  {
   "cell_type": "code",
   "execution_count": 4,
   "metadata": {},
   "outputs": [],
   "source": [
    "# import ijson\n",
    "# with open('../dataset/user.json') as file:\n",
    "#     result = {} # a dictionary where the key is user_id, and value is \"review_count\" and \"yelping_since\"\n",
    "#     parser = ijson.parse(file)\n",
    "#     for prefix, event, value in parser:\n",
    "#         print('prefix',prefix)\n",
    "#         print('event',event)\n",
    "#         print('value',value)\n",
    "#         if (prefix, event) ==('user_id','string'):\n",
    "#             tmp_userid=value\n",
    "#             result[tmp_userid]=[]\n",
    "#         elif (prefix,event) == ('review_count','number'):\n",
    "#             result[tmp_userid].append(value)\n",
    "#         elif (prefix,event) == ('yelping_since','string'):\n",
    "#             result[tmp_userid].append(value)\n"
   ]
  },
  {
   "cell_type": "code",
   "execution_count": 5,
   "metadata": {},
   "outputs": [],
   "source": [
    "def extractUserInfo(filename):\n",
    "    data=[]\n",
    "    returnValues=[]\n",
    "    with open(filename) as file:\n",
    "        for line in file:\n",
    "            newDataLine={}\n",
    "            dataLine=json.loads(line)\n",
    "            for key in dataLine.keys():\n",
    "                if key=='user_id' or key=='review_count' or key=='yelping_since' or key=='average_stars':\n",
    "                    newDataLine[key]=dataLine[key]\n",
    "            data.append(newDataLine)\n",
    "        returnValues.append(data)\n",
    "        return returnValues\n",
    "\n",
    "            "
   ]
  },
  {
   "cell_type": "code",
   "execution_count": 6,
   "metadata": {},
   "outputs": [],
   "source": [
    "# First used Bash split command to split the user.json to 6 smaller json files\n",
    "totaldata=[]\n",
    "for filename in ['../dataset/user1.json','../dataset/user2.json','../dataset/user3.json','../dataset/user4.json','../dataset/user5.json','../dataset/user6.json']:\n",
    "    totaldata.append(extractUserInfo(filename)[0])\n",
    "userInfo=sum(totaldata,[])"
   ]
  },
  {
   "cell_type": "code",
   "execution_count": 7,
   "metadata": {},
   "outputs": [],
   "source": [
    "userDf=pd.DataFrame.from_dict(userInfo)"
   ]
  },
  {
   "cell_type": "code",
   "execution_count": 8,
   "metadata": {},
   "outputs": [
    {
     "data": {
      "text/plain": [
       "(1183362, 4)"
      ]
     },
     "execution_count": 8,
     "metadata": {},
     "output_type": "execute_result"
    }
   ],
   "source": [
    "userDf.shape"
   ]
  },
  {
   "cell_type": "markdown",
   "metadata": {},
   "source": [
    "Saved the dataframe into userDfFile.csv so there's no need to re-generate it every time"
   ]
  },
  {
   "cell_type": "code",
   "execution_count": 10,
   "metadata": {},
   "outputs": [],
   "source": [
    "userDf.to_csv('userDfFile.csv')"
   ]
  },
  {
   "cell_type": "code",
   "execution_count": 126,
   "metadata": {},
   "outputs": [],
   "source": []
  }
 ],
 "metadata": {
  "kernelspec": {
   "display_name": "Python 3",
   "language": "python",
   "name": "python3"
  },
  "language_info": {
   "codemirror_mode": {
    "name": "ipython",
    "version": 3
   },
   "file_extension": ".py",
   "mimetype": "text/x-python",
   "name": "python",
   "nbconvert_exporter": "python",
   "pygments_lexer": "ipython3",
   "version": "3.6.2"
  }
 },
 "nbformat": 4,
 "nbformat_minor": 2
}
