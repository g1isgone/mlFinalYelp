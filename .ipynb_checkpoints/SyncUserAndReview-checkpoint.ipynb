{
 "cells": [
  {
   "cell_type": "code",
   "execution_count": 1,
   "metadata": {},
   "outputs": [],
   "source": [
    "import pandas as pd\n",
    "import numpy as np"
   ]
  },
  {
   "cell_type": "code",
   "execution_count": null,
   "metadata": {},
   "outputs": [],
   "source": [
    "#Load the user data frame file\n",
    "userDf = pd.read_csv('userDfFile.csv',index_col=0)"
   ]
  },
  {
   "cell_type": "code",
   "execution_count": null,
   "metadata": {},
   "outputs": [],
   "source": [
    "sortedUserDf=userDf.sort_values('user_id')"
   ]
  },
  {
   "cell_type": "code",
   "execution_count": null,
   "metadata": {},
   "outputs": [],
   "source": [
    "sortedUserDf.tail()"
   ]
  },
  {
   "cell_type": "markdown",
   "metadata": {},
   "source": [
    "This is my first attempt. After I wrote it, I figured it might be very slow so I did not bother running it through."
   ]
  },
  {
   "cell_type": "code",
   "execution_count": null,
   "metadata": {},
   "outputs": [],
   "source": [
    "# '''Count the number of available reviews in reviewDf for each user in userDf and add that to the existing newUserDf which contains the available_review_count so far'''\n",
    "# def countAvailableReview(userDf,reviewDf,newUserDf):\n",
    "#     #loop through each user in userDf and count the number of reviews available in reviewDf\n",
    "#     for i in range(len(userDf)):\n",
    "#         user=userDf.loc[i,'user_id']\n",
    "#         available_review_count=len(reviewDf.loc[reviewDf['user_id']==user])\n",
    "#         newUserDf.at[i,'available_review_count']=available_review_count\n",
    "#     return newUserDf"
   ]
  },
  {
   "cell_type": "code",
   "execution_count": null,
   "metadata": {},
   "outputs": [],
   "source": [
    "'''Count the number of reviews and available in sortedReviewDf for each user in sortedUserDf'''\n",
    "def fastCountAvailReview(sortedUserDf,sortedReviewDf):\n",
    "    j=0 #iterator in sortedReviewDf\n",
    "    jmax=len(sortedReviewDf)\n",
    "    availReviewCol=[]\n",
    "    reviewIdCol=[]\n",
    "    for i in range(len(sortedUserDf)): #i <-- iterator in sortedUserDf\n",
    "        #user_id we are currently syncing\n",
    "        user=sortedUserDf.iloc[i]['user_id']\n",
    "        #loop until we find a user_id >= user\n",
    "        while (j<jmax and sortedReviewDf.iloc[j]['user_id']<user):\n",
    "            j+=1\n",
    "        reviewIdSet=set()\n",
    "        #Count the number of available reviews in sortedReviewDf\n",
    "        while (j<jmax and sortedReviewDf.iloc[j]['user_id']==user):\n",
    "            reviewIdSet.add(sortedReviewDf.iloc[j]['review_id'])\n",
    "            j+=1\n",
    "        availReviewCol.append(len(reviewIdSet))\n",
    "        reviewIdCol.append(reviewIdSet)\n",
    "    return availReviewCol,reviewIdCol"
   ]
  },
  {
   "cell_type": "markdown",
   "metadata": {},
   "source": [
    "### Sync reviewDf1.csv"
   ]
  },
  {
   "cell_type": "code",
   "execution_count": null,
   "metadata": {},
   "outputs": [],
   "source": [
    "#Load the review data frame file\n",
    "reviewDf=pd.read_csv('reviewDfFile1.csv',index_col=0)"
   ]
  },
  {
   "cell_type": "code",
   "execution_count": null,
   "metadata": {},
   "outputs": [],
   "source": [
    "sortedReviewDf=reviewDf.sort_values('user_id')"
   ]
  },
  {
   "cell_type": "code",
   "execution_count": null,
   "metadata": {},
   "outputs": [],
   "source": [
    "sortedReviewDf.tail()"
   ]
  },
  {
   "cell_type": "code",
   "execution_count": null,
   "metadata": {},
   "outputs": [],
   "source": [
    "#Drop rows that contain NaN\n",
    "sortedReviewDf=sortedReviewDf.drop(sortedReviewDf.index[-2:])"
   ]
  },
  {
   "cell_type": "code",
   "execution_count": null,
   "metadata": {},
   "outputs": [],
   "source": [
    "availReviewCol,reviewIdCol=fastCountAvailReview(sortedUserDf,sortedReviewDf)"
   ]
  },
  {
   "cell_type": "code",
   "execution_count": null,
   "metadata": {},
   "outputs": [],
   "source": [
    "#Put the result in a data frame\n",
    "availReviewDf1=pd.DataFrame(data={\"AvailReviewCount\":availReviewCol,\"Reviews\":reviewIdCol},index=sortedUserDf['user_id'])"
   ]
  },
  {
   "cell_type": "code",
   "execution_count": null,
   "metadata": {},
   "outputs": [],
   "source": [
    "#Export it into a csv file\n",
    "availReviewDf1.to_csv(\"availReviewDf1.csv\")"
   ]
  },
  {
   "cell_type": "code",
   "execution_count": null,
   "metadata": {},
   "outputs": [],
   "source": [
    "availReviewDf1.head()"
   ]
  },
  {
   "cell_type": "markdown",
   "metadata": {},
   "source": [
    "### Sync ReviewDfFile2.csv"
   ]
  },
  {
   "cell_type": "code",
   "execution_count": null,
   "metadata": {},
   "outputs": [],
   "source": [
    "#Load the review data frame file\n",
    "reviewDf=pd.read_csv('reviewDfFile2.csv',index_col=0)"
   ]
  },
  {
   "cell_type": "code",
   "execution_count": null,
   "metadata": {},
   "outputs": [],
   "source": [
    "sortedReviewDf=reviewDf.sort_values('user_id')"
   ]
  },
  {
   "cell_type": "code",
   "execution_count": null,
   "metadata": {},
   "outputs": [],
   "source": [
    "sortedReviewDf.tail()"
   ]
  },
  {
   "cell_type": "code",
   "execution_count": null,
   "metadata": {},
   "outputs": [],
   "source": [
    "#sortedReviewDf does not contain rows with NaN values, so proceed\n",
    "availReviewCol,reviewIdCol=fastCountAvailReview(sortedUserDf,sortedReviewDf)"
   ]
  },
  {
   "cell_type": "code",
   "execution_count": null,
   "metadata": {},
   "outputs": [],
   "source": [
    "#Put the results lists in a data frame and export it into a csv file\n",
    "availReviewDf2=pd.DataFrame(data={\"AvailReviewCount\":availReviewCol,\"Reviews\":reviewIdCol},index=sortedUserDf['user_id'])\n",
    "availReviewDf2.to_csv(\"availReviewDf2.csv\")"
   ]
  },
  {
   "cell_type": "code",
   "execution_count": null,
   "metadata": {},
   "outputs": [],
   "source": [
    "availReviewDf2.head()"
   ]
  },
  {
   "cell_type": "markdown",
   "metadata": {},
   "source": [
    "### Sync ReviewDfFile3.csv"
   ]
  },
  {
   "cell_type": "code",
   "execution_count": null,
   "metadata": {},
   "outputs": [],
   "source": [
    "#Load the review data frame file\n",
    "reviewDf=pd.read_csv('reviewDfFile3.csv',index_col=0)"
   ]
  },
  {
   "cell_type": "code",
   "execution_count": null,
   "metadata": {},
   "outputs": [],
   "source": [
    "sortedReviewDf=reviewDf.sort_values('user_id')"
   ]
  },
  {
   "cell_type": "code",
   "execution_count": null,
   "metadata": {},
   "outputs": [],
   "source": [
    "#sortedReviewDf does not contain rows with NaN values, so proceed\n",
    "availReviewCol,reviewIdCol=fastCountAvailReview(sortedUserDf,sortedReviewDf)"
   ]
  },
  {
   "cell_type": "code",
   "execution_count": null,
   "metadata": {},
   "outputs": [],
   "source": [
    "#Put the results lists in a data frame and export it into a csv file\n",
    "availReviewDf3=pd.DataFrame(data={\"AvailReviewCount\":availReviewCol,\"Reviews\":reviewIdCol},index=sortedUserDf['user_id'])\n",
    "availReviewDf3.to_csv(\"availReviewDf3.csv\")"
   ]
  },
  {
   "cell_type": "code",
   "execution_count": null,
   "metadata": {},
   "outputs": [],
   "source": [
    "availReviewDf3.head()"
   ]
  },
  {
   "cell_type": "markdown",
   "metadata": {},
   "source": [
    "### Sync ReviewDfFile4.csv"
   ]
  },
  {
   "cell_type": "code",
   "execution_count": null,
   "metadata": {},
   "outputs": [],
   "source": [
    "#Load the review data frame file\n",
    "reviewDf=pd.read_csv('reviewDfFile4.csv',index_col=0)"
   ]
  },
  {
   "cell_type": "code",
   "execution_count": null,
   "metadata": {},
   "outputs": [],
   "source": [
    "sortedReviewDf=reviewDf.sort_values('user_id')"
   ]
  },
  {
   "cell_type": "code",
   "execution_count": null,
   "metadata": {},
   "outputs": [],
   "source": [
    "sortedReviewDf.tail()"
   ]
  },
  {
   "cell_type": "code",
   "execution_count": null,
   "metadata": {},
   "outputs": [],
   "source": [
    "#Drop rows that contain NaN\n",
    "sortedReviewDf=sortedReviewDf.drop(sortedReviewDf.index[-2:])"
   ]
  },
  {
   "cell_type": "code",
   "execution_count": null,
   "metadata": {},
   "outputs": [],
   "source": [
    "availReviewCol,reviewIdCol=fastCountAvailReview(sortedUserDf,sortedReviewDf)"
   ]
  },
  {
   "cell_type": "code",
   "execution_count": null,
   "metadata": {},
   "outputs": [],
   "source": [
    "#Put the results lists in a data frame and export it into a csv file\n",
    "availReviewDf4=pd.DataFrame(data={\"AvailReviewCount\":availReviewCol,\"Reviews\":reviewIdCol},index=sortedUserDf['user_id'])\n",
    "availReviewDf4.to_csv(\"availReviewDf4.csv\")"
   ]
  },
  {
   "cell_type": "markdown",
   "metadata": {},
   "source": [
    "### Sync review5"
   ]
  },
  {
   "cell_type": "code",
   "execution_count": null,
   "metadata": {},
   "outputs": [],
   "source": [
    "#Load the review data frame file\n",
    "reviewDf=pd.read_csv('reviewDfFile5.csv',index_col=0)"
   ]
  },
  {
   "cell_type": "code",
   "execution_count": null,
   "metadata": {},
   "outputs": [],
   "source": [
    "# newUserDf.iloc[0, newUserDf.columns.get_loc('review_count')] = 246\n",
    "# df.iloc[0, df.columns.get_loc('COL_NAME')] = x\n",
    "# The following codes are just for testing\n",
    "# for i in range(20):\n",
    "#     print(len(reviewDf1.loc[reviewDf1['user_id']==newUserDf.iloc[i]['user_id']]))"
   ]
  },
  {
   "cell_type": "code",
   "execution_count": null,
   "metadata": {},
   "outputs": [],
   "source": [
    "sortedReviewDf=reviewDf.sort_values('user_id')"
   ]
  },
  {
   "cell_type": "code",
   "execution_count": null,
   "metadata": {},
   "outputs": [],
   "source": [
    "#Drop rows that contain NaN\n",
    "sortedReviewDf=sortedReviewDf.drop(sortedReviewDf.index[-2:])"
   ]
  },
  {
   "cell_type": "code",
   "execution_count": null,
   "metadata": {},
   "outputs": [],
   "source": [
    "availReviewCol,reviewIdCol=fastCountAvailReview(sortedUserDf,sortedReviewDf)"
   ]
  },
  {
   "cell_type": "code",
   "execution_count": null,
   "metadata": {},
   "outputs": [],
   "source": [
    "#Put the results lists in a data frame and export it into a csv file\n",
    "availReviewDf5=pd.DataFrame(data={\"AvailReviewCount\":availReviewCol,\"Reviews\":reviewIdCol},index=sortedUserDf['user_id'])\n",
    "availReviewDf5.to_csv(\"availReviewDf5.csv\")"
   ]
  },
  {
   "cell_type": "code",
   "execution_count": null,
   "metadata": {},
   "outputs": [],
   "source": [
    "availReviewDf5.head()"
   ]
  },
  {
   "cell_type": "markdown",
   "metadata": {},
   "source": [
    "### ...until done with syncing all csv files"
   ]
  },
  {
   "cell_type": "markdown",
   "metadata": {},
   "source": [
    "# Now sync all availReveiewDf"
   ]
  },
  {
   "cell_type": "code",
   "execution_count": 3,
   "metadata": {},
   "outputs": [],
   "source": [
    "availReviewDf1=pd.read_csv('availReviewDf1.csv')"
   ]
  },
  {
   "cell_type": "code",
   "execution_count": 4,
   "metadata": {},
   "outputs": [],
   "source": [
    "availReviewDf2=pd.read_csv('availReviewDf2.csv')"
   ]
  },
  {
   "cell_type": "code",
   "execution_count": null,
   "metadata": {},
   "outputs": [],
   "source": [
    "availReviewDf3=pd.read_csv('availReviewDf3.csv')"
   ]
  },
  {
   "cell_type": "code",
   "execution_count": null,
   "metadata": {},
   "outputs": [],
   "source": [
    "availReviewDf4=pd.read_csv('availReviewDf4.csv')\n",
    "availReviewDf5=pd.read_csv('availReviewDf5.csv')\n",
    "availReviewDf6=pd.read_csv('availReviewDf6.csv')\n",
    "availReviewDf7=pd.read_csv('availReviewDf7.csv')\n",
    "availReviewDf8=pd.read_csv('availReviewDf8.csv')"
   ]
  },
  {
   "cell_type": "code",
   "execution_count": null,
   "metadata": {},
   "outputs": [],
   "source": [
    "availReviewDf1.head()"
   ]
  },
  {
   "cell_type": "code",
   "execution_count": null,
   "metadata": {},
   "outputs": [],
   "source": [
    "availReviewDf2.head()"
   ]
  },
  {
   "cell_type": "code",
   "execution_count": null,
   "metadata": {},
   "outputs": [],
   "source": [
    "availReviewDf3.head()"
   ]
  },
  {
   "cell_type": "code",
   "execution_count": null,
   "metadata": {},
   "outputs": [],
   "source": [
    "availReviewDf4.head()"
   ]
  },
  {
   "cell_type": "code",
   "execution_count": null,
   "metadata": {},
   "outputs": [],
   "source": [
    "availReviewDf5.head()"
   ]
  },
  {
   "cell_type": "code",
   "execution_count": null,
   "metadata": {},
   "outputs": [],
   "source": [
    "availReviewDf6.head()"
   ]
  },
  {
   "cell_type": "code",
   "execution_count": null,
   "metadata": {},
   "outputs": [],
   "source": [
    "availReviewDf7.head()"
   ]
  },
  {
   "cell_type": "code",
   "execution_count": null,
   "metadata": {},
   "outputs": [],
   "source": [
    "availReviewDf8.head()"
   ]
  },
  {
   "cell_type": "code",
   "execution_count": null,
   "metadata": {},
   "outputs": [],
   "source": [
    "sortedUserDf.head()"
   ]
  },
  {
   "cell_type": "markdown",
   "metadata": {},
   "source": [
    "### Clean out reptetitions in reviews"
   ]
  },
  {
   "cell_type": "code",
   "execution_count": 2,
   "metadata": {},
   "outputs": [],
   "source": [
    "def uniqueReviewCount(Ldf,len_user):\n",
    "    availReviewCountCol=[]\n",
    "    reviewsCol=[]\n",
    "    for i in range(len_user): #row number of the user (position-based)\n",
    "        reviewset=set()\n",
    "        for j in range(len(Ldf)): #Ldf[j] <- dataframe syncing right now\n",
    "            reviewset=reviewset.union(Ldf[j].iloc[i]['Reviews'])\n",
    "        availReviewCountCol.append(len(reviewset))\n",
    "        reviewsCol.append(reviewset)\n",
    "    return availReviewCountCol, reviewsCol"
   ]
  },
  {
   "cell_type": "code",
   "execution_count": null,
   "metadata": {},
   "outputs": [],
   "source": [
    "availReviewCountCol, reviewsCol=uniqueReviewCount([availReviewDf1,availReviewDf2],1183362)"
   ]
  },
  {
   "cell_type": "code",
   "execution_count": null,
   "metadata": {},
   "outputs": [],
   "source": [
    "availReviewCountCol, reviewsCol=uniqueReviewCount([availReviewDf1,availReviewDf2,availReviewDf3,availReviewDf4,availReviewDf5,availReviewDf6,availReviewDf7,availReviewDf8],1183362)"
   ]
  },
  {
   "cell_type": "code",
   "execution_count": null,
   "metadata": {},
   "outputs": [],
   "source": [
    "print(len(sortedUserDf))\n",
    "print(len(availReviewDf8))"
   ]
  },
  {
   "cell_type": "code",
   "execution_count": null,
   "metadata": {},
   "outputs": [],
   "source": [
    "import copy\n",
    "# newcolumncopy=copy.deepcopy(newcolumn)"
   ]
  },
  {
   "cell_type": "code",
   "execution_count": null,
   "metadata": {},
   "outputs": [],
   "source": [
    "set1={1,2}\n",
    "set2={2,8,10}\n",
    "\n",
    "union=set1.union(set2)"
   ]
  },
  {
   "cell_type": "code",
   "execution_count": null,
   "metadata": {},
   "outputs": [],
   "source": [
    "type(set1)"
   ]
  },
  {
   "cell_type": "markdown",
   "metadata": {},
   "source": [
    "### Now create a function to sync the rest data frames"
   ]
  },
  {
   "cell_type": "code",
   "execution_count": null,
   "metadata": {},
   "outputs": [],
   "source": [
    "'''Update the newcolumn which contains the number of available reviews counted so far by syncing sortedUserDf and sortedReviewDf'''\n",
    "def fastUpdateAvaiReview(sortedUserDf,sortedReviewDf,newcolumn):\n",
    "    j=0\n",
    "    jmax=len(sortedReviewDf)\n",
    "    for i in range(len(sortedUserDf)):#i is the iterator in the sorted newUserDf\n",
    "        user=sortedUserDf.iloc[i]['user_id'] #the current user we are syncing\n",
    "        #loop till we find a user_id that is equal to or larger than user\n",
    "        while (j<jmax and sortedReviewDf.iloc[j]['user_id']<user):\n",
    "            j+=1\n",
    "        count=0 #initial available_review_count\n",
    "        #Now the user_id at position j in reviewDf matches the user_id at position i in newUserDf\n",
    "        while (j<jmax and sortedReviewDf.iloc[j]['user_id']==user):\n",
    "            count+=1\n",
    "            j+=1\n",
    "        newcolumn[i]+=count\n",
    "    return newcolumn\n",
    "    "
   ]
  },
  {
   "cell_type": "code",
   "execution_count": null,
   "metadata": {},
   "outputs": [],
   "source": [
    "'''Read the csv file as a data frame and sort it by user_id'''\n",
    "def loadAndSortCSV(csvfile):\n",
    "    reviewDf=pd.read_csv(csvfile,index_col=0,low)\n",
    "    reviewDf.sort_values('user_id',inplace=True)\n",
    "    return reviewDf"
   ]
  },
  {
   "cell_type": "markdown",
   "metadata": {},
   "source": [
    "##### Sync reviewDfFile2.csv"
   ]
  },
  {
   "cell_type": "code",
   "execution_count": null,
   "metadata": {},
   "outputs": [],
   "source": [
    "reviewDf=loadAndSortCSV('reviewDfFile2.csv')"
   ]
  },
  {
   "cell_type": "code",
   "execution_count": null,
   "metadata": {},
   "outputs": [],
   "source": [
    "newcolumn=fastCountAvaiReview(newUserDf,reviewDf,newcolumn)"
   ]
  },
  {
   "cell_type": "markdown",
   "metadata": {},
   "source": [
    "##### Export the result to 'AvaiReviewCountDfFile.csv'"
   ]
  },
  {
   "cell_type": "code",
   "execution_count": null,
   "metadata": {},
   "outputs": [],
   "source": [
    "AvaiReviewCountDf = pd.DataFrame(newcolumn, columns=[\"colummn\"])"
   ]
  },
  {
   "cell_type": "code",
   "execution_count": null,
   "metadata": {},
   "outputs": [],
   "source": [
    "AvaiReviewCountDf.to_csv('AvaiReviewCountDfFile.csv', index=False)"
   ]
  },
  {
   "cell_type": "code",
   "execution_count": null,
   "metadata": {},
   "outputs": [],
   "source": [
    "AvaiReviewCountDf.head()"
   ]
  },
  {
   "cell_type": "markdown",
   "metadata": {},
   "source": [
    "#### Sync reviewDfFile3.csv"
   ]
  },
  {
   "cell_type": "code",
   "execution_count": null,
   "metadata": {},
   "outputs": [],
   "source": [
    "reviewDf=loadAndSortCSV('reviewDfFile3.csv')"
   ]
  },
  {
   "cell_type": "markdown",
   "metadata": {},
   "source": [
    "Load AvaiReviewCountDfFile and convert it to list for syncing"
   ]
  },
  {
   "cell_type": "code",
   "execution_count": null,
   "metadata": {},
   "outputs": [],
   "source": [
    "def loadCSVtoList(csvfile):\n",
    "    newcolumnDf=pd.read_csv(csvfile)\n",
    "    newcolumnarr=newcolumnDf.values\n",
    "    newcolumnlist=[]\n",
    "    for arr in newcolumnarr:\n",
    "        newcolumnlist.append(arr[0])\n",
    "    return newcolumnlist"
   ]
  },
  {
   "cell_type": "code",
   "execution_count": null,
   "metadata": {},
   "outputs": [],
   "source": [
    "newcolumnlist=loadCSVtoList('AvaiReviewCountDfFile.csv')"
   ]
  },
  {
   "cell_type": "code",
   "execution_count": null,
   "metadata": {},
   "outputs": [],
   "source": [
    "newcolumnlist=fastCountAvaiReview(newUserDf,reviewDf,newcolumnlist)"
   ]
  },
  {
   "cell_type": "markdown",
   "metadata": {},
   "source": [
    "#### Sync reviewDfFile4.csv"
   ]
  },
  {
   "cell_type": "code",
   "execution_count": null,
   "metadata": {},
   "outputs": [],
   "source": [
    "reviewDf4=pd.read_csv('reviewDfFile4.csv',index_col=0,low_memory=False)"
   ]
  },
  {
   "cell_type": "code",
   "execution_count": null,
   "metadata": {},
   "outputs": [],
   "source": [
    "reviewDf4.sort_values('user_id',inplace=True)"
   ]
  },
  {
   "cell_type": "code",
   "execution_count": null,
   "metadata": {},
   "outputs": [],
   "source": [
    "reviewDf4=reviewDf4.dropna() #reviewDf4 contains na values so need to drop those rows"
   ]
  },
  {
   "cell_type": "code",
   "execution_count": null,
   "metadata": {},
   "outputs": [],
   "source": [
    "newcolumnlist=fastCountAvaiReview(newUserDf,reviewDf4,newcolumnlist)"
   ]
  },
  {
   "cell_type": "code",
   "execution_count": null,
   "metadata": {},
   "outputs": [],
   "source": [
    "AvaiReviewCountDf = pd.DataFrame(newcolumnlist, columns=[\"colummn\"])"
   ]
  },
  {
   "cell_type": "code",
   "execution_count": null,
   "metadata": {},
   "outputs": [],
   "source": [
    "AvaiReviewCountDf.to_csv('AvaiReviewCountDfFile.csv', index=False)"
   ]
  },
  {
   "cell_type": "markdown",
   "metadata": {},
   "source": [
    "#### Sync reviewDfFile5.csv"
   ]
  },
  {
   "cell_type": "code",
   "execution_count": null,
   "metadata": {},
   "outputs": [],
   "source": [
    "reviewDf=loadAndSortCSV('reviewDfFile5.csv')"
   ]
  },
  {
   "cell_type": "code",
   "execution_count": null,
   "metadata": {},
   "outputs": [],
   "source": [
    "reviewDf.tail()"
   ]
  },
  {
   "cell_type": "code",
   "execution_count": null,
   "metadata": {},
   "outputs": [],
   "source": [
    "reviewDf=reviewDf.drop(reviewDf.index[-2:])"
   ]
  },
  {
   "cell_type": "code",
   "execution_count": null,
   "metadata": {},
   "outputs": [],
   "source": [
    "newcolumnlist=loadCSVtoList('AvaiReviewCountDfFile.csv')"
   ]
  },
  {
   "cell_type": "code",
   "execution_count": null,
   "metadata": {},
   "outputs": [],
   "source": [
    "newcolumnlist=fastCountAvaiReview(newUserDf,reviewDf,newcolumnlist)"
   ]
  },
  {
   "cell_type": "markdown",
   "metadata": {},
   "source": [
    "#### Sync reviewDfFile6.csv"
   ]
  },
  {
   "cell_type": "code",
   "execution_count": null,
   "metadata": {},
   "outputs": [],
   "source": [
    "reviewDf=loadAndSortCSV('reviewDfFile6.csv')"
   ]
  },
  {
   "cell_type": "code",
   "execution_count": null,
   "metadata": {},
   "outputs": [],
   "source": [
    "reviewDf.tail()"
   ]
  },
  {
   "cell_type": "code",
   "execution_count": null,
   "metadata": {},
   "outputs": [],
   "source": [
    "newcolumnlist=fastCountAvaiReview(newUserDf,reviewDf,newcolumnlist)"
   ]
  },
  {
   "cell_type": "markdown",
   "metadata": {},
   "source": [
    "#### Sync reviewDfFile7.csv"
   ]
  },
  {
   "cell_type": "code",
   "execution_count": null,
   "metadata": {},
   "outputs": [],
   "source": [
    "reviewDf=loadAndSortCSV('reviewDfFile7.csv')"
   ]
  },
  {
   "cell_type": "code",
   "execution_count": null,
   "metadata": {},
   "outputs": [],
   "source": [
    "reviewDf.tail()"
   ]
  },
  {
   "cell_type": "code",
   "execution_count": null,
   "metadata": {},
   "outputs": [],
   "source": [
    "newcolumnlist=fastCountAvaiReview(newUserDf,reviewDf,newcolumnlist)"
   ]
  },
  {
   "cell_type": "markdown",
   "metadata": {},
   "source": [
    "#### Sync reviewDfFile8.csv"
   ]
  },
  {
   "cell_type": "code",
   "execution_count": null,
   "metadata": {},
   "outputs": [],
   "source": [
    "reviewDf=loadAndSortCSV('reviewDfFile8.csv')"
   ]
  },
  {
   "cell_type": "code",
   "execution_count": null,
   "metadata": {},
   "outputs": [],
   "source": [
    "reviewDf.tail()"
   ]
  },
  {
   "cell_type": "code",
   "execution_count": null,
   "metadata": {},
   "outputs": [],
   "source": [
    "reviewDf=reviewDf.drop(reviewDf.index[-2:])"
   ]
  },
  {
   "cell_type": "code",
   "execution_count": null,
   "metadata": {},
   "outputs": [],
   "source": [
    "newcolumnlist=fastCountAvaiReview(newUserDf,reviewDf,newcolumnlist)"
   ]
  },
  {
   "cell_type": "markdown",
   "metadata": {},
   "source": [
    "#### Export the result"
   ]
  },
  {
   "cell_type": "code",
   "execution_count": null,
   "metadata": {},
   "outputs": [],
   "source": [
    "AvaiReviewCountDf = pd.DataFrame(newcolumnlist8, columns=[\"colummn\"])"
   ]
  },
  {
   "cell_type": "code",
   "execution_count": null,
   "metadata": {},
   "outputs": [],
   "source": [
    "AvaiReviewCountDf.to_csv('AvaiReviewCountDfFile.csv', index=False)"
   ]
  },
  {
   "cell_type": "markdown",
   "metadata": {},
   "source": [
    "## Check the percentage of available reviews for all users in the user dataset"
   ]
  },
  {
   "cell_type": "code",
   "execution_count": null,
   "metadata": {},
   "outputs": [],
   "source": [
    "newUserDf.head()"
   ]
  },
  {
   "cell_type": "code",
   "execution_count": null,
   "metadata": {},
   "outputs": [],
   "source": [
    "AvaiReviewCountDf.head()"
   ]
  },
  {
   "cell_type": "code",
   "execution_count": null,
   "metadata": {},
   "outputs": [],
   "source": [
    "newUserDf.tail()"
   ]
  },
  {
   "cell_type": "code",
   "execution_count": null,
   "metadata": {},
   "outputs": [],
   "source": [
    "AvaiReviewCountDf.tail()"
   ]
  },
  {
   "cell_type": "code",
   "execution_count": null,
   "metadata": {},
   "outputs": [],
   "source": []
  }
 ],
 "metadata": {
  "kernelspec": {
   "display_name": "Python 3",
   "language": "python",
   "name": "python3"
  },
  "language_info": {
   "codemirror_mode": {
    "name": "ipython",
    "version": 3
   },
   "file_extension": ".py",
   "mimetype": "text/x-python",
   "name": "python",
   "nbconvert_exporter": "python",
   "pygments_lexer": "ipython3",
   "version": "3.6.2"
  }
 },
 "nbformat": 4,
 "nbformat_minor": 2
}
