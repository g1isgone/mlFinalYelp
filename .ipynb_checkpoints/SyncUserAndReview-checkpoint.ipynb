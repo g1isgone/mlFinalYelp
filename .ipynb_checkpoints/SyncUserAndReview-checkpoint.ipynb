{
 "cells": [
  {
   "cell_type": "code",
   "execution_count": 1,
   "metadata": {},
   "outputs": [],
   "source": [
    "import pandas as pd\n",
    "import numpy as np"
   ]
  },
  {
   "cell_type": "code",
   "execution_count": 2,
   "metadata": {},
   "outputs": [
    {
     "name": "stderr",
     "output_type": "stream",
     "text": [
      "/Library/Frameworks/Python.framework/Versions/3.6/lib/python3.6/site-packages/numpy/lib/arraysetops.py:463: FutureWarning: elementwise comparison failed; returning scalar instead, but in the future will perform elementwise comparison\n",
      "  mask |= (ar1 == a)\n"
     ]
    }
   ],
   "source": [
    "#Load the user data frame file\n",
    "userDf = pd.read_csv('userDfFile.csv',index_col=0)"
   ]
  },
  {
   "cell_type": "code",
   "execution_count": 3,
   "metadata": {},
   "outputs": [],
   "source": [
    "sortedUserDf=userDf.sort_values('user_id')"
   ]
  },
  {
   "cell_type": "code",
   "execution_count": 4,
   "metadata": {},
   "outputs": [
    {
     "data": {
      "text/html": [
       "<div>\n",
       "<style scoped>\n",
       "    .dataframe tbody tr th:only-of-type {\n",
       "        vertical-align: middle;\n",
       "    }\n",
       "\n",
       "    .dataframe tbody tr th {\n",
       "        vertical-align: top;\n",
       "    }\n",
       "\n",
       "    .dataframe thead th {\n",
       "        text-align: right;\n",
       "    }\n",
       "</style>\n",
       "<table border=\"1\" class=\"dataframe\">\n",
       "  <thead>\n",
       "    <tr style=\"text-align: right;\">\n",
       "      <th></th>\n",
       "      <th>average_stars</th>\n",
       "      <th>review_count</th>\n",
       "      <th>user_id</th>\n",
       "      <th>yelping_since</th>\n",
       "    </tr>\n",
       "  </thead>\n",
       "  <tbody>\n",
       "    <tr>\n",
       "      <th>923527</th>\n",
       "      <td>4.60</td>\n",
       "      <td>5</td>\n",
       "      <td>zzzAgDDWe4PTnJuwhi3XQQ</td>\n",
       "      <td>2016-09-27</td>\n",
       "    </tr>\n",
       "    <tr>\n",
       "      <th>1118741</th>\n",
       "      <td>2.38</td>\n",
       "      <td>8</td>\n",
       "      <td>zzzTkKLFo9CaeZnfO4TvzA</td>\n",
       "      <td>2014-02-25</td>\n",
       "    </tr>\n",
       "    <tr>\n",
       "      <th>1026971</th>\n",
       "      <td>4.80</td>\n",
       "      <td>10</td>\n",
       "      <td>zzzfcCWPDkg-kGVpqCKCEg</td>\n",
       "      <td>2011-07-13</td>\n",
       "    </tr>\n",
       "    <tr>\n",
       "      <th>673490</th>\n",
       "      <td>1.80</td>\n",
       "      <td>2</td>\n",
       "      <td>zzzhFxwfzL56CQVnw8piTw</td>\n",
       "      <td>2015-06-28</td>\n",
       "    </tr>\n",
       "    <tr>\n",
       "      <th>39390</th>\n",
       "      <td>5.00</td>\n",
       "      <td>3</td>\n",
       "      <td>zzzmshdEWLFCApxETl1TGQ</td>\n",
       "      <td>2012-10-08</td>\n",
       "    </tr>\n",
       "  </tbody>\n",
       "</table>\n",
       "</div>"
      ],
      "text/plain": [
       "         average_stars  review_count                 user_id yelping_since\n",
       "923527            4.60             5  zzzAgDDWe4PTnJuwhi3XQQ    2016-09-27\n",
       "1118741           2.38             8  zzzTkKLFo9CaeZnfO4TvzA    2014-02-25\n",
       "1026971           4.80            10  zzzfcCWPDkg-kGVpqCKCEg    2011-07-13\n",
       "673490            1.80             2  zzzhFxwfzL56CQVnw8piTw    2015-06-28\n",
       "39390             5.00             3  zzzmshdEWLFCApxETl1TGQ    2012-10-08"
      ]
     },
     "execution_count": 4,
     "metadata": {},
     "output_type": "execute_result"
    }
   ],
   "source": [
    "sortedUserDf.tail()"
   ]
  },
  {
   "cell_type": "markdown",
   "metadata": {},
   "source": [
    "This is my first attempt. After I wrote it, I figured it might be very slow so I did not bother running it through."
   ]
  },
  {
   "cell_type": "code",
   "execution_count": 5,
   "metadata": {},
   "outputs": [],
   "source": [
    "# '''Count the number of available reviews in reviewDf for each user in userDf and add that to the existing newUserDf which contains the available_review_count so far'''\n",
    "# def countAvailableReview(userDf,reviewDf,newUserDf):\n",
    "#     #loop through each user in userDf and count the number of reviews available in reviewDf\n",
    "#     for i in range(len(userDf)):\n",
    "#         user=userDf.loc[i,'user_id']\n",
    "#         available_review_count=len(reviewDf.loc[reviewDf['user_id']==user])\n",
    "#         newUserDf.at[i,'available_review_count']=available_review_count\n",
    "#     return newUserDf"
   ]
  },
  {
   "cell_type": "code",
   "execution_count": 68,
   "metadata": {},
   "outputs": [],
   "source": [
    "'''Count the number of reviews and available in sortedReviewDf for each user in sortedUserDf'''\n",
    "def fastCountAvailReview(sortedUserDf,sortedReviewDf):\n",
    "    j=0 #iterator in sortedReviewDf\n",
    "    jmax=len(sortedReviewDf)\n",
    "    availReviewCol=[]\n",
    "    reviewIdCol=[]\n",
    "    for i in range(len(sortedUserDf)): #i <-- iterator in sortedUserDf\n",
    "        #user_id we are currently syncing\n",
    "        user=sortedUserDf.iloc[i]['user_id']\n",
    "        #loop until we find a user_id >= user\n",
    "        while (j<jmax and sortedReviewDf.iloc[j]['user_id']<user):\n",
    "            j+=1\n",
    "        reviewIdSet=set()\n",
    "        #Count the number of available reviews in sortedReviewDf\n",
    "        while (j<jmax and sortedReviewDf.iloc[j]['user_id']==user):\n",
    "            reviewIdSet.add(sortedReviewDf.iloc[j]['review_id'])\n",
    "            j+=1\n",
    "        availReviewCol.append(len(reviewIdSet))\n",
    "        reviewIdCol.append(reviewIdSet)\n",
    "    return availReviewCol,reviewIdCol"
   ]
  },
  {
   "cell_type": "markdown",
   "metadata": {},
   "source": [
    "### Sync reviewDf1.csv"
   ]
  },
  {
   "cell_type": "code",
   "execution_count": 7,
   "metadata": {},
   "outputs": [
    {
     "name": "stderr",
     "output_type": "stream",
     "text": [
      "/Library/Frameworks/Python.framework/Versions/3.6/lib/python3.6/site-packages/IPython/core/interactiveshell.py:2728: DtypeWarning: Columns (0) have mixed types. Specify dtype option on import or set low_memory=False.\n",
      "  interactivity=interactivity, compiler=compiler, result=result)\n"
     ]
    }
   ],
   "source": [
    "#Load the review data frame file\n",
    "reviewDf=pd.read_csv('reviewDfFile1.csv',index_col=0)"
   ]
  },
  {
   "cell_type": "code",
   "execution_count": 10,
   "metadata": {},
   "outputs": [],
   "source": [
    "sortedReviewDf=reviewDf.sort_values('user_id')"
   ]
  },
  {
   "cell_type": "code",
   "execution_count": 11,
   "metadata": {},
   "outputs": [
    {
     "data": {
      "text/html": [
       "<div>\n",
       "<style scoped>\n",
       "    .dataframe tbody tr th:only-of-type {\n",
       "        vertical-align: middle;\n",
       "    }\n",
       "\n",
       "    .dataframe tbody tr th {\n",
       "        vertical-align: top;\n",
       "    }\n",
       "\n",
       "    .dataframe thead th {\n",
       "        text-align: right;\n",
       "    }\n",
       "</style>\n",
       "<table border=\"1\" class=\"dataframe\">\n",
       "  <thead>\n",
       "    <tr style=\"text-align: right;\">\n",
       "      <th></th>\n",
       "      <th>business_id</th>\n",
       "      <th>date</th>\n",
       "      <th>review_id</th>\n",
       "      <th>stars</th>\n",
       "      <th>text</th>\n",
       "      <th>user_id</th>\n",
       "    </tr>\n",
       "  </thead>\n",
       "  <tbody>\n",
       "    <tr>\n",
       "      <th>1026710</th>\n",
       "      <td>zCJU73A0UTYXXFqAbgBckQ</td>\n",
       "      <td>2017-06-13</td>\n",
       "      <td>JHUQoD1ziYwBLbpM46yGdA</td>\n",
       "      <td>5.0</td>\n",
       "      <td>Had seen him on Americas Got Talent and so gla...</td>\n",
       "      <td>zzyh1-EF29x456g8wbtSqg</td>\n",
       "    </tr>\n",
       "    <tr>\n",
       "      <th>10688</th>\n",
       "      <td>74pWjFssgqyhaVg-YCUo3A</td>\n",
       "      <td>2013-01-05</td>\n",
       "      <td>Gykf0vJowPiEyiDUlXt86g</td>\n",
       "      <td>5.0</td>\n",
       "      <td>This location is closed.  Web site needs updat...</td>\n",
       "      <td>zzzmshdEWLFCApxETl1TGQ</td>\n",
       "    </tr>\n",
       "    <tr>\n",
       "      <th>1012654</th>\n",
       "      <td>WivFagb6JtTeJskEEvYfXg</td>\n",
       "      <td>2017-01-31</td>\n",
       "      <td>QTsQHi4xjB84EOrAKHoifg</td>\n",
       "      <td>5.0</td>\n",
       "      <td>Assured Tax Service has provided an outstandin...</td>\n",
       "      <td>zzzmshdEWLFCApxETl1TGQ</td>\n",
       "    </tr>\n",
       "    <tr>\n",
       "      <th>937609</th>\n",
       "      <td>eO0Dsp8MBjUT16lno8gkmA</td>\n",
       "      <td>2017-02-22</td>\n",
       "      <td>OSdqcxyXqM-XTEgajJNUmw</td>\n",
       "      <td>5.0</td>\n",
       "      <td>Working with Tina and Marcia has been such a p...</td>\n",
       "      <td>NaN</td>\n",
       "    </tr>\n",
       "    <tr>\n",
       "      <th>My husband and I had not purchased a home before and we definitely needed some hand holding. They were patient and professional. We got our dream home and the entire experience was awesome! Thank you so much ladies for a job well done!</th>\n",
       "      <td>QRn8ELZmvP8S4evnSRU9bQ</td>\n",
       "      <td>NaN</td>\n",
       "      <td>NaN</td>\n",
       "      <td>NaN</td>\n",
       "      <td>NaN</td>\n",
       "      <td>NaN</td>\n",
       "    </tr>\n",
       "  </tbody>\n",
       "</table>\n",
       "</div>"
      ],
      "text/plain": [
       "                                                               business_id  \\\n",
       "1026710                                             zCJU73A0UTYXXFqAbgBckQ   \n",
       "10688                                               74pWjFssgqyhaVg-YCUo3A   \n",
       "1012654                                             WivFagb6JtTeJskEEvYfXg   \n",
       "937609                                              eO0Dsp8MBjUT16lno8gkmA   \n",
       "My husband and I had not purchased a home befor...  QRn8ELZmvP8S4evnSRU9bQ   \n",
       "\n",
       "                                                          date  \\\n",
       "1026710                                             2017-06-13   \n",
       "10688                                               2013-01-05   \n",
       "1012654                                             2017-01-31   \n",
       "937609                                              2017-02-22   \n",
       "My husband and I had not purchased a home befor...         NaN   \n",
       "\n",
       "                                                                 review_id  \\\n",
       "1026710                                             JHUQoD1ziYwBLbpM46yGdA   \n",
       "10688                                               Gykf0vJowPiEyiDUlXt86g   \n",
       "1012654                                             QTsQHi4xjB84EOrAKHoifg   \n",
       "937609                                              OSdqcxyXqM-XTEgajJNUmw   \n",
       "My husband and I had not purchased a home befor...                     NaN   \n",
       "\n",
       "                                                    stars  \\\n",
       "1026710                                               5.0   \n",
       "10688                                                 5.0   \n",
       "1012654                                               5.0   \n",
       "937609                                                5.0   \n",
       "My husband and I had not purchased a home befor...    NaN   \n",
       "\n",
       "                                                                                                 text  \\\n",
       "1026710                                             Had seen him on Americas Got Talent and so gla...   \n",
       "10688                                               This location is closed.  Web site needs updat...   \n",
       "1012654                                             Assured Tax Service has provided an outstandin...   \n",
       "937609                                              Working with Tina and Marcia has been such a p...   \n",
       "My husband and I had not purchased a home befor...                                                NaN   \n",
       "\n",
       "                                                                   user_id  \n",
       "1026710                                             zzyh1-EF29x456g8wbtSqg  \n",
       "10688                                               zzzmshdEWLFCApxETl1TGQ  \n",
       "1012654                                             zzzmshdEWLFCApxETl1TGQ  \n",
       "937609                                                                 NaN  \n",
       "My husband and I had not purchased a home befor...                     NaN  "
      ]
     },
     "execution_count": 11,
     "metadata": {},
     "output_type": "execute_result"
    }
   ],
   "source": [
    "sortedReviewDf.tail()"
   ]
  },
  {
   "cell_type": "code",
   "execution_count": 12,
   "metadata": {},
   "outputs": [],
   "source": [
    "#Drop rows that contain NaN\n",
    "sortedReviewDf=sortedReviewDf.drop(sortedReviewDf.index[-2:])"
   ]
  },
  {
   "cell_type": "code",
   "execution_count": 18,
   "metadata": {},
   "outputs": [],
   "source": [
    "availReviewCol,reviewIdCol=fastCountAvailReview(sortedUserDf,sortedReviewDf)"
   ]
  },
  {
   "cell_type": "code",
   "execution_count": 23,
   "metadata": {},
   "outputs": [],
   "source": [
    "#Put the result in a data frame\n",
    "availReviewDf1=pd.DataFrame(data={\"AvailReviewCount\":availReviewCol,\"Reviews\":reviewIdCol},index=sortedUserDf['user_id'])"
   ]
  },
  {
   "cell_type": "code",
   "execution_count": 27,
   "metadata": {},
   "outputs": [],
   "source": [
    "#Export it into a csv file\n",
    "availReviewDf1.to_csv(\"availReviewDf1.csv\")"
   ]
  },
  {
   "cell_type": "code",
   "execution_count": 57,
   "metadata": {},
   "outputs": [
    {
     "data": {
      "text/html": [
       "<div>\n",
       "<style scoped>\n",
       "    .dataframe tbody tr th:only-of-type {\n",
       "        vertical-align: middle;\n",
       "    }\n",
       "\n",
       "    .dataframe tbody tr th {\n",
       "        vertical-align: top;\n",
       "    }\n",
       "\n",
       "    .dataframe thead th {\n",
       "        text-align: right;\n",
       "    }\n",
       "</style>\n",
       "<table border=\"1\" class=\"dataframe\">\n",
       "  <thead>\n",
       "    <tr style=\"text-align: right;\">\n",
       "      <th></th>\n",
       "      <th>AvailReviewCount</th>\n",
       "      <th>Reviews</th>\n",
       "    </tr>\n",
       "    <tr>\n",
       "      <th>user_id</th>\n",
       "      <th></th>\n",
       "      <th></th>\n",
       "    </tr>\n",
       "  </thead>\n",
       "  <tbody>\n",
       "    <tr>\n",
       "      <th>---1lKK3aKOuomHnwAkAow</th>\n",
       "      <td>37</td>\n",
       "      <td>{kL23fT8JmgYoZuxHsF_wjw, Var3KGOJp8sA4vGcMWEnn...</td>\n",
       "    </tr>\n",
       "    <tr>\n",
       "      <th>---94vtJ_5o_nikEs6hUjg</th>\n",
       "      <td>0</td>\n",
       "      <td>{}</td>\n",
       "    </tr>\n",
       "    <tr>\n",
       "      <th>---PLwSf5gKdIoVnyRHgBA</th>\n",
       "      <td>0</td>\n",
       "      <td>{}</td>\n",
       "    </tr>\n",
       "    <tr>\n",
       "      <th>---cu1hq55BP9DWVXXKHZg</th>\n",
       "      <td>1</td>\n",
       "      <td>{O0frjb1NA2AD5VnHNWVpcg}</td>\n",
       "    </tr>\n",
       "    <tr>\n",
       "      <th>---fhiwiwBYrvqhpXgcWDQ</th>\n",
       "      <td>0</td>\n",
       "      <td>{}</td>\n",
       "    </tr>\n",
       "  </tbody>\n",
       "</table>\n",
       "</div>"
      ],
      "text/plain": [
       "                        AvailReviewCount  \\\n",
       "user_id                                    \n",
       "---1lKK3aKOuomHnwAkAow                37   \n",
       "---94vtJ_5o_nikEs6hUjg                 0   \n",
       "---PLwSf5gKdIoVnyRHgBA                 0   \n",
       "---cu1hq55BP9DWVXXKHZg                 1   \n",
       "---fhiwiwBYrvqhpXgcWDQ                 0   \n",
       "\n",
       "                                                                  Reviews  \n",
       "user_id                                                                    \n",
       "---1lKK3aKOuomHnwAkAow  {kL23fT8JmgYoZuxHsF_wjw, Var3KGOJp8sA4vGcMWEnn...  \n",
       "---94vtJ_5o_nikEs6hUjg                                                 {}  \n",
       "---PLwSf5gKdIoVnyRHgBA                                                 {}  \n",
       "---cu1hq55BP9DWVXXKHZg                           {O0frjb1NA2AD5VnHNWVpcg}  \n",
       "---fhiwiwBYrvqhpXgcWDQ                                                 {}  "
      ]
     },
     "execution_count": 57,
     "metadata": {},
     "output_type": "execute_result"
    }
   ],
   "source": [
    "availReviewDf1.head()"
   ]
  },
  {
   "cell_type": "markdown",
   "metadata": {},
   "source": [
    "### Sync ReviewDfFile2.csv"
   ]
  },
  {
   "cell_type": "code",
   "execution_count": 28,
   "metadata": {},
   "outputs": [
    {
     "name": "stderr",
     "output_type": "stream",
     "text": [
      "/Library/Frameworks/Python.framework/Versions/3.6/lib/python3.6/site-packages/numpy/lib/arraysetops.py:463: FutureWarning: elementwise comparison failed; returning scalar instead, but in the future will perform elementwise comparison\n",
      "  mask |= (ar1 == a)\n"
     ]
    }
   ],
   "source": [
    "#Load the review data frame file\n",
    "reviewDf=pd.read_csv('reviewDfFile2.csv',index_col=0)"
   ]
  },
  {
   "cell_type": "code",
   "execution_count": 30,
   "metadata": {},
   "outputs": [],
   "source": [
    "sortedReviewDf=reviewDf.sort_values('user_id')"
   ]
  },
  {
   "cell_type": "code",
   "execution_count": 31,
   "metadata": {},
   "outputs": [
    {
     "data": {
      "text/html": [
       "<div>\n",
       "<style scoped>\n",
       "    .dataframe tbody tr th:only-of-type {\n",
       "        vertical-align: middle;\n",
       "    }\n",
       "\n",
       "    .dataframe tbody tr th {\n",
       "        vertical-align: top;\n",
       "    }\n",
       "\n",
       "    .dataframe thead th {\n",
       "        text-align: right;\n",
       "    }\n",
       "</style>\n",
       "<table border=\"1\" class=\"dataframe\">\n",
       "  <thead>\n",
       "    <tr style=\"text-align: right;\">\n",
       "      <th></th>\n",
       "      <th>business_id</th>\n",
       "      <th>date</th>\n",
       "      <th>review_id</th>\n",
       "      <th>stars</th>\n",
       "      <th>text</th>\n",
       "      <th>user_id</th>\n",
       "    </tr>\n",
       "  </thead>\n",
       "  <tbody>\n",
       "    <tr>\n",
       "      <th>312693</th>\n",
       "      <td>abO4gvGKB0aVjsrXHlgeFg</td>\n",
       "      <td>2016-08-11</td>\n",
       "      <td>Zw1hLwD6gYQ4Z15Fo8n6Tg</td>\n",
       "      <td>3</td>\n",
       "      <td>Found this place on Yelp. Rated 4.5 stars. Res...</td>\n",
       "      <td>zzwTJAgONYCTeJia4te47g</td>\n",
       "    </tr>\n",
       "    <tr>\n",
       "      <th>1040634</th>\n",
       "      <td>NKHvmp19c6wrm0dZXcLtmQ</td>\n",
       "      <td>2016-08-13</td>\n",
       "      <td>J6sDT53hNjtvUZvk34Jrhg</td>\n",
       "      <td>2</td>\n",
       "      <td>I ordered the fried chicken on rice and a sesa...</td>\n",
       "      <td>zzwTJAgONYCTeJia4te47g</td>\n",
       "    </tr>\n",
       "    <tr>\n",
       "      <th>493187</th>\n",
       "      <td>UY9t1EL5PYxPiBGivkeE9Q</td>\n",
       "      <td>2015-05-14</td>\n",
       "      <td>JqYP_70wStCR8ET25hLeXg</td>\n",
       "      <td>2</td>\n",
       "      <td>Occasionally, I'll stop by here when I'm on my...</td>\n",
       "      <td>zzxZoMmjbUjXcWZzrE3PIw</td>\n",
       "    </tr>\n",
       "    <tr>\n",
       "      <th>62012</th>\n",
       "      <td>9VdFxge9M0CLPvWxnfBY3Q</td>\n",
       "      <td>2014-05-29</td>\n",
       "      <td>4wKN8nPnSWm1dew1EZTdzA</td>\n",
       "      <td>5</td>\n",
       "      <td>Really great especially if you are staying at ...</td>\n",
       "      <td>zzxjh12k3PNekFGTtW1h_w</td>\n",
       "    </tr>\n",
       "    <tr>\n",
       "      <th>707836</th>\n",
       "      <td>wHwHmozyqtIE5U3uTtvpuA</td>\n",
       "      <td>2016-06-20</td>\n",
       "      <td>ReG_7VgPTASn3y6g06yerA</td>\n",
       "      <td>5</td>\n",
       "      <td>Great customer service and delicious coffee/pa...</td>\n",
       "      <td>zzzhFxwfzL56CQVnw8piTw</td>\n",
       "    </tr>\n",
       "  </tbody>\n",
       "</table>\n",
       "</div>"
      ],
      "text/plain": [
       "                    business_id        date               review_id  stars  \\\n",
       "312693   abO4gvGKB0aVjsrXHlgeFg  2016-08-11  Zw1hLwD6gYQ4Z15Fo8n6Tg      3   \n",
       "1040634  NKHvmp19c6wrm0dZXcLtmQ  2016-08-13  J6sDT53hNjtvUZvk34Jrhg      2   \n",
       "493187   UY9t1EL5PYxPiBGivkeE9Q  2015-05-14  JqYP_70wStCR8ET25hLeXg      2   \n",
       "62012    9VdFxge9M0CLPvWxnfBY3Q  2014-05-29  4wKN8nPnSWm1dew1EZTdzA      5   \n",
       "707836   wHwHmozyqtIE5U3uTtvpuA  2016-06-20  ReG_7VgPTASn3y6g06yerA      5   \n",
       "\n",
       "                                                      text  \\\n",
       "312693   Found this place on Yelp. Rated 4.5 stars. Res...   \n",
       "1040634  I ordered the fried chicken on rice and a sesa...   \n",
       "493187   Occasionally, I'll stop by here when I'm on my...   \n",
       "62012    Really great especially if you are staying at ...   \n",
       "707836   Great customer service and delicious coffee/pa...   \n",
       "\n",
       "                        user_id  \n",
       "312693   zzwTJAgONYCTeJia4te47g  \n",
       "1040634  zzwTJAgONYCTeJia4te47g  \n",
       "493187   zzxZoMmjbUjXcWZzrE3PIw  \n",
       "62012    zzxjh12k3PNekFGTtW1h_w  \n",
       "707836   zzzhFxwfzL56CQVnw8piTw  "
      ]
     },
     "execution_count": 31,
     "metadata": {},
     "output_type": "execute_result"
    }
   ],
   "source": [
    "sortedReviewDf.tail()"
   ]
  },
  {
   "cell_type": "code",
   "execution_count": 32,
   "metadata": {},
   "outputs": [],
   "source": [
    "#sortedReviewDf does not contain rows with NaN values, so proceed\n",
    "availReviewCol,reviewIdCol=fastCountAvailReview(sortedUserDf,sortedReviewDf)"
   ]
  },
  {
   "cell_type": "code",
   "execution_count": 33,
   "metadata": {},
   "outputs": [],
   "source": [
    "#Put the results lists in a data frame and export it into a csv file\n",
    "availReviewDf2=pd.DataFrame(data={\"AvailReviewCount\":availReviewCol,\"Reviews\":reviewIdCol},index=sortedUserDf['user_id'])\n",
    "availReviewDf2.to_csv(\"availReviewDf2.csv\")"
   ]
  },
  {
   "cell_type": "code",
   "execution_count": 56,
   "metadata": {},
   "outputs": [
    {
     "data": {
      "text/html": [
       "<div>\n",
       "<style scoped>\n",
       "    .dataframe tbody tr th:only-of-type {\n",
       "        vertical-align: middle;\n",
       "    }\n",
       "\n",
       "    .dataframe tbody tr th {\n",
       "        vertical-align: top;\n",
       "    }\n",
       "\n",
       "    .dataframe thead th {\n",
       "        text-align: right;\n",
       "    }\n",
       "</style>\n",
       "<table border=\"1\" class=\"dataframe\">\n",
       "  <thead>\n",
       "    <tr style=\"text-align: right;\">\n",
       "      <th></th>\n",
       "      <th>AvailReviewCount</th>\n",
       "      <th>Reviews</th>\n",
       "    </tr>\n",
       "    <tr>\n",
       "      <th>user_id</th>\n",
       "      <th></th>\n",
       "      <th></th>\n",
       "    </tr>\n",
       "  </thead>\n",
       "  <tbody>\n",
       "    <tr>\n",
       "      <th>---1lKK3aKOuomHnwAkAow</th>\n",
       "      <td>27</td>\n",
       "      <td>{EkkxYN5dkkSwifyFCSIR-g, XJ5a36JrjaOOoyMLtylzv...</td>\n",
       "    </tr>\n",
       "    <tr>\n",
       "      <th>---94vtJ_5o_nikEs6hUjg</th>\n",
       "      <td>1</td>\n",
       "      <td>{bImuLGmVMhUTjFinMjM46Q}</td>\n",
       "    </tr>\n",
       "    <tr>\n",
       "      <th>---PLwSf5gKdIoVnyRHgBA</th>\n",
       "      <td>2</td>\n",
       "      <td>{5Y_hKqpo4wb1pPtFgtCqrA, QXzgdKOdmrccxZ60Er7gig}</td>\n",
       "    </tr>\n",
       "    <tr>\n",
       "      <th>---cu1hq55BP9DWVXXKHZg</th>\n",
       "      <td>1</td>\n",
       "      <td>{C64IMmOZmJWiNdFe3ELklQ}</td>\n",
       "    </tr>\n",
       "    <tr>\n",
       "      <th>---fhiwiwBYrvqhpXgcWDQ</th>\n",
       "      <td>0</td>\n",
       "      <td>{}</td>\n",
       "    </tr>\n",
       "  </tbody>\n",
       "</table>\n",
       "</div>"
      ],
      "text/plain": [
       "                        AvailReviewCount  \\\n",
       "user_id                                    \n",
       "---1lKK3aKOuomHnwAkAow                27   \n",
       "---94vtJ_5o_nikEs6hUjg                 1   \n",
       "---PLwSf5gKdIoVnyRHgBA                 2   \n",
       "---cu1hq55BP9DWVXXKHZg                 1   \n",
       "---fhiwiwBYrvqhpXgcWDQ                 0   \n",
       "\n",
       "                                                                  Reviews  \n",
       "user_id                                                                    \n",
       "---1lKK3aKOuomHnwAkAow  {EkkxYN5dkkSwifyFCSIR-g, XJ5a36JrjaOOoyMLtylzv...  \n",
       "---94vtJ_5o_nikEs6hUjg                           {bImuLGmVMhUTjFinMjM46Q}  \n",
       "---PLwSf5gKdIoVnyRHgBA   {5Y_hKqpo4wb1pPtFgtCqrA, QXzgdKOdmrccxZ60Er7gig}  \n",
       "---cu1hq55BP9DWVXXKHZg                           {C64IMmOZmJWiNdFe3ELklQ}  \n",
       "---fhiwiwBYrvqhpXgcWDQ                                                 {}  "
      ]
     },
     "execution_count": 56,
     "metadata": {},
     "output_type": "execute_result"
    }
   ],
   "source": [
    "availReviewDf2.head()"
   ]
  },
  {
   "cell_type": "markdown",
   "metadata": {},
   "source": [
    "### Sync ReviewDfFile3.csv"
   ]
  },
  {
   "cell_type": "code",
   "execution_count": 59,
   "metadata": {},
   "outputs": [
    {
     "name": "stderr",
     "output_type": "stream",
     "text": [
      "/Library/Frameworks/Python.framework/Versions/3.6/lib/python3.6/site-packages/numpy/lib/arraysetops.py:463: FutureWarning: elementwise comparison failed; returning scalar instead, but in the future will perform elementwise comparison\n",
      "  mask |= (ar1 == a)\n"
     ]
    }
   ],
   "source": [
    "#Load the review data frame file\n",
    "reviewDf=pd.read_csv('reviewDfFile3.csv',index_col=0)"
   ]
  },
  {
   "cell_type": "code",
   "execution_count": 60,
   "metadata": {},
   "outputs": [],
   "source": [
    "sortedReviewDf=reviewDf.sort_values('user_id')"
   ]
  },
  {
   "cell_type": "code",
   "execution_count": null,
   "metadata": {},
   "outputs": [],
   "source": [
    "#sortedReviewDf does not contain rows with NaN values, so proceed\n",
    "availReviewCol,reviewIdCol=fastCountAvailReview(sortedUserDf,sortedReviewDf)"
   ]
  },
  {
   "cell_type": "code",
   "execution_count": null,
   "metadata": {},
   "outputs": [],
   "source": [
    "# newUserDf.iloc[0, newUserDf.columns.get_loc('review_count')] = 246\n",
    "# df.iloc[0, df.columns.get_loc('COL_NAME')] = x\n",
    "# The following codes are just for testing\n",
    "# for i in range(20):\n",
    "#     print(len(reviewDf1.loc[reviewDf1['user_id']==newUserDf.iloc[i]['user_id']]))"
   ]
  },
  {
   "cell_type": "code",
   "execution_count": null,
   "metadata": {},
   "outputs": [],
   "source": [
    "import copy\n",
    "# newcolumncopy=copy.deepcopy(newcolumn)"
   ]
  },
  {
   "cell_type": "markdown",
   "metadata": {},
   "source": [
    "### Now create a function to sync the rest data frames"
   ]
  },
  {
   "cell_type": "code",
   "execution_count": null,
   "metadata": {},
   "outputs": [],
   "source": [
    "'''Update the newcolumn which contains the number of available reviews counted so far by syncing sortedUserDf and sortedReviewDf'''\n",
    "def fastUpdateAvaiReview(sortedUserDf,sortedReviewDf,newcolumn):\n",
    "    j=0\n",
    "    jmax=len(sortedReviewDf)\n",
    "    for i in range(len(sortedUserDf)):#i is the iterator in the sorted newUserDf\n",
    "        user=sortedUserDf.iloc[i]['user_id'] #the current user we are syncing\n",
    "        #loop till we find a user_id that is equal to or larger than user\n",
    "        while (j<jmax and sortedReviewDf.iloc[j]['user_id']<user):\n",
    "            j+=1\n",
    "        count=0 #initial available_review_count\n",
    "        #Now the user_id at position j in reviewDf matches the user_id at position i in newUserDf\n",
    "        while (j<jmax and sortedReviewDf.iloc[j]['user_id']==user):\n",
    "            count+=1\n",
    "            j+=1\n",
    "        newcolumn[i]+=count\n",
    "    return newcolumn\n",
    "    "
   ]
  },
  {
   "cell_type": "code",
   "execution_count": null,
   "metadata": {},
   "outputs": [],
   "source": [
    "'''Read the csv file as a data frame and sort it by user_id'''\n",
    "def loadAndSortCSV(csvfile):\n",
    "    reviewDf=pd.read_csv(csvfile,index_col=0,low)\n",
    "    reviewDf.sort_values('user_id',inplace=True)\n",
    "    return reviewDf"
   ]
  },
  {
   "cell_type": "markdown",
   "metadata": {},
   "source": [
    "##### Sync reviewDfFile2.csv"
   ]
  },
  {
   "cell_type": "code",
   "execution_count": null,
   "metadata": {},
   "outputs": [],
   "source": [
    "reviewDf=loadAndSortCSV('reviewDfFile2.csv')"
   ]
  },
  {
   "cell_type": "code",
   "execution_count": null,
   "metadata": {},
   "outputs": [],
   "source": [
    "newcolumn=fastCountAvaiReview(newUserDf,reviewDf,newcolumn)"
   ]
  },
  {
   "cell_type": "markdown",
   "metadata": {},
   "source": [
    "##### Export the result to 'AvaiReviewCountDfFile.csv'"
   ]
  },
  {
   "cell_type": "code",
   "execution_count": null,
   "metadata": {},
   "outputs": [],
   "source": [
    "AvaiReviewCountDf = pd.DataFrame(newcolumn, columns=[\"colummn\"])"
   ]
  },
  {
   "cell_type": "code",
   "execution_count": null,
   "metadata": {},
   "outputs": [],
   "source": [
    "AvaiReviewCountDf.to_csv('AvaiReviewCountDfFile.csv', index=False)"
   ]
  },
  {
   "cell_type": "code",
   "execution_count": null,
   "metadata": {},
   "outputs": [],
   "source": [
    "AvaiReviewCountDf.head()"
   ]
  },
  {
   "cell_type": "markdown",
   "metadata": {},
   "source": [
    "#### Sync reviewDfFile3.csv"
   ]
  },
  {
   "cell_type": "code",
   "execution_count": null,
   "metadata": {},
   "outputs": [],
   "source": [
    "reviewDf=loadAndSortCSV('reviewDfFile3.csv')"
   ]
  },
  {
   "cell_type": "markdown",
   "metadata": {},
   "source": [
    "Load AvaiReviewCountDfFile and convert it to list for syncing"
   ]
  },
  {
   "cell_type": "code",
   "execution_count": null,
   "metadata": {},
   "outputs": [],
   "source": [
    "def loadCSVtoList(csvfile):\n",
    "    newcolumnDf=pd.read_csv(csvfile)\n",
    "    newcolumnarr=newcolumnDf.values\n",
    "    newcolumnlist=[]\n",
    "    for arr in newcolumnarr:\n",
    "        newcolumnlist.append(arr[0])\n",
    "    return newcolumnlist"
   ]
  },
  {
   "cell_type": "code",
   "execution_count": null,
   "metadata": {},
   "outputs": [],
   "source": [
    "newcolumnlist=loadCSVtoList('AvaiReviewCountDfFile.csv')"
   ]
  },
  {
   "cell_type": "code",
   "execution_count": null,
   "metadata": {},
   "outputs": [],
   "source": [
    "newcolumnlist=fastCountAvaiReview(newUserDf,reviewDf,newcolumnlist)"
   ]
  },
  {
   "cell_type": "markdown",
   "metadata": {},
   "source": [
    "#### Sync reviewDfFile4.csv"
   ]
  },
  {
   "cell_type": "code",
   "execution_count": null,
   "metadata": {},
   "outputs": [],
   "source": [
    "reviewDf4=pd.read_csv('reviewDfFile4.csv',index_col=0,low_memory=False)"
   ]
  },
  {
   "cell_type": "code",
   "execution_count": null,
   "metadata": {},
   "outputs": [],
   "source": [
    "reviewDf4.sort_values('user_id',inplace=True)"
   ]
  },
  {
   "cell_type": "code",
   "execution_count": null,
   "metadata": {},
   "outputs": [],
   "source": [
    "reviewDf4=reviewDf4.dropna() #reviewDf4 contains na values so need to drop those rows"
   ]
  },
  {
   "cell_type": "code",
   "execution_count": null,
   "metadata": {},
   "outputs": [],
   "source": [
    "newcolumnlist=fastCountAvaiReview(newUserDf,reviewDf4,newcolumnlist)"
   ]
  },
  {
   "cell_type": "code",
   "execution_count": null,
   "metadata": {},
   "outputs": [],
   "source": [
    "AvaiReviewCountDf = pd.DataFrame(newcolumnlist, columns=[\"colummn\"])"
   ]
  },
  {
   "cell_type": "code",
   "execution_count": null,
   "metadata": {},
   "outputs": [],
   "source": [
    "AvaiReviewCountDf.to_csv('AvaiReviewCountDfFile.csv', index=False)"
   ]
  },
  {
   "cell_type": "markdown",
   "metadata": {},
   "source": [
    "#### Sync reviewDfFile5.csv"
   ]
  },
  {
   "cell_type": "code",
   "execution_count": null,
   "metadata": {},
   "outputs": [],
   "source": [
    "reviewDf=loadAndSortCSV('reviewDfFile5.csv')"
   ]
  },
  {
   "cell_type": "code",
   "execution_count": null,
   "metadata": {},
   "outputs": [],
   "source": [
    "reviewDf.tail()"
   ]
  },
  {
   "cell_type": "code",
   "execution_count": null,
   "metadata": {},
   "outputs": [],
   "source": [
    "reviewDf=reviewDf.drop(reviewDf.index[-2:])"
   ]
  },
  {
   "cell_type": "code",
   "execution_count": null,
   "metadata": {},
   "outputs": [],
   "source": [
    "newcolumnlist=loadCSVtoList('AvaiReviewCountDfFile.csv')"
   ]
  },
  {
   "cell_type": "code",
   "execution_count": null,
   "metadata": {},
   "outputs": [],
   "source": [
    "newcolumnlist=fastCountAvaiReview(newUserDf,reviewDf,newcolumnlist)"
   ]
  },
  {
   "cell_type": "markdown",
   "metadata": {},
   "source": [
    "#### Sync reviewDfFile6.csv"
   ]
  },
  {
   "cell_type": "code",
   "execution_count": null,
   "metadata": {},
   "outputs": [],
   "source": [
    "reviewDf=loadAndSortCSV('reviewDfFile6.csv')"
   ]
  },
  {
   "cell_type": "code",
   "execution_count": null,
   "metadata": {},
   "outputs": [],
   "source": [
    "reviewDf.tail()"
   ]
  },
  {
   "cell_type": "code",
   "execution_count": null,
   "metadata": {},
   "outputs": [],
   "source": [
    "newcolumnlist=fastCountAvaiReview(newUserDf,reviewDf,newcolumnlist)"
   ]
  },
  {
   "cell_type": "markdown",
   "metadata": {},
   "source": [
    "#### Sync reviewDfFile7.csv"
   ]
  },
  {
   "cell_type": "code",
   "execution_count": null,
   "metadata": {},
   "outputs": [],
   "source": [
    "reviewDf=loadAndSortCSV('reviewDfFile7.csv')"
   ]
  },
  {
   "cell_type": "code",
   "execution_count": null,
   "metadata": {},
   "outputs": [],
   "source": [
    "reviewDf.tail()"
   ]
  },
  {
   "cell_type": "code",
   "execution_count": null,
   "metadata": {},
   "outputs": [],
   "source": [
    "newcolumnlist=fastCountAvaiReview(newUserDf,reviewDf,newcolumnlist)"
   ]
  },
  {
   "cell_type": "markdown",
   "metadata": {},
   "source": [
    "#### Sync reviewDfFile8.csv"
   ]
  },
  {
   "cell_type": "code",
   "execution_count": null,
   "metadata": {},
   "outputs": [],
   "source": [
    "reviewDf=loadAndSortCSV('reviewDfFile8.csv')"
   ]
  },
  {
   "cell_type": "code",
   "execution_count": null,
   "metadata": {},
   "outputs": [],
   "source": [
    "reviewDf.tail()"
   ]
  },
  {
   "cell_type": "code",
   "execution_count": null,
   "metadata": {},
   "outputs": [],
   "source": [
    "reviewDf=reviewDf.drop(reviewDf.index[-2:])"
   ]
  },
  {
   "cell_type": "code",
   "execution_count": null,
   "metadata": {},
   "outputs": [],
   "source": [
    "newcolumnlist=fastCountAvaiReview(newUserDf,reviewDf,newcolumnlist)"
   ]
  },
  {
   "cell_type": "markdown",
   "metadata": {},
   "source": [
    "#### Export the result"
   ]
  },
  {
   "cell_type": "code",
   "execution_count": null,
   "metadata": {},
   "outputs": [],
   "source": [
    "AvaiReviewCountDf = pd.DataFrame(newcolumnlist8, columns=[\"colummn\"])"
   ]
  },
  {
   "cell_type": "code",
   "execution_count": null,
   "metadata": {},
   "outputs": [],
   "source": [
    "AvaiReviewCountDf.to_csv('AvaiReviewCountDfFile.csv', index=False)"
   ]
  },
  {
   "cell_type": "markdown",
   "metadata": {},
   "source": [
    "## Check the percentage of available reviews for all users in the user dataset"
   ]
  },
  {
   "cell_type": "code",
   "execution_count": null,
   "metadata": {},
   "outputs": [],
   "source": [
    "newUserDf.head()"
   ]
  },
  {
   "cell_type": "code",
   "execution_count": null,
   "metadata": {},
   "outputs": [],
   "source": [
    "AvaiReviewCountDf.head()"
   ]
  },
  {
   "cell_type": "code",
   "execution_count": null,
   "metadata": {},
   "outputs": [],
   "source": [
    "newUserDf.tail()"
   ]
  },
  {
   "cell_type": "code",
   "execution_count": null,
   "metadata": {},
   "outputs": [],
   "source": [
    "AvaiReviewCountDf.tail()"
   ]
  },
  {
   "cell_type": "code",
   "execution_count": null,
   "metadata": {},
   "outputs": [],
   "source": []
  }
 ],
 "metadata": {
  "kernelspec": {
   "display_name": "Python 3",
   "language": "python",
   "name": "python3"
  },
  "language_info": {
   "codemirror_mode": {
    "name": "ipython",
    "version": 3
   },
   "file_extension": ".py",
   "mimetype": "text/x-python",
   "name": "python",
   "nbconvert_exporter": "python",
   "pygments_lexer": "ipython3",
   "version": "3.6.2"
  }
 },
 "nbformat": 4,
 "nbformat_minor": 2
}
