{
 "cells": [
  {
   "cell_type": "code",
   "execution_count": null,
   "metadata": {},
   "outputs": [],
   "source": [
    "import pandas as pd\n",
    "import numpy as np"
   ]
  },
  {
   "cell_type": "code",
   "execution_count": null,
   "metadata": {},
   "outputs": [],
   "source": [
    "#Load the user data frame file\n",
    "userDf = pd.read_csv('userDfFile.csv',index_col=0)"
   ]
  },
  {
   "cell_type": "code",
   "execution_count": null,
   "metadata": {},
   "outputs": [],
   "source": [
    "#Load the review data frame file\n",
    "reviewDf1=pd.read_csv('reviewDfFile1.csv',index_col=0)"
   ]
  },
  {
   "cell_type": "code",
   "execution_count": null,
   "metadata": {},
   "outputs": [],
   "source": [
    "#Make a deep copy of userDf for adding a new column 'available_review_count'\n",
    "newUserDf=userDf.copy()"
   ]
  },
  {
   "cell_type": "code",
   "execution_count": null,
   "metadata": {},
   "outputs": [],
   "source": [
    "print(len(userDf))\n",
    "print(len(reviewDf1))"
   ]
  },
  {
   "cell_type": "markdown",
   "metadata": {},
   "source": [
    "This is my first attemp. After I wrote it, I figured it might be very slow so I did not bother running it through."
   ]
  },
  {
   "cell_type": "code",
   "execution_count": null,
   "metadata": {},
   "outputs": [],
   "source": [
    "# '''Count the number of available reviews in reviewDf for each user in userDf and add that to the existing newUserDf which contains the available_review_count so far'''\n",
    "# def countAvailableReview(userDf,reviewDf,newUserDf):\n",
    "#     #loop through each user in userDf and count the number of reviews available in reviewDf\n",
    "#     for i in range(len(userDf)):\n",
    "#         user=userDf.loc[i,'user_id']\n",
    "#         available_review_count=len(reviewDf.loc[reviewDf['user_id']==user])\n",
    "#         newUserDf.at[i,'available_review_count']=available_review_count\n",
    "#     return newUserDf"
   ]
  },
  {
   "cell_type": "code",
   "execution_count": null,
   "metadata": {},
   "outputs": [],
   "source": [
    "# newUserDf=countAvailableReview(userDf,reviewDf1,newUserDf)"
   ]
  },
  {
   "cell_type": "code",
   "execution_count": null,
   "metadata": {},
   "outputs": [],
   "source": [
    "newUserDf.sort_values('user_id',inplace=True)"
   ]
  },
  {
   "cell_type": "code",
   "execution_count": null,
   "metadata": {},
   "outputs": [],
   "source": [
    "'---94vtJ_5o_nikEs6hUjg'<'---PLwSf5gKdIoVnyRHgBA'"
   ]
  },
  {
   "cell_type": "code",
   "execution_count": null,
   "metadata": {},
   "outputs": [],
   "source": [
    "# newUserDf.iloc[0, newUserDf.columns.get_loc('review_count')] = 246\n",
    "# df.iloc[0, df.columns.get_loc('COL_NAME')] = x\n",
    "# The following codes are just for testing\n",
    "# for i in range(20):\n",
    "#     print(len(reviewDf1.loc[reviewDf1['user_id']==newUserDf.iloc[i]['user_id']]))"
   ]
  },
  {
   "cell_type": "code",
   "execution_count": null,
   "metadata": {},
   "outputs": [],
   "source": [
    "reviewDf1.sort_values('user_id',inplace=True)"
   ]
  },
  {
   "cell_type": "code",
   "execution_count": null,
   "metadata": {},
   "outputs": [],
   "source": [
    "reviewDf1.head()"
   ]
  },
  {
   "cell_type": "markdown",
   "metadata": {},
   "source": [
    "### Sync the first data frame (reviewDfFile1.csv)"
   ]
  },
  {
   "cell_type": "code",
   "execution_count": null,
   "metadata": {},
   "outputs": [],
   "source": [
    "j=0 #j iterator in the sorted reviewDf1\n",
    "jmax=len(reviewDf1)\n",
    "newcolumn=[]\n",
    "for i in range(len(newUserDf)): #i is the iterator in the sorted newUserDf\n",
    "    user=newUserDf.iloc[i]['user_id'] #the current user we are syncing\n",
    "#     print(i,j,reviewDf1.iloc[j]['user_id'],user)\n",
    "    #loop till we find a user_id that is equal to or larger than user\n",
    "    while (j<jmax and reviewDf1.iloc[j]['user_id']<user):\n",
    "        j+=1\n",
    "    count=0 #initial available_review_count\n",
    "    #Now the user_id at position j in reviewDf matches the user_id at position i in newUserDf\n",
    "    while (j<jmax and reviewDf1.iloc[j]['user_id']==user):\n",
    "        count+=1\n",
    "        j+=1\n",
    "    newcolumn.append(count)"
   ]
  },
  {
   "cell_type": "code",
   "execution_count": null,
   "metadata": {},
   "outputs": [],
   "source": [
    "import copy\n",
    "# newcolumncopy=copy.deepcopy(newcolumn)"
   ]
  },
  {
   "cell_type": "markdown",
   "metadata": {},
   "source": [
    "### Now create a function to sync the rest data frames"
   ]
  },
  {
   "cell_type": "code",
   "execution_count": null,
   "metadata": {},
   "outputs": [],
   "source": [
    "'''Update the newcolumn which contains the number of available reviews counted so far by syncing sortedUserDf and sortedReviewDf'''\n",
    "def fastCountAvaiReview(sortedUserDf,sortedReviewDf,newcolumn):\n",
    "    j=0\n",
    "    jmax=len(sortedReviewDf)\n",
    "    for i in range(len(sortedUserDf)):#i is the iterator in the sorted newUserDf\n",
    "        user=sortedUserDf.iloc[i]['user_id'] #the current user we are syncing\n",
    "        #loop till we find a user_id that is equal to or larger than user\n",
    "        while (j<jmax and sortedReviewDf.iloc[j]['user_id']<user):\n",
    "            j+=1\n",
    "        count=0 #initial available_review_count\n",
    "        #Now the user_id at position j in reviewDf matches the user_id at position i in newUserDf\n",
    "        while (j<jmax and sortedReviewDf.iloc[j]['user_id']==user):\n",
    "            count+=1\n",
    "            j+=1\n",
    "        newcolumn[i]+=count\n",
    "    return newcolumn\n",
    "    "
   ]
  },
  {
   "cell_type": "code",
   "execution_count": null,
   "metadata": {},
   "outputs": [],
   "source": [
    "#newUserDf.dropna()\n",
    "#It turns out there is actually no na values in the data frame"
   ]
  },
  {
   "cell_type": "code",
   "execution_count": null,
   "metadata": {},
   "outputs": [],
   "source": [
    "'''Read the csv file as a data frame and sort it by user_id'''\n",
    "def loadAndSortCSV(csvfile):\n",
    "    reviewDf=pd.read_csv(csvfile,index_col=0)\n",
    "    reviewDf.sort_values('user_id',inplace=True)\n",
    "    return reviewDf"
   ]
  },
  {
   "cell_type": "markdown",
   "metadata": {},
   "source": [
    "##### Sync reviewDfFile2.csv"
   ]
  },
  {
   "cell_type": "code",
   "execution_count": null,
   "metadata": {},
   "outputs": [],
   "source": [
    "reviewDf=loadAndSortCSV('reviewDfFile2.csv')"
   ]
  },
  {
   "cell_type": "code",
   "execution_count": null,
   "metadata": {},
   "outputs": [],
   "source": [
    "newcolumn=fastCountAvaiReview(newUserDf,reviewDf,newcolumn)"
   ]
  },
  {
   "cell_type": "markdown",
   "metadata": {},
   "source": [
    "##### Export the result to 'AvaiReviewCountDfFile.csv'"
   ]
  },
  {
   "cell_type": "code",
   "execution_count": null,
   "metadata": {},
   "outputs": [],
   "source": [
    "AvaiReviewCountDf = pd.DataFrame(newcolumn, columns=[\"colummn\"])"
   ]
  },
  {
   "cell_type": "code",
   "execution_count": null,
   "metadata": {},
   "outputs": [],
   "source": [
    "AvaiReviewCountDf.to_csv('AvaiReviewCountDfFile.csv', index=False)"
   ]
  },
  {
   "cell_type": "code",
   "execution_count": null,
   "metadata": {},
   "outputs": [],
   "source": [
    "AvaiReviewCountDf.head()"
   ]
  },
  {
   "cell_type": "markdown",
   "metadata": {},
   "source": [
    "#### Sync reviewDfFile3.csv"
   ]
  },
  {
   "cell_type": "code",
   "execution_count": null,
   "metadata": {},
   "outputs": [],
   "source": [
    "reviewDf=loadAndSortCSV('reviewDfFile3.csv')"
   ]
  },
  {
   "cell_type": "markdown",
   "metadata": {},
   "source": [
    "Load AvaiReviewCountDfFile and convert it to list for syncing"
   ]
  },
  {
   "cell_type": "code",
   "execution_count": null,
   "metadata": {},
   "outputs": [],
   "source": [
    "def loadCSVtoList(csvfile):\n",
    "    newcolumnDf=pd.read_csv(csvfile)\n",
    "    newcolumnarr=newcolumnDf.values\n",
    "    newcolumnlist=[]\n",
    "    for arr in newcolumnarr:\n",
    "        newcolumnlist.append(arr[0])\n",
    "    return newcolumnlist"
   ]
  },
  {
   "cell_type": "code",
   "execution_count": null,
   "metadata": {},
   "outputs": [],
   "source": [
    "newcolumnlist=loadCSVtoList('AvaiReviewCountDfFile.csv')"
   ]
  },
  {
   "cell_type": "code",
   "execution_count": null,
   "metadata": {},
   "outputs": [],
   "source": [
    "newcolumnlist=fastCountAvaiReview(newUserDf,reviewDf,newcolumnlist)"
   ]
  },
  {
   "cell_type": "markdown",
   "metadata": {},
   "source": [
    "#### Sync reviewDfFile4.csv"
   ]
  },
  {
   "cell_type": "code",
   "execution_count": null,
   "metadata": {},
   "outputs": [],
   "source": [
    "reviewDf4=pd.read_csv('reviewDfFile4.csv',index_col=0,low_memory=False)"
   ]
  },
  {
   "cell_type": "code",
   "execution_count": null,
   "metadata": {},
   "outputs": [],
   "source": [
    "reviewDf4.sort_values('user_id',inplace=True)"
   ]
  },
  {
   "cell_type": "code",
   "execution_count": null,
   "metadata": {},
   "outputs": [],
   "source": [
    "reviewDf4=reviewDf4.dropna() #reviewDf4 contains na values so need to drop those rows"
   ]
  },
  {
   "cell_type": "code",
   "execution_count": null,
   "metadata": {},
   "outputs": [],
   "source": [
    "newcolumnlist=fastCountAvaiReview(newUserDf,reviewDf4,newcolumnlist)"
   ]
  },
  {
   "cell_type": "code",
   "execution_count": null,
   "metadata": {},
   "outputs": [],
   "source": [
    "AvaiReviewCountDf = pd.DataFrame(newcolumnlist, columns=[\"colummn\"])"
   ]
  },
  {
   "cell_type": "code",
   "execution_count": null,
   "metadata": {},
   "outputs": [],
   "source": [
    "AvaiReviewCountDf.to_csv('AvaiReviewCountDfFile.csv', index=False)"
   ]
  },
  {
   "cell_type": "code",
   "execution_count": null,
   "metadata": {},
   "outputs": [],
   "source": []
  }
 ],
 "metadata": {
  "kernelspec": {
   "display_name": "Python 3",
   "language": "python",
   "name": "python3"
  },
  "language_info": {
   "codemirror_mode": {
    "name": "ipython",
    "version": 3
   },
   "file_extension": ".py",
   "mimetype": "text/x-python",
   "name": "python",
   "nbconvert_exporter": "python",
   "pygments_lexer": "ipython3",
   "version": "3.6.2"
  }
 },
 "nbformat": 4,
 "nbformat_minor": 2
}
