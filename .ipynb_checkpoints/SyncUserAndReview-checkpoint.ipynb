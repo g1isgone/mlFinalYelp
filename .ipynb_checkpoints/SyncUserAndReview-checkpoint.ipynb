{
 "cells": [
  {
   "cell_type": "code",
   "execution_count": null,
   "metadata": {},
   "outputs": [],
   "source": [
    "import pandas as pd\n",
    "import numpy as np"
   ]
  },
  {
   "cell_type": "code",
   "execution_count": null,
   "metadata": {},
   "outputs": [],
   "source": [
    "#Load the user data frame file\n",
    "userDf = pd.read_csv('userDfFile.csv',index_col=0)"
   ]
  },
  {
   "cell_type": "code",
   "execution_count": null,
   "metadata": {},
   "outputs": [],
   "source": [
    "#Load the review data frame file\n",
    "reviewDf1=pd.read_csv('reviewDfFile1.csv',index_col=0)"
   ]
  },
  {
   "cell_type": "code",
   "execution_count": null,
   "metadata": {},
   "outputs": [],
   "source": [
    "#Make a deep copy of userDf for adding a new column 'available_review_count'\n",
    "newUserDf=userDf.copy()"
   ]
  },
  {
   "cell_type": "code",
   "execution_count": 53,
   "metadata": {},
   "outputs": [
    {
     "name": "stdout",
     "output_type": "stream",
     "text": [
      "1183362\n",
      "1114565\n"
     ]
    }
   ],
   "source": [
    "print(len(userDf))\n",
    "print(len(reviewDf1))"
   ]
  },
  {
   "cell_type": "markdown",
   "metadata": {},
   "source": [
    "This is my first attemp. After I wrote it, I figured it might be very slow so I did not bother running it through."
   ]
  },
  {
   "cell_type": "code",
   "execution_count": null,
   "metadata": {},
   "outputs": [],
   "source": [
    "# '''Count the number of available reviews in reviewDf for each user in userDf and add that to the existing newUserDf which contains the available_review_count so far'''\n",
    "# def countAvailableReview(userDf,reviewDf,newUserDf):\n",
    "#     #loop through each user in userDf and count the number of reviews available in reviewDf\n",
    "#     for i in range(len(userDf)):\n",
    "#         user=userDf.loc[i,'user_id']\n",
    "#         available_review_count=len(reviewDf.loc[reviewDf['user_id']==user])\n",
    "#         newUserDf.at[i,'available_review_count']=available_review_count\n",
    "#     return newUserDf"
   ]
  },
  {
   "cell_type": "code",
   "execution_count": null,
   "metadata": {},
   "outputs": [],
   "source": [
    "# newUserDf=countAvailableReview(userDf,reviewDf1,newUserDf)"
   ]
  },
  {
   "cell_type": "code",
   "execution_count": 5,
   "metadata": {},
   "outputs": [],
   "source": [
    "newUserDf.sort_values('user_id',inplace=True)"
   ]
  },
  {
   "cell_type": "code",
   "execution_count": 71,
   "metadata": {},
   "outputs": [
    {
     "data": {
      "text/html": [
       "<div>\n",
       "<style scoped>\n",
       "    .dataframe tbody tr th:only-of-type {\n",
       "        vertical-align: middle;\n",
       "    }\n",
       "\n",
       "    .dataframe tbody tr th {\n",
       "        vertical-align: top;\n",
       "    }\n",
       "\n",
       "    .dataframe thead th {\n",
       "        text-align: right;\n",
       "    }\n",
       "</style>\n",
       "<table border=\"1\" class=\"dataframe\">\n",
       "  <thead>\n",
       "    <tr style=\"text-align: right;\">\n",
       "      <th></th>\n",
       "      <th>average_stars</th>\n",
       "      <th>review_count</th>\n",
       "      <th>user_id</th>\n",
       "      <th>yelping_since</th>\n",
       "    </tr>\n",
       "  </thead>\n",
       "  <tbody>\n",
       "    <tr>\n",
       "      <th>24722</th>\n",
       "      <td>3.97</td>\n",
       "      <td>245</td>\n",
       "      <td>---1lKK3aKOuomHnwAkAow</td>\n",
       "      <td>2007-06-04</td>\n",
       "    </tr>\n",
       "    <tr>\n",
       "      <th>625072</th>\n",
       "      <td>5.00</td>\n",
       "      <td>2</td>\n",
       "      <td>---94vtJ_5o_nikEs6hUjg</td>\n",
       "      <td>2016-05-27</td>\n",
       "    </tr>\n",
       "    <tr>\n",
       "      <th>588173</th>\n",
       "      <td>4.00</td>\n",
       "      <td>2</td>\n",
       "      <td>---PLwSf5gKdIoVnyRHgBA</td>\n",
       "      <td>2015-07-31</td>\n",
       "    </tr>\n",
       "    <tr>\n",
       "      <th>404975</th>\n",
       "      <td>3.79</td>\n",
       "      <td>57</td>\n",
       "      <td>---cu1hq55BP9DWVXXKHZg</td>\n",
       "      <td>2009-04-18</td>\n",
       "    </tr>\n",
       "    <tr>\n",
       "      <th>804200</th>\n",
       "      <td>2.78</td>\n",
       "      <td>8</td>\n",
       "      <td>---fhiwiwBYrvqhpXgcWDQ</td>\n",
       "      <td>2011-04-20</td>\n",
       "    </tr>\n",
       "  </tbody>\n",
       "</table>\n",
       "</div>"
      ],
      "text/plain": [
       "        average_stars  review_count                 user_id yelping_since\n",
       "24722            3.97           245  ---1lKK3aKOuomHnwAkAow    2007-06-04\n",
       "625072           5.00             2  ---94vtJ_5o_nikEs6hUjg    2016-05-27\n",
       "588173           4.00             2  ---PLwSf5gKdIoVnyRHgBA    2015-07-31\n",
       "404975           3.79            57  ---cu1hq55BP9DWVXXKHZg    2009-04-18\n",
       "804200           2.78             8  ---fhiwiwBYrvqhpXgcWDQ    2011-04-20"
      ]
     },
     "execution_count": 71,
     "metadata": {},
     "output_type": "execute_result"
    }
   ],
   "source": [
    "newUserDf.head()"
   ]
  },
  {
   "cell_type": "code",
   "execution_count": 20,
   "metadata": {},
   "outputs": [
    {
     "data": {
      "text/plain": [
       "True"
      ]
     },
     "execution_count": 20,
     "metadata": {},
     "output_type": "execute_result"
    }
   ],
   "source": [
    "'---94vtJ_5o_nikEs6hUjg'<'---PLwSf5gKdIoVnyRHgBA'"
   ]
  },
  {
   "cell_type": "code",
   "execution_count": 72,
   "metadata": {},
   "outputs": [],
   "source": [
    "# newUserDf.iloc[0, newUserDf.columns.get_loc('review_count')] = 246\n",
    "# df.iloc[0, df.columns.get_loc('COL_NAME')] = x\n",
    "# The following codes are just for testing\n",
    "# for i in range(20):\n",
    "#     print(len(reviewDf1.loc[reviewDf1['user_id']==newUserDf.iloc[i]['user_id']]))"
   ]
  },
  {
   "cell_type": "code",
   "execution_count": 14,
   "metadata": {},
   "outputs": [],
   "source": [
    "reviewDf1.sort_values('user_id',inplace=True)"
   ]
  },
  {
   "cell_type": "code",
   "execution_count": 73,
   "metadata": {},
   "outputs": [
    {
     "data": {
      "text/html": [
       "<div>\n",
       "<style scoped>\n",
       "    .dataframe tbody tr th:only-of-type {\n",
       "        vertical-align: middle;\n",
       "    }\n",
       "\n",
       "    .dataframe tbody tr th {\n",
       "        vertical-align: top;\n",
       "    }\n",
       "\n",
       "    .dataframe thead th {\n",
       "        text-align: right;\n",
       "    }\n",
       "</style>\n",
       "<table border=\"1\" class=\"dataframe\">\n",
       "  <thead>\n",
       "    <tr style=\"text-align: right;\">\n",
       "      <th></th>\n",
       "      <th>business_id</th>\n",
       "      <th>date</th>\n",
       "      <th>review_id</th>\n",
       "      <th>stars</th>\n",
       "      <th>text</th>\n",
       "      <th>user_id</th>\n",
       "    </tr>\n",
       "  </thead>\n",
       "  <tbody>\n",
       "    <tr>\n",
       "      <th>1078980</th>\n",
       "      <td>cHuA0Yb5oYwx1lrNVABqdQ</td>\n",
       "      <td>2012-02-19</td>\n",
       "      <td>-nyKSlK-acm7Tkuobbw3MA</td>\n",
       "      <td>5.0</td>\n",
       "      <td>I know its cliche that women like chocolates. ...</td>\n",
       "      <td>---1lKK3aKOuomHnwAkAow</td>\n",
       "    </tr>\n",
       "    <tr>\n",
       "      <th>533710</th>\n",
       "      <td>pwLQfEe_yJYwAWWugWbpIQ</td>\n",
       "      <td>2010-11-16</td>\n",
       "      <td>zVSaK-AEJ9aI4lHpTN_trQ</td>\n",
       "      <td>4.0</td>\n",
       "      <td>Hello color blocking!!! I love coming in here ...</td>\n",
       "      <td>---1lKK3aKOuomHnwAkAow</td>\n",
       "    </tr>\n",
       "    <tr>\n",
       "      <th>68087</th>\n",
       "      <td>OGQ_6nIn4QQL2U6t0XeHtA</td>\n",
       "      <td>2011-09-29</td>\n",
       "      <td>qa62wRlwKkhMBCJD0YxxCw</td>\n",
       "      <td>5.0</td>\n",
       "      <td>Holy Popcorn!  Salt and Vinegar popcorn totall...</td>\n",
       "      <td>---1lKK3aKOuomHnwAkAow</td>\n",
       "    </tr>\n",
       "    <tr>\n",
       "      <th>274908</th>\n",
       "      <td>i6FdasoJZdhqT1tJBGRScw</td>\n",
       "      <td>2013-03-11</td>\n",
       "      <td>kL23fT8JmgYoZuxHsF_wjw</td>\n",
       "      <td>4.0</td>\n",
       "      <td>I always wish this was still an elementary sch...</td>\n",
       "      <td>---1lKK3aKOuomHnwAkAow</td>\n",
       "    </tr>\n",
       "    <tr>\n",
       "      <th>402881</th>\n",
       "      <td>t6WY1IrohUecqNjd9bG42Q</td>\n",
       "      <td>2011-02-22</td>\n",
       "      <td>JLrbGM6_SKQTEJSCTnBrLw</td>\n",
       "      <td>4.0</td>\n",
       "      <td>Okay guys 20 mins for a spice ice tea and coff...</td>\n",
       "      <td>---1lKK3aKOuomHnwAkAow</td>\n",
       "    </tr>\n",
       "  </tbody>\n",
       "</table>\n",
       "</div>"
      ],
      "text/plain": [
       "                    business_id        date               review_id  stars  \\\n",
       "1078980  cHuA0Yb5oYwx1lrNVABqdQ  2012-02-19  -nyKSlK-acm7Tkuobbw3MA    5.0   \n",
       "533710   pwLQfEe_yJYwAWWugWbpIQ  2010-11-16  zVSaK-AEJ9aI4lHpTN_trQ    4.0   \n",
       "68087    OGQ_6nIn4QQL2U6t0XeHtA  2011-09-29  qa62wRlwKkhMBCJD0YxxCw    5.0   \n",
       "274908   i6FdasoJZdhqT1tJBGRScw  2013-03-11  kL23fT8JmgYoZuxHsF_wjw    4.0   \n",
       "402881   t6WY1IrohUecqNjd9bG42Q  2011-02-22  JLrbGM6_SKQTEJSCTnBrLw    4.0   \n",
       "\n",
       "                                                      text  \\\n",
       "1078980  I know its cliche that women like chocolates. ...   \n",
       "533710   Hello color blocking!!! I love coming in here ...   \n",
       "68087    Holy Popcorn!  Salt and Vinegar popcorn totall...   \n",
       "274908   I always wish this was still an elementary sch...   \n",
       "402881   Okay guys 20 mins for a spice ice tea and coff...   \n",
       "\n",
       "                        user_id  \n",
       "1078980  ---1lKK3aKOuomHnwAkAow  \n",
       "533710   ---1lKK3aKOuomHnwAkAow  \n",
       "68087    ---1lKK3aKOuomHnwAkAow  \n",
       "274908   ---1lKK3aKOuomHnwAkAow  \n",
       "402881   ---1lKK3aKOuomHnwAkAow  "
      ]
     },
     "execution_count": 73,
     "metadata": {},
     "output_type": "execute_result"
    }
   ],
   "source": [
    "reviewDf1.head()"
   ]
  },
  {
   "cell_type": "markdown",
   "metadata": {},
   "source": [
    "### Sync the first data frame (reviewDfFile1.csv)"
   ]
  },
  {
   "cell_type": "code",
   "execution_count": 57,
   "metadata": {},
   "outputs": [],
   "source": [
    "j=0 #j iterator in the sorted reviewDf1\n",
    "jmax=len(reviewDf1)\n",
    "newcolumn=[]\n",
    "for i in range(len(newUserDf)): #i is the iterator in the sorted newUserDf\n",
    "    user=newUserDf.iloc[i]['user_id'] #the current user we are syncing\n",
    "#     print(i,j,reviewDf1.iloc[j]['user_id'],user)\n",
    "    #loop till we find a user_id that is equal to or larger than user\n",
    "    while (j<jmax and reviewDf1.iloc[j]['user_id']<user):\n",
    "        j+=1\n",
    "    count=0 #initial available_review_count\n",
    "    #Now the user_id at position j in reviewDf matches the user_id at position i in newUserDf\n",
    "    while (j<jmax and reviewDf1.iloc[j]['user_id']==user):\n",
    "        count+=1\n",
    "        j+=1\n",
    "    newcolumn.append(count)"
   ]
  },
  {
   "cell_type": "code",
   "execution_count": 69,
   "metadata": {},
   "outputs": [],
   "source": [
    "import copy\n",
    "newcolumncopy=copy.deepcopy(newcolumn)"
   ]
  },
  {
   "cell_type": "markdown",
   "metadata": {},
   "source": [
    "### Now create a function to sync the rest data frames"
   ]
  },
  {
   "cell_type": "code",
   "execution_count": 75,
   "metadata": {},
   "outputs": [],
   "source": [
    "def fastCountAvaiReview(sortedUserDf,sortedReviewDf,newcolumn):\n",
    "    j=0\n",
    "    jmax=len(sortedReviewDf)\n",
    "    for i in range(len(sortedUserDf)):#i is the iterator in the sorted newUserDf\n",
    "        user=sortedUserDf.iloc[i]['user_id'] #the current user we are syncing\n",
    "        #loop till we find a user_id that is equal to or larger than user\n",
    "        while (j<jmax and sortedReviewDf.iloc[j]['user_id']<user):\n",
    "            j+=1\n",
    "        count=0 #initial available_review_count\n",
    "        #Now the user_id at position j in reviewDf matches the user_id at position i in newUserDf\n",
    "        while (j<jmax and sortedReviewDf.iloc[j]['user_id']==user):\n",
    "            count+=1\n",
    "            j+=1\n",
    "        newcolumn[i]+=count\n",
    "    return newcolumn\n",
    "    "
   ]
  },
  {
   "cell_type": "code",
   "execution_count": 68,
   "metadata": {},
   "outputs": [],
   "source": [
    "#newUserDf.dropna()\n",
    "#It turns out there is actually no na values in the data frame"
   ]
  },
  {
   "cell_type": "code",
   "execution_count": 77,
   "metadata": {},
   "outputs": [],
   "source": [
    "def loadAndSortCSV(csvfile):\n",
    "    reviewDf=pd.read_csv(csvfile,index_col=0)\n",
    "    reviewDf.sort_values('user_id',inplace=True)\n",
    "    return reviewDf"
   ]
  },
  {
   "cell_type": "code",
   "execution_count": 78,
   "metadata": {},
   "outputs": [
    {
     "name": "stderr",
     "output_type": "stream",
     "text": [
      "/Library/Frameworks/Python.framework/Versions/3.6/lib/python3.6/site-packages/numpy/lib/arraysetops.py:463: FutureWarning: elementwise comparison failed; returning scalar instead, but in the future will perform elementwise comparison\n",
      "  mask |= (ar1 == a)\n"
     ]
    }
   ],
   "source": [
    "reviewDf=loadAndSortCSV('reviewDfFile2.csv')"
   ]
  },
  {
   "cell_type": "code",
   "execution_count": 80,
   "metadata": {},
   "outputs": [],
   "source": [
    "newcolumncopy=fastCountAvaiReview(newUserDf,reviewDf,newcolumncopy)"
   ]
  },
  {
   "cell_type": "code",
   "execution_count": 82,
   "metadata": {},
   "outputs": [],
   "source": [
    "AvaiReviewCountDf = pd.DataFrame(newcolumncopy, columns=[\"colummn\"])"
   ]
  },
  {
   "cell_type": "code",
   "execution_count": 83,
   "metadata": {},
   "outputs": [],
   "source": [
    "AvaiReviewCountDf.to_csv('AvaiReviewCountDfFile.csv', index=False)"
   ]
  },
  {
   "cell_type": "code",
   "execution_count": 84,
   "metadata": {},
   "outputs": [
    {
     "data": {
      "text/html": [
       "<div>\n",
       "<style scoped>\n",
       "    .dataframe tbody tr th:only-of-type {\n",
       "        vertical-align: middle;\n",
       "    }\n",
       "\n",
       "    .dataframe tbody tr th {\n",
       "        vertical-align: top;\n",
       "    }\n",
       "\n",
       "    .dataframe thead th {\n",
       "        text-align: right;\n",
       "    }\n",
       "</style>\n",
       "<table border=\"1\" class=\"dataframe\">\n",
       "  <thead>\n",
       "    <tr style=\"text-align: right;\">\n",
       "      <th></th>\n",
       "      <th>colummn</th>\n",
       "    </tr>\n",
       "  </thead>\n",
       "  <tbody>\n",
       "    <tr>\n",
       "      <th>0</th>\n",
       "      <td>64</td>\n",
       "    </tr>\n",
       "    <tr>\n",
       "      <th>1</th>\n",
       "      <td>1</td>\n",
       "    </tr>\n",
       "    <tr>\n",
       "      <th>2</th>\n",
       "      <td>2</td>\n",
       "    </tr>\n",
       "    <tr>\n",
       "      <th>3</th>\n",
       "      <td>2</td>\n",
       "    </tr>\n",
       "    <tr>\n",
       "      <th>4</th>\n",
       "      <td>0</td>\n",
       "    </tr>\n",
       "  </tbody>\n",
       "</table>\n",
       "</div>"
      ],
      "text/plain": [
       "   colummn\n",
       "0       64\n",
       "1        1\n",
       "2        2\n",
       "3        2\n",
       "4        0"
      ]
     },
     "execution_count": 84,
     "metadata": {},
     "output_type": "execute_result"
    }
   ],
   "source": [
    "AvaiReviewCountDf.head()"
   ]
  },
  {
   "cell_type": "code",
   "execution_count": null,
   "metadata": {},
   "outputs": [],
   "source": []
  }
 ],
 "metadata": {
  "kernelspec": {
   "display_name": "Python 3",
   "language": "python",
   "name": "python3"
  },
  "language_info": {
   "codemirror_mode": {
    "name": "ipython",
    "version": 3
   },
   "file_extension": ".py",
   "mimetype": "text/x-python",
   "name": "python",
   "nbconvert_exporter": "python",
   "pygments_lexer": "ipython3",
   "version": "3.6.2"
  }
 },
 "nbformat": 4,
 "nbformat_minor": 2
}
