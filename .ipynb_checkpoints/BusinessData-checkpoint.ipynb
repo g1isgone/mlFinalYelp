{
 "cells": [
  {
   "cell_type": "markdown",
   "metadata": {},
   "source": [
    "# Importing Any Necessary Packages "
   ]
  },
  {
   "cell_type": "code",
   "execution_count": 1,
   "metadata": {},
   "outputs": [],
   "source": [
    "import json \n",
    "from pprint import pprint\n",
    "\n",
    "import pandas as pd\n",
    "import matplotlib.pyplot as plt\n",
    "import graphviz\n",
    "\n",
    "import numpy as np\n",
    "from pandas.io.json import json_normalize\n",
    "\n",
    "import math"
   ]
  },
  {
   "cell_type": "code",
   "execution_count": 2,
   "metadata": {},
   "outputs": [],
   "source": [
    "pd.set_option('display.max_columns', None)"
   ]
  },
  {
   "cell_type": "markdown",
   "metadata": {},
   "source": [
    "# Extraction of Data "
   ]
  },
  {
   "cell_type": "code",
   "execution_count": 3,
   "metadata": {},
   "outputs": [],
   "source": [
    "def extractDataInfo(filename):\n",
    "    data = []\n",
    "    attributes = []\n",
    "    returnValues = []\n",
    "    with open(filename) as f:\n",
    "        for line in f:\n",
    "            dataLine = json.loads(line)\n",
    "            data.append(dataLine)\n",
    "            for key in dataLine.keys():\n",
    "                attributes.append(key)\n",
    "        uniqueAttributes = set(attributes)\n",
    "        returnValues.append(data)\n",
    "        returnValues.append(uniqueAttributes)\n",
    "        return returnValues"
   ]
  },
  {
   "cell_type": "code",
   "execution_count": 4,
   "metadata": {},
   "outputs": [],
   "source": [
    "businessInfo = extractDataInfo('../dataset/business.json') #businessInfo is a list"
   ]
  },
  {
   "cell_type": "code",
   "execution_count": 27,
   "metadata": {},
   "outputs": [],
   "source": [
    "businessDf = pd.DataFrame.from_dict(businessInfo[0])"
   ]
  },
  {
   "cell_type": "code",
   "execution_count": 6,
   "metadata": {},
   "outputs": [],
   "source": [
    "originalDf = pd.DataFrame.from_dict(businessInfo[0]) #the original dataset "
   ]
  },
  {
   "cell_type": "markdown",
   "metadata": {},
   "source": [
    "# Basic Summary of Raw Business Data"
   ]
  },
  {
   "cell_type": "code",
   "execution_count": 7,
   "metadata": {},
   "outputs": [
    {
     "name": "stdout",
     "output_type": "stream",
     "text": [
      "{'business_id': 'YDf95gJZaq05wvo7hTQbbQ', 'name': 'Richmond Town Square', 'neighborhood': '', 'address': '691 Richmond Rd', 'city': 'Richmond Heights', 'state': 'OH', 'postal_code': '44143', 'latitude': 41.5417162, 'longitude': -81.4931165, 'stars': 2.0, 'review_count': 17, 'is_open': 1, 'attributes': {'RestaurantsPriceRange2': 2, 'BusinessParking': {'garage': False, 'street': False, 'validated': False, 'lot': True, 'valet': False}, 'BikeParking': True, 'WheelchairAccessible': True}, 'categories': ['Shopping', 'Shopping Centers'], 'hours': {'Monday': '10:00-21:00', 'Tuesday': '10:00-21:00', 'Friday': '10:00-21:00', 'Wednesday': '10:00-21:00', 'Thursday': '10:00-21:00', 'Sunday': '11:00-18:00', 'Saturday': '10:00-21:00'}}\n"
     ]
    }
   ],
   "source": [
    "print(businessInfo[0][0])"
   ]
  },
  {
   "cell_type": "code",
   "execution_count": 8,
   "metadata": {},
   "outputs": [
    {
     "data": {
      "text/plain": [
       "(156639, 15)"
      ]
     },
     "execution_count": 8,
     "metadata": {},
     "output_type": "execute_result"
    }
   ],
   "source": [
    "businessDf.shape"
   ]
  },
  {
   "cell_type": "code",
   "execution_count": 9,
   "metadata": {},
   "outputs": [
    {
     "data": {
      "text/plain": [
       "address          object\n",
       "attributes       object\n",
       "business_id      object\n",
       "categories       object\n",
       "city             object\n",
       "hours            object\n",
       "is_open           int64\n",
       "latitude        float64\n",
       "longitude       float64\n",
       "name             object\n",
       "neighborhood     object\n",
       "postal_code      object\n",
       "review_count      int64\n",
       "stars           float64\n",
       "state            object\n",
       "dtype: object"
      ]
     },
     "execution_count": 9,
     "metadata": {},
     "output_type": "execute_result"
    }
   ],
   "source": [
    "businessDf.dtypes"
   ]
  },
  {
   "cell_type": "markdown",
   "metadata": {},
   "source": [
    "A brief description of what the variable contains (i.e. \"The Tuition column contains information on the annual cost of tuition in $USD\"): \n",
    "* \"business_id\":string, 22 character unique string business id\n",
    "* \"name\":string, the business's name\n",
    "* \"neighborhood\": string, the neighborhood's name\n",
    "* \"address\": string, the full address of the business\n",
    "* \"city\": string, the city\n",
    "* \"State\": string, 2 character state code, if applicable\n",
    "* \"postal code\": string, the postal code\n",
    "* \"latitude\": float, latitude\n",
    "* \"longitude\": float, longitude\n",
    "* \"stars\": float, star rating, rounded to half-stars\n",
    "* \"review_count\": interger, number of reviews\n",
    "* \"is_open\": integer, 0 or 1 for closed or open, respectively\n",
    "* \"attributes\": object, business attributes to values. note: some attribute values might be objects\n",
    "* \"categories\": an array of strings of business categories\n",
    "* \"hours\":an object of key day to value hours, hours are using a 24hr clock\n",
    "* More description at https://www.yelp.com/dataset/documentation/json"
   ]
  },
  {
   "cell_type": "code",
   "execution_count": 10,
   "metadata": {},
   "outputs": [
    {
     "data": {
      "text/html": [
       "<div>\n",
       "<style>\n",
       "    .dataframe thead tr:only-child th {\n",
       "        text-align: right;\n",
       "    }\n",
       "\n",
       "    .dataframe thead th {\n",
       "        text-align: left;\n",
       "    }\n",
       "\n",
       "    .dataframe tbody tr th {\n",
       "        vertical-align: top;\n",
       "    }\n",
       "</style>\n",
       "<table border=\"1\" class=\"dataframe\">\n",
       "  <thead>\n",
       "    <tr style=\"text-align: right;\">\n",
       "      <th></th>\n",
       "      <th>is_open</th>\n",
       "      <th>latitude</th>\n",
       "      <th>longitude</th>\n",
       "      <th>review_count</th>\n",
       "      <th>stars</th>\n",
       "    </tr>\n",
       "  </thead>\n",
       "  <tbody>\n",
       "    <tr>\n",
       "      <th>count</th>\n",
       "      <td>156639.000000</td>\n",
       "      <td>156638.000000</td>\n",
       "      <td>156638.000000</td>\n",
       "      <td>156639.000000</td>\n",
       "      <td>156639.000000</td>\n",
       "    </tr>\n",
       "    <tr>\n",
       "      <th>mean</th>\n",
       "      <td>0.844375</td>\n",
       "      <td>38.585033</td>\n",
       "      <td>-92.856485</td>\n",
       "      <td>30.238159</td>\n",
       "      <td>3.647154</td>\n",
       "    </tr>\n",
       "    <tr>\n",
       "      <th>std</th>\n",
       "      <td>0.362501</td>\n",
       "      <td>5.399871</td>\n",
       "      <td>26.557741</td>\n",
       "      <td>96.486631</td>\n",
       "      <td>0.977640</td>\n",
       "    </tr>\n",
       "    <tr>\n",
       "      <th>min</th>\n",
       "      <td>0.000000</td>\n",
       "      <td>-36.086009</td>\n",
       "      <td>-142.466650</td>\n",
       "      <td>3.000000</td>\n",
       "      <td>1.000000</td>\n",
       "    </tr>\n",
       "    <tr>\n",
       "      <th>25%</th>\n",
       "      <td>1.000000</td>\n",
       "      <td>33.627161</td>\n",
       "      <td>-112.138207</td>\n",
       "      <td>4.000000</td>\n",
       "      <td>3.000000</td>\n",
       "    </tr>\n",
       "    <tr>\n",
       "      <th>50%</th>\n",
       "      <td>1.000000</td>\n",
       "      <td>36.142381</td>\n",
       "      <td>-89.523198</td>\n",
       "      <td>9.000000</td>\n",
       "      <td>3.500000</td>\n",
       "    </tr>\n",
       "    <tr>\n",
       "      <th>75%</th>\n",
       "      <td>1.000000</td>\n",
       "      <td>43.596845</td>\n",
       "      <td>-79.668760</td>\n",
       "      <td>23.000000</td>\n",
       "      <td>4.500000</td>\n",
       "    </tr>\n",
       "    <tr>\n",
       "      <th>max</th>\n",
       "      <td>1.000000</td>\n",
       "      <td>89.999314</td>\n",
       "      <td>115.086769</td>\n",
       "      <td>6979.000000</td>\n",
       "      <td>5.000000</td>\n",
       "    </tr>\n",
       "  </tbody>\n",
       "</table>\n",
       "</div>"
      ],
      "text/plain": [
       "             is_open       latitude      longitude   review_count  \\\n",
       "count  156639.000000  156638.000000  156638.000000  156639.000000   \n",
       "mean        0.844375      38.585033     -92.856485      30.238159   \n",
       "std         0.362501       5.399871      26.557741      96.486631   \n",
       "min         0.000000     -36.086009    -142.466650       3.000000   \n",
       "25%         1.000000      33.627161    -112.138207       4.000000   \n",
       "50%         1.000000      36.142381     -89.523198       9.000000   \n",
       "75%         1.000000      43.596845     -79.668760      23.000000   \n",
       "max         1.000000      89.999314     115.086769    6979.000000   \n",
       "\n",
       "               stars  \n",
       "count  156639.000000  \n",
       "mean        3.647154  \n",
       "std         0.977640  \n",
       "min         1.000000  \n",
       "25%         3.000000  \n",
       "50%         3.500000  \n",
       "75%         4.500000  \n",
       "max         5.000000  "
      ]
     },
     "execution_count": 10,
     "metadata": {},
     "output_type": "execute_result"
    }
   ],
   "source": [
    "businessDf.describe()"
   ]
  },
  {
   "cell_type": "markdown",
   "metadata": {},
   "source": [
    "# Expanding DataFrame: Unnesting \n",
    "A lot of our data is nested within each dataframe, particularly, the 'attributes', 'hours', and 'categories' columns"
   ]
  },
  {
   "cell_type": "markdown",
   "metadata": {},
   "source": [
    "## Part I: Unnesting Categories  \n",
    "Since the # unique Categories is significantly lower than allCategories, it could be significant to group the categories"
   ]
  },
  {
   "cell_type": "code",
   "execution_count": 7,
   "metadata": {},
   "outputs": [],
   "source": [
    "def findAllCategories():\n",
    "    allCategories =[]\n",
    "    for categoryList in businessDf['categories']:\n",
    "        if(type(categoryList) != str):  \n",
    "            for category in categoryList:\n",
    "                allCategories.append(category)\n",
    "        else:\n",
    "            allCategories.append(categoryList)\n",
    "    return allCategories"
   ]
  },
  {
   "cell_type": "code",
   "execution_count": 8,
   "metadata": {},
   "outputs": [],
   "source": [
    "def findUniqueCategories(allCategoriesList):\n",
    "    return set(allCategoriesList)"
   ]
  },
  {
   "cell_type": "code",
   "execution_count": 9,
   "metadata": {},
   "outputs": [],
   "source": [
    "def categoriesStats(allCategoriesList):\n",
    "    print('Length of all categories is:')\n",
    "    print(len(allCategoriesList))\n",
    "    print('Length of all unique categories is:')\n",
    "    print(len(findUniqueCategories(allCategoriesList)))\n",
    "    allCategoriesList.remove('Restaurants')\n",
    "    allCategoriesSeries = pd.Series(allCategoriesList)\n",
    "    print(allCategoriesSeries.value_counts())\n",
    "    \n",
    "    return allCategoriesSeries.value_counts()"
   ]
  },
  {
   "cell_type": "code",
   "execution_count": 10,
   "metadata": {},
   "outputs": [
    {
     "data": {
      "text/plain": [
       "590290"
      ]
     },
     "execution_count": 10,
     "metadata": {},
     "output_type": "execute_result"
    }
   ],
   "source": [
    "originalAllCategories = findAllCategories()\n",
    "len(originalAllCategories)"
   ]
  },
  {
   "cell_type": "code",
   "execution_count": 11,
   "metadata": {},
   "outputs": [
    {
     "name": "stdout",
     "output_type": "stream",
     "text": [
      "Length of all categories is:\n",
      "590290\n",
      "Length of all unique categories is:\n",
      "1240\n",
      "Restaurants                  51612\n",
      "Shopping                     24595\n",
      "Food                         23014\n",
      "Beauty & Spas                15139\n",
      "Home Services                13202\n",
      "Health & Medical             12033\n",
      "Nightlife                    11364\n",
      "Bars                          9868\n",
      "Automotive                    9476\n",
      "Local Services                9343\n",
      "Event Planning & Services     8038\n",
      "Active Life                   7427\n",
      "Fashion                       6299\n",
      "Sandwiches                    5864\n",
      "Fast Food                     5792\n",
      "American (Traditional)        5737\n",
      "Pizza                         5652\n",
      "Coffee & Tea                  5565\n",
      "Hair Salons                   5395\n",
      "Hotels & Travel               5188\n",
      "Arts & Entertainment          5054\n",
      "Home & Garden                 4584\n",
      "Auto Repair                   4480\n",
      "Italian                       4411\n",
      "Burgers                       4236\n",
      "Doctors                       4124\n",
      "Breakfast & Brunch            4103\n",
      "Mexican                       3913\n",
      "Nail Salons                   3884\n",
      "Professional Services         3865\n",
      "                             ...  \n",
      "Alsatian                         1\n",
      "Dialysis Clinics                 1\n",
      "Osteopaths                       1\n",
      "Fun Fair                         1\n",
      "Habilitative Services            1\n",
      "Luggage Storage                  1\n",
      "Linens                           1\n",
      "Drive-Thru Bars                  1\n",
      "Indoor Playcentre                1\n",
      "Fuel Docks                       1\n",
      "Town Hall                        1\n",
      "Eastern German                   1\n",
      "Excavation Services              1\n",
      "Flyboarding                      1\n",
      "Mauritius                        1\n",
      "Soba                             1\n",
      "Cheese Tasting Classes           1\n",
      "Interlock Systems                1\n",
      "Minho                            1\n",
      "Outdoor Movies                   1\n",
      "Palatine                         1\n",
      "Registry Office                  1\n",
      "Tempura                          1\n",
      "Game Meat                        1\n",
      "Veterans Organizations           1\n",
      "Udon                             1\n",
      "Surf Schools                     1\n",
      "Toxicologists                    1\n",
      "Home Developers                  1\n",
      "Indoor Landscaping               1\n",
      "Length: 1240, dtype: int64\n"
     ]
    }
   ],
   "source": [
    "statsInfo = categoriesStats(originalAllCategories)"
   ]
  },
  {
   "cell_type": "code",
   "execution_count": 12,
   "metadata": {},
   "outputs": [],
   "source": [
    "def getTopCategories(topNum, frequencyTable):\n",
    "    statsInfoDict = frequencyTable.to_dict()\n",
    "    statsInfoList = sorted(statsInfoDict.items(), key=lambda x: x[1], reverse=True)\n",
    "    \n",
    "    topCategories =[]\n",
    "    for i in range(topNum):\n",
    "        topCategories.append(statsInfoList[i][0])\n",
    "    \n",
    "    return topCategories"
   ]
  },
  {
   "cell_type": "code",
   "execution_count": 13,
   "metadata": {},
   "outputs": [],
   "source": [
    "def reGroup(df, categoryName):\n",
    "    existList = []\n",
    "    for categoryArr in df:\n",
    "        exist = False\n",
    "        if(type(categoryArr) != str):  \n",
    "            for category in categoryArr:\n",
    "                if (category == categoryName):\n",
    "                    exist = True\n",
    "        existList.append(exist)\n",
    "    \n",
    "    return existList "
   ]
  },
  {
   "cell_type": "code",
   "execution_count": 14,
   "metadata": {},
   "outputs": [],
   "source": [
    "def replaceCategory(df, columnName, replacement):\n",
    "    categoriesDf = df[columnName]\n",
    "    restaurantsExistList = reGroup(categoriesDf, replacement)\n",
    "    restaurantsExistSeries = pd.Series(restaurantsExistList)\n",
    "    categoriesDf.loc[restaurantsExistSeries] = replacement\n",
    "    print('# of ' + replacement + \" made:\")\n",
    "    print(len(categoriesDf.loc[categoriesDf == replacement]))"
   ]
  },
  {
   "cell_type": "code",
   "execution_count": 28,
   "metadata": {},
   "outputs": [
    {
     "data": {
      "text/plain": [
       "['Restaurants',\n",
       " 'Shopping',\n",
       " 'Food',\n",
       " 'Beauty & Spas',\n",
       " 'Home Services',\n",
       " 'Health & Medical',\n",
       " 'Nightlife',\n",
       " 'Bars',\n",
       " 'Automotive',\n",
       " 'Local Services',\n",
       " 'Event Planning & Services',\n",
       " 'Active Life',\n",
       " 'Fashion',\n",
       " 'Sandwiches',\n",
       " 'Fast Food',\n",
       " 'American (Traditional)',\n",
       " 'Pizza',\n",
       " 'Coffee & Tea',\n",
       " 'Hair Salons',\n",
       " 'Hotels & Travel',\n",
       " 'Arts & Entertainment',\n",
       " 'Home & Garden',\n",
       " 'Auto Repair',\n",
       " 'Italian',\n",
       " 'Burgers',\n",
       " 'Doctors',\n",
       " 'Breakfast & Brunch',\n",
       " 'Mexican',\n",
       " 'Nail Salons',\n",
       " 'Professional Services',\n",
       " 'American (New)',\n",
       " 'Chinese',\n",
       " 'Real Estate',\n",
       " 'Specialty Food',\n",
       " 'Fitness & Instruction',\n",
       " 'Pets',\n",
       " 'Grocery',\n",
       " 'Bakeries',\n",
       " 'Cafes',\n",
       " 'Hair Removal',\n",
       " 'Dentists',\n",
       " 'Hotels',\n",
       " 'Desserts',\n",
       " 'Skin Care',\n",
       " \"Women's Clothing\",\n",
       " 'Education',\n",
       " 'Japanese',\n",
       " 'Ice Cream & Frozen Yogurt',\n",
       " 'Pet Services',\n",
       " 'Day Spas']"
      ]
     },
     "execution_count": 28,
     "metadata": {},
     "output_type": "execute_result"
    }
   ],
   "source": [
    "topCategoriesList = getTopCategories(50, statsInfo)\n",
    "topCategoriesList"
   ]
  },
  {
   "cell_type": "code",
   "execution_count": 16,
   "metadata": {
    "scrolled": true
   },
   "outputs": [],
   "source": [
    "def convertedCategories(df, columnName, dataType):\n",
    "    isStringList =[]\n",
    "    dataFrame = df[columnName]\n",
    "    for observation in dataFrame:\n",
    "        isString = False\n",
    "        if(type(observation) == dataType):  \n",
    "            isString = True\n",
    "        isStringList.append(isString)\n",
    "    \n",
    "    isStringSeries = pd.Series(isStringList)\n",
    "    print(\"# converted...\")\n",
    "    converted =len(dataFrame.loc[isStringSeries])\n",
    "    print(converted)\n",
    "    print(\"# unconverted..\")\n",
    "    print(len(df) - converted)"
   ]
  },
  {
   "cell_type": "code",
   "execution_count": 29,
   "metadata": {},
   "outputs": [
    {
     "name": "stderr",
     "output_type": "stream",
     "text": [
      "/Library/Frameworks/Python.framework/Versions/3.6/lib/python3.6/site-packages/pandas/core/indexing.py:179: SettingWithCopyWarning: \n",
      "A value is trying to be set on a copy of a slice from a DataFrame\n",
      "\n",
      "See the caveats in the documentation: http://pandas.pydata.org/pandas-docs/stable/indexing.html#indexing-view-versus-copy\n",
      "  self._setitem_with_indexer(indexer, value)\n"
     ]
    },
    {
     "name": "stdout",
     "output_type": "stream",
     "text": [
      "# of Restaurants made:\n",
      "51613\n",
      "# converted...\n",
      "51613\n",
      "# unconverted..\n",
      "105026\n",
      "--------------- conversion ended -----------------\n",
      "# of Shopping made:\n",
      "24261\n",
      "# converted...\n",
      "75874\n",
      "# unconverted..\n",
      "80765\n",
      "--------------- conversion ended -----------------\n",
      "# of Food made:\n",
      "11538\n",
      "# converted...\n",
      "87412\n",
      "# unconverted..\n",
      "69227\n",
      "--------------- conversion ended -----------------\n",
      "# of Beauty & Spas made:\n",
      "13139\n",
      "# converted...\n",
      "100551\n",
      "# unconverted..\n",
      "56088\n",
      "--------------- conversion ended -----------------\n",
      "# of Home Services made:\n",
      "11053\n",
      "# converted...\n",
      "111604\n",
      "# unconverted..\n",
      "45035\n",
      "--------------- conversion ended -----------------\n",
      "# of Health & Medical made:\n",
      "8781\n",
      "# converted...\n",
      "120385\n",
      "# unconverted..\n",
      "36254\n",
      "--------------- conversion ended -----------------\n",
      "# of Nightlife made:\n",
      "3800\n",
      "# converted...\n",
      "124185\n",
      "# unconverted..\n",
      "32454\n",
      "--------------- conversion ended -----------------\n",
      "# of Bars made:\n",
      "0\n",
      "# converted...\n",
      "124185\n",
      "# unconverted..\n",
      "32454\n",
      "--------------- conversion ended -----------------\n",
      "# of Automotive made:\n",
      "8038\n",
      "# converted...\n",
      "132223\n",
      "# unconverted..\n",
      "24416\n",
      "--------------- conversion ended -----------------\n",
      "# of Local Services made:\n",
      "4636\n",
      "# converted...\n",
      "136859\n",
      "# unconverted..\n",
      "19780\n",
      "--------------- conversion ended -----------------\n",
      "# of Event Planning & Services made:\n",
      "4131\n",
      "# converted...\n",
      "140990\n",
      "# unconverted..\n",
      "15649\n",
      "--------------- conversion ended -----------------\n",
      "# of Active Life made:\n",
      "4833\n",
      "# converted...\n",
      "145823\n",
      "# unconverted..\n",
      "10816\n",
      "--------------- conversion ended -----------------\n",
      "# of Fashion made:\n",
      "0\n",
      "# converted...\n",
      "145823\n",
      "# unconverted..\n",
      "10816\n",
      "--------------- conversion ended -----------------\n",
      "# of Sandwiches made:\n",
      "0\n",
      "# converted...\n",
      "145823\n",
      "# unconverted..\n",
      "10816\n",
      "--------------- conversion ended -----------------\n",
      "# of Fast Food made:\n",
      "0\n",
      "# converted...\n",
      "145823\n",
      "# unconverted..\n",
      "10816\n",
      "--------------- conversion ended -----------------\n",
      "# of American (Traditional) made:\n",
      "0\n",
      "# converted...\n",
      "145823\n",
      "# unconverted..\n",
      "10816\n",
      "--------------- conversion ended -----------------\n",
      "# of Pizza made:\n",
      "0\n",
      "# converted...\n",
      "145823\n",
      "# unconverted..\n",
      "10816\n",
      "--------------- conversion ended -----------------\n",
      "# of Coffee & Tea made:\n",
      "0\n",
      "# converted...\n",
      "145823\n",
      "# unconverted..\n",
      "10816\n",
      "--------------- conversion ended -----------------\n",
      "# of Hair Salons made:\n",
      "0\n",
      "# converted...\n",
      "145823\n",
      "# unconverted..\n",
      "10816\n",
      "--------------- conversion ended -----------------\n",
      "# of Hotels & Travel made:\n",
      "1649\n",
      "# converted...\n",
      "147472\n",
      "# unconverted..\n",
      "9167\n",
      "--------------- conversion ended -----------------\n",
      "# of Arts & Entertainment made:\n",
      "1550\n",
      "# converted...\n",
      "149022\n",
      "# unconverted..\n",
      "7617\n",
      "--------------- conversion ended -----------------\n",
      "# of Home & Garden made:\n",
      "0\n",
      "# converted...\n",
      "149022\n",
      "# unconverted..\n",
      "7617\n",
      "--------------- conversion ended -----------------\n",
      "# of Auto Repair made:\n",
      "0\n",
      "# converted...\n",
      "149022\n",
      "# unconverted..\n",
      "7617\n",
      "--------------- conversion ended -----------------\n",
      "# of Italian made:\n",
      "0\n",
      "# converted...\n",
      "149022\n",
      "# unconverted..\n",
      "7617\n",
      "--------------- conversion ended -----------------\n",
      "# of Burgers made:\n",
      "0\n",
      "# converted...\n",
      "149022\n",
      "# unconverted..\n",
      "7617\n",
      "--------------- conversion ended -----------------\n",
      "# of Doctors made:\n",
      "0\n",
      "# converted...\n",
      "149022\n",
      "# unconverted..\n",
      "7617\n",
      "--------------- conversion ended -----------------\n",
      "# of Breakfast & Brunch made:\n",
      "0\n",
      "# converted...\n",
      "149022\n",
      "# unconverted..\n",
      "7617\n",
      "--------------- conversion ended -----------------\n",
      "# of Mexican made:\n",
      "0\n",
      "# converted...\n",
      "149022\n",
      "# unconverted..\n",
      "7617\n",
      "--------------- conversion ended -----------------\n",
      "# of Nail Salons made:\n",
      "0\n",
      "# converted...\n",
      "149022\n",
      "# unconverted..\n",
      "7617\n",
      "--------------- conversion ended -----------------\n",
      "# of Professional Services made:\n",
      "1300\n",
      "# converted...\n",
      "150322\n",
      "# unconverted..\n",
      "6317\n",
      "--------------- conversion ended -----------------\n",
      "# of American (New) made:\n",
      "0\n",
      "# converted...\n",
      "150322\n",
      "# unconverted..\n",
      "6317\n",
      "--------------- conversion ended -----------------\n",
      "# of Chinese made:\n",
      "0\n",
      "# converted...\n",
      "150322\n",
      "# unconverted..\n",
      "6317\n",
      "--------------- conversion ended -----------------\n",
      "# of Real Estate made:\n",
      "0\n",
      "# converted...\n",
      "150322\n",
      "# unconverted..\n",
      "6317\n",
      "--------------- conversion ended -----------------\n",
      "# of Specialty Food made:\n",
      "0\n",
      "# converted...\n",
      "150322\n",
      "# unconverted..\n",
      "6317\n",
      "--------------- conversion ended -----------------\n",
      "# of Fitness & Instruction made:\n",
      "0\n",
      "# converted...\n",
      "150322\n",
      "# unconverted..\n",
      "6317\n",
      "--------------- conversion ended -----------------\n",
      "# of Pets made:\n",
      "2822\n",
      "# converted...\n",
      "153144\n",
      "# unconverted..\n",
      "3495\n",
      "--------------- conversion ended -----------------\n",
      "# of Grocery made:\n",
      "0\n",
      "# converted...\n",
      "153144\n",
      "# unconverted..\n",
      "3495\n",
      "--------------- conversion ended -----------------\n",
      "# of Bakeries made:\n",
      "0\n",
      "# converted...\n",
      "153144\n",
      "# unconverted..\n",
      "3495\n",
      "--------------- conversion ended -----------------\n",
      "# of Cafes made:\n",
      "0\n",
      "# converted...\n",
      "153144\n",
      "# unconverted..\n",
      "3495\n",
      "--------------- conversion ended -----------------\n",
      "# of Hair Removal made:\n",
      "0\n",
      "# converted...\n",
      "153144\n",
      "# unconverted..\n",
      "3495\n",
      "--------------- conversion ended -----------------\n",
      "# of Dentists made:\n",
      "0\n",
      "# converted...\n",
      "153144\n",
      "# unconverted..\n",
      "3495\n",
      "--------------- conversion ended -----------------\n",
      "# of Hotels made:\n",
      "0\n",
      "# converted...\n",
      "153144\n",
      "# unconverted..\n",
      "3495\n",
      "--------------- conversion ended -----------------\n",
      "# of Desserts made:\n",
      "0\n",
      "# converted...\n",
      "153144\n",
      "# unconverted..\n",
      "3495\n",
      "--------------- conversion ended -----------------\n",
      "# of Skin Care made:\n",
      "0\n",
      "# converted...\n",
      "153144\n",
      "# unconverted..\n",
      "3495\n",
      "--------------- conversion ended -----------------\n",
      "# of Women's Clothing made:\n",
      "0\n",
      "# converted...\n",
      "153144\n",
      "# unconverted..\n",
      "3495\n",
      "--------------- conversion ended -----------------\n",
      "# of Education made:\n",
      "657\n",
      "# converted...\n",
      "153801\n",
      "# unconverted..\n",
      "2838\n",
      "--------------- conversion ended -----------------\n",
      "# of Japanese made:\n",
      "0\n",
      "# converted...\n",
      "153801\n",
      "# unconverted..\n",
      "2838\n",
      "--------------- conversion ended -----------------\n",
      "# of Ice Cream & Frozen Yogurt made:\n",
      "0\n",
      "# converted...\n",
      "153801\n",
      "# unconverted..\n",
      "2838\n",
      "--------------- conversion ended -----------------\n",
      "# of Pet Services made:\n",
      "0\n",
      "# converted...\n",
      "153801\n",
      "# unconverted..\n",
      "2838\n",
      "--------------- conversion ended -----------------\n",
      "# of Day Spas made:\n",
      "0\n",
      "# converted...\n",
      "153801\n",
      "# unconverted..\n",
      "2838\n",
      "--------------- conversion ended -----------------\n"
     ]
    }
   ],
   "source": [
    "for topCategory in topCategoriesList:\n",
    "    replaceCategory(businessDf, 'categories', topCategory)\n",
    "    convertedCategories(businessDf, 'categories', str)\n",
    "    print(\"--------------- conversion ended -----------------\")"
   ]
  },
  {
   "cell_type": "code",
   "execution_count": 30,
   "metadata": {},
   "outputs": [
    {
     "data": {
      "text/plain": [
       "0.9818819068048187"
      ]
     },
     "execution_count": 30,
     "metadata": {},
     "output_type": "execute_result"
    }
   ],
   "source": [
    "(len(businessDf)-2838)/len(businessDf)"
   ]
  },
  {
   "cell_type": "code",
   "execution_count": 38,
   "metadata": {},
   "outputs": [],
   "source": [
    "def convertToOther(df, columnName, dataType):\n",
    "    notStringList =[]\n",
    "    dataFrame = df[columnName]\n",
    "    for observation in dataFrame:\n",
    "        notString = False\n",
    "        if(type(observation) != dataType):  \n",
    "            notString = True\n",
    "        notStringList.append(notString)\n",
    "    \n",
    "    notStringSeries = pd.Series(notStringList)\n",
    "    return notStringSeries"
   ]
  },
  {
   "cell_type": "code",
   "execution_count": 39,
   "metadata": {},
   "outputs": [
    {
     "data": {
      "text/plain": [
       "19              [Financial Services, Banks & Credit Unions]\n",
       "48              [Financial Services, Banks & Credit Unions]\n",
       "66        [Departments of Motor Vehicles, Public Service...\n",
       "94                          [Financial Services, Insurance]\n",
       "119                                                      []\n",
       "231             [Banks & Credit Unions, Financial Services]\n",
       "248       [Financial Services, Insurance, Auto Insurance...\n",
       "279             [Financial Services, Banks & Credit Unions]\n",
       "282                               [Mass Media, Print Media]\n",
       "299             [Banks & Credit Unions, Financial Services]\n",
       "329                            [Radio Stations, Mass Media]\n",
       "361                            [Radio Stations, Mass Media]\n",
       "796             [Banks & Credit Unions, Financial Services]\n",
       "812             [Banks & Credit Unions, Financial Services]\n",
       "982                                                      []\n",
       "1260                        [Insurance, Financial Services]\n",
       "1332      [Landmarks & Historical Buildings, Public Serv...\n",
       "1365      [Check Cashing/Pay-day Loans, Financial Services]\n",
       "1492              [Libraries, Public Services & Government]\n",
       "1510              [Public Services & Government, Libraries]\n",
       "1559            [Financial Services, Banks & Credit Unions]\n",
       "1607                            [Yelp Events, Local Flavor]\n",
       "1617            [Banks & Credit Unions, Financial Services]\n",
       "1661                                                     []\n",
       "1767            [Banks & Credit Unions, Financial Services]\n",
       "1866      [Financial Services, Currency Exchange, Banks ...\n",
       "1966                                                     []\n",
       "1969      [Financial Services, Insurance, Life Insurance...\n",
       "2010            [Banks & Credit Unions, Financial Services]\n",
       "2033      [Financial Services, Check Cashing/Pay-day Loans]\n",
       "                                ...                        \n",
       "155267          [Financial Services, Banks & Credit Unions]\n",
       "155312          [Financial Services, Banks & Credit Unions]\n",
       "155327            [Public Services & Government, Libraries]\n",
       "155347          [Financial Services, Banks & Credit Unions]\n",
       "155425                                       [Local Flavor]\n",
       "155503          [Financial Services, Banks & Credit Unions]\n",
       "155558          [Banks & Credit Unions, Financial Services]\n",
       "155569                         [Radio Stations, Mass Media]\n",
       "155597    [Departments of Motor Vehicles, Public Service...\n",
       "155627                  [Churches, Religious Organizations]\n",
       "155636                                                   []\n",
       "155637                  [Churches, Religious Organizations]\n",
       "155767            [Public Services & Government, Libraries]\n",
       "155840                          [Yelp Events, Local Flavor]\n",
       "155878                   [Tax Services, Financial Services]\n",
       "155881    [Public Services & Government, Departments of ...\n",
       "155916                                                   []\n",
       "155937                                                   []\n",
       "155959    [Insurance, Home & Rental Insurance, Life Insu...\n",
       "155994          [Banks & Credit Unions, Financial Services]\n",
       "156045          [Banks & Credit Unions, Financial Services]\n",
       "156191    [Public Services & Government, Landmarks & His...\n",
       "156300                                                   []\n",
       "156302                  [Religious Organizations, Churches]\n",
       "156303          [Banks & Credit Unions, Financial Services]\n",
       "156310                  [Churches, Religious Organizations]\n",
       "156445                  [Religious Organizations, Churches]\n",
       "156545          [Financial Services, Banks & Credit Unions]\n",
       "156577                      [Financial Services, Insurance]\n",
       "156580                                                   []\n",
       "Name: categories, Length: 2838, dtype: object"
      ]
     },
     "execution_count": 39,
     "metadata": {},
     "output_type": "execute_result"
    }
   ],
   "source": [
    "businessDf['categories'].loc[convertToOther(businessDf, 'categories', str)]"
   ]
  },
  {
   "cell_type": "code",
   "execution_count": 40,
   "metadata": {},
   "outputs": [
    {
     "name": "stdout",
     "output_type": "stream",
     "text": [
      "# of Financial Services made:\n",
      "1251\n",
      "# converted...\n",
      "155052\n",
      "# unconverted..\n",
      "1587\n"
     ]
    },
    {
     "name": "stderr",
     "output_type": "stream",
     "text": [
      "/Library/Frameworks/Python.framework/Versions/3.6/lib/python3.6/site-packages/pandas/core/indexing.py:179: SettingWithCopyWarning: \n",
      "A value is trying to be set on a copy of a slice from a DataFrame\n",
      "\n",
      "See the caveats in the documentation: http://pandas.pydata.org/pandas-docs/stable/indexing.html#indexing-view-versus-copy\n",
      "  self._setitem_with_indexer(indexer, value)\n"
     ]
    }
   ],
   "source": [
    "replaceCategory(businessDf, 'categories', 'Financial Services')\n",
    "convertedCategories(businessDf, 'categories', str)"
   ]
  },
  {
   "cell_type": "code",
   "execution_count": 41,
   "metadata": {},
   "outputs": [
    {
     "data": {
      "text/plain": [
       "0.9898684235726735"
      ]
     },
     "execution_count": 41,
     "metadata": {},
     "output_type": "execute_result"
    }
   ],
   "source": [
    "(len(businessDf)-1587)/len(businessDf)"
   ]
  },
  {
   "cell_type": "markdown",
   "metadata": {},
   "source": [
    "We are only missing approximately 1% of the data. Thus, we will group the rest of the categories as 'Other' for the sake of convenience. "
   ]
  },
  {
   "cell_type": "code",
   "execution_count": 42,
   "metadata": {},
   "outputs": [
    {
     "name": "stderr",
     "output_type": "stream",
     "text": [
      "/Library/Frameworks/Python.framework/Versions/3.6/lib/python3.6/site-packages/pandas/core/indexing.py:179: SettingWithCopyWarning: \n",
      "A value is trying to be set on a copy of a slice from a DataFrame\n",
      "\n",
      "See the caveats in the documentation: http://pandas.pydata.org/pandas-docs/stable/indexing.html#indexing-view-versus-copy\n",
      "  self._setitem_with_indexer(indexer, value)\n"
     ]
    }
   ],
   "source": [
    "businessDf['categories'].loc[convertToOther(businessDf, 'categories', str)] = 'Unknown'"
   ]
  },
  {
   "cell_type": "code",
   "execution_count": 43,
   "metadata": {},
   "outputs": [
    {
     "name": "stdout",
     "output_type": "stream",
     "text": [
      "# converted...\n",
      "156639\n",
      "# unconverted..\n",
      "0\n"
     ]
    }
   ],
   "source": [
    "convertedCategories(businessDf, 'categories', str) #we have completely converted all the categories"
   ]
  },
  {
   "cell_type": "code",
   "execution_count": 44,
   "metadata": {},
   "outputs": [
    {
     "data": {
      "text/plain": [
       "array(['Shopping', 'Restaurants', 'Food', 'Professional Services',\n",
       "       'Health & Medical', 'Automotive', 'Active Life', 'Beauty & Spas',\n",
       "       'Home Services', 'Financial Services', 'Local Services',\n",
       "       'Nightlife', 'Arts & Entertainment', 'Unknown', 'Hotels & Travel',\n",
       "       'Event Planning & Services', 'Education', 'Pets'], dtype=object)"
      ]
     },
     "execution_count": 44,
     "metadata": {},
     "output_type": "execute_result"
    }
   ],
   "source": [
    "businessDf['categories'].unique()"
   ]
  },
  {
   "cell_type": "markdown",
   "metadata": {},
   "source": [
    "## Part II: Unnesting JSON \n",
    "   We decided to unnest the jsons of the attributes and hours info because those could be significant factors  "
   ]
  },
  {
   "cell_type": "code",
   "execution_count": 48,
   "metadata": {},
   "outputs": [],
   "source": [
    "def unnestJson(dataframe):\n",
    "    data = list(dataframe)\n",
    "    return json_normalize(data)"
   ]
  },
  {
   "cell_type": "code",
   "execution_count": 49,
   "metadata": {},
   "outputs": [],
   "source": [
    "openHoursDf = unnestJson(businessDf['hours']) #The dataframe with unnested open hours info \n",
    "attributesDf = unnestJson(businessDf['attributes']) #The dataframe with unnested attributes info "
   ]
  },
  {
   "cell_type": "code",
   "execution_count": null,
   "metadata": {},
   "outputs": [],
   "source": [
    "#merge two dataframes sidebyside by columns \n",
    "#businessDf = pd.concat([businessDf, openHoursDf, attributesDf], axis=1) \n",
    "\n",
    "#len(businessDf)"
   ]
  }
 ],
 "metadata": {
  "kernelspec": {
   "display_name": "Python 3",
   "language": "python",
   "name": "python3"
  },
  "language_info": {
   "codemirror_mode": {
    "name": "ipython",
    "version": 3
   },
   "file_extension": ".py",
   "mimetype": "text/x-python",
   "name": "python",
   "nbconvert_exporter": "python",
   "pygments_lexer": "ipython3",
   "version": "3.6.3"
  }
 },
 "nbformat": 4,
 "nbformat_minor": 2
}
