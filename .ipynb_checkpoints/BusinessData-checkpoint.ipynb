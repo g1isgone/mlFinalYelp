{
 "cells": [
  {
   "cell_type": "markdown",
   "metadata": {},
   "source": [
    "# Importing Any Necessary Packages "
   ]
  },
  {
   "cell_type": "code",
   "execution_count": 1,
   "metadata": {},
   "outputs": [],
   "source": [
    "import json \n",
    "from pprint import pprint\n",
    "\n",
    "import pandas as pd\n",
    "import matplotlib.pyplot as plt\n",
    "import graphviz\n",
    "\n",
    "import numpy as np\n",
    "from pandas.io.json import json_normalize\n",
    "\n",
    "import math"
   ]
  },
  {
   "cell_type": "markdown",
   "metadata": {},
   "source": [
    "# Extraction of Data "
   ]
  },
  {
   "cell_type": "code",
   "execution_count": 2,
   "metadata": {},
   "outputs": [],
   "source": [
    "def extractDataInfo(filename):\n",
    "    data = []\n",
    "    attributes = []\n",
    "    returnValues = []\n",
    "    with open(filename) as f:\n",
    "        for line in f:\n",
    "            dataLine = json.loads(line)\n",
    "            data.append(dataLine)\n",
    "            for key in dataLine.keys():\n",
    "                attributes.append(key)\n",
    "        uniqueAttributes = set(attributes)\n",
    "        returnValues.append(data)\n",
    "        returnValues.append(uniqueAttributes)\n",
    "        return returnValues"
   ]
  },
  {
   "cell_type": "code",
   "execution_count": 3,
   "metadata": {},
   "outputs": [],
   "source": [
    "businessInfo = extractDataInfo('../dataset/business.json') #businessInfo is a list"
   ]
  },
  {
   "cell_type": "code",
   "execution_count": 4,
   "metadata": {},
   "outputs": [],
   "source": [
    "businessDf = pd.DataFrame.from_dict(businessInfo[0])"
   ]
  },
  {
   "cell_type": "code",
   "execution_count": 5,
   "metadata": {},
   "outputs": [],
   "source": [
    "originalDf = pd.DataFrame.from_dict(businessInfo[0]) #the original dataset "
   ]
  },
  {
   "cell_type": "markdown",
   "metadata": {},
   "source": [
    "# Basic Summary of Raw Business Data"
   ]
  },
  {
   "cell_type": "code",
   "execution_count": 6,
   "metadata": {},
   "outputs": [
    {
     "name": "stdout",
     "output_type": "stream",
     "text": [
      "{'business_id': 'YDf95gJZaq05wvo7hTQbbQ', 'name': 'Richmond Town Square', 'neighborhood': '', 'address': '691 Richmond Rd', 'city': 'Richmond Heights', 'state': 'OH', 'postal_code': '44143', 'latitude': 41.5417162, 'longitude': -81.4931165, 'stars': 2.0, 'review_count': 17, 'is_open': 1, 'attributes': {'RestaurantsPriceRange2': 2, 'BusinessParking': {'garage': False, 'street': False, 'validated': False, 'lot': True, 'valet': False}, 'BikeParking': True, 'WheelchairAccessible': True}, 'categories': ['Shopping', 'Shopping Centers'], 'hours': {'Monday': '10:00-21:00', 'Tuesday': '10:00-21:00', 'Friday': '10:00-21:00', 'Wednesday': '10:00-21:00', 'Thursday': '10:00-21:00', 'Sunday': '11:00-18:00', 'Saturday': '10:00-21:00'}}\n"
     ]
    }
   ],
   "source": [
    "print(businessInfo[0][0])"
   ]
  },
  {
   "cell_type": "code",
   "execution_count": 7,
   "metadata": {},
   "outputs": [
    {
     "data": {
      "text/plain": [
       "(156639, 15)"
      ]
     },
     "execution_count": 7,
     "metadata": {},
     "output_type": "execute_result"
    }
   ],
   "source": [
    "businessDf.shape"
   ]
  },
  {
   "cell_type": "code",
   "execution_count": 8,
   "metadata": {},
   "outputs": [
    {
     "data": {
      "text/plain": [
       "address          object\n",
       "attributes       object\n",
       "business_id      object\n",
       "categories       object\n",
       "city             object\n",
       "hours            object\n",
       "is_open           int64\n",
       "latitude        float64\n",
       "longitude       float64\n",
       "name             object\n",
       "neighborhood     object\n",
       "postal_code      object\n",
       "review_count      int64\n",
       "stars           float64\n",
       "state            object\n",
       "dtype: object"
      ]
     },
     "execution_count": 8,
     "metadata": {},
     "output_type": "execute_result"
    }
   ],
   "source": [
    "businessDf.dtypes"
   ]
  },
  {
   "cell_type": "markdown",
   "metadata": {},
   "source": [
    "A brief description of what the variable contains (i.e. \"The Tuition column contains information on the annual cost of tuition in $USD\"): \n",
    "* \"business_id\":string, 22 character unique string business id\n",
    "* \"name\":string, the business's name\n",
    "* \"neighborhood\": string, the neighborhood's name\n",
    "* \"address\": string, the full address of the business\n",
    "* \"city\": string, the city\n",
    "* \"State\": string, 2 character state code, if applicable\n",
    "* \"postal code\": string, the postal code\n",
    "* \"latitude\": float, latitude\n",
    "* \"longitude\": float, longitude\n",
    "* \"stars\": float, star rating, rounded to half-stars\n",
    "* \"review_count\": interger, number of reviews\n",
    "* \"is_open\": integer, 0 or 1 for closed or open, respectively\n",
    "* \"attributes\": object, business attributes to values. note: some attribute values might be objects\n",
    "* \"categories\": an array of strings of business categories\n",
    "* \"hours\":an object of key day to value hours, hours are using a 24hr clock\n",
    "* More description at https://www.yelp.com/dataset/documentation/json"
   ]
  },
  {
   "cell_type": "code",
   "execution_count": 9,
   "metadata": {},
   "outputs": [
    {
     "data": {
      "text/html": [
       "<div>\n",
       "<style>\n",
       "    .dataframe thead tr:only-child th {\n",
       "        text-align: right;\n",
       "    }\n",
       "\n",
       "    .dataframe thead th {\n",
       "        text-align: left;\n",
       "    }\n",
       "\n",
       "    .dataframe tbody tr th {\n",
       "        vertical-align: top;\n",
       "    }\n",
       "</style>\n",
       "<table border=\"1\" class=\"dataframe\">\n",
       "  <thead>\n",
       "    <tr style=\"text-align: right;\">\n",
       "      <th></th>\n",
       "      <th>is_open</th>\n",
       "      <th>latitude</th>\n",
       "      <th>longitude</th>\n",
       "      <th>review_count</th>\n",
       "      <th>stars</th>\n",
       "    </tr>\n",
       "  </thead>\n",
       "  <tbody>\n",
       "    <tr>\n",
       "      <th>count</th>\n",
       "      <td>156639.000000</td>\n",
       "      <td>156638.000000</td>\n",
       "      <td>156638.000000</td>\n",
       "      <td>156639.000000</td>\n",
       "      <td>156639.000000</td>\n",
       "    </tr>\n",
       "    <tr>\n",
       "      <th>mean</th>\n",
       "      <td>0.844375</td>\n",
       "      <td>38.585033</td>\n",
       "      <td>-92.856485</td>\n",
       "      <td>30.238159</td>\n",
       "      <td>3.647154</td>\n",
       "    </tr>\n",
       "    <tr>\n",
       "      <th>std</th>\n",
       "      <td>0.362501</td>\n",
       "      <td>5.399871</td>\n",
       "      <td>26.557741</td>\n",
       "      <td>96.486631</td>\n",
       "      <td>0.977640</td>\n",
       "    </tr>\n",
       "    <tr>\n",
       "      <th>min</th>\n",
       "      <td>0.000000</td>\n",
       "      <td>-36.086009</td>\n",
       "      <td>-142.466650</td>\n",
       "      <td>3.000000</td>\n",
       "      <td>1.000000</td>\n",
       "    </tr>\n",
       "    <tr>\n",
       "      <th>25%</th>\n",
       "      <td>1.000000</td>\n",
       "      <td>33.627161</td>\n",
       "      <td>-112.138207</td>\n",
       "      <td>4.000000</td>\n",
       "      <td>3.000000</td>\n",
       "    </tr>\n",
       "    <tr>\n",
       "      <th>50%</th>\n",
       "      <td>1.000000</td>\n",
       "      <td>36.142381</td>\n",
       "      <td>-89.523198</td>\n",
       "      <td>9.000000</td>\n",
       "      <td>3.500000</td>\n",
       "    </tr>\n",
       "    <tr>\n",
       "      <th>75%</th>\n",
       "      <td>1.000000</td>\n",
       "      <td>43.596845</td>\n",
       "      <td>-79.668760</td>\n",
       "      <td>23.000000</td>\n",
       "      <td>4.500000</td>\n",
       "    </tr>\n",
       "    <tr>\n",
       "      <th>max</th>\n",
       "      <td>1.000000</td>\n",
       "      <td>89.999314</td>\n",
       "      <td>115.086769</td>\n",
       "      <td>6979.000000</td>\n",
       "      <td>5.000000</td>\n",
       "    </tr>\n",
       "  </tbody>\n",
       "</table>\n",
       "</div>"
      ],
      "text/plain": [
       "             is_open       latitude      longitude   review_count  \\\n",
       "count  156639.000000  156638.000000  156638.000000  156639.000000   \n",
       "mean        0.844375      38.585033     -92.856485      30.238159   \n",
       "std         0.362501       5.399871      26.557741      96.486631   \n",
       "min         0.000000     -36.086009    -142.466650       3.000000   \n",
       "25%         1.000000      33.627161    -112.138207       4.000000   \n",
       "50%         1.000000      36.142381     -89.523198       9.000000   \n",
       "75%         1.000000      43.596845     -79.668760      23.000000   \n",
       "max         1.000000      89.999314     115.086769    6979.000000   \n",
       "\n",
       "               stars  \n",
       "count  156639.000000  \n",
       "mean        3.647154  \n",
       "std         0.977640  \n",
       "min         1.000000  \n",
       "25%         3.000000  \n",
       "50%         3.500000  \n",
       "75%         4.500000  \n",
       "max         5.000000  "
      ]
     },
     "execution_count": 9,
     "metadata": {},
     "output_type": "execute_result"
    }
   ],
   "source": [
    "businessDf.describe()"
   ]
  },
  {
   "cell_type": "markdown",
   "metadata": {},
   "source": [
    "# Expanding DataFrame: Unnesting Jsons"
   ]
  },
  {
   "cell_type": "code",
   "execution_count": null,
   "metadata": {},
   "outputs": [],
   "source": []
  }
 ],
 "metadata": {
  "kernelspec": {
   "display_name": "Python 3",
   "language": "python",
   "name": "python3"
  },
  "language_info": {
   "codemirror_mode": {
    "name": "ipython",
    "version": 3
   },
   "file_extension": ".py",
   "mimetype": "text/x-python",
   "name": "python",
   "nbconvert_exporter": "python",
   "pygments_lexer": "ipython3",
   "version": "3.6.3"
  }
 },
 "nbformat": 4,
 "nbformat_minor": 2
}
